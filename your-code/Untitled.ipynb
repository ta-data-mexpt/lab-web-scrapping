{
 "cells": [
  {
   "cell_type": "code",
   "execution_count": 6,
   "id": "a03df6bc-4d60-4863-b6af-4eb39f00dd3d",
   "metadata": {},
   "outputs": [],
   "source": [
    "import requests\n",
    "import pandas as pd\n",
    "from bs4 import BeautifulSoup\n",
    "from selenium import webdriver\n",
    "from selenium.webdriver.common.keys import Keys\n",
    "from selenium.webdriver.common.action_chains import ActionChains\n",
    "driver = webdriver.Chrome()"
   ]
  },
  {
   "cell_type": "code",
   "execution_count": null,
   "id": "958ee339-d55e-4c4e-ae94-312a6a0adb11",
   "metadata": {},
   "outputs": [],
   "source": []
  },
  {
   "cell_type": "code",
   "execution_count": 13,
   "id": "2aa043d5-c4bd-4c84-8e82-de1d88bba526",
   "metadata": {},
   "outputs": [
    {
     "data": {
      "text/plain": [
       "24"
      ]
     },
     "execution_count": 13,
     "metadata": {},
     "output_type": "execute_result"
    }
   ],
   "source": [
    "driver = webdriver.Chrome()\n",
    "url = 'https://www.nike.com/mx/w/rebajas-3yaep'\n",
    "driver.get(url)\n",
    "sopa = BeautifulSoup(driver.page_source)\n",
    "bloques_imagenes = sopa.select('a.product-card__img-link-overlay')\n",
    "links_imagenes = [imagen.select('img')[0].get('src') for imagen in bloques_imagenes]\n",
    "len(links_imagenes)\n"
   ]
  },
  {
   "cell_type": "code",
   "execution_count": 14,
   "id": "4d64e2a2-bcd3-4fa9-832f-0ed2fa83b5fe",
   "metadata": {},
   "outputs": [
    {
     "data": {
      "text/plain": [
       "120"
      ]
     },
     "execution_count": 14,
     "metadata": {},
     "output_type": "execute_result"
    }
   ],
   "source": [
    "sopa = BeautifulSoup(driver.page_source)\n",
    "bloques_imagenes = sopa.select('a.product-card__img-link-overlay')\n",
    "links_imagenes = [imagen.select('img')[0].get('src') for imagen in bloques_imagenes]\n",
    "len(links_imagenes)\n"
   ]
  },
  {
   "cell_type": "code",
   "execution_count": 15,
   "id": "e952ffb2-2d46-4f9a-90e8-d230d38d4ccf",
   "metadata": {},
   "outputs": [],
   "source": [
    "l = requests.get('https://coinmarketcap.com/')\n",
    "sopax = BeautifulSoup(l.content)\n",
    "a = sopax.select('table')"
   ]
  },
  {
   "cell_type": "code",
   "execution_count": 36,
   "id": "06c7da77-faa9-4380-9a16-df878d7f8b95",
   "metadata": {},
   "outputs": [
    {
     "data": {
      "text/html": [
       "<div>\n",
       "<style scoped>\n",
       "    .dataframe tbody tr th:only-of-type {\n",
       "        vertical-align: middle;\n",
       "    }\n",
       "\n",
       "    .dataframe tbody tr th {\n",
       "        vertical-align: top;\n",
       "    }\n",
       "\n",
       "    .dataframe thead th {\n",
       "        text-align: right;\n",
       "    }\n",
       "</style>\n",
       "<table border=\"1\" class=\"dataframe\">\n",
       "  <thead>\n",
       "    <tr style=\"text-align: right;\">\n",
       "      <th></th>\n",
       "      <th>Unnamed: 0</th>\n",
       "      <th>#</th>\n",
       "      <th>Name</th>\n",
       "      <th>Price</th>\n",
       "      <th>1h %</th>\n",
       "      <th>24h %</th>\n",
       "      <th>7d %</th>\n",
       "      <th>Market Cap</th>\n",
       "      <th>Volume(24h)</th>\n",
       "      <th>Circulating Supply</th>\n",
       "      <th>Last 7 Days</th>\n",
       "      <th>Unnamed: 11</th>\n",
       "    </tr>\n",
       "  </thead>\n",
       "  <tbody>\n",
       "    <tr>\n",
       "      <th>95</th>\n",
       "      <td>NaN</td>\n",
       "      <td>NaN</td>\n",
       "      <td>ZilliqaZIL</td>\n",
       "      <td>$0.02</td>\n",
       "      <td>NaN</td>\n",
       "      <td>NaN</td>\n",
       "      <td>NaN</td>\n",
       "      <td>NaN</td>\n",
       "      <td>NaN</td>\n",
       "      <td>NaN</td>\n",
       "      <td>NaN</td>\n",
       "      <td>NaN</td>\n",
       "    </tr>\n",
       "    <tr>\n",
       "      <th>96</th>\n",
       "      <td>NaN</td>\n",
       "      <td>NaN</td>\n",
       "      <td>NEMXEM</td>\n",
       "      <td>$0.03</td>\n",
       "      <td>NaN</td>\n",
       "      <td>NaN</td>\n",
       "      <td>NaN</td>\n",
       "      <td>NaN</td>\n",
       "      <td>NaN</td>\n",
       "      <td>NaN</td>\n",
       "      <td>NaN</td>\n",
       "      <td>NaN</td>\n",
       "    </tr>\n",
       "    <tr>\n",
       "      <th>97</th>\n",
       "      <td>NaN</td>\n",
       "      <td>NaN</td>\n",
       "      <td>ImmutableXIMX</td>\n",
       "      <td>$0.41</td>\n",
       "      <td>NaN</td>\n",
       "      <td>NaN</td>\n",
       "      <td>NaN</td>\n",
       "      <td>NaN</td>\n",
       "      <td>NaN</td>\n",
       "      <td>NaN</td>\n",
       "      <td>NaN</td>\n",
       "      <td>NaN</td>\n",
       "    </tr>\n",
       "    <tr>\n",
       "      <th>98</th>\n",
       "      <td>NaN</td>\n",
       "      <td>NaN</td>\n",
       "      <td>FTX TokenFTT</td>\n",
       "      <td>$2.09</td>\n",
       "      <td>NaN</td>\n",
       "      <td>NaN</td>\n",
       "      <td>NaN</td>\n",
       "      <td>NaN</td>\n",
       "      <td>NaN</td>\n",
       "      <td>NaN</td>\n",
       "      <td>NaN</td>\n",
       "      <td>NaN</td>\n",
       "    </tr>\n",
       "    <tr>\n",
       "      <th>99</th>\n",
       "      <td>NaN</td>\n",
       "      <td>NaN</td>\n",
       "      <td>CompoundCOMP</td>\n",
       "      <td>$38.13</td>\n",
       "      <td>NaN</td>\n",
       "      <td>NaN</td>\n",
       "      <td>NaN</td>\n",
       "      <td>NaN</td>\n",
       "      <td>NaN</td>\n",
       "      <td>NaN</td>\n",
       "      <td>NaN</td>\n",
       "      <td>NaN</td>\n",
       "    </tr>\n",
       "  </tbody>\n",
       "</table>\n",
       "</div>"
      ],
      "text/plain": [
       "    Unnamed: 0   #           Name   Price 1h % 24h % 7d % Market Cap  \\\n",
       "95         NaN NaN     ZilliqaZIL   $0.02  NaN   NaN  NaN        NaN   \n",
       "96         NaN NaN         NEMXEM   $0.03  NaN   NaN  NaN        NaN   \n",
       "97         NaN NaN  ImmutableXIMX   $0.41  NaN   NaN  NaN        NaN   \n",
       "98         NaN NaN   FTX TokenFTT   $2.09  NaN   NaN  NaN        NaN   \n",
       "99         NaN NaN   CompoundCOMP  $38.13  NaN   NaN  NaN        NaN   \n",
       "\n",
       "   Volume(24h) Circulating Supply  Last 7 Days  Unnamed: 11  \n",
       "95         NaN                NaN          NaN          NaN  \n",
       "96         NaN                NaN          NaN          NaN  \n",
       "97         NaN                NaN          NaN          NaN  \n",
       "98         NaN                NaN          NaN          NaN  \n",
       "99         NaN                NaN          NaN          NaN  "
      ]
     },
     "execution_count": 36,
     "metadata": {},
     "output_type": "execute_result"
    }
   ],
   "source": [
    "x = pd.read_html(str(sopax.select('table')))\n",
    "x[0].shape\n",
    "\n",
    "x[0].head()\n",
    "x[0].tail()\n",
    "\n"
   ]
  },
  {
   "cell_type": "code",
   "execution_count": 38,
   "id": "a9f87050-7256-423c-9bc8-b148bbb7d7b9",
   "metadata": {},
   "outputs": [],
   "source": [
    "driver = webdriver.Chrome()\n",
    "url = 'https://coinmarketcap.com/'\n",
    "driver.get(url)\n",
    "sopax = BeautifulSoup(driver.page_source)"
   ]
  },
  {
   "cell_type": "code",
   "execution_count": 39,
   "id": "c6110b06-2ce7-49c2-82a3-d3404e9714ce",
   "metadata": {},
   "outputs": [],
   "source": [
    "x = pd.read_html(str(sopax.select('table')))"
   ]
  },
  {
   "cell_type": "code",
   "execution_count": 40,
   "id": "647f549c-8c10-4bc0-b7e5-2383fdf3594a",
   "metadata": {},
   "outputs": [
    {
     "data": {
      "text/plain": [
       "[    Unnamed: 0    #           Name       Price   1h %  24h %    7d %  \\\n",
       " 0          NaN  1.0    Bitcoin1BTC  $16,382.68  0.12%  2.48%  22.58%   \n",
       " 1          NaN  2.0   Ethereum2ETH   $1,219.29  0.65%  3.08%  24.13%   \n",
       " 2          NaN  3.0    Tether3USDT     $0.9988  0.00%  0.02%   0.13%   \n",
       " 3          NaN  4.0  USD Coin4USDC       $1.00  0.01%  0.00%   0.02%   \n",
       " 4          NaN  5.0        BNB5BNB     $275.34  0.18%  2.21%  21.61%   \n",
       " ..         ...  ...            ...         ...    ...    ...     ...   \n",
       " 95         NaN  NaN      DecredDCR      $19.90    NaN    NaN     NaN   \n",
       " 96         NaN  NaN  ImmutableXIMX       $0.41    NaN    NaN     NaN   \n",
       " 97         NaN  NaN     ZilliqaZIL       $0.02    NaN    NaN     NaN   \n",
       " 98         NaN  NaN         NEMXEM       $0.03    NaN    NaN     NaN   \n",
       " 99         NaN  NaN   CompoundCOMP      $38.19    NaN    NaN     NaN   \n",
       " \n",
       "                   Market Cap                         Volume(24h)  \\\n",
       " 0   $314.66B$314,656,285,862        $26,664,879,2821,627,626 BTC   \n",
       " 1   $149.21B$149,208,692,843        $10,552,114,7218,654,342 ETH   \n",
       " 2     $66.35B$66,354,926,141  $39,175,736,91939,222,044,453 USDT   \n",
       " 3     $44.08B$44,079,841,150    $2,336,760,2772,336,237,473 USDC   \n",
       " 4     $44.05B$44,047,835,757           $906,300,6963,291,538 BNB   \n",
       " ..                       ...                                 ...   \n",
       " 95                       NaN                                 NaN   \n",
       " 96                       NaN                                 NaN   \n",
       " 97                       NaN                                 NaN   \n",
       " 98                       NaN                                 NaN   \n",
       " 99                       NaN                                 NaN   \n",
       " \n",
       "      Circulating Supply  Last 7 Days  Unnamed: 11  \n",
       " 0        19,206,643 BTC          NaN          NaN  \n",
       " 1       122,373,866 ETH          NaN          NaN  \n",
       " 2   66,433,360,735 USDT          NaN          NaN  \n",
       " 3   44,069,979,160 USDC          NaN          NaN  \n",
       " 4       159,974,616 BNB          NaN          NaN  \n",
       " ..                  ...          ...          ...  \n",
       " 95                  NaN          NaN          NaN  \n",
       " 96                  NaN          NaN          NaN  \n",
       " 97                  NaN          NaN          NaN  \n",
       " 98                  NaN          NaN          NaN  \n",
       " 99                  NaN          NaN          NaN  \n",
       " \n",
       " [100 rows x 12 columns]]"
      ]
     },
     "execution_count": 40,
     "metadata": {},
     "output_type": "execute_result"
    }
   ],
   "source": [
    "x"
   ]
  },
  {
   "cell_type": "code",
   "execution_count": null,
   "id": "2eb2a721-53f9-45c0-8c43-e7018aea59a0",
   "metadata": {},
   "outputs": [],
   "source": []
  }
 ],
 "metadata": {
  "kernelspec": {
   "display_name": "Python 3 (ipykernel)",
   "language": "python",
   "name": "python3"
  },
  "language_info": {
   "codemirror_mode": {
    "name": "ipython",
    "version": 3
   },
   "file_extension": ".py",
   "mimetype": "text/x-python",
   "name": "python",
   "nbconvert_exporter": "python",
   "pygments_lexer": "ipython3",
   "version": "3.9.12"
  }
 },
 "nbformat": 4,
 "nbformat_minor": 5
}
