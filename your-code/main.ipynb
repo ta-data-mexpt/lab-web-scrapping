{
 "cells": [
  {
   "cell_type": "markdown",
   "metadata": {},
   "source": [
    "# Web Scraping Lab\n",
    "\n",
    "You will find in this notebook some scrapy exercises to practise your scraping skills.\n",
    "\n",
    "**Tips:**\n",
    "\n",
    "- Check the response status code for each request to ensure you have obtained the intended contennt.\n",
    "- Print the response text in each request to understand the kind of info you are getting and its format.\n",
    "- Check for patterns in the response text to extract the data/info requested in each question.\n",
    "- Visit each url and take a look at its source through Chrome DevTools. You'll need to identify the html tags, special class names etc. used for the html content you are expected to extract."
   ]
  },
  {
   "cell_type": "markdown",
   "metadata": {},
   "source": [
    "- [Requests library](http://docs.python-requests.org/en/master/#the-user-guide) documentation \n",
    "- [Beautiful Soup Doc](https://www.crummy.com/software/BeautifulSoup/bs4/doc/)\n",
    "- [Urllib](https://docs.python.org/3/library/urllib.html#module-urllib)\n",
    "- [re lib](https://docs.python.org/3/library/re.html)\n",
    "- [lxml lib](https://lxml.de/)\n",
    "- [Scrapy](https://scrapy.org/)\n",
    "- [List of HTTP status codes](https://en.wikipedia.org/wiki/List_of_HTTP_status_codes)\n",
    "- [HTML basics](http://www.simplehtmlguide.com/cheatsheet.php)\n",
    "- [CSS basics](https://www.cssbasics.com/#page_start)"
   ]
  },
  {
   "cell_type": "markdown",
   "metadata": {},
   "source": [
    "#### Below are the libraries and modules you may need. `requests`,  `BeautifulSoup` and `pandas` are imported for you. If you prefer to use additional libraries feel free to uncomment them."
   ]
  },
  {
   "cell_type": "code",
   "execution_count": 2,
   "metadata": {},
   "outputs": [],
   "source": [
    "import requests\n",
    "from bs4 import BeautifulSoup\n",
    "import pandas as pd\n",
    "from pprint import pprint\n",
    "from lxml import html\n",
    "from lxml.html import fromstring\n",
    "import urllib.request\n",
    "from urllib.request import urlopen\n",
    "import random\n",
    "import re\n",
    "import scrapy"
   ]
  },
  {
   "cell_type": "markdown",
   "metadata": {},
   "source": [
    "#### Download, parse (using BeautifulSoup), and print the content from the Trending Developers page from GitHub:"
   ]
  },
  {
   "cell_type": "code",
   "execution_count": 3,
   "metadata": {},
   "outputs": [],
   "source": [
    "# This is the url you will scrape in this exercise\n",
    "url = 'https://github.com/trending/developers'"
   ]
  },
  {
   "cell_type": "code",
   "execution_count": 6,
   "metadata": {},
   "outputs": [],
   "source": [
    "#your code\n",
    "html = requests.get(url).content\n",
    "html[0:600]\n",
    "soup = BeautifulSoup(html, \"lxml\")\n",
    "requests.get(url)\n",
    "#soup"
   ]
  },
  {
   "cell_type": "code",
   "execution_count": 7,
   "metadata": {},
   "outputs": [
    {
     "data": {
      "text/plain": [
       "<Response [200]>"
      ]
     },
     "execution_count": 7,
     "metadata": {},
     "output_type": "execute_result"
    }
   ],
   "source": [
    "requests.get(url)"
   ]
  },
  {
   "cell_type": "markdown",
   "metadata": {},
   "source": [
    "#### Display the names of the trending developers retrieved in the previous step.\n",
    "\n",
    "Your output should be a Python list of developer names. Each name should not contain any html tag.\n",
    "\n",
    "**Instructions:**\n",
    "\n",
    "1. Find out the html tag and class names used for the developer names. You can achieve this using Chrome DevTools.\n",
    "\n",
    "1. Use BeautifulSoup to extract all the html elements that contain the developer names.\n",
    "\n",
    "1. Use string manipulation techniques to replace whitespaces and linebreaks (i.e. `\\n`) in the *text* of each html element. Use a list to store the clean names.\n",
    "\n",
    "1. Print the list of names.\n",
    "\n",
    "Your output should look like below:\n",
    "\n",
    "```\n",
    "['trimstray (@trimstray)',\n",
    " 'joewalnes (JoeWalnes)',\n",
    " 'charlax (Charles-AxelDein)',\n",
    " 'ForrestKnight (ForrestKnight)',\n",
    " 'revery-ui (revery-ui)',\n",
    " 'alibaba (Alibaba)',\n",
    " 'Microsoft (Microsoft)',\n",
    " 'github (GitHub)',\n",
    " 'facebook (Facebook)',\n",
    " 'boazsegev (Bo)',\n",
    " 'google (Google)',\n",
    " 'cloudfetch',\n",
    " 'sindresorhus (SindreSorhus)',\n",
    " 'tensorflow',\n",
    " 'apache (TheApacheSoftwareFoundation)',\n",
    " 'DevonCrawford (DevonCrawford)',\n",
    " 'ARMmbed (ArmMbed)',\n",
    " 'vuejs (vuejs)',\n",
    " 'fastai (fast.ai)',\n",
    " 'QiShaoXuan (Qi)',\n",
    " 'joelparkerhenderson (JoelParkerHenderson)',\n",
    " 'torvalds (LinusTorvalds)',\n",
    " 'CyC2018',\n",
    " 'komeiji-satori (神楽坂覚々)',\n",
    " 'script-8']\n",
    " ```"
   ]
  },
  {
   "cell_type": "code",
   "execution_count": 86,
   "metadata": {},
   "outputs": [
    {
     "data": {
      "text/plain": [
       "['Trending',\n",
       " '\\n\\n            Azure SDK Bot\\n ',\n",
       " '\\n\\n\\n\\n\\n      azure-docs-sdk-java\\n ',\n",
       " '\\n\\n            Manu MA\\n ',\n",
       " '\\n\\n\\n\\n\\n      sse\\n ',\n",
       " '\\n\\n            Charlie Marsh\\n ',\n",
       " '\\n\\n\\n\\n\\n      ruff\\n ',\n",
       " '\\n\\n            atomiks\\n ',\n",
       " '\\n\\n\\n\\n\\n      tippyjs\\n ',\n",
       " '\\n\\n            Jeffrey Su\\n ',\n",
       " '\\n\\n\\n\\n\\n      WeiXinMPSDK\\n ',\n",
       " '\\n\\n            Joshua\\n ',\n",
       " '\\n\\n\\n\\n\\n      minimalsm\\n ',\n",
       " '\\n\\n            Serhii Kulykov\\n ',\n",
       " '\\n\\n\\n\\n\\n      awesome-web-components\\n ',\n",
       " '\\n\\n            Henrique Dias\\n ',\n",
       " '\\n\\n\\n\\n\\n      webdav\\n ',\n",
       " '\\n\\n            hiroki osame\\n ',\n",
       " '\\n\\n\\n\\n\\n      esbuild-loader\\n ',\n",
       " '\\n\\n            Payton Swick\\n ',\n",
       " '\\n\\n\\n\\n\\n      gitnews\\n ',\n",
       " '\\n\\n            Boni García\\n ',\n",
       " '\\n\\n\\n\\n\\n      webdrivermanager\\n ',\n",
       " '\\n\\n            Ansgar Mertens\\n ',\n",
       " '\\n\\n            Hans-Kristian Arntzen\\n ',\n",
       " '\\n\\n\\n\\n\\n      vkd3d-proton\\n ',\n",
       " '\\n\\n            Devon Govett\\n ',\n",
       " '\\n\\n\\n\\n\\n      napi-wasm\\n ',\n",
       " '\\n\\n            Don Jayamanne\\n ',\n",
       " '\\n\\n\\n\\n\\n      typescript-notebook\\n ',\n",
       " '\\n\\n            Jacob Gadikian\\n ',\n",
       " '\\n\\n\\n\\n\\n      tenderseed\\n ',\n",
       " '\\n\\n            Wes Bos\\n ',\n",
       " '\\n\\n\\n\\n\\n      JavaScript30\\n ',\n",
       " '\\n\\n            Jonatan Kłosko\\n ',\n",
       " '\\n\\n\\n\\n\\n      meow\\n ',\n",
       " '\\n\\n            michalbednarski\\n ',\n",
       " '\\n\\n\\n\\n\\n      LeakValue\\n ',\n",
       " '\\n\\n            raulk\\n ',\n",
       " '\\n\\n            shadcn\\n ',\n",
       " '\\n\\n\\n\\n\\n      ui\\n ',\n",
       " '\\n\\n            Andrew Kane\\n ',\n",
       " '\\n\\n\\n\\n\\n      pghero\\n ',\n",
       " '\\n\\n            Tom Moor\\n ',\n",
       " '\\n\\n            Florian Roth\\n ',\n",
       " '\\n\\n\\n\\n\\n      yaraQA\\n ',\n",
       " '\\n\\n            Meir Wahnon\\n ',\n",
       " '\\n\\n\\n\\n\\n      awesome-incident-response\\n ']"
      ]
     },
     "execution_count": 86,
     "metadata": {},
     "output_type": "execute_result"
    }
   ],
   "source": [
    "#your code\n",
    "#print(soup.prettify())\n",
    "list_h1=soup.find_all('h1')\n",
    "list_h1[2].text\n",
    "list_text = [text.text for text in list_h1]\n",
    "list_text"
   ]
  },
  {
   "cell_type": "code",
   "execution_count": 90,
   "metadata": {},
   "outputs": [
    {
     "data": {
      "text/plain": [
       "['\\n\\n            Azure SDK Bot\\n ',\n",
       " '\\n\\n            Manu MA\\n ',\n",
       " '\\n\\n            Charlie Marsh\\n ',\n",
       " '\\n\\n            atomiks\\n ',\n",
       " '\\n\\n            Jeffrey Su\\n ',\n",
       " '\\n\\n            Joshua\\n ',\n",
       " '\\n\\n            Serhii Kulykov\\n ',\n",
       " '\\n\\n            Henrique Dias\\n ',\n",
       " '\\n\\n            hiroki osame\\n ',\n",
       " '\\n\\n            Payton Swick\\n ',\n",
       " '\\n\\n            Boni García\\n ',\n",
       " '\\n\\n            Ansgar Mertens\\n ',\n",
       " '\\n\\n            Hans-Kristian Arntzen\\n ',\n",
       " '\\n\\n            Devon Govett\\n ',\n",
       " '\\n\\n            Don Jayamanne\\n ',\n",
       " '\\n\\n            Jacob Gadikian\\n ',\n",
       " '\\n\\n            Wes Bos\\n ',\n",
       " '\\n\\n            Jonatan Kłosko\\n ',\n",
       " '\\n\\n            michalbednarski\\n ',\n",
       " '\\n\\n            raulk\\n ',\n",
       " '\\n\\n            shadcn\\n ',\n",
       " '\\n\\n            Andrew Kane\\n ',\n",
       " '\\n\\n            Tom Moor\\n ',\n",
       " '\\n\\n            Florian Roth\\n ',\n",
       " '\\n\\n            Meir Wahnon\\n ']"
      ]
     },
     "execution_count": 90,
     "metadata": {},
     "output_type": "execute_result"
    }
   ],
   "source": [
    "lista_depurada=[]\n",
    "for i in list_text:\n",
    "    if i.startswith('\\n\\n '):\n",
    "        lista_depurada.append(i)\n",
    "lista_depurada"
   ]
  },
  {
   "cell_type": "code",
   "execution_count": 91,
   "metadata": {},
   "outputs": [
    {
     "data": {
      "text/plain": [
       "23"
      ]
     },
     "execution_count": 91,
     "metadata": {},
     "output_type": "execute_result"
    }
   ],
   "source": [
    "len(lista_depurada[1])"
   ]
  },
  {
   "cell_type": "code",
   "execution_count": 96,
   "metadata": {},
   "outputs": [
    {
     "data": {
      "text/plain": [
       "['Azure SDK Bot',\n",
       " 'Manu MA',\n",
       " 'Charlie Marsh',\n",
       " 'atomiks',\n",
       " 'Jeffrey Su',\n",
       " 'Joshua',\n",
       " 'Serhii Kulykov',\n",
       " 'Henrique Dias',\n",
       " 'hiroki osame',\n",
       " 'Payton Swick',\n",
       " 'Boni García',\n",
       " 'Ansgar Mertens',\n",
       " 'Hans-Kristian Arntzen',\n",
       " 'Devon Govett',\n",
       " 'Don Jayamanne',\n",
       " 'Jacob Gadikian',\n",
       " 'Wes Bos',\n",
       " 'Jonatan Kłosko',\n",
       " 'michalbednarski',\n",
       " 'raulk',\n",
       " 'shadcn',\n",
       " 'Andrew Kane',\n",
       " 'Tom Moor',\n",
       " 'Florian Roth',\n",
       " 'Meir Wahnon']"
      ]
     },
     "execution_count": 96,
     "metadata": {},
     "output_type": "execute_result"
    }
   ],
   "source": [
    "lista_final=[]\n",
    "for i in lista_depurada:\n",
    "    y=re.sub(r'\\n\\n            |\\n ','',i)\n",
    "    lista_final.append(y)\n",
    "    \n",
    "lista_final"
   ]
  },
  {
   "cell_type": "markdown",
   "metadata": {},
   "source": [
    "#### Display the trending Python repositories in GitHub\n",
    "\n",
    "The steps to solve this problem is similar to the previous one except that you need to find out the repository names instead of developer names."
   ]
  },
  {
   "cell_type": "code",
   "execution_count": 97,
   "metadata": {},
   "outputs": [],
   "source": [
    "# This is the url you will scrape in this exercise\n",
    "url = 'https://github.com/trending/python?since=daily'"
   ]
  },
  {
   "cell_type": "code",
   "execution_count": 113,
   "metadata": {},
   "outputs": [
    {
     "data": {
      "text/plain": [
       "['\\n\\n\\n\\n\\n\\n        ultralytics /\\n\\n      ultralytics\\n ',\n",
       " '\\n\\n\\n\\n\\n\\n        Sanster /\\n\\n      lama-cleaner\\n ',\n",
       " '\\n\\n\\n\\n\\n\\n        openai /\\n\\n      openai-cookbook\\n ',\n",
       " '\\n\\n\\n\\n\\n\\n        open-mmlab /\\n\\n      mmyolo\\n ',\n",
       " '\\n\\n\\n\\n\\n\\n        crytic /\\n\\n      slither\\n ',\n",
       " '\\n\\n\\n\\n\\n\\n        huggingface /\\n\\n      transformers\\n ',\n",
       " '\\n\\n\\n\\n\\n\\n        prowler-cloud /\\n\\n      prowler\\n ',\n",
       " '\\n\\n\\n\\n\\n\\n        uselotus /\\n\\n      lotus\\n ',\n",
       " '\\n\\n\\n\\n\\n\\n        deepset-ai /\\n\\n      haystack\\n ',\n",
       " '\\n\\n\\n\\n\\n\\n        open-mmlab /\\n\\n      mmclassification\\n ',\n",
       " '\\n\\n\\n\\n\\n\\n        wagtail /\\n\\n      wagtail\\n ',\n",
       " '\\n\\n\\n\\n\\n\\n        RizwanMunawar /\\n\\n      yolov8-object-tracking\\n ',\n",
       " '\\n\\n\\n\\n\\n\\n        microsoft /\\n\\n      unilm\\n ',\n",
       " '\\n\\n\\n\\n\\n\\n        zhaoolee /\\n\\n      ins\\n ',\n",
       " '\\n\\n\\n\\n\\n\\n        jerryjliu /\\n\\n      gpt_index\\n ',\n",
       " '\\n\\n\\n\\n\\n\\n        max32002 /\\n\\n      tixcraft_bot\\n ',\n",
       " '\\n\\n\\n\\n\\n\\n        robusta-dev /\\n\\n      kubernetes-chatgpt-bot\\n ',\n",
       " '\\n\\n\\n\\n\\n\\n        PRBonn /\\n\\n      kiss-icp\\n ',\n",
       " '\\n\\n\\n\\n\\n\\n        mohammadpz /\\n\\n      pytorch_forward_forward\\n ',\n",
       " '\\n\\n\\n\\n\\n\\n        nebuly-ai /\\n\\n      nebullvm\\n ',\n",
       " '\\n\\n\\n\\n\\n\\n        JaidedAI /\\n\\n      EasyOCR\\n ',\n",
       " '\\n\\n\\n\\n\\n\\n        scipy /\\n\\n      scipy\\n ',\n",
       " '\\n\\n\\n\\n\\n\\n        mli /\\n\\n      autocut\\n ',\n",
       " '\\n\\n\\n\\n\\n\\n        dbt-labs /\\n\\n      dbt-core\\n ',\n",
       " '\\n\\n\\n\\n\\n\\n        tiangolo /\\n\\n      fastapi\\n ']"
      ]
     },
     "execution_count": 113,
     "metadata": {},
     "output_type": "execute_result"
    }
   ],
   "source": [
    "#your code\n",
    "html = requests.get(url).content\n",
    "html[0:600]\n",
    "soup = BeautifulSoup(html, \"lxml\")\n",
    "list_h1=soup.find_all('h1')\n",
    "\n",
    "list_text = [text.text for text in list_h1]\n",
    "lista_txt=list_text[1:]\n",
    "lista_txt"
   ]
  },
  {
   "cell_type": "code",
   "execution_count": 119,
   "metadata": {},
   "outputs": [
    {
     "data": {
      "text/plain": [
       "['ultralyticsultralytics',\n",
       " 'Sansterlama-cleaner',\n",
       " 'openaiopenai-cookbook',\n",
       " 'open-mmlabmmyolo',\n",
       " 'cryticslither',\n",
       " 'huggingfacetransformers',\n",
       " 'prowler-cloudprowler',\n",
       " 'uselotuslotus',\n",
       " 'deepset-aihaystack',\n",
       " 'open-mmlabmmclassification',\n",
       " 'wagtailwagtail',\n",
       " 'RizwanMunawaryolov8-object-tracking',\n",
       " 'microsoftunilm',\n",
       " 'zhaooleeins',\n",
       " 'jerryjliugpt_index',\n",
       " 'max32002tixcraft_bot',\n",
       " 'robusta-devkubernetes-chatgpt-bot',\n",
       " 'PRBonnkiss-icp',\n",
       " 'mohammadpzpytorch_forward_forward',\n",
       " 'nebuly-ainebullvm',\n",
       " 'JaidedAIEasyOCR',\n",
       " 'scipyscipy',\n",
       " 'mliautocut',\n",
       " 'dbt-labsdbt-core',\n",
       " 'tiangolofastapi']"
      ]
     },
     "execution_count": 119,
     "metadata": {},
     "output_type": "execute_result"
    }
   ],
   "source": [
    "lista_final=[]\n",
    "for i in lista_txt:\n",
    "    y=re.sub(r'\\n\\n\\n\\n\\n\\n        |/\\n\\n|\\n | ','',i)\n",
    "    lista_final.append(y)\n",
    "    \n",
    "lista_final"
   ]
  },
  {
   "cell_type": "markdown",
   "metadata": {},
   "source": [
    "#### Display all the image links from Walt Disney wikipedia page"
   ]
  },
  {
   "cell_type": "code",
   "execution_count": 120,
   "metadata": {},
   "outputs": [],
   "source": [
    "# This is the url you will scrape in this exercise\n",
    "url = 'https://en.wikipedia.org/wiki/Walt_Disney'"
   ]
  },
  {
   "cell_type": "code",
   "execution_count": 121,
   "metadata": {},
   "outputs": [
    {
     "data": {
      "text/plain": [
       "<Response [200]>"
      ]
     },
     "execution_count": 121,
     "metadata": {},
     "output_type": "execute_result"
    }
   ],
   "source": [
    "#your code\n",
    "html = requests.get(url).content\n",
    "html[0:600]\n",
    "soup = BeautifulSoup(html, \"lxml\")\n",
    "requests.get(url)"
   ]
  },
  {
   "cell_type": "code",
   "execution_count": 131,
   "metadata": {},
   "outputs": [
    {
     "data": {
      "text/plain": [
       "<img alt=\"A cartoon rabbit is driving a tramcar; other cartoon rabbits are in, under, on and around the car.\" class=\"thumbimage\" data-file-height=\"1600\" data-file-width=\"1202\" decoding=\"async\" height=\"226\" src=\"//upload.wikimedia.org/wikipedia/commons/thumb/0/0d/Trolley_Troubles_poster.jpg/170px-Trolley_Troubles_poster.jpg\" srcset=\"//upload.wikimedia.org/wikipedia/commons/thumb/0/0d/Trolley_Troubles_poster.jpg/255px-Trolley_Troubles_poster.jpg 1.5x, //upload.wikimedia.org/wikipedia/commons/thumb/0/0d/Trolley_Troubles_poster.jpg/340px-Trolley_Troubles_poster.jpg 2x\" width=\"170\"/>"
      ]
     },
     "execution_count": 131,
     "metadata": {},
     "output_type": "execute_result"
    }
   ],
   "source": [
    "list_h1=soup.find_all('img')\n",
    "list_h1[6]\n",
    "#list_text = [text.text for text in list_h1]"
   ]
  },
  {
   "cell_type": "markdown",
   "metadata": {},
   "source": [
    "#### Retrieve an arbitary Wikipedia page of \"Python\" and create a list of links on that page"
   ]
  },
  {
   "cell_type": "code",
   "execution_count": null,
   "metadata": {},
   "outputs": [],
   "source": [
    "# This is the url you will scrape in this exercise\n",
    "url ='https://en.wikipedia.org/wiki/Python' "
   ]
  },
  {
   "cell_type": "code",
   "execution_count": null,
   "metadata": {},
   "outputs": [],
   "source": [
    "#your code"
   ]
  },
  {
   "cell_type": "markdown",
   "metadata": {},
   "source": [
    "#### Number of Titles that have changed in the United States Code since its last release point "
   ]
  },
  {
   "cell_type": "code",
   "execution_count": null,
   "metadata": {},
   "outputs": [],
   "source": [
    "# This is the url you will scrape in this exercise\n",
    "url = 'http://uscode.house.gov/download/download.shtml'"
   ]
  },
  {
   "cell_type": "code",
   "execution_count": null,
   "metadata": {},
   "outputs": [],
   "source": [
    "#your code"
   ]
  },
  {
   "cell_type": "markdown",
   "metadata": {},
   "source": [
    "#### A Python list with the top ten FBI's Most Wanted names "
   ]
  },
  {
   "cell_type": "code",
   "execution_count": null,
   "metadata": {},
   "outputs": [],
   "source": [
    "# This is the url you will scrape in this exercise\n",
    "url = 'https://www.fbi.gov/wanted/topten'"
   ]
  },
  {
   "cell_type": "code",
   "execution_count": null,
   "metadata": {},
   "outputs": [],
   "source": [
    "#your code "
   ]
  },
  {
   "cell_type": "markdown",
   "metadata": {},
   "source": [
    "####  20 latest earthquakes info (date, time, latitude, longitude and region name) by the EMSC as a pandas dataframe"
   ]
  },
  {
   "cell_type": "code",
   "execution_count": null,
   "metadata": {},
   "outputs": [],
   "source": [
    "# This is the url you will scrape in this exercise\n",
    "url = 'https://www.emsc-csem.org/Earthquake/'"
   ]
  },
  {
   "cell_type": "code",
   "execution_count": null,
   "metadata": {},
   "outputs": [],
   "source": [
    "#your code"
   ]
  },
  {
   "cell_type": "markdown",
   "metadata": {},
   "source": [
    "#### Display the date, days, title, city, country of next 25 hackathon events as a Pandas dataframe table"
   ]
  },
  {
   "cell_type": "code",
   "execution_count": null,
   "metadata": {},
   "outputs": [],
   "source": [
    "# This is the url you will scrape in this exercise\n",
    "url ='https://mlh.io/seasons/na-2020/events'"
   ]
  },
  {
   "cell_type": "code",
   "execution_count": null,
   "metadata": {},
   "outputs": [],
   "source": [
    "#your code"
   ]
  },
  {
   "cell_type": "markdown",
   "metadata": {},
   "source": [
    "#### Count number of tweets by a given Twitter account."
   ]
  },
  {
   "cell_type": "markdown",
   "metadata": {},
   "source": [
    "You will need to include a ***try/except block*** for account names not found. \n",
    "<br>***Hint:*** the program should count the number of tweets for any provided account"
   ]
  },
  {
   "cell_type": "code",
   "execution_count": null,
   "metadata": {},
   "outputs": [],
   "source": [
    "# This is the url you will scrape in this exercise \n",
    "# You will need to add the account credentials to this url\n",
    "url = 'https://twitter.com/'"
   ]
  },
  {
   "cell_type": "code",
   "execution_count": null,
   "metadata": {},
   "outputs": [],
   "source": [
    "#your code"
   ]
  },
  {
   "cell_type": "markdown",
   "metadata": {},
   "source": [
    "#### Number of followers of a given twitter account"
   ]
  },
  {
   "cell_type": "markdown",
   "metadata": {},
   "source": [
    "You will need to include a ***try/except block*** in case account/s name not found. \n",
    "<br>***Hint:*** the program should count the followers for any provided account"
   ]
  },
  {
   "cell_type": "code",
   "execution_count": null,
   "metadata": {},
   "outputs": [],
   "source": [
    "# This is the url you will scrape in this exercise \n",
    "# You will need to add the account credentials to this url\n",
    "url = 'https://twitter.com/'"
   ]
  },
  {
   "cell_type": "code",
   "execution_count": null,
   "metadata": {},
   "outputs": [],
   "source": [
    "#your code"
   ]
  },
  {
   "cell_type": "markdown",
   "metadata": {},
   "source": [
    "#### List all language names and number of related articles in the order they appear in wikipedia.org"
   ]
  },
  {
   "cell_type": "code",
   "execution_count": null,
   "metadata": {},
   "outputs": [],
   "source": [
    "# This is the url you will scrape in this exercise\n",
    "url = 'https://www.wikipedia.org/'"
   ]
  },
  {
   "cell_type": "code",
   "execution_count": null,
   "metadata": {},
   "outputs": [],
   "source": [
    "#your code"
   ]
  },
  {
   "cell_type": "markdown",
   "metadata": {},
   "source": [
    "#### A list with the different kind of datasets available in data.gov.uk "
   ]
  },
  {
   "cell_type": "code",
   "execution_count": null,
   "metadata": {},
   "outputs": [],
   "source": [
    "# This is the url you will scrape in this exercise\n",
    "url = 'https://data.gov.uk/'"
   ]
  },
  {
   "cell_type": "code",
   "execution_count": null,
   "metadata": {},
   "outputs": [],
   "source": [
    "#your code "
   ]
  },
  {
   "cell_type": "markdown",
   "metadata": {},
   "source": [
    "#### Top 10 languages by number of native speakers stored in a Pandas Dataframe"
   ]
  },
  {
   "cell_type": "code",
   "execution_count": null,
   "metadata": {},
   "outputs": [],
   "source": [
    "# This is the url you will scrape in this exercise\n",
    "url = 'https://en.wikipedia.org/wiki/List_of_languages_by_number_of_native_speakers'"
   ]
  },
  {
   "cell_type": "code",
   "execution_count": null,
   "metadata": {},
   "outputs": [],
   "source": [
    "#your code"
   ]
  },
  {
   "cell_type": "markdown",
   "metadata": {},
   "source": [
    "### BONUS QUESTIONS"
   ]
  },
  {
   "cell_type": "markdown",
   "metadata": {},
   "source": [
    "#### Scrape a certain number of tweets of a given Twitter account."
   ]
  },
  {
   "cell_type": "code",
   "execution_count": null,
   "metadata": {},
   "outputs": [],
   "source": [
    "# This is the url you will scrape in this exercise \n",
    "# You will need to add the account credentials to this url\n",
    "url = 'https://twitter.com/'"
   ]
  },
  {
   "cell_type": "code",
   "execution_count": null,
   "metadata": {},
   "outputs": [],
   "source": [
    "# your code"
   ]
  },
  {
   "cell_type": "markdown",
   "metadata": {},
   "source": [
    "#### IMDB's Top 250 data (movie name, Initial release, director name and stars) as a pandas dataframe"
   ]
  },
  {
   "cell_type": "code",
   "execution_count": null,
   "metadata": {},
   "outputs": [],
   "source": [
    "# This is the url you will scrape in this exercise \n",
    "url = 'https://www.imdb.com/chart/top'"
   ]
  },
  {
   "cell_type": "code",
   "execution_count": null,
   "metadata": {},
   "outputs": [],
   "source": [
    "# your code"
   ]
  },
  {
   "cell_type": "markdown",
   "metadata": {},
   "source": [
    "#### Movie name, year and a brief summary of the top 10 random movies (IMDB) as a pandas dataframe."
   ]
  },
  {
   "cell_type": "code",
   "execution_count": null,
   "metadata": {},
   "outputs": [],
   "source": [
    "#This is the url you will scrape in this exercise\n",
    "url = 'http://www.imdb.com/chart/top'"
   ]
  },
  {
   "cell_type": "code",
   "execution_count": null,
   "metadata": {},
   "outputs": [],
   "source": [
    "#your code"
   ]
  },
  {
   "cell_type": "markdown",
   "metadata": {},
   "source": [
    "#### Find the live weather report (temperature, wind speed, description and weather) of a given city."
   ]
  },
  {
   "cell_type": "code",
   "execution_count": null,
   "metadata": {},
   "outputs": [],
   "source": [
    "#https://openweathermap.org/current\n",
    "city = city=input('Enter the city:')\n",
    "url = 'http://api.openweathermap.org/data/2.5/weather?'+'q='+city+'&APPID=b35975e18dc93725acb092f7272cc6b8&units=metric'"
   ]
  },
  {
   "cell_type": "code",
   "execution_count": null,
   "metadata": {},
   "outputs": [],
   "source": [
    "# your code"
   ]
  },
  {
   "cell_type": "markdown",
   "metadata": {},
   "source": [
    "#### Book name,price and stock availability as a pandas dataframe."
   ]
  },
  {
   "cell_type": "code",
   "execution_count": null,
   "metadata": {},
   "outputs": [],
   "source": [
    "# This is the url you will scrape in this exercise. \n",
    "# It is a fictional bookstore created to be scraped. \n",
    "url = 'http://books.toscrape.com/'"
   ]
  },
  {
   "cell_type": "code",
   "execution_count": null,
   "metadata": {},
   "outputs": [],
   "source": [
    "#your code"
   ]
  }
 ],
 "metadata": {
  "kernelspec": {
   "display_name": "Python 3 (ipykernel)",
   "language": "python",
   "name": "python3"
  },
  "language_info": {
   "codemirror_mode": {
    "name": "ipython",
    "version": 3
   },
   "file_extension": ".py",
   "mimetype": "text/x-python",
   "name": "python",
   "nbconvert_exporter": "python",
   "pygments_lexer": "ipython3",
   "version": "3.9.12"
  }
 },
 "nbformat": 4,
 "nbformat_minor": 4
}
