{
 "cells": [
  {
   "cell_type": "markdown",
   "metadata": {},
   "source": [
    "# Web Scraping Lab\n",
    "\n",
    "You will find in this notebook some scrapy exercises to practise your scraping skills.\n",
    "\n",
    "**Tips:**\n",
    "\n",
    "- Check the response status code for each request to ensure you have obtained the intended contennt.\n",
    "- Print the response text in each request to understand the kind of info you are getting and its format.\n",
    "- Check for patterns in the response text to extract the data/info requested in each question.\n",
    "- Visit each url and take a look at its source through Chrome DevTools. You'll need to identify the html tags, special class names etc. used for the html content you are expected to extract."
   ]
  },
  {
   "cell_type": "markdown",
   "metadata": {},
   "source": [
    "- [Requests library](http://docs.python-requests.org/en/master/#the-user-guide) documentation \n",
    "- [Beautiful Soup Doc](https://www.crummy.com/software/BeautifulSoup/bs4/doc/)\n",
    "- [Urllib](https://docs.python.org/3/library/urllib.html#module-urllib)\n",
    "- [re lib](https://docs.python.org/3/library/re.html)\n",
    "- [lxml lib](https://lxml.de/)\n",
    "- [Scrapy](https://scrapy.org/)\n",
    "- [List of HTTP status codes](https://en.wikipedia.org/wiki/List_of_HTTP_status_codes)\n",
    "- [HTML basics](http://www.simplehtmlguide.com/cheatsheet.php)\n",
    "- [CSS basics](https://www.cssbasics.com/#page_start)"
   ]
  },
  {
   "cell_type": "markdown",
   "metadata": {},
   "source": [
    "#### Below are the libraries and modules you may need. `requests`,  `BeautifulSoup` and `pandas` are imported for you. If you prefer to use additional libraries feel free to uncomment them."
   ]
  },
  {
   "cell_type": "code",
   "execution_count": 1,
   "metadata": {},
   "outputs": [],
   "source": [
    "import requests\n",
    "from bs4 import BeautifulSoup\n",
    "import pandas as pd\n",
    "# from pprint import pprint\n",
    "# from lxml import html\n",
    "# from lxml.html import fromstring\n",
    "# import urllib.request\n",
    "# from urllib.request import urlopen\n",
    "# import random\n",
    "# import re\n",
    "# import scrapy"
   ]
  },
  {
   "cell_type": "code",
   "execution_count": null,
   "metadata": {},
   "outputs": [],
   "source": []
  },
  {
   "cell_type": "markdown",
   "metadata": {},
   "source": [
    "#### Download, parse (using BeautifulSoup), and print the content from the Trending Developers page from GitHub:"
   ]
  },
  {
   "cell_type": "code",
   "execution_count": 2,
   "metadata": {},
   "outputs": [],
   "source": [
    "# This is the url you will scrape in this exercise\n",
    "url = 'https://github.com/trending/developers'"
   ]
  },
  {
   "cell_type": "code",
   "execution_count": 3,
   "metadata": {},
   "outputs": [],
   "source": [
    "#your code\n",
    "html = requests.get(url).content\n",
    "soup = BeautifulSoup(html, 'lxml')"
   ]
  },
  {
   "cell_type": "code",
   "execution_count": 4,
   "metadata": {},
   "outputs": [
    {
     "name": "stdout",
     "output_type": "stream",
     "text": [
      "['JP Simard', 'Franck Nijhof', 'Michiel Borkent', 'Anthony Fu', 'Fons van der Plas', 'Koen Kanters', 'Paulus Schoutsen', 'Anthony Sottile', 'Jan Karger ツ ☀', 'Javier Suárez', 'Siddharth Dushantha', 'Sebastián Ramírez', 'Andrey Sitnik', 'Mathew Sachin', 'Matthew Leibowitz', 'Chris Banes', 'Mike Penz', 'Shreyas Patil', 'Stefan Prodan', 'Luke Dashjr', 'Hiroshi Kimura', 'Brandon Bayer', 'Sean C Davis', 'Alex Kaszynski', 'isaacs']\n"
     ]
    }
   ],
   "source": [
    "s = soup.select('h1[class=\"h3 lh-condensed\"] > a')\n",
    "print([e.text.strip() for e in s])"
   ]
  },
  {
   "cell_type": "code",
   "execution_count": null,
   "metadata": {},
   "outputs": [],
   "source": []
  },
  {
   "cell_type": "markdown",
   "metadata": {},
   "source": [
    "#### Display the names of the trending developers retrieved in the previous step.\n",
    "\n",
    "Your output should be a Python list of developer names. Each name should not contain any html tag.\n",
    "\n",
    "**Instructions:**\n",
    "\n",
    "1. Find out the html tag and class names used for the developer names. You can achieve this using Chrome DevTools.\n",
    "\n",
    "1. Use BeautifulSoup to extract all the html elements that contain the developer names.\n",
    "\n",
    "1. Use string manipulation techniques to replace whitespaces and linebreaks (i.e. `\\n`) in the *text* of each html element. Use a list to store the clean names.\n",
    "\n",
    "1. Print the list of names.\n",
    "\n",
    "Your output should look like below:\n",
    "\n",
    "```\n",
    "['trimstray (@trimstray)',\n",
    " 'joewalnes (JoeWalnes)',\n",
    " 'charlax (Charles-AxelDein)',\n",
    " 'ForrestKnight (ForrestKnight)',\n",
    " 'revery-ui (revery-ui)',\n",
    " 'alibaba (Alibaba)',\n",
    " 'Microsoft (Microsoft)',\n",
    " 'github (GitHub)',\n",
    " 'facebook (Facebook)',\n",
    " 'boazsegev (Bo)',\n",
    " 'google (Google)',\n",
    " 'cloudfetch',\n",
    " 'sindresorhus (SindreSorhus)',\n",
    " 'tensorflow',\n",
    " 'apache (TheApacheSoftwareFoundation)',\n",
    " 'DevonCrawford (DevonCrawford)',\n",
    " 'ARMmbed (ArmMbed)',\n",
    " 'vuejs (vuejs)',\n",
    " 'fastai (fast.ai)',\n",
    " 'QiShaoXuan (Qi)',\n",
    " 'joelparkerhenderson (JoelParkerHenderson)',\n",
    " 'torvalds (LinusTorvalds)',\n",
    " 'CyC2018',\n",
    " 'komeiji-satori (神楽坂覚々)',\n",
    " 'script-8']\n",
    " ```"
   ]
  },
  {
   "cell_type": "markdown",
   "metadata": {},
   "source": [
    "#### Display the trending Python repositories in GitHub\n",
    "\n",
    "The steps to solve this problem is similar to the previous one except that you need to find out the repository names instead of developer names."
   ]
  },
  {
   "cell_type": "code",
   "execution_count": 5,
   "metadata": {},
   "outputs": [],
   "source": [
    "# This is the url you will scrape in this exercise\n",
    "url = 'https://github.com/trending/python?since=daily'"
   ]
  },
  {
   "cell_type": "code",
   "execution_count": null,
   "metadata": {},
   "outputs": [],
   "source": []
  },
  {
   "cell_type": "code",
   "execution_count": 6,
   "metadata": {},
   "outputs": [],
   "source": [
    "#your code\n",
    "html = requests.get(url).content\n",
    "soup = BeautifulSoup(html, 'lxml')"
   ]
  },
  {
   "cell_type": "code",
   "execution_count": 105,
   "metadata": {},
   "outputs": [
    {
     "name": "stdout",
     "output_type": "stream",
     "text": [
      "['jofpin', 'facebookresearch', 'MobSF', 'guardicore', 'threat9', 'mxrch', 'gto76', 'teja156', 'sebastianruder', 'apache', 'pandas-dev', 'seleniumbase', 'eriklindernoren', 'ifzhang', 'JizhiziLi', 'ethereum', 'OWASP', 'hyperopt', 'ssut', 'gamcil', 'swisskyrepo', 'l1ving', 'ansible', 'dask', 'xingyizhou']\n"
     ]
    }
   ],
   "source": [
    "f = soup.select('h1[class=\"h3 lh-condensed\"] > a > span')\n",
    "f_clean = [e.text.strip() for e in f]\n",
    "print([e[:-2] for e in f_clean])"
   ]
  },
  {
   "cell_type": "markdown",
   "metadata": {},
   "source": [
    "#### Display all the image links from Walt Disney wikipedia page"
   ]
  },
  {
   "cell_type": "code",
   "execution_count": 7,
   "metadata": {},
   "outputs": [],
   "source": [
    "# This is the url you will scrape in this exercise\n",
    "url = 'https://en.wikipedia.org/wiki/Walt_Disney'"
   ]
  },
  {
   "cell_type": "code",
   "execution_count": 8,
   "metadata": {},
   "outputs": [],
   "source": [
    "#your code\n",
    "html = requests.get(url).content\n",
    "soup = BeautifulSoup(html, 'lxml')"
   ]
  },
  {
   "cell_type": "code",
   "execution_count": 14,
   "metadata": {},
   "outputs": [
    {
     "data": {
      "text/plain": [
       "['https://en.wikipedia.org/wiki/Walt_Disney#/media/File:Walt_Disney_1946.JPG',\n",
       " 'https://en.wikipedia.org/wiki/Walt_Disney#/media/File:Walt_Disney_1942_signature.svg',\n",
       " 'https://en.wikipedia.org/wiki/Walt_Disney#/media/File:Walt_Disney_envelope_ca._1921.jpg',\n",
       " 'https://en.wikipedia.org/wiki/Walt_Disney#/media/File:Trolley_Troubles_poster.jpg',\n",
       " 'https://en.wikipedia.org/wiki/Walt_Disney#/media/File:Walt_Disney_and_his_cartoon_creation_%22Mickey_Mouse%22_-_National_Board_of_Review_Magazine.jpg',\n",
       " 'https://en.wikipedia.org/wiki/Walt_Disney#/media/File:Steamboat-willie.jpg',\n",
       " 'https://en.wikipedia.org/wiki/Walt_Disney#/media/File:Walt_Disney_1935.jpg',\n",
       " 'https://en.wikipedia.org/wiki/Walt_Disney#/media/File:Walt_Disney_Snow_white_1937_trailer_screenshot_(13).jpg',\n",
       " 'https://en.wikipedia.org/wiki/Walt_Disney#/media/File:Disney_drawing_goofy.jpg',\n",
       " 'https://en.wikipedia.org/wiki/Walt_Disney#/media/File:DisneySchiphol1951.jpg',\n",
       " 'https://en.wikipedia.org/wiki/Walt_Disney#/media/File:WaltDisneyplansDisneylandDec1954.jpg',\n",
       " 'https://en.wikipedia.org/wiki/Walt_Disney#/media/File:Walt_disney_portrait_right.jpg',\n",
       " 'https://en.wikipedia.org/wiki/Walt_Disney#/media/File:Walt_Disney_Grave.JPG',\n",
       " 'https://en.wikipedia.org/wiki/Walt_Disney#/media/File:Roy_O._Disney_with_Company_at_Press_Conference.jpg',\n",
       " 'https://en.wikipedia.org/wiki/Walt_Disney#/media/File:Disney_Display_Case.JPG',\n",
       " 'https://en.wikipedia.org/wiki/Walt_Disney#/media/File:Disney1968.jpg',\n",
       " 'https://en.wikipedia.org/wiki/Walt_Disney#/media/File:Animation_disc.svg',\n",
       " 'https://en.wikipedia.org/wiki/Walt_Disney#/media/File:P_vip.svg',\n",
       " 'https://en.wikipedia.org/wiki/Walt_Disney#/media/File:Magic_Kingdom_castle.jpg',\n",
       " 'https://en.wikipedia.org/wiki/Walt_Disney#/media/File:Video-x-generic.svg',\n",
       " 'https://en.wikipedia.org/wiki/Walt_Disney#/media/File:Flag_of_Los_Angeles_County,_California.svg',\n",
       " 'https://en.wikipedia.org/wiki/Walt_Disney#/media/File:Blank_television_set.svg',\n",
       " 'https://en.wikipedia.org/wiki/Walt_Disney#/media/File:Flag_of_the_United_States.svg']"
      ]
     },
     "execution_count": 14,
     "metadata": {},
     "output_type": "execute_result"
    }
   ],
   "source": [
    "\n",
    "url = 'https://en.wikipedia.org/wiki/Walt_Disney#/media/'\n",
    "imgs = soup.select('a[class=image]')\n",
    "links_to_movie = [url + imgs[i]['href'].split('/wiki/')[1] for i in range(len(imgs))]\n",
    "links_to_movie"
   ]
  },
  {
   "cell_type": "markdown",
   "metadata": {},
   "source": [
    "#### Retrieve an arbitary Wikipedia page of \"Python\" and create a list of links on that page"
   ]
  },
  {
   "cell_type": "code",
   "execution_count": 17,
   "metadata": {},
   "outputs": [],
   "source": [
    "# This is the url you will scrape in this exercise\n",
    "url ='https://en.wikipedia.org/wiki/Python' "
   ]
  },
  {
   "cell_type": "code",
   "execution_count": 46,
   "metadata": {},
   "outputs": [
    {
     "data": {
      "text/plain": [
       "['https://en.wikipedia.org/wiki/PythonPythons',\n",
       " 'https://en.wikipedia.org/wiki/PythonPython_(genus)',\n",
       " 'https://en.wikipedia.org/wiki/PythonPython_(programming_language)',\n",
       " 'https://en.wikipedia.org/wiki/PythonCMU_Common_Lisp',\n",
       " 'https://en.wikipedia.org/wiki/PythonPERQ#PERQ_3',\n",
       " 'https://en.wikipedia.org/wiki/PythonPython_of_Aenus',\n",
       " 'https://en.wikipedia.org/wiki/PythonPython_(painter)',\n",
       " 'https://en.wikipedia.org/wiki/PythonPython_of_Byzantium',\n",
       " 'https://en.wikipedia.org/wiki/PythonPython_of_Catana',\n",
       " 'https://en.wikipedia.org/wiki/PythonPython_Anghelo',\n",
       " 'https://en.wikipedia.org/wiki/PythonPython_(Efteling)',\n",
       " 'https://en.wikipedia.org/wiki/PythonPython_(Busch_Gardens_Tampa_Bay)',\n",
       " 'https://en.wikipedia.org/wiki/PythonPython_(Coney_Island,_Cincinnati,_Ohio)',\n",
       " 'https://en.wikipedia.org/wiki/PythonPython_(automobile_maker)',\n",
       " 'https://en.wikipedia.org/wiki/PythonPython_(Ford_prototype)',\n",
       " 'https://en.wikipedia.org/wiki/PythonPython_(missile)',\n",
       " 'https://en.wikipedia.org/wiki/PythonPython_(nuclear_primary)',\n",
       " 'https://en.wikipedia.org/wiki/PythonColt_Python',\n",
       " 'https://en.wikipedia.org/wiki/PythonPYTHON',\n",
       " 'https://en.wikipedia.org/wiki/PythonPython_(film)',\n",
       " 'https://en.wikipedia.org/wiki/PythonPython_(mythology)',\n",
       " 'https://en.wikipedia.org/wiki/PythonMonty_Python',\n",
       " 'https://en.wikipedia.org/wiki/PythonPython_(Monty)_Pictures',\n",
       " 'https://en.wikipedia.org/wiki/PythonCython',\n",
       " 'https://en.wikipedia.org/wiki/PythonPithon',\n",
       " 'https://en.wikipedia.org/wiki/PythonCategory:Disambiguation_pages',\n",
       " 'https://en.wikipedia.org/wiki/PythonCategory:Human_name_disambiguation_pages',\n",
       " 'https://en.wikipedia.org/wiki/PythonCategory:Disambiguation_pages_with_given-name-holder_lists',\n",
       " 'https://en.wikipedia.org/wiki/PythonCategory:Disambiguation_pages_with_short_descriptions',\n",
       " 'https://en.wikipedia.org/wiki/PythonCategory:Short_description_is_different_from_Wikidata',\n",
       " 'https://en.wikipedia.org/wiki/PythonCategory:All_article_disambiguation_pages',\n",
       " 'https://en.wikipedia.org/wiki/PythonCategory:All_disambiguation_pages',\n",
       " 'https://en.wikipedia.org/wiki/PythonCategory:Animal_common_name_disambiguation_pages']"
      ]
     },
     "execution_count": 46,
     "metadata": {},
     "output_type": "execute_result"
    }
   ],
   "source": [
    "your code\n",
    "html = requests.get(url).content\n",
    "soup = BeautifulSoup(html, 'lxml')\n",
    "general = soup.find('div', {'id':'bodyContent'})\n",
    "links = general.select('ul > li > a')\n",
    "links_elsewhere = [i['href'] for i in links if i['href'][0] != '#']\n",
    "full_links = [url + links_elsewhere[i].split('/wiki/')[1] for i in range(len(links_elsewhere))]\n",
    "full_links"
   ]
  },
  {
   "cell_type": "markdown",
   "metadata": {},
   "source": [
    "#### Number of Titles that have changed in the United States Code since its last release point "
   ]
  },
  {
   "cell_type": "code",
   "execution_count": 47,
   "metadata": {},
   "outputs": [],
   "source": [
    "# This is the url you will scrape in this exercise\n",
    "url = 'http://uscode.house.gov/download/download.shtml'"
   ]
  },
  {
   "cell_type": "code",
   "execution_count": 58,
   "metadata": {},
   "outputs": [
    {
     "data": {
      "text/plain": [
       "['Title 8 - Aliens and Nationality',\n",
       " 'Title 11 - Bankruptcy ٭',\n",
       " 'Title 15 - Commerce and Trade',\n",
       " 'Title 18 - Crimes and Criminal Procedure ٭',\n",
       " 'Title 25 - Indians',\n",
       " 'Title 31 - Money and Finance ٭',\n",
       " 'Title 32 - National Guard ٭',\n",
       " \"Title 38 - Veterans' Benefits ٭\",\n",
       " 'Title 42 - The Public Health and Welfare',\n",
       " 'Title 47 - Telecommunications',\n",
       " 'Title 51 - National and Commercial Space Programs ٭']"
      ]
     },
     "execution_count": 58,
     "metadata": {},
     "output_type": "execute_result"
    }
   ],
   "source": [
    "#your code\n",
    "#html = requests.get(url).content\n",
    "soup = BeautifulSoup(html, 'lxml')\n",
    "general = soup.find_all(\"div\", class_=\"usctitlechanged\")\n",
    "changed = [general[e].get_text().strip() for e in range(len(general))]\n",
    "changed\n",
    "\n"
   ]
  },
  {
   "cell_type": "markdown",
   "metadata": {},
   "source": [
    "#### A Python list with the top ten FBI's Most Wanted names "
   ]
  },
  {
   "cell_type": "code",
   "execution_count": 59,
   "metadata": {},
   "outputs": [],
   "source": [
    "# This is the url you will scrape in this exercise\n",
    "url = 'https://www.fbi.gov/wanted/topten'"
   ]
  },
  {
   "cell_type": "code",
   "execution_count": 60,
   "metadata": {},
   "outputs": [
    {
     "data": {
      "text/plain": [
       "['ARNOLDO JIMENEZ',\n",
       " 'JASON DEREK BROWN',\n",
       " 'ALEXIS FLORES',\n",
       " 'JOSE RODOLFO VILLARREAL-HERNANDEZ',\n",
       " 'EUGENE PALMER',\n",
       " 'RAFAEL CARO-QUINTERO',\n",
       " 'ROBERT WILLIAM FISHER',\n",
       " 'BHADRESHKUMAR CHETANBHAI PATEL',\n",
       " 'ALEJANDRO ROSALES CASTILLO',\n",
       " 'YASER ABDEL SAID']"
      ]
     },
     "execution_count": 60,
     "metadata": {},
     "output_type": "execute_result"
    }
   ],
   "source": [
    "#your code \n",
    "html = requests.get(url).content\n",
    "soup = BeautifulSoup(html, 'lxml')\n",
    "general = soup.find_all(\"h3\", class_=\"title\")\n",
    "changed = [general[e].get_text().strip() for e in range(len(general))]\n",
    "changed"
   ]
  },
  {
   "cell_type": "markdown",
   "metadata": {},
   "source": [
    "####  20 latest earthquakes info (date, time, latitude, longitude and region name) by the EMSC as a pandas dataframe"
   ]
  },
  {
   "cell_type": "code",
   "execution_count": 2,
   "metadata": {},
   "outputs": [],
   "source": [
    "# This is the url you will scrape in this exercise\n",
    "url = 'https://www.emsc-csem.org/Earthquake/'"
   ]
  },
  {
   "cell_type": "code",
   "execution_count": 21,
   "metadata": {},
   "outputs": [
    {
     "data": {
      "text/html": [
       "<div>\n",
       "<style scoped>\n",
       "    .dataframe tbody tr th:only-of-type {\n",
       "        vertical-align: middle;\n",
       "    }\n",
       "\n",
       "    .dataframe tbody tr th {\n",
       "        vertical-align: top;\n",
       "    }\n",
       "\n",
       "    .dataframe thead th {\n",
       "        text-align: right;\n",
       "    }\n",
       "</style>\n",
       "<table border=\"1\" class=\"dataframe\">\n",
       "  <thead>\n",
       "    <tr style=\"text-align: right;\">\n",
       "      <th></th>\n",
       "      <th>date time</th>\n",
       "      <th>latitud</th>\n",
       "      <th>longitude</th>\n",
       "      <th>region</th>\n",
       "    </tr>\n",
       "  </thead>\n",
       "  <tbody>\n",
       "    <tr>\n",
       "      <th>0</th>\n",
       "      <td>2020-11-09 00:46:18.416min ago</td>\n",
       "      <td>37.99</td>\n",
       "      <td>1.85</td>\n",
       "      <td>SPAIN</td>\n",
       "    </tr>\n",
       "    <tr>\n",
       "      <th>1</th>\n",
       "      <td>2020-11-09 00:42:22.720min ago</td>\n",
       "      <td>45.97</td>\n",
       "      <td>7.52</td>\n",
       "      <td>NORTHERN ITALY</td>\n",
       "    </tr>\n",
       "    <tr>\n",
       "      <th>2</th>\n",
       "      <td>2020-11-09 00:40:30.022min ago</td>\n",
       "      <td>38.20</td>\n",
       "      <td>141.60</td>\n",
       "      <td>NEAR EAST COAST OF HONSHU, JAPAN</td>\n",
       "    </tr>\n",
       "    <tr>\n",
       "      <th>3</th>\n",
       "      <td>2020-11-09 00:37:21.425min ago</td>\n",
       "      <td>37.86</td>\n",
       "      <td>27.13</td>\n",
       "      <td>WESTERN TURKEY</td>\n",
       "    </tr>\n",
       "    <tr>\n",
       "      <th>4</th>\n",
       "      <td>2020-11-09 00:36:15.827min ago</td>\n",
       "      <td>46.16</td>\n",
       "      <td>6.64</td>\n",
       "      <td>FRANCE</td>\n",
       "    </tr>\n",
       "    <tr>\n",
       "      <th>5</th>\n",
       "      <td>2020-11-09 00:33:37.029min ago</td>\n",
       "      <td>6.96</td>\n",
       "      <td>125.77</td>\n",
       "      <td>BANDA SEA</td>\n",
       "    </tr>\n",
       "    <tr>\n",
       "      <th>6</th>\n",
       "      <td>2020-11-09 00:32:50.030min ago</td>\n",
       "      <td>13.83</td>\n",
       "      <td>120.89</td>\n",
       "      <td>MINDORO, PHILIPPINES</td>\n",
       "    </tr>\n",
       "    <tr>\n",
       "      <th>7</th>\n",
       "      <td>2020-11-09 00:18:04.045min ago</td>\n",
       "      <td>11.80</td>\n",
       "      <td>121.99</td>\n",
       "      <td>SOUTH OF TIMOR</td>\n",
       "    </tr>\n",
       "    <tr>\n",
       "      <th>8</th>\n",
       "      <td>2020-11-09 00:16:17.746min ago</td>\n",
       "      <td>37.83</td>\n",
       "      <td>26.41</td>\n",
       "      <td>DODECANESE ISLANDS, GREECE</td>\n",
       "    </tr>\n",
       "    <tr>\n",
       "      <th>9</th>\n",
       "      <td>2020-11-09 00:16:06.447min ago</td>\n",
       "      <td>45.97</td>\n",
       "      <td>7.52</td>\n",
       "      <td>NORTHERN ITALY</td>\n",
       "    </tr>\n",
       "    <tr>\n",
       "      <th>10</th>\n",
       "      <td>2020-11-09 00:14:48.048min ago</td>\n",
       "      <td>33.70</td>\n",
       "      <td>71.19</td>\n",
       "      <td>REGION METROPOLITANA, CHILE</td>\n",
       "    </tr>\n",
       "    <tr>\n",
       "      <th>11</th>\n",
       "      <td>2020-11-09 00:08:24.054min ago</td>\n",
       "      <td>20.14</td>\n",
       "      <td>72.88</td>\n",
       "      <td>NEAR THE COAST OF GUJARAT, INDIA</td>\n",
       "    </tr>\n",
       "    <tr>\n",
       "      <th>12</th>\n",
       "      <td>2020-11-09 00:07:46.955min ago</td>\n",
       "      <td>37.87</td>\n",
       "      <td>26.97</td>\n",
       "      <td>DODECANESE ISLANDS, GREECE</td>\n",
       "    </tr>\n",
       "    <tr>\n",
       "      <th>13</th>\n",
       "      <td>2020-11-09 00:04:44.358min ago</td>\n",
       "      <td>45.97</td>\n",
       "      <td>7.52</td>\n",
       "      <td>NORTHERN ITALY</td>\n",
       "    </tr>\n",
       "    <tr>\n",
       "      <th>14</th>\n",
       "      <td>2020-11-09 00:01:58.01hr 01min ago</td>\n",
       "      <td>18.44</td>\n",
       "      <td>71.33</td>\n",
       "      <td>OFF COAST OF TARAPACA, CHILE</td>\n",
       "    </tr>\n",
       "    <tr>\n",
       "      <th>15</th>\n",
       "      <td>2020-11-09 00:01:24.01hr 01min ago</td>\n",
       "      <td>20.14</td>\n",
       "      <td>72.88</td>\n",
       "      <td>NEAR THE COAST OF GUJARAT, INDIA</td>\n",
       "    </tr>\n",
       "    <tr>\n",
       "      <th>16</th>\n",
       "      <td>2020-11-09 00:00:37.01hr 02min ago</td>\n",
       "      <td>3.81</td>\n",
       "      <td>97.57</td>\n",
       "      <td>NORTHERN SUMATRA, INDONESIA</td>\n",
       "    </tr>\n",
       "    <tr>\n",
       "      <th>20</th>\n",
       "      <td>2020-11-08 23:59:35.51hr 03min ago</td>\n",
       "      <td>17.95</td>\n",
       "      <td>66.74</td>\n",
       "      <td>PUERTO RICO REGION</td>\n",
       "    </tr>\n",
       "    <tr>\n",
       "      <th>21</th>\n",
       "      <td>2020-11-08 23:56:43.11hr 06min ago</td>\n",
       "      <td>45.94</td>\n",
       "      <td>7.50</td>\n",
       "      <td>NORTHERN ITALY</td>\n",
       "    </tr>\n",
       "    <tr>\n",
       "      <th>22</th>\n",
       "      <td>2020-11-08 23:07:56.01hr 55min ago</td>\n",
       "      <td>18.08</td>\n",
       "      <td>103.27</td>\n",
       "      <td>OFFSHORE MICHOACAN, MEXICO</td>\n",
       "    </tr>\n",
       "  </tbody>\n",
       "</table>\n",
       "</div>"
      ],
      "text/plain": [
       "                             date time latitud longitude  \\\n",
       "0       2020-11-09 00:46:18.416min ago   37.99      1.85   \n",
       "1       2020-11-09 00:42:22.720min ago   45.97      7.52   \n",
       "2       2020-11-09 00:40:30.022min ago   38.20    141.60   \n",
       "3       2020-11-09 00:37:21.425min ago   37.86     27.13   \n",
       "4       2020-11-09 00:36:15.827min ago   46.16      6.64   \n",
       "5       2020-11-09 00:33:37.029min ago    6.96    125.77   \n",
       "6       2020-11-09 00:32:50.030min ago   13.83    120.89   \n",
       "7       2020-11-09 00:18:04.045min ago   11.80    121.99   \n",
       "8       2020-11-09 00:16:17.746min ago   37.83     26.41   \n",
       "9       2020-11-09 00:16:06.447min ago   45.97      7.52   \n",
       "10      2020-11-09 00:14:48.048min ago   33.70     71.19   \n",
       "11      2020-11-09 00:08:24.054min ago   20.14     72.88   \n",
       "12      2020-11-09 00:07:46.955min ago   37.87     26.97   \n",
       "13      2020-11-09 00:04:44.358min ago   45.97      7.52   \n",
       "14  2020-11-09 00:01:58.01hr 01min ago   18.44     71.33   \n",
       "15  2020-11-09 00:01:24.01hr 01min ago   20.14     72.88   \n",
       "16  2020-11-09 00:00:37.01hr 02min ago    3.81     97.57   \n",
       "20  2020-11-08 23:59:35.51hr 03min ago   17.95     66.74   \n",
       "21  2020-11-08 23:56:43.11hr 06min ago   45.94      7.50   \n",
       "22  2020-11-08 23:07:56.01hr 55min ago   18.08    103.27   \n",
       "\n",
       "                              region  \n",
       "0                              SPAIN  \n",
       "1                     NORTHERN ITALY  \n",
       "2   NEAR EAST COAST OF HONSHU, JAPAN  \n",
       "3                     WESTERN TURKEY  \n",
       "4                             FRANCE  \n",
       "5                          BANDA SEA  \n",
       "6               MINDORO, PHILIPPINES  \n",
       "7                     SOUTH OF TIMOR  \n",
       "8         DODECANESE ISLANDS, GREECE  \n",
       "9                     NORTHERN ITALY  \n",
       "10       REGION METROPOLITANA, CHILE  \n",
       "11  NEAR THE COAST OF GUJARAT, INDIA  \n",
       "12        DODECANESE ISLANDS, GREECE  \n",
       "13                    NORTHERN ITALY  \n",
       "14      OFF COAST OF TARAPACA, CHILE  \n",
       "15  NEAR THE COAST OF GUJARAT, INDIA  \n",
       "16       NORTHERN SUMATRA, INDONESIA  \n",
       "20                PUERTO RICO REGION  \n",
       "21                    NORTHERN ITALY  \n",
       "22        OFFSHORE MICHOACAN, MEXICO  "
      ]
     },
     "execution_count": 21,
     "metadata": {},
     "output_type": "execute_result"
    }
   ],
   "source": [
    "#your code\n",
    "#html = requests.get(url).content\n",
    "#tables = pd.read_html(html)\n",
    "#data = tables[3]\n",
    "data_new = data[['Date & Time UTC', 'Latitude degrees', 'Longitude degrees', 'Last update [-]']].copy()\n",
    "data_new.columns = ['date time', 'latitud', '1', 'longitude', '2', 'region']\n",
    "data_new.drop(['1', '2'], axis=1, inplace=True)\n",
    "data_new.dropna(inplace=True)\n",
    "data_new.head(20)\n"
   ]
  },
  {
   "cell_type": "markdown",
   "metadata": {},
   "source": [
    "#### Display the date, days, title, city, country of next 25 hackathon events as a Pandas dataframe table"
   ]
  },
  {
   "cell_type": "code",
   "execution_count": 32,
   "metadata": {},
   "outputs": [],
   "source": [
    "# This is the url you will scrape in this exercise\n",
    "url ='https://mlh.io/seasons/2021/events'"
   ]
  },
  {
   "cell_type": "code",
   "execution_count": 33,
   "metadata": {},
   "outputs": [],
   "source": [
    "html = requests.get(url).content\n",
    "soup = BeautifulSoup(html, 'lxml')"
   ]
  },
  {
   "cell_type": "code",
   "execution_count": 40,
   "metadata": {},
   "outputs": [
    {
     "data": {
      "text/plain": [
       "[['New Year New Hack', 'Jan 1st - 3rd', 'Everywhere', 'Worldwide'],\n",
       " ['Hoya Hacks', 'Jan 29th - 31st', 'Everywhere', 'Worldwide'],\n",
       " ['Hacklytics ', 'Feb 5th - 7th', 'Everywhere', 'Online'],\n",
       " ['BrickHack 7', 'Feb 20th - 21st', 'Everywhere', 'Worldwide']]"
      ]
     },
     "execution_count": 40,
     "metadata": {},
     "output_type": "execute_result"
    }
   ],
   "source": [
    "#your code\n",
    "\n",
    "items = soup.select('div.inner')\n",
    "def actual(items):\n",
    "    selected = []\n",
    "    for e in range(len(items)):\n",
    "        if '2021' in items[e].select('meta')[0]['content']:\n",
    "            selected.append(items[e])\n",
    "    return(selected)\n",
    "selected_items = actual(items)\n",
    "len(selected_items)\n",
    "tags = [item.find_all(['h3', 'p', 'span']) for item in selected_items]\n",
    "text = [[e.text for e in t] for t in tags]\n",
    "text"
   ]
  },
  {
   "cell_type": "markdown",
   "metadata": {},
   "source": [
    "#### Count number of tweets by a given Twitter account."
   ]
  },
  {
   "cell_type": "markdown",
   "metadata": {},
   "source": [
    "You will need to include a ***try/except block*** for account names not found. \n",
    "<br>***Hint:*** the program should count the number of tweets for any provided account"
   ]
  },
  {
   "cell_type": "code",
   "execution_count": null,
   "metadata": {},
   "outputs": [],
   "source": [
    "# This is the url you will scrape in this exercise \n",
    "# You will need to add the account credentials to this url\n",
    "url = 'https://twitter.com/'"
   ]
  },
  {
   "cell_type": "code",
   "execution_count": null,
   "metadata": {},
   "outputs": [],
   "source": [
    "#your code"
   ]
  },
  {
   "cell_type": "markdown",
   "metadata": {},
   "source": [
    "#### Number of followers of a given twitter account"
   ]
  },
  {
   "cell_type": "markdown",
   "metadata": {},
   "source": [
    "You will need to include a ***try/except block*** in case account/s name not found. \n",
    "<br>***Hint:*** the program should count the followers for any provided account"
   ]
  },
  {
   "cell_type": "code",
   "execution_count": 50,
   "metadata": {},
   "outputs": [],
   "source": [
    "# This is the url you will scrape in this exercise \n",
    "# You will need to add the account credentials to this url\n",
    "url = 'https://twitter.com/'"
   ]
  },
  {
   "cell_type": "code",
   "execution_count": 51,
   "metadata": {},
   "outputs": [],
   "source": [
    "#your code\n"
   ]
  },
  {
   "cell_type": "code",
   "execution_count": 60,
   "metadata": {},
   "outputs": [],
   "source": [
    "\n"
   ]
  },
  {
   "cell_type": "markdown",
   "metadata": {},
   "source": [
    "#### List all language names and number of related articles in the order they appear in wikipedia.org"
   ]
  },
  {
   "cell_type": "code",
   "execution_count": 61,
   "metadata": {},
   "outputs": [],
   "source": [
    "# This is the url you will scrape in this exercise\n",
    "url = 'https://www.wikipedia.org/'"
   ]
  },
  {
   "cell_type": "code",
   "execution_count": 66,
   "metadata": {},
   "outputs": [],
   "source": [
    "#your code\n",
    "html = requests.get(url).content\n",
    "soup = BeautifulSoup(html, 'lxml')"
   ]
  },
  {
   "cell_type": "code",
   "execution_count": 111,
   "metadata": {},
   "outputs": [
    {
     "data": {
      "text/plain": [
       "[[<strong>English</strong>, <bdi dir=\"ltr\">6 183 000+</bdi>],\n",
       " [<strong>Español</strong>, <bdi dir=\"ltr\">1 637 000+</bdi>],\n",
       " [<strong>日本語</strong>, <bdi dir=\"ltr\">1 235 000+</bdi>],\n",
       " [<strong>Deutsch</strong>, <bdi dir=\"ltr\">2 495 000+</bdi>],\n",
       " [<strong>Русский</strong>, <bdi dir=\"ltr\">1 672 000+</bdi>],\n",
       " [<strong>Français</strong>, <bdi dir=\"ltr\">2 262 000+</bdi>],\n",
       " [<strong>Italiano</strong>, <bdi dir=\"ltr\">1 645 000+</bdi>],\n",
       " [<strong>中文</strong>, <bdi dir=\"ltr\">1 155 000+</bdi>],\n",
       " [<strong>Português</strong>, <bdi dir=\"ltr\">1 045 000+</bdi>],\n",
       " [<strong>Polski</strong>, <bdi dir=\"ltr\">1 435 000+</bdi>]]"
      ]
     },
     "execution_count": 111,
     "metadata": {},
     "output_type": "execute_result"
    }
   ],
   "source": [
    "lang = soup.select('div.central-featured-lang > a')\n",
    "pre = [lang[e].find_all(['strong', 'bdi']) for e in range(len(lang))]\n",
    "pre"
   ]
  },
  {
   "cell_type": "code",
   "execution_count": 114,
   "metadata": {},
   "outputs": [
    {
     "name": "stdout",
     "output_type": "stream",
     "text": [
      "English 6 183 000+\n",
      "Español 1 637 000+\n",
      "日本語 1 235 000+\n",
      "Deutsch 2 495 000+\n",
      "Русский 1 672 000+\n",
      "Français 2 262 000+\n",
      "Italiano 1 645 000+\n",
      "中文 1 155 000+\n",
      "Português 1 045 000+\n",
      "Polski 1 435 000+\n"
     ]
    }
   ],
   "source": [
    "for t in pre:\n",
    "    print(t[0].text, t[1].text)\n"
   ]
  },
  {
   "cell_type": "markdown",
   "metadata": {},
   "source": [
    "#### A list with the different kind of datasets available in data.gov.uk "
   ]
  },
  {
   "cell_type": "code",
   "execution_count": 115,
   "metadata": {},
   "outputs": [],
   "source": [
    "# This is the url you will scrape in this exercise\n",
    "url = 'https://data.gov.uk/'"
   ]
  },
  {
   "cell_type": "code",
   "execution_count": 116,
   "metadata": {},
   "outputs": [],
   "source": [
    "#your code \n",
    "html = requests.get(url).content\n",
    "soup = BeautifulSoup(html, 'lxml')\n"
   ]
  },
  {
   "cell_type": "code",
   "execution_count": 120,
   "metadata": {},
   "outputs": [
    {
     "data": {
      "text/plain": [
       "[<a class=\"govuk-link\" href=\"/search?filters%5Btopic%5D=Business+and+economy\">Business and economy</a>,\n",
       " <a class=\"govuk-link\" href=\"/search?filters%5Btopic%5D=Crime+and+justice\">Crime and justice</a>,\n",
       " <a class=\"govuk-link\" href=\"/search?filters%5Btopic%5D=Defence\">Defence</a>,\n",
       " <a class=\"govuk-link\" href=\"/search?filters%5Btopic%5D=Education\">Education</a>,\n",
       " <a class=\"govuk-link\" href=\"/search?filters%5Btopic%5D=Environment\">Environment</a>,\n",
       " <a class=\"govuk-link\" href=\"/search?filters%5Btopic%5D=Government\">Government</a>,\n",
       " <a class=\"govuk-link\" href=\"/search?filters%5Btopic%5D=Government+spending\">Government spending</a>,\n",
       " <a class=\"govuk-link\" href=\"/search?filters%5Btopic%5D=Health\">Health</a>,\n",
       " <a class=\"govuk-link\" href=\"/search?filters%5Btopic%5D=Mapping\">Mapping</a>,\n",
       " <a class=\"govuk-link\" href=\"/search?filters%5Btopic%5D=Society\">Society</a>,\n",
       " <a class=\"govuk-link\" href=\"/search?filters%5Btopic%5D=Towns+and+cities\">Towns and cities</a>,\n",
       " <a class=\"govuk-link\" href=\"/search?filters%5Btopic%5D=Transport\">Transport</a>]"
      ]
     },
     "execution_count": 120,
     "metadata": {},
     "output_type": "execute_result"
    }
   ],
   "source": [
    "soup.select('h3 a.govuk-link')\n"
   ]
  },
  {
   "cell_type": "markdown",
   "metadata": {},
   "source": [
    "#### Top 10 languages by number of native speakers stored in a Pandas Dataframe"
   ]
  },
  {
   "cell_type": "code",
   "execution_count": 121,
   "metadata": {},
   "outputs": [],
   "source": [
    "# This is the url you will scrape in this exercise\n",
    "url = 'https://en.wikipedia.org/wiki/List_of_languages_by_number_of_native_speakers'"
   ]
  },
  {
   "cell_type": "code",
   "execution_count": 128,
   "metadata": {},
   "outputs": [
    {
     "data": {
      "text/html": [
       "<div>\n",
       "<style scoped>\n",
       "    .dataframe tbody tr th:only-of-type {\n",
       "        vertical-align: middle;\n",
       "    }\n",
       "\n",
       "    .dataframe tbody tr th {\n",
       "        vertical-align: top;\n",
       "    }\n",
       "\n",
       "    .dataframe thead th {\n",
       "        text-align: right;\n",
       "    }\n",
       "</style>\n",
       "<table border=\"1\" class=\"dataframe\">\n",
       "  <thead>\n",
       "    <tr style=\"text-align: right;\">\n",
       "      <th></th>\n",
       "      <th>Rank</th>\n",
       "      <th>Language</th>\n",
       "      <th>Speakers(millions)</th>\n",
       "      <th>% of World pop.(March 2019)[8]</th>\n",
       "      <th>Language family</th>\n",
       "      <th>Branch</th>\n",
       "    </tr>\n",
       "  </thead>\n",
       "  <tbody>\n",
       "    <tr>\n",
       "      <th>0</th>\n",
       "      <td>1</td>\n",
       "      <td>Mandarin Chinese</td>\n",
       "      <td>918.0</td>\n",
       "      <td>11.922</td>\n",
       "      <td>Sino-Tibetan</td>\n",
       "      <td>Sinitic</td>\n",
       "    </tr>\n",
       "    <tr>\n",
       "      <th>1</th>\n",
       "      <td>2</td>\n",
       "      <td>Spanish</td>\n",
       "      <td>480.0</td>\n",
       "      <td>5.994</td>\n",
       "      <td>Indo-European</td>\n",
       "      <td>Romance</td>\n",
       "    </tr>\n",
       "    <tr>\n",
       "      <th>2</th>\n",
       "      <td>3</td>\n",
       "      <td>English</td>\n",
       "      <td>379.0</td>\n",
       "      <td>4.922</td>\n",
       "      <td>Indo-European</td>\n",
       "      <td>Germanic</td>\n",
       "    </tr>\n",
       "    <tr>\n",
       "      <th>3</th>\n",
       "      <td>4</td>\n",
       "      <td>Hindi (Sanskritised Hindustani)[9]</td>\n",
       "      <td>341.0</td>\n",
       "      <td>4.429</td>\n",
       "      <td>Indo-European</td>\n",
       "      <td>Indo-Aryan</td>\n",
       "    </tr>\n",
       "    <tr>\n",
       "      <th>4</th>\n",
       "      <td>5</td>\n",
       "      <td>Bengali</td>\n",
       "      <td>228.0</td>\n",
       "      <td>2.961</td>\n",
       "      <td>Indo-European</td>\n",
       "      <td>Indo-Aryan</td>\n",
       "    </tr>\n",
       "    <tr>\n",
       "      <th>5</th>\n",
       "      <td>6</td>\n",
       "      <td>Portuguese</td>\n",
       "      <td>221.0</td>\n",
       "      <td>2.870</td>\n",
       "      <td>Indo-European</td>\n",
       "      <td>Romance</td>\n",
       "    </tr>\n",
       "    <tr>\n",
       "      <th>6</th>\n",
       "      <td>7</td>\n",
       "      <td>Russian</td>\n",
       "      <td>154.0</td>\n",
       "      <td>2.000</td>\n",
       "      <td>Indo-European</td>\n",
       "      <td>Balto-Slavic</td>\n",
       "    </tr>\n",
       "    <tr>\n",
       "      <th>7</th>\n",
       "      <td>8</td>\n",
       "      <td>Japanese</td>\n",
       "      <td>128.0</td>\n",
       "      <td>1.662</td>\n",
       "      <td>Japonic</td>\n",
       "      <td>Japanese</td>\n",
       "    </tr>\n",
       "    <tr>\n",
       "      <th>8</th>\n",
       "      <td>9</td>\n",
       "      <td>Western Punjabi[10]</td>\n",
       "      <td>92.7</td>\n",
       "      <td>1.204</td>\n",
       "      <td>Indo-European</td>\n",
       "      <td>Indo-Aryan</td>\n",
       "    </tr>\n",
       "    <tr>\n",
       "      <th>9</th>\n",
       "      <td>10</td>\n",
       "      <td>Marathi</td>\n",
       "      <td>83.1</td>\n",
       "      <td>1.079</td>\n",
       "      <td>Indo-European</td>\n",
       "      <td>Indo-Aryan</td>\n",
       "    </tr>\n",
       "  </tbody>\n",
       "</table>\n",
       "</div>"
      ],
      "text/plain": [
       "   Rank                            Language  Speakers(millions)  \\\n",
       "0     1                    Mandarin Chinese               918.0   \n",
       "1     2                             Spanish               480.0   \n",
       "2     3                             English               379.0   \n",
       "3     4  Hindi (Sanskritised Hindustani)[9]               341.0   \n",
       "4     5                             Bengali               228.0   \n",
       "5     6                          Portuguese               221.0   \n",
       "6     7                             Russian               154.0   \n",
       "7     8                            Japanese               128.0   \n",
       "8     9                 Western Punjabi[10]                92.7   \n",
       "9    10                             Marathi                83.1   \n",
       "\n",
       "   % of World pop.(March 2019)[8] Language family        Branch  \n",
       "0                          11.922    Sino-Tibetan       Sinitic  \n",
       "1                           5.994   Indo-European       Romance  \n",
       "2                           4.922   Indo-European      Germanic  \n",
       "3                           4.429   Indo-European    Indo-Aryan  \n",
       "4                           2.961   Indo-European    Indo-Aryan  \n",
       "5                           2.870   Indo-European       Romance  \n",
       "6                           2.000   Indo-European  Balto-Slavic  \n",
       "7                           1.662         Japonic      Japanese  \n",
       "8                           1.204   Indo-European    Indo-Aryan  \n",
       "9                           1.079   Indo-European    Indo-Aryan  "
      ]
     },
     "execution_count": 128,
     "metadata": {},
     "output_type": "execute_result"
    }
   ],
   "source": [
    "#your code\n",
    "html = requests.get(url).content\n",
    "table = pd.read_html(html, match='Languages with at least 10 million first-language speakers')\n",
    "table[0].head(10)\n",
    "#wikitable sortable jquery-tablesorter"
   ]
  },
  {
   "cell_type": "markdown",
   "metadata": {},
   "source": [
    "### BONUS QUESTIONS"
   ]
  },
  {
   "cell_type": "markdown",
   "metadata": {},
   "source": [
    "#### Scrape a certain number of tweets of a given Twitter account."
   ]
  },
  {
   "cell_type": "code",
   "execution_count": null,
   "metadata": {},
   "outputs": [],
   "source": [
    "# This is the url you will scrape in this exercise \n",
    "# You will need to add the account credentials to this url\n",
    "url = 'https://twitter.com/'"
   ]
  },
  {
   "cell_type": "code",
   "execution_count": null,
   "metadata": {},
   "outputs": [],
   "source": [
    "# your code"
   ]
  },
  {
   "cell_type": "markdown",
   "metadata": {},
   "source": [
    "#### IMDB's Top 250 data (movie name, Initial release, director name and stars) as a pandas dataframe"
   ]
  },
  {
   "cell_type": "code",
   "execution_count": null,
   "metadata": {},
   "outputs": [],
   "source": [
    "# This is the url you will scrape in this exercise \n",
    "url = 'https://www.imdb.com/chart/top'"
   ]
  },
  {
   "cell_type": "code",
   "execution_count": null,
   "metadata": {},
   "outputs": [],
   "source": [
    "# your code"
   ]
  },
  {
   "cell_type": "markdown",
   "metadata": {},
   "source": [
    "#### Movie name, year and a brief summary of the top 10 random movies (IMDB) as a pandas dataframe."
   ]
  },
  {
   "cell_type": "code",
   "execution_count": null,
   "metadata": {},
   "outputs": [],
   "source": [
    "#This is the url you will scrape in this exercise\n",
    "url = 'http://www.imdb.com/chart/top'"
   ]
  },
  {
   "cell_type": "code",
   "execution_count": null,
   "metadata": {},
   "outputs": [],
   "source": [
    "#your code"
   ]
  },
  {
   "cell_type": "markdown",
   "metadata": {},
   "source": [
    "#### Find the live weather report (temperature, wind speed, description and weather) of a given city."
   ]
  },
  {
   "cell_type": "code",
   "execution_count": null,
   "metadata": {},
   "outputs": [],
   "source": [
    "#https://openweathermap.org/current\n",
    "city = city=input('Enter the city:')\n",
    "url = 'http://api.openweathermap.org/data/2.5/weather?'+'q='+city+'&APPID=b35975e18dc93725acb092f7272cc6b8&units=metric'"
   ]
  },
  {
   "cell_type": "code",
   "execution_count": null,
   "metadata": {},
   "outputs": [],
   "source": [
    "# your code"
   ]
  },
  {
   "cell_type": "markdown",
   "metadata": {},
   "source": [
    "#### Book name,price and stock availability as a pandas dataframe."
   ]
  },
  {
   "cell_type": "code",
   "execution_count": null,
   "metadata": {},
   "outputs": [],
   "source": [
    "# This is the url you will scrape in this exercise. \n",
    "# It is a fictional bookstore created to be scraped. \n",
    "url = 'http://books.toscrape.com/'"
   ]
  },
  {
   "cell_type": "code",
   "execution_count": null,
   "metadata": {},
   "outputs": [],
   "source": [
    "#your code"
   ]
  }
 ],
 "metadata": {
  "kernelspec": {
   "display_name": "Python 3",
   "language": "python",
   "name": "python3"
  },
  "language_info": {
   "codemirror_mode": {
    "name": "ipython",
    "version": 3
   },
   "file_extension": ".py",
   "mimetype": "text/x-python",
   "name": "python",
   "nbconvert_exporter": "python",
   "pygments_lexer": "ipython3",
   "version": "3.8.5"
  }
 },
 "nbformat": 4,
 "nbformat_minor": 2
}
