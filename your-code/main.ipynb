{
 "cells": [
  {
   "cell_type": "markdown",
   "metadata": {},
   "source": [
    "# Web Scraping Lab\n",
    "\n",
    "You will find in this notebook some scrapy exercises to practise your scraping skills.\n",
    "\n",
    "**Tips:**\n",
    "\n",
    "- Check the response status code for each request to ensure you have obtained the intended contennt.\n",
    "- Print the response text in each request to understand the kind of info you are getting and its format.\n",
    "- Check for patterns in the response text to extract the data/info requested in each question.\n",
    "- Visit each url and take a look at its source through Chrome DevTools. You'll need to identify the html tags, special class names etc. used for the html content you are expected to extract."
   ]
  },
  {
   "cell_type": "markdown",
   "metadata": {},
   "source": [
    "- [Requests library](http://docs.python-requests.org/en/master/#the-user-guide) documentation \n",
    "- [Beautiful Soup Doc](https://www.crummy.com/software/BeautifulSoup/bs4/doc/)\n",
    "- [Urllib](https://docs.python.org/3/library/urllib.html#module-urllib)\n",
    "- [re lib](https://docs.python.org/3/library/re.html)\n",
    "- [lxml lib](https://lxml.de/)\n",
    "- [Scrapy](https://scrapy.org/)\n",
    "- [List of HTTP status codes](https://en.wikipedia.org/wiki/List_of_HTTP_status_codes)\n",
    "- [HTML basics](http://www.simplehtmlguide.com/cheatsheet.php)\n",
    "- [CSS basics](https://www.cssbasics.com/#page_start)"
   ]
  },
  {
   "cell_type": "markdown",
   "metadata": {},
   "source": [
    "#### Below are the libraries and modules you may need. `requests`,  `BeautifulSoup` and `pandas` are imported for you. If you prefer to use additional libraries feel free to uncomment them."
   ]
  },
  {
   "cell_type": "code",
   "execution_count": 1,
   "metadata": {},
   "outputs": [],
   "source": [
    "import requests\n",
    "from bs4 import BeautifulSoup\n",
    "import pandas as pd\n",
    "from pprint import pprint\n",
    "import re\n",
    "# from lxml import html\n",
    "# from lxml.html import fromstring\n",
    "# import urllib.request\n",
    "# from urllib.request import urlopen\n",
    "# import random\n",
    "# import scrapy"
   ]
  },
  {
   "cell_type": "markdown",
   "metadata": {},
   "source": [
    "#### Download, parse (using BeautifulSoup), and print the content from the Trending Developers page from GitHub:"
   ]
  },
  {
   "cell_type": "code",
   "execution_count": 2,
   "metadata": {},
   "outputs": [],
   "source": [
    "# This is the url you will scrape in this exercise\n",
    "url = 'https://github.com/trending/developers'\n",
    "html=requests.get(url).content\n",
    "tdev_soup=BeautifulSoup(html)"
   ]
  },
  {
   "cell_type": "code",
   "execution_count": 3,
   "metadata": {},
   "outputs": [
    {
     "name": "stdout",
     "output_type": "stream",
     "text": [
      "['html', <html lang=\"en\">\n",
      "<head>\n",
      "<meta charset=\"utf-8\"/>\n",
      "<link href=\"https://github.githubassets.com\" rel=\"dns-prefetch\"/>\n",
      "<link href=\"https://avatars0.githubusercontent.com\" rel=\"dns-prefetch\"/>\n",
      "<link href=\"https://avatars1.githubusercontent.com\" rel=\"dns-prefetch\"/>\n",
      "<link href=\"https://avatars2.githubusercontent.com\" rel=\"dns-prefetch\"/>\n",
      "<link href=\"https://avatars3.githubusercontent.com\" rel=\"dns-prefetch\"/>\n",
      "<link href=\"https://github-cloud.s3.amazonaws.com\" rel=\"dns-prefetch\"/>\n",
      "<link href=\"https://user-images.githubusercontent.com/\" rel=\"dns-prefetch\"/>\n",
      "<link crossorigin=\"anonymous\" href=\"https://github.githubassets.com/assets/frameworks-146fab5ea30e8afac08dd11013bb4ee0.css\" integrity=\"sha512-FG+rXqMOivrAjdEQE7tO4BwM1poGmg70hJFTlNSxjX87grtrZ6UnPR8NkzwUHlQEGviu9XuRYeO8zH9YwvZhdg==\" media=\"all\" rel=\"stylesheet\"/>\n",
      "<link crossorigin=\"anonymous\" href=\"https://github.githubassets.com/assets/site-aed0c7d68d06ec92057b64d413ec7007.css\" integrity=\"sha512-rtDH1o0G7JIFe2TUE+xwB/kRo3yvzooHvaKeUjy2YP+yxjeGvy9HWt6XrX9X8TgDPiZHgrMzJVtEA8bCzmjiyQ==\" media=\"all\" rel=\"stylesheet\"/>\n",
      "<link crossorigin=\"anonymous\" href=\"https://github.githubassets.com/assets/github-c611305d49c042bc2dcf1dd251e0d1c3.css\" integrity=\"sha512-xhEwXUnAQrwtzx3SUeDRw7/d7lQmtwNKXic7VeJinUexaePJ2knNKoM3SJzmSmDq/Stn081QrAsZJ8UU98Rw0w==\" media=\"all\" rel=\"stylesheet\"/>\n",
      "<meta content=\"width=device-width\" name=\"viewport\"/>\n",
      "<title>Trending  developers on GitHub today · GitHub</title>\n",
      "<meta content=\"GitHub is where people build software. More than 50 million people use GitHub to discover, fork, and contribute to over 100 million projects.\" name=\"description\"/>\n",
      "<link href=\"/opensearch.xml\" rel=\"search\" title=\"GitHub\" type=\"application/opensearchdescription+xml\"/>\n",
      "<link href=\"https://github.com/fluidicon.png\" rel=\"fluid-icon\" title=\"GitHub\"/>\n",
      "<meta content=\"1401488693436528\" property=\"fb:app_id\"/>\n",
      "<meta content=\"https://github.com\" property=\"og:url\"/>\n",
      "<meta content=\"GitHub\" property=\"og:site_name\"/>\n",
      "<meta content=\"Build software better, together\" property=\"og:title\"/>\n",
      "<meta content=\"GitHub is where people build software. More than 50 million people use GitHub to discover, fork, and contribute to over 100 million projects.\" property=\"og:description\"/>\n",
      "<meta content=\"https://github.githubassets.com/images/modules/open_graph/github-logo.png\" property=\"og:image\"/>\n",
      "<meta content=\"image/png\" property=\"og:image:type\"/>\n",
      "<meta content=\"1200\" property=\"og:image:width\"/>\n",
      "<meta content=\"1200\" property=\"og:image:height\"/>\n",
      "<meta content=\"https://github.githubassets.com/images/modules/open_graph/github-mark.png\" property=\"og:image\"/>\n",
      "<meta content=\"image/png\" property=\"og:image:type\"/>\n",
      "<meta content=\"1200\" property=\"og:image:width\"/>\n",
      "<meta content=\"620\" property=\"og:image:height\"/>\n",
      "<meta content=\"https://github.githubassets.com/images/modules/open_graph/github-octocat.png\" property=\"og:image\"/>\n",
      "<meta content=\"image/png\" property=\"og:image:type\"/>\n",
      "<meta content=\"1200\" property=\"og:image:width\"/>\n",
      "<meta content=\"620\" \n"
     ]
    }
   ],
   "source": [
    "#We print just a part to get ourselves an idea of the content\n",
    "print(str(tdev_soup.contents)[:3000])"
   ]
  },
  {
   "cell_type": "markdown",
   "metadata": {},
   "source": [
    "#### Display the names of the trending developers retrieved in the previous step.\n",
    "\n",
    "Your output should be a Python list of developer names. Each name should not contain any html tag.\n",
    "\n",
    "**Instructions:**\n",
    "\n",
    "1. Find out the html tag and class names used for the developer names. You can achieve this using Chrome DevTools.\n",
    "\n",
    "1. Use BeautifulSoup to extract all the html elements that contain the developer names.\n",
    "\n",
    "1. Use string manipulation techniques to replace whitespaces and linebreaks (i.e. `\\n`) in the *text* of each html element. Use a list to store the clean names.\n",
    "\n",
    "1. Print the list of names.\n",
    "\n",
    "Your output should look like below:\n",
    "\n",
    "```\n",
    "['trimstray (@trimstray)',\n",
    " 'joewalnes (JoeWalnes)',\n",
    " 'charlax (Charles-AxelDein)',\n",
    " 'ForrestKnight (ForrestKnight)',\n",
    " 'revery-ui (revery-ui)',\n",
    " 'alibaba (Alibaba)',\n",
    " 'Microsoft (Microsoft)',\n",
    " 'github (GitHub)',\n",
    " 'facebook (Facebook)',\n",
    " 'boazsegev (Bo)',\n",
    " 'google (Google)',\n",
    " 'cloudfetch',\n",
    " 'sindresorhus (SindreSorhus)',\n",
    " 'tensorflow',\n",
    " 'apache (TheApacheSoftwareFoundation)',\n",
    " 'DevonCrawford (DevonCrawford)',\n",
    " 'ARMmbed (ArmMbed)',\n",
    " 'vuejs (vuejs)',\n",
    " 'fastai (fast.ai)',\n",
    " 'QiShaoXuan (Qi)',\n",
    " 'joelparkerhenderson (JoelParkerHenderson)',\n",
    " 'torvalds (LinusTorvalds)',\n",
    " 'CyC2018',\n",
    " 'komeiji-satori (神楽坂覚々)',\n",
    " 'script-8']\n",
    " ```"
   ]
  },
  {
   "cell_type": "code",
   "execution_count": 4,
   "metadata": {},
   "outputs": [],
   "source": [
    "devs=tdev_soup.find_all('h1',{'class':'h3 lh-condensed'})\n",
    "#First we get name and then we add username\n",
    "developers=[(dev.a.text.replace('\\n','').strip())+(' ('+dev.a['href'].strip('/')+')') for dev in devs]"
   ]
  },
  {
   "cell_type": "code",
   "execution_count": 6,
   "metadata": {},
   "outputs": [],
   "source": [
    "a=['1','2','3']\n",
    "b=['2','3','5']"
   ]
  },
  {
   "cell_type": "code",
   "execution_count": 8,
   "metadata": {},
   "outputs": [
    {
     "data": {
      "text/plain": [
       "[('1', '2'), ('2', '3'), ('3', '5')]"
      ]
     },
     "execution_count": 8,
     "metadata": {},
     "output_type": "execute_result"
    }
   ],
   "source": [
    "list(zip(a,b))"
   ]
  },
  {
   "cell_type": "code",
   "execution_count": 5,
   "metadata": {},
   "outputs": [
    {
     "data": {
      "text/plain": [
       "['Tim Paine (timkpaine)',\n",
       " 'Kyle Mathews (KyleAMathews)',\n",
       " 'XhmikosR (XhmikosR)',\n",
       " 'Forbes Lindesay (ForbesLindesay)',\n",
       " 'oznu (oznu)',\n",
       " 'Jethro Kuan (jethrokuan)',\n",
       " 'Hang Zhang (zhanghang1989)',\n",
       " 'Chris Banes (chrisbanes)',\n",
       " 'Whyrusleeping (whyrusleeping)',\n",
       " 'Florian Märkl (thestr4ng3r)',\n",
       " 'Hiroshi Kimura (muukii)',\n",
       " 'Bartlomiej Plotka (bwplotka)',\n",
       " 'William Candillon (wcandillon)',\n",
       " 'Sascha Grunert (saschagrunert)',\n",
       " 'Michiel Borkent (borkdude)',\n",
       " 'Said Tahsin Dane (tasomaniac)',\n",
       " 'Richard Schneeman (schneems)',\n",
       " 'Ingo Bürk (Airblader)',\n",
       " 'Maartje Eyskens (meyskens)',\n",
       " 'Stanislas (angristan)',\n",
       " 'Harsh Shandilya (msfjarvis)',\n",
       " 'Jason Miller (developit)',\n",
       " 'Yu Che (yuche)',\n",
       " 'Marten Seemann (marten-seemann)',\n",
       " 'Cristiano Calcagno (cristianoc)']"
      ]
     },
     "execution_count": 5,
     "metadata": {},
     "output_type": "execute_result"
    }
   ],
   "source": [
    "developers"
   ]
  },
  {
   "cell_type": "markdown",
   "metadata": {},
   "source": [
    "#### Display the trending Python repositories in GitHub\n",
    "\n",
    "The steps to solve this problem is similar to the previous one except that you need to find out the repository names instead of developer names."
   ]
  },
  {
   "cell_type": "code",
   "execution_count": 7,
   "metadata": {},
   "outputs": [],
   "source": [
    "# This is the url you will scrape in this exercise\n",
    "url = 'https://github.com/trending/python?since=daily'\n",
    "html=requests.get(url).content\n",
    "trep_soup=BeautifulSoup(html)\n",
    "reps=trep_soup.find_all('h1',{'class':'h3 lh-condensed'})\n",
    "repos=[rep.a['href'].strip('/') for rep in reps]"
   ]
  },
  {
   "cell_type": "code",
   "execution_count": 8,
   "metadata": {},
   "outputs": [
    {
     "data": {
      "text/plain": [
       "['podgorskiy/ALAE',\n",
       " 'timgrossmann/InstaPy',\n",
       " '3b1b/manim',\n",
       " 'TheAlgorithms/Python',\n",
       " 'donnemartin/system-design-primer',\n",
       " 'TachibanaYoshino/AnimeGAN',\n",
       " 'alexgand/springer_free_books',\n",
       " 'soimort/you-get',\n",
       " 'scikit-learn/scikit-learn',\n",
       " 'freqtrade/freqtrade',\n",
       " 'NVlabs/stylegan2',\n",
       " 'programthink/zhao',\n",
       " 'volatilityfoundation/volatility',\n",
       " 'Manisso/fsociety',\n",
       " 'PyTorchLightning/pytorch-lightning',\n",
       " 'OctoPrint/OctoPrint',\n",
       " 'iperov/DeepFaceLab',\n",
       " 'matplotlib/mplfinance',\n",
       " 'NVIDIA/apex',\n",
       " 'Alic-yuan/nlp-beginner-finish',\n",
       " 'commaai/comma10k',\n",
       " 'ycm-core/YouCompleteMe',\n",
       " 'apprenticeharper/DeDRM_tools',\n",
       " 'google-research/bert',\n",
       " 'neha-chawla/RandomPython']"
      ]
     },
     "execution_count": 8,
     "metadata": {},
     "output_type": "execute_result"
    }
   ],
   "source": [
    "repos"
   ]
  },
  {
   "cell_type": "markdown",
   "metadata": {},
   "source": [
    "#### Display all the image links from Walt Disney wikipedia page"
   ]
  },
  {
   "cell_type": "code",
   "execution_count": 9,
   "metadata": {},
   "outputs": [],
   "source": [
    "# This is the url you will scrape in this exercise\n",
    "url = 'https://en.wikipedia.org/wiki/Walt_Disney'\n",
    "html=requests.get(url).content\n",
    "wdimg_soup=BeautifulSoup(html)\n",
    "imgs=wdimg_soup.find_all('a',{'class':'image'})\n",
    "images=['https:'+img.img['src'] for img in imgs]"
   ]
  },
  {
   "cell_type": "code",
   "execution_count": 10,
   "metadata": {},
   "outputs": [
    {
     "data": {
      "text/plain": [
       "['https://upload.wikimedia.org/wikipedia/commons/thumb/d/df/Walt_Disney_1946.JPG/220px-Walt_Disney_1946.JPG',\n",
       " 'https://upload.wikimedia.org/wikipedia/commons/thumb/8/87/Walt_Disney_1942_signature.svg/150px-Walt_Disney_1942_signature.svg.png',\n",
       " 'https://upload.wikimedia.org/wikipedia/commons/thumb/c/c4/Walt_Disney_envelope_ca._1921.jpg/220px-Walt_Disney_envelope_ca._1921.jpg',\n",
       " 'https://upload.wikimedia.org/wikipedia/commons/thumb/0/0d/Trolley_Troubles_poster.jpg/170px-Trolley_Troubles_poster.jpg',\n",
       " 'https://upload.wikimedia.org/wikipedia/commons/thumb/7/71/Walt_Disney_and_his_cartoon_creation_%22Mickey_Mouse%22_-_National_Board_of_Review_Magazine.jpg/170px-Walt_Disney_and_his_cartoon_creation_%22Mickey_Mouse%22_-_National_Board_of_Review_Magazine.jpg',\n",
       " 'https://upload.wikimedia.org/wikipedia/en/thumb/4/4e/Steamboat-willie.jpg/170px-Steamboat-willie.jpg',\n",
       " 'https://upload.wikimedia.org/wikipedia/commons/thumb/5/57/Walt_Disney_1935.jpg/170px-Walt_Disney_1935.jpg',\n",
       " 'https://upload.wikimedia.org/wikipedia/commons/thumb/c/cd/Walt_Disney_Snow_white_1937_trailer_screenshot_%2813%29.jpg/220px-Walt_Disney_Snow_white_1937_trailer_screenshot_%2813%29.jpg',\n",
       " 'https://upload.wikimedia.org/wikipedia/commons/thumb/1/15/Disney_drawing_goofy.jpg/170px-Disney_drawing_goofy.jpg',\n",
       " 'https://upload.wikimedia.org/wikipedia/commons/thumb/1/13/DisneySchiphol1951.jpg/220px-DisneySchiphol1951.jpg',\n",
       " 'https://upload.wikimedia.org/wikipedia/commons/thumb/8/8c/WaltDisneyplansDisneylandDec1954.jpg/220px-WaltDisneyplansDisneylandDec1954.jpg',\n",
       " 'https://upload.wikimedia.org/wikipedia/commons/thumb/f/ff/Walt_disney_portrait_right.jpg/170px-Walt_disney_portrait_right.jpg',\n",
       " 'https://upload.wikimedia.org/wikipedia/commons/thumb/1/1a/Walt_Disney_Grave.JPG/170px-Walt_Disney_Grave.JPG',\n",
       " 'https://upload.wikimedia.org/wikipedia/commons/thumb/2/2d/Roy_O._Disney_with_Company_at_Press_Conference.jpg/170px-Roy_O._Disney_with_Company_at_Press_Conference.jpg',\n",
       " 'https://upload.wikimedia.org/wikipedia/commons/thumb/a/a9/Disney_Display_Case.JPG/170px-Disney_Display_Case.JPG',\n",
       " 'https://upload.wikimedia.org/wikipedia/commons/thumb/6/6c/Disney1968.jpg/170px-Disney1968.jpg',\n",
       " 'https://upload.wikimedia.org/wikipedia/commons/thumb/4/44/The_Walt_Disney_Company_Logo.svg/120px-The_Walt_Disney_Company_Logo.svg.png',\n",
       " 'https://upload.wikimedia.org/wikipedia/commons/thumb/d/da/Animation_disc.svg/30px-Animation_disc.svg.png',\n",
       " 'https://upload.wikimedia.org/wikipedia/en/thumb/6/69/P_vip.svg/29px-P_vip.svg.png',\n",
       " 'https://upload.wikimedia.org/wikipedia/commons/thumb/1/1a/Magic_Kingdom_castle.jpg/24px-Magic_Kingdom_castle.jpg',\n",
       " 'https://upload.wikimedia.org/wikipedia/en/thumb/e/e7/Video-x-generic.svg/30px-Video-x-generic.svg.png',\n",
       " 'https://upload.wikimedia.org/wikipedia/commons/thumb/a/a3/Flag_of_Los_Angeles_County%2C_California.svg/30px-Flag_of_Los_Angeles_County%2C_California.svg.png',\n",
       " 'https://upload.wikimedia.org/wikipedia/commons/thumb/8/8c/Blank_television_set.svg/30px-Blank_television_set.svg.png',\n",
       " 'https://upload.wikimedia.org/wikipedia/en/thumb/a/a4/Flag_of_the_United_States.svg/30px-Flag_of_the_United_States.svg.png']"
      ]
     },
     "execution_count": 10,
     "metadata": {},
     "output_type": "execute_result"
    }
   ],
   "source": [
    "images"
   ]
  },
  {
   "cell_type": "markdown",
   "metadata": {},
   "source": [
    "#### Retrieve an arbitary Wikipedia page of \"Python\" and create a list of links on that page"
   ]
  },
  {
   "cell_type": "code",
   "execution_count": 13,
   "metadata": {},
   "outputs": [],
   "source": [
    "# This is the url you will scrape in this exercise\n",
    "url ='https://en.wikipedia.org/wiki/Python' \n",
    "html=requests.get(url).content\n",
    "wpy_soup=BeautifulSoup(html)\n",
    "lks=wpy_soup.find_all('li')\n",
    "links=[lk.a['href'] for lk in lks if lk.a != None]\n",
    "#Add url if link references same page, add site if references different page within same site, add https if not included\n",
    "fixed_links=[url+link if link.startswith('#')\n",
    "             else 'https://en.wikipedia.org'+link  if link.startswith('/wiki') \n",
    "             else 'https:'+link if not link.startswith('https')\n",
    "             else link for link in links]"
   ]
  },
  {
   "cell_type": "code",
   "execution_count": 15,
   "metadata": {},
   "outputs": [
    {
     "data": {
      "text/plain": [
       "['https://en.wikipedia.org/wiki/Python#Snakes',\n",
       " 'https://en.wikipedia.org/wiki/Python#Ancient_Greece',\n",
       " 'https://en.wikipedia.org/wiki/Python#Media_and_entertainment',\n",
       " 'https://en.wikipedia.org/wiki/Python#Computing',\n",
       " 'https://en.wikipedia.org/wiki/Python#Engineering',\n",
       " 'https://en.wikipedia.org/wiki/Python#Roller_coasters',\n",
       " 'https://en.wikipedia.org/wiki/Python#Vehicles',\n",
       " 'https://en.wikipedia.org/wiki/Python#Weaponry',\n",
       " 'https://en.wikipedia.org/wiki/Python#People',\n",
       " 'https://en.wikipedia.org/wiki/Python#Other_uses',\n",
       " 'https://en.wikipedia.org/wiki/Python#See_also',\n",
       " 'https://en.wikipedia.org/wiki/Pythonidae',\n",
       " 'https://en.wikipedia.org/wiki/Python_(genus)',\n",
       " 'https://en.wikipedia.org/wiki/Python_(mythology)',\n",
       " 'https://en.wikipedia.org/wiki/Python_of_Aenus',\n",
       " 'https://en.wikipedia.org/wiki/Python_(painter)',\n",
       " 'https://en.wikipedia.org/wiki/Python_of_Byzantium',\n",
       " 'https://en.wikipedia.org/wiki/Python_of_Catana',\n",
       " 'https://en.wikipedia.org/wiki/Python_(film)',\n",
       " 'https://en.wikipedia.org/wiki/Pythons_2',\n",
       " 'https://en.wikipedia.org/wiki/Monty_Python',\n",
       " 'https://en.wikipedia.org/wiki/Python_(Monty)_Pictures',\n",
       " 'https://en.wikipedia.org/wiki/Python_(programming_language)',\n",
       " 'https://en.wikipedia.org/wiki/CPython',\n",
       " 'https://en.wikipedia.org/wiki/CMU_Common_Lisp',\n",
       " 'https://en.wikipedia.org/wiki/PERQ#PERQ_3',\n",
       " 'https://en.wikipedia.org/wiki/Python_(Busch_Gardens_Tampa_Bay)',\n",
       " 'https://en.wikipedia.org/wiki/Python_(Coney_Island,_Cincinnati,_Ohio)',\n",
       " 'https://en.wikipedia.org/wiki/Python_(Efteling)',\n",
       " 'https://en.wikipedia.org/wiki/Python_(automobile_maker)',\n",
       " 'https://en.wikipedia.org/wiki/Python_(Ford_prototype)',\n",
       " 'https://en.wikipedia.org/wiki/Colt_Python',\n",
       " 'https://en.wikipedia.org/wiki/Python_(missile)',\n",
       " 'https://en.wikipedia.org/wiki/Python_(nuclear_primary)',\n",
       " 'https://en.wikipedia.org/wiki/Python_Anghelo',\n",
       " 'https://en.wikipedia.org/wiki/PYTHON',\n",
       " 'https://en.wikipedia.org/wiki/Cython',\n",
       " 'https://en.wikipedia.org/wiki/Pyton',\n",
       " 'https://en.wikipedia.org/wiki/Category:Disambiguation_pages',\n",
       " 'https://en.wikipedia.org/wiki/Category:Disambiguation_pages_with_short_description',\n",
       " 'https://en.wikipedia.org/wiki/Category:All_article_disambiguation_pages',\n",
       " 'https://en.wikipedia.org/wiki/Category:All_disambiguation_pages',\n",
       " 'https://en.wikipedia.org/wiki/Category:Animal_common_name_disambiguation_pages',\n",
       " 'https://en.wikipedia.org/wiki/Special:MyTalk',\n",
       " 'https://en.wikipedia.org/wiki/Special:MyContributions',\n",
       " 'https:/w/index.php?title=Special:CreateAccount&returnto=Python',\n",
       " 'https:/w/index.php?title=Special:UserLogin&returnto=Python',\n",
       " 'https://en.wikipedia.org/wiki/Python',\n",
       " 'https://en.wikipedia.org/wiki/Talk:Python',\n",
       " 'https://en.wikipedia.org/wiki/Python',\n",
       " 'https:/w/index.php?title=Python&action=edit',\n",
       " 'https:/w/index.php?title=Python&action=history',\n",
       " 'https://en.wikipedia.org/wiki/Main_Page',\n",
       " 'https://en.wikipedia.org/wiki/Wikipedia:Contents',\n",
       " 'https://en.wikipedia.org/wiki/Wikipedia:Featured_content',\n",
       " 'https://en.wikipedia.org/wiki/Portal:Current_events',\n",
       " 'https://en.wikipedia.org/wiki/Special:Random',\n",
       " 'https://donate.wikimedia.org/wiki/Special:FundraiserRedirector?utm_source=donate&utm_medium=sidebar&utm_campaign=C13_en.wikipedia.org&uselang=en',\n",
       " 'https://shop.wikimedia.org',\n",
       " 'https://en.wikipedia.org/wiki/Help:Contents',\n",
       " 'https://en.wikipedia.org/wiki/Wikipedia:About',\n",
       " 'https://en.wikipedia.org/wiki/Wikipedia:Community_portal',\n",
       " 'https://en.wikipedia.org/wiki/Special:RecentChanges',\n",
       " 'https://en.wikipedia.org/wiki/Wikipedia:Contact_us',\n",
       " 'https://en.wikipedia.org/wiki/Special:WhatLinksHere/Python',\n",
       " 'https://en.wikipedia.org/wiki/Special:RecentChangesLinked/Python',\n",
       " 'https://en.wikipedia.org/wiki/Wikipedia:File_Upload_Wizard',\n",
       " 'https://en.wikipedia.org/wiki/Special:SpecialPages',\n",
       " 'https:/w/index.php?title=Python&oldid=943216744',\n",
       " 'https:/w/index.php?title=Python&action=info',\n",
       " 'https://www.wikidata.org/wiki/Special:EntityPage/Q747452',\n",
       " 'https:/w/index.php?title=Special:CiteThisPage&page=Python&id=943216744&wpFormIdentifier=titleform',\n",
       " 'https://commons.wikimedia.org/wiki/Category:Python',\n",
       " 'https:/w/index.php?title=Special:Book&bookcmd=book_creator&referer=Python',\n",
       " 'https:/w/index.php?title=Special:ElectronPdf&page=Python&action=show-download-screen',\n",
       " 'https:/w/index.php?title=Python&printable=yes',\n",
       " 'https://af.wikipedia.org/wiki/Python',\n",
       " 'https://als.wikipedia.org/wiki/Python',\n",
       " 'https://ar.wikipedia.org/wiki/%D8%A8%D8%A7%D9%8A%D8%AB%D9%88%D9%86',\n",
       " 'https://az.wikipedia.org/wiki/Python',\n",
       " 'https://bn.wikipedia.org/wiki/%E0%A6%AA%E0%A6%BE%E0%A6%87%E0%A6%A5%E0%A6%A8_(%E0%A6%A6%E0%A7%8D%E0%A6%AC%E0%A7%8D%E0%A6%AF%E0%A6%B0%E0%A7%8D%E0%A6%A5%E0%A6%A4%E0%A6%BE_%E0%A6%A8%E0%A6%BF%E0%A6%B0%E0%A6%B8%E0%A6%A8)',\n",
       " 'https://be.wikipedia.org/wiki/Python',\n",
       " 'https://bg.wikipedia.org/wiki/%D0%9F%D0%B8%D1%82%D0%BE%D0%BD_(%D0%BF%D0%BE%D1%8F%D1%81%D0%BD%D0%B5%D0%BD%D0%B8%D0%B5)',\n",
       " 'https://cs.wikipedia.org/wiki/Python_(rozcestn%C3%ADk)',\n",
       " 'https://da.wikipedia.org/wiki/Python',\n",
       " 'https://de.wikipedia.org/wiki/Python',\n",
       " 'https://eo.wikipedia.org/wiki/Pitono_(apartigilo)',\n",
       " 'https://eu.wikipedia.org/wiki/Python_(argipena)',\n",
       " 'https://fa.wikipedia.org/wiki/%D9%BE%D8%A7%DB%8C%D8%AA%D9%88%D9%86',\n",
       " 'https://fr.wikipedia.org/wiki/Python',\n",
       " 'https://ko.wikipedia.org/wiki/%ED%8C%8C%EC%9D%B4%EC%84%A0',\n",
       " 'https://hr.wikipedia.org/wiki/Python_(razdvojba)',\n",
       " 'https://io.wikipedia.org/wiki/Pitono',\n",
       " 'https://id.wikipedia.org/wiki/Python',\n",
       " 'https://ia.wikipedia.org/wiki/Python_(disambiguation)',\n",
       " 'https://is.wikipedia.org/wiki/Python_(a%C3%B0greining)',\n",
       " 'https://it.wikipedia.org/wiki/Python_(disambigua)',\n",
       " 'https://he.wikipedia.org/wiki/%D7%A4%D7%99%D7%AA%D7%95%D7%9F',\n",
       " 'https://ka.wikipedia.org/wiki/%E1%83%9E%E1%83%98%E1%83%97%E1%83%9D%E1%83%9C%E1%83%98_(%E1%83%9B%E1%83%A0%E1%83%90%E1%83%95%E1%83%90%E1%83%9A%E1%83%9B%E1%83%9C%E1%83%98%E1%83%A8%E1%83%95%E1%83%9C%E1%83%94%E1%83%9A%E1%83%9D%E1%83%95%E1%83%90%E1%83%9C%E1%83%98)',\n",
       " 'https://kg.wikipedia.org/wiki/Mboma_(nyoka)',\n",
       " 'https://la.wikipedia.org/wiki/Python_(discretiva)',\n",
       " 'https://lb.wikipedia.org/wiki/Python',\n",
       " 'https://hu.wikipedia.org/wiki/Python_(egy%C3%A9rtelm%C5%B1s%C3%ADt%C5%91_lap)',\n",
       " 'https://mr.wikipedia.org/wiki/%E0%A4%AA%E0%A4%BE%E0%A4%AF%E0%A4%A5%E0%A5%89%E0%A4%A8_(%E0%A4%86%E0%A4%9C%E0%A5%8D%E0%A4%9E%E0%A4%BE%E0%A4%B5%E0%A4%B2%E0%A5%80_%E0%A4%AD%E0%A4%BE%E0%A4%B7%E0%A4%BE)',\n",
       " 'https://nl.wikipedia.org/wiki/Python',\n",
       " 'https://ja.wikipedia.org/wiki/%E3%83%91%E3%82%A4%E3%82%BD%E3%83%B3',\n",
       " 'https://no.wikipedia.org/wiki/Pyton',\n",
       " 'https://pl.wikipedia.org/wiki/Pyton',\n",
       " 'https://pt.wikipedia.org/wiki/Python_(desambigua%C3%A7%C3%A3o)',\n",
       " 'https://ru.wikipedia.org/wiki/Python_(%D0%B7%D0%BD%D0%B0%D1%87%D0%B5%D0%BD%D0%B8%D1%8F)',\n",
       " 'https://sk.wikipedia.org/wiki/Python',\n",
       " 'https://sr.wikipedia.org/wiki/%D0%9F%D0%B8%D1%82%D0%BE%D0%BD_(%D0%B2%D0%B8%D1%88%D0%B5%D0%B7%D0%BD%D0%B0%D1%87%D0%BD%D0%B0_%D0%BE%D0%B4%D1%80%D0%B5%D0%B4%D0%BD%D0%B8%D1%86%D0%B0)',\n",
       " 'https://sh.wikipedia.org/wiki/Python',\n",
       " 'https://fi.wikipedia.org/wiki/Python',\n",
       " 'https://sv.wikipedia.org/wiki/Pyton',\n",
       " 'https://th.wikipedia.org/wiki/%E0%B9%84%E0%B8%9E%E0%B8%97%E0%B8%AD%E0%B8%99',\n",
       " 'https://tr.wikipedia.org/wiki/Python',\n",
       " 'https://uk.wikipedia.org/wiki/%D0%9F%D1%96%D1%84%D0%BE%D0%BD',\n",
       " 'https://ur.wikipedia.org/wiki/%D9%BE%D8%A7%D8%A6%DB%8C%D8%AA%DA%BE%D9%88%D9%86',\n",
       " 'https://vi.wikipedia.org/wiki/Python',\n",
       " 'https://zh.wikipedia.org/wiki/Python_(%E6%B6%88%E6%AD%A7%E4%B9%89)',\n",
       " 'https://en.wikipedia.org/wiki/Wikipedia:Text_of_Creative_Commons_Attribution-ShareAlike_3.0_Unported_License',\n",
       " 'https://foundation.wikimedia.org/wiki/Privacy_policy',\n",
       " 'https://en.wikipedia.org/wiki/Wikipedia:About',\n",
       " 'https://en.wikipedia.org/wiki/Wikipedia:General_disclaimer',\n",
       " 'https://en.wikipedia.org/wiki/Wikipedia:Contact_us',\n",
       " 'https://www.mediawiki.org/wiki/Special:MyLanguage/How_to_contribute',\n",
       " 'https://stats.wikimedia.org/#/en.wikipedia.org',\n",
       " 'https://foundation.wikimedia.org/wiki/Cookie_statement',\n",
       " 'https://en.m.wikipedia.org/w/index.php?title=Python&mobileaction=toggle_view_mobile',\n",
       " 'https://wikimediafoundation.org/',\n",
       " 'https://www.mediawiki.org/']"
      ]
     },
     "execution_count": 15,
     "metadata": {},
     "output_type": "execute_result"
    }
   ],
   "source": [
    "fixed_links"
   ]
  },
  {
   "cell_type": "markdown",
   "metadata": {},
   "source": [
    "#### Number of Titles that have changed in the United States Code since its last release point "
   ]
  },
  {
   "cell_type": "code",
   "execution_count": 20,
   "metadata": {},
   "outputs": [
    {
     "data": {
      "text/plain": [
       "['Title 10 - Armed Forces ٭', \"Title 38 - Veterans' Benefits ٭\"]"
      ]
     },
     "execution_count": 20,
     "metadata": {},
     "output_type": "execute_result"
    }
   ],
   "source": [
    "# This is the url you will scrape in this exercise\n",
    "url = 'http://uscode.house.gov/download/download.shtml'\n",
    "html=requests.get(url).content\n",
    "usc_soup=BeautifulSoup(html)\n",
    "chgd=usc_soup.find_all('div',{'class':\"usctitlechanged\"})\n",
    "changed=[x.text.replace('\\n','').strip() for x in chgd]\n",
    "changed"
   ]
  },
  {
   "cell_type": "code",
   "execution_count": 14,
   "metadata": {},
   "outputs": [],
   "source": [
    "num_titles=[re.findall('Title (\\d+)',title)[0] for title in changed]"
   ]
  },
  {
   "cell_type": "code",
   "execution_count": 15,
   "metadata": {},
   "outputs": [
    {
     "name": "stdout",
     "output_type": "stream",
     "text": [
      "Number of titles: 2\n",
      "Title list: ['10', '38']\n"
     ]
    }
   ],
   "source": [
    "print('Number of titles: {}\\nTitle list: {}'.format(len(num_titles),num_titles))"
   ]
  },
  {
   "cell_type": "markdown",
   "metadata": {},
   "source": [
    "#### A Python list with the top ten FBI's Most Wanted names "
   ]
  },
  {
   "cell_type": "code",
   "execution_count": 16,
   "metadata": {},
   "outputs": [],
   "source": [
    "# This is the url you will scrape in this exercise\n",
    "url = 'https://www.fbi.gov/wanted/topten'\n",
    "html=requests.get(url).content\n",
    "fbi_soup=BeautifulSoup(html)\n",
    "wanted=fbi_soup.find_all('h3',{'class':\"title\"})\n",
    "most_wanted=[top.text.strip('\\n') for top in wanted]"
   ]
  },
  {
   "cell_type": "code",
   "execution_count": 17,
   "metadata": {},
   "outputs": [
    {
     "data": {
      "text/plain": [
       "['ALEJANDRO ROSALES CASTILLO',\n",
       " 'ARNOLDO JIMENEZ',\n",
       " 'JASON DEREK BROWN',\n",
       " 'YASER ABDEL SAID',\n",
       " 'ALEXIS FLORES',\n",
       " 'EUGENE PALMER',\n",
       " 'SANTIAGO VILLALBA MEDEROS',\n",
       " 'RAFAEL CARO-QUINTERO',\n",
       " 'ROBERT WILLIAM FISHER',\n",
       " 'BHADRESHKUMAR CHETANBHAI PATEL']"
      ]
     },
     "execution_count": 17,
     "metadata": {},
     "output_type": "execute_result"
    }
   ],
   "source": [
    "most_wanted"
   ]
  },
  {
   "cell_type": "markdown",
   "metadata": {},
   "source": [
    "####  20 latest earthquakes info (date, time, latitude, longitude and region name) by the EMSC as a pandas dataframe"
   ]
  },
  {
   "cell_type": "code",
   "execution_count": 18,
   "metadata": {},
   "outputs": [],
   "source": [
    "# This is the url you will scrape in this exercise\n",
    "url = 'https://www.emsc-csem.org/Earthquake/'\n",
    "html=requests.get(url).content\n",
    "emsc_soup=BeautifulSoup(html)\n",
    "table=emsc_soup.find_all('tbody')\n",
    "rows=table[0].find_all('tr')\n",
    "rows=[row.text for row in rows if not re.fullmatch(' *',row.text)]\n",
    "rows=[re.sub('\\.\\d(.)','\\xa0',x) for x in rows]\n",
    "rows=[re.sub('ago','\\xa0',x) for x in rows]\n",
    "rows=[re.sub('quake','\\xa0',x) for x in rows]\n",
    "rows=[re.sub('\\\\B2020','\\xa0',x) for x in rows]\n",
    "rows=[re.sub('\\xa0\\xa0+','\\xa0',x).split('\\xa0') for x in rows]\n",
    "for row in rows:\n",
    "    for i in [4,6]:\n",
    "        row[i]=row[i]+' '+row[i+1]\n",
    "    for i in [0,3,5,7,8,10]:\n",
    "        row[i]=None\n",
    "rows=[[x for x in row if x] for row in rows]\n",
    "data=rows[:20]"
   ]
  },
  {
   "cell_type": "code",
   "execution_count": 19,
   "metadata": {},
   "outputs": [],
   "source": [
    "colnames=['date','time','latitude','longitude','region name']\n",
    "df = pd.DataFrame(data, columns=colnames)"
   ]
  },
  {
   "cell_type": "code",
   "execution_count": 20,
   "metadata": {},
   "outputs": [
    {
     "data": {
      "text/html": [
       "<div>\n",
       "<style scoped>\n",
       "    .dataframe tbody tr th:only-of-type {\n",
       "        vertical-align: middle;\n",
       "    }\n",
       "\n",
       "    .dataframe tbody tr th {\n",
       "        vertical-align: top;\n",
       "    }\n",
       "\n",
       "    .dataframe thead th {\n",
       "        text-align: right;\n",
       "    }\n",
       "</style>\n",
       "<table border=\"1\" class=\"dataframe\">\n",
       "  <thead>\n",
       "    <tr style=\"text-align: right;\">\n",
       "      <th></th>\n",
       "      <th>date</th>\n",
       "      <th>time</th>\n",
       "      <th>latitude</th>\n",
       "      <th>longitude</th>\n",
       "      <th>region name</th>\n",
       "    </tr>\n",
       "  </thead>\n",
       "  <tbody>\n",
       "    <tr>\n",
       "      <th>0</th>\n",
       "      <td>2020-05-05</td>\n",
       "      <td>04:30:40</td>\n",
       "      <td>19 N</td>\n",
       "      <td>155 W</td>\n",
       "      <td>ISLAND OF HAWAII, HAWAII</td>\n",
       "    </tr>\n",
       "    <tr>\n",
       "      <th>1</th>\n",
       "      <td>2020-05-05</td>\n",
       "      <td>04:05:06</td>\n",
       "      <td>2 S</td>\n",
       "      <td>121 E</td>\n",
       "      <td>SULAWESI, INDONESIA</td>\n",
       "    </tr>\n",
       "    <tr>\n",
       "      <th>2</th>\n",
       "      <td>2020-05-05</td>\n",
       "      <td>04:00:10</td>\n",
       "      <td>22 N</td>\n",
       "      <td>99 W</td>\n",
       "      <td>TAMAULIPAS, MEXICO</td>\n",
       "    </tr>\n",
       "    <tr>\n",
       "      <th>3</th>\n",
       "      <td>2020-05-05</td>\n",
       "      <td>03:54:14</td>\n",
       "      <td>15 N</td>\n",
       "      <td>93 W</td>\n",
       "      <td>OFFSHORE CHIAPAS, MEXICO</td>\n",
       "    </tr>\n",
       "    <tr>\n",
       "      <th>4</th>\n",
       "      <td>2020-05-05</td>\n",
       "      <td>03:41:01</td>\n",
       "      <td>17 N</td>\n",
       "      <td>66 W</td>\n",
       "      <td>PUERTO RICO REGION</td>\n",
       "    </tr>\n",
       "    <tr>\n",
       "      <th>5</th>\n",
       "      <td>2020-05-05</td>\n",
       "      <td>03:39:11</td>\n",
       "      <td>19 N</td>\n",
       "      <td>155 W</td>\n",
       "      <td>ISLAND OF HAWAII, HAWAII</td>\n",
       "    </tr>\n",
       "    <tr>\n",
       "      <th>6</th>\n",
       "      <td>2020-05-05</td>\n",
       "      <td>03:20:35</td>\n",
       "      <td>34 N</td>\n",
       "      <td>25 E</td>\n",
       "      <td>CRETE, GREECE</td>\n",
       "    </tr>\n",
       "    <tr>\n",
       "      <th>7</th>\n",
       "      <td>2020-05-05</td>\n",
       "      <td>03:12:47</td>\n",
       "      <td>18 N</td>\n",
       "      <td>66 W</td>\n",
       "      <td>PUERTO RICO</td>\n",
       "    </tr>\n",
       "    <tr>\n",
       "      <th>8</th>\n",
       "      <td>2020-05-05</td>\n",
       "      <td>03:08:54</td>\n",
       "      <td>0 N</td>\n",
       "      <td>100 E</td>\n",
       "      <td>NORTHERN SUMATRA, INDONESIA</td>\n",
       "    </tr>\n",
       "    <tr>\n",
       "      <th>9</th>\n",
       "      <td>2020-05-05</td>\n",
       "      <td>02:59:23</td>\n",
       "      <td>24 S</td>\n",
       "      <td>69 W</td>\n",
       "      <td>ANTOFAGASTA, CHILE</td>\n",
       "    </tr>\n",
       "    <tr>\n",
       "      <th>10</th>\n",
       "      <td>2020-05-05</td>\n",
       "      <td>02:56:28</td>\n",
       "      <td>5 N</td>\n",
       "      <td>127 E</td>\n",
       "      <td>PHILIPPINE ISLANDS REGION</td>\n",
       "    </tr>\n",
       "    <tr>\n",
       "      <th>11</th>\n",
       "      <td>2020-05-05</td>\n",
       "      <td>02:41:53</td>\n",
       "      <td>21 S</td>\n",
       "      <td>68 W</td>\n",
       "      <td>ANTOFAGASTA, CHILE</td>\n",
       "    </tr>\n",
       "    <tr>\n",
       "      <th>12</th>\n",
       "      <td>2020-05-05</td>\n",
       "      <td>02:18:45</td>\n",
       "      <td>23 S</td>\n",
       "      <td>66 W</td>\n",
       "      <td>JUJUY, ARGENTINA</td>\n",
       "    </tr>\n",
       "    <tr>\n",
       "      <th>13</th>\n",
       "      <td>2020-05-05</td>\n",
       "      <td>02:05:38</td>\n",
       "      <td>42 N</td>\n",
       "      <td>13 E</td>\n",
       "      <td>CENTRAL ITALY</td>\n",
       "    </tr>\n",
       "    <tr>\n",
       "      <th>14</th>\n",
       "      <td>2020-05-05</td>\n",
       "      <td>02:04:56</td>\n",
       "      <td>36 N</td>\n",
       "      <td>98 W</td>\n",
       "      <td>OKLAHOMA</td>\n",
       "    </tr>\n",
       "    <tr>\n",
       "      <th>15</th>\n",
       "      <td>2020-05-05</td>\n",
       "      <td>02:03:41</td>\n",
       "      <td>34 N</td>\n",
       "      <td>45 E</td>\n",
       "      <td>IRAN-IRAQ BORDER REGION</td>\n",
       "    </tr>\n",
       "    <tr>\n",
       "      <th>16</th>\n",
       "      <td>2020-05-05</td>\n",
       "      <td>01:59:16</td>\n",
       "      <td>19 N</td>\n",
       "      <td>155 W</td>\n",
       "      <td>ISLAND OF HAWAII, HAWAII</td>\n",
       "    </tr>\n",
       "    <tr>\n",
       "      <th>17</th>\n",
       "      <td>2020-05-05</td>\n",
       "      <td>01:55:43</td>\n",
       "      <td>17 N</td>\n",
       "      <td>66 W</td>\n",
       "      <td>PUERTO RICO REGION</td>\n",
       "    </tr>\n",
       "    <tr>\n",
       "      <th>18</th>\n",
       "      <td>2020-05-05</td>\n",
       "      <td>01:54:47</td>\n",
       "      <td>15 N</td>\n",
       "      <td>98 W</td>\n",
       "      <td>OFFSHORE GUERRERO, MEXICO</td>\n",
       "    </tr>\n",
       "    <tr>\n",
       "      <th>19</th>\n",
       "      <td>2020-05-05</td>\n",
       "      <td>01:03:54</td>\n",
       "      <td>29 N</td>\n",
       "      <td>14 W</td>\n",
       "      <td>CANARY ISLANDS, SPAIN REGION</td>\n",
       "    </tr>\n",
       "  </tbody>\n",
       "</table>\n",
       "</div>"
      ],
      "text/plain": [
       "          date      time latitude longitude                   region name\n",
       "0   2020-05-05  04:30:40     19 N     155 W      ISLAND OF HAWAII, HAWAII\n",
       "1   2020-05-05  04:05:06      2 S     121 E           SULAWESI, INDONESIA\n",
       "2   2020-05-05  04:00:10     22 N      99 W            TAMAULIPAS, MEXICO\n",
       "3   2020-05-05  03:54:14     15 N      93 W      OFFSHORE CHIAPAS, MEXICO\n",
       "4   2020-05-05  03:41:01     17 N      66 W            PUERTO RICO REGION\n",
       "5   2020-05-05  03:39:11     19 N     155 W      ISLAND OF HAWAII, HAWAII\n",
       "6   2020-05-05  03:20:35     34 N      25 E                 CRETE, GREECE\n",
       "7   2020-05-05  03:12:47     18 N      66 W                   PUERTO RICO\n",
       "8   2020-05-05  03:08:54      0 N     100 E   NORTHERN SUMATRA, INDONESIA\n",
       "9   2020-05-05  02:59:23     24 S      69 W            ANTOFAGASTA, CHILE\n",
       "10  2020-05-05  02:56:28      5 N     127 E     PHILIPPINE ISLANDS REGION\n",
       "11  2020-05-05  02:41:53     21 S      68 W            ANTOFAGASTA, CHILE\n",
       "12  2020-05-05  02:18:45     23 S      66 W              JUJUY, ARGENTINA\n",
       "13  2020-05-05  02:05:38     42 N      13 E                 CENTRAL ITALY\n",
       "14  2020-05-05  02:04:56     36 N      98 W                      OKLAHOMA\n",
       "15  2020-05-05  02:03:41     34 N      45 E       IRAN-IRAQ BORDER REGION\n",
       "16  2020-05-05  01:59:16     19 N     155 W      ISLAND OF HAWAII, HAWAII\n",
       "17  2020-05-05  01:55:43     17 N      66 W            PUERTO RICO REGION\n",
       "18  2020-05-05  01:54:47     15 N      98 W     OFFSHORE GUERRERO, MEXICO\n",
       "19  2020-05-05  01:03:54     29 N      14 W  CANARY ISLANDS, SPAIN REGION"
      ]
     },
     "execution_count": 20,
     "metadata": {},
     "output_type": "execute_result"
    }
   ],
   "source": [
    "#date and time UTC\n",
    "df"
   ]
  },
  {
   "cell_type": "markdown",
   "metadata": {},
   "source": [
    "#### Display the date, days, title, city, country of next 25 hackathon events as a Pandas dataframe table"
   ]
  },
  {
   "cell_type": "code",
   "execution_count": 200,
   "metadata": {},
   "outputs": [],
   "source": [
    "# This is the url you will scrape in this exercise\n",
    "url = 'https://www.mlh.io/seasons/na-2020/events'\n",
    "html=requests.get(url).content\n",
    "hck_soup=BeautifulSoup(html)\n",
    "events=hck_soup.find_all('div',{'class':'event'})\n",
    "events=[re.sub('[\\s\\S]*DIGITAL','',event.text) for event in events]\n",
    "events=[re.sub('HIGH SCHOOL','',event) for event in events]\n",
    "events=[re.sub(',','',event) for event in events]\n",
    "data=[re.sub('\\n+ *','\\n',event).strip('\\n').split('\\n') for event in events]"
   ]
  },
  {
   "cell_type": "code",
   "execution_count": 201,
   "metadata": {},
   "outputs": [],
   "source": [
    "colnames=['title','date','city','country/state']\n",
    "df_hack=pd.DataFrame(data, columns=colnames)"
   ]
  },
  {
   "cell_type": "code",
   "execution_count": 205,
   "metadata": {},
   "outputs": [
    {
     "data": {
      "text/html": [
       "<div>\n",
       "<style scoped>\n",
       "    .dataframe tbody tr th:only-of-type {\n",
       "        vertical-align: middle;\n",
       "    }\n",
       "\n",
       "    .dataframe tbody tr th {\n",
       "        vertical-align: top;\n",
       "    }\n",
       "\n",
       "    .dataframe thead th {\n",
       "        text-align: right;\n",
       "    }\n",
       "</style>\n",
       "<table border=\"1\" class=\"dataframe\">\n",
       "  <thead>\n",
       "    <tr style=\"text-align: right;\">\n",
       "      <th></th>\n",
       "      <th>title</th>\n",
       "      <th>date</th>\n",
       "      <th>city</th>\n",
       "      <th>country/state</th>\n",
       "    </tr>\n",
       "  </thead>\n",
       "  <tbody>\n",
       "    <tr>\n",
       "      <th>0</th>\n",
       "      <td>Hacklarious</td>\n",
       "      <td>May 9th - 10th</td>\n",
       "      <td>Everywhere</td>\n",
       "      <td>Worldwide</td>\n",
       "    </tr>\n",
       "    <tr>\n",
       "      <th>1</th>\n",
       "      <td>RU Hacks</td>\n",
       "      <td>May 15th - 17th</td>\n",
       "      <td>Toronto</td>\n",
       "      <td>ON</td>\n",
       "    </tr>\n",
       "    <tr>\n",
       "      <th>2</th>\n",
       "      <td>Hack the Chain</td>\n",
       "      <td>May 16th - 17th</td>\n",
       "      <td>Everywhere</td>\n",
       "      <td>Worldwide</td>\n",
       "    </tr>\n",
       "    <tr>\n",
       "      <th>3</th>\n",
       "      <td>hths.hacks()</td>\n",
       "      <td>May 16th - 17th</td>\n",
       "      <td>Lincroft</td>\n",
       "      <td>NJ</td>\n",
       "    </tr>\n",
       "    <tr>\n",
       "      <th>4</th>\n",
       "      <td>BackyardHacks</td>\n",
       "      <td>May 23rd - 24th</td>\n",
       "      <td>Everywhere</td>\n",
       "      <td>Worldwide</td>\n",
       "    </tr>\n",
       "    <tr>\n",
       "      <th>5</th>\n",
       "      <td>HackMTY</td>\n",
       "      <td>Aug 24th - 25th</td>\n",
       "      <td>Monterrey</td>\n",
       "      <td>MX</td>\n",
       "    </tr>\n",
       "    <tr>\n",
       "      <th>6</th>\n",
       "      <td>Citizen Hacks</td>\n",
       "      <td>Sep 6th - 8th</td>\n",
       "      <td>Toronto</td>\n",
       "      <td>ON</td>\n",
       "    </tr>\n",
       "    <tr>\n",
       "      <th>7</th>\n",
       "      <td>PennApps</td>\n",
       "      <td>Sep 6th - 8th</td>\n",
       "      <td>Philadelphia</td>\n",
       "      <td>PA</td>\n",
       "    </tr>\n",
       "    <tr>\n",
       "      <th>8</th>\n",
       "      <td>Hackathon de Futuras Tecnologías</td>\n",
       "      <td>Sep 7th - 8th</td>\n",
       "      <td>Torreón</td>\n",
       "      <td>MX</td>\n",
       "    </tr>\n",
       "    <tr>\n",
       "      <th>9</th>\n",
       "      <td>Hack the North</td>\n",
       "      <td>Sep 13th - 15th</td>\n",
       "      <td>Waterloo</td>\n",
       "      <td>ON</td>\n",
       "    </tr>\n",
       "    <tr>\n",
       "      <th>10</th>\n",
       "      <td>HopHacks</td>\n",
       "      <td>Sep 13th - 15th</td>\n",
       "      <td>Baltimore</td>\n",
       "      <td>MD</td>\n",
       "    </tr>\n",
       "    <tr>\n",
       "      <th>11</th>\n",
       "      <td>BigRed//Hacks</td>\n",
       "      <td>Sep 20th - 22nd</td>\n",
       "      <td>Ithaca</td>\n",
       "      <td>NY</td>\n",
       "    </tr>\n",
       "    <tr>\n",
       "      <th>12</th>\n",
       "      <td>HackRice</td>\n",
       "      <td>Sep 20th - 21st</td>\n",
       "      <td>Houston</td>\n",
       "      <td>TX</td>\n",
       "    </tr>\n",
       "    <tr>\n",
       "      <th>13</th>\n",
       "      <td>SBUHacks</td>\n",
       "      <td>Sep 20th - 21st</td>\n",
       "      <td>Stony Brook</td>\n",
       "      <td>NY</td>\n",
       "    </tr>\n",
       "    <tr>\n",
       "      <th>14</th>\n",
       "      <td>ShellHacks</td>\n",
       "      <td>Sep 20th - 22nd</td>\n",
       "      <td>Miami</td>\n",
       "      <td>FL</td>\n",
       "    </tr>\n",
       "    <tr>\n",
       "      <th>15</th>\n",
       "      <td>sunhacks</td>\n",
       "      <td>Sep 20th - 22nd</td>\n",
       "      <td>Tempe</td>\n",
       "      <td>AZ</td>\n",
       "    </tr>\n",
       "    <tr>\n",
       "      <th>16</th>\n",
       "      <td>Kent Hack Enough</td>\n",
       "      <td>Sep 27th - 29th</td>\n",
       "      <td>Kent</td>\n",
       "      <td>OH</td>\n",
       "    </tr>\n",
       "    <tr>\n",
       "      <th>17</th>\n",
       "      <td>MedHacks</td>\n",
       "      <td>Sep 27th - 29th</td>\n",
       "      <td>Baltimore</td>\n",
       "      <td>MD</td>\n",
       "    </tr>\n",
       "    <tr>\n",
       "      <th>18</th>\n",
       "      <td>VolHacks</td>\n",
       "      <td>Sep 27th - 29th</td>\n",
       "      <td>Knoxville</td>\n",
       "      <td>TN</td>\n",
       "    </tr>\n",
       "    <tr>\n",
       "      <th>19</th>\n",
       "      <td>GirlHacks</td>\n",
       "      <td>Sep 28th - 29th</td>\n",
       "      <td>Newark</td>\n",
       "      <td>NJ</td>\n",
       "    </tr>\n",
       "    <tr>\n",
       "      <th>20</th>\n",
       "      <td>GrizzHacks 4</td>\n",
       "      <td>Sep 28th - 29th</td>\n",
       "      <td>Rochester</td>\n",
       "      <td>MI</td>\n",
       "    </tr>\n",
       "    <tr>\n",
       "      <th>21</th>\n",
       "      <td>hackNY</td>\n",
       "      <td>Sep 28th - 29th</td>\n",
       "      <td>New York City</td>\n",
       "      <td>NY</td>\n",
       "    </tr>\n",
       "    <tr>\n",
       "      <th>22</th>\n",
       "      <td>HackUMBC</td>\n",
       "      <td>Sep 28th - 29th</td>\n",
       "      <td>Baltimore</td>\n",
       "      <td>MD</td>\n",
       "    </tr>\n",
       "    <tr>\n",
       "      <th>23</th>\n",
       "      <td>RamHacks</td>\n",
       "      <td>Sep 28th - 29th</td>\n",
       "      <td>Richmond</td>\n",
       "      <td>VA</td>\n",
       "    </tr>\n",
       "    <tr>\n",
       "      <th>24</th>\n",
       "      <td>HackTheU</td>\n",
       "      <td>Oct 5th - 6th</td>\n",
       "      <td>Salt Lake City</td>\n",
       "      <td>UT</td>\n",
       "    </tr>\n",
       "  </tbody>\n",
       "</table>\n",
       "</div>"
      ],
      "text/plain": [
       "                                title             date            city  \\\n",
       "0                         Hacklarious   May 9th - 10th      Everywhere   \n",
       "1                            RU Hacks  May 15th - 17th         Toronto   \n",
       "2                      Hack the Chain  May 16th - 17th      Everywhere   \n",
       "3                        hths.hacks()  May 16th - 17th        Lincroft   \n",
       "4                       BackyardHacks  May 23rd - 24th      Everywhere   \n",
       "5                             HackMTY  Aug 24th - 25th       Monterrey   \n",
       "6                       Citizen Hacks    Sep 6th - 8th         Toronto   \n",
       "7                            PennApps    Sep 6th - 8th    Philadelphia   \n",
       "8   Hackathon de Futuras Tecnologías     Sep 7th - 8th         Torreón   \n",
       "9                      Hack the North  Sep 13th - 15th        Waterloo   \n",
       "10                           HopHacks  Sep 13th - 15th       Baltimore   \n",
       "11                      BigRed//Hacks  Sep 20th - 22nd          Ithaca   \n",
       "12                           HackRice  Sep 20th - 21st         Houston   \n",
       "13                          SBUHacks   Sep 20th - 21st     Stony Brook   \n",
       "14                         ShellHacks  Sep 20th - 22nd           Miami   \n",
       "15                           sunhacks  Sep 20th - 22nd           Tempe   \n",
       "16                   Kent Hack Enough  Sep 27th - 29th            Kent   \n",
       "17                           MedHacks  Sep 27th - 29th       Baltimore   \n",
       "18                           VolHacks  Sep 27th - 29th       Knoxville   \n",
       "19                          GirlHacks  Sep 28th - 29th          Newark   \n",
       "20                       GrizzHacks 4  Sep 28th - 29th       Rochester   \n",
       "21                             hackNY  Sep 28th - 29th   New York City   \n",
       "22                           HackUMBC  Sep 28th - 29th       Baltimore   \n",
       "23                           RamHacks  Sep 28th - 29th        Richmond   \n",
       "24                           HackTheU    Oct 5th - 6th  Salt Lake City   \n",
       "\n",
       "   country/state  \n",
       "0      Worldwide  \n",
       "1             ON  \n",
       "2      Worldwide  \n",
       "3             NJ  \n",
       "4      Worldwide  \n",
       "5             MX  \n",
       "6             ON  \n",
       "7             PA  \n",
       "8             MX  \n",
       "9             ON  \n",
       "10            MD  \n",
       "11            NY  \n",
       "12            TX  \n",
       "13            NY  \n",
       "14            FL  \n",
       "15            AZ  \n",
       "16            OH  \n",
       "17            MD  \n",
       "18            TN  \n",
       "19            NJ  \n",
       "20            MI  \n",
       "21            NY  \n",
       "22            MD  \n",
       "23            VA  \n",
       "24            UT  "
      ]
     },
     "execution_count": 205,
     "metadata": {},
     "output_type": "execute_result"
    }
   ],
   "source": [
    "df_hack.head(25)"
   ]
  },
  {
   "cell_type": "markdown",
   "metadata": {},
   "source": [
    "#### Count number of tweets by a given Twitter account."
   ]
  },
  {
   "cell_type": "markdown",
   "metadata": {},
   "source": [
    "You will need to include a ***try/except block*** for account names not found. \n",
    "<br>***Hint:*** the program should count the number of tweets for any provided account"
   ]
  },
  {
   "cell_type": "code",
   "execution_count": 24,
   "metadata": {},
   "outputs": [
    {
     "name": "stdout",
     "output_type": "stream",
     "text": [
      "13.065 Tweets\n"
     ]
    }
   ],
   "source": [
    "# This is the url you will scrape in this exercise \n",
    "# You will need to add the account credentials to this url\n",
    "#username= DfssafSdfsda try 0 tweets\n",
    "username='goodbeanalt'\n",
    "url = 'https://twitter.com/'+username\n",
    "html=requests.get(url).content\n",
    "twi_soup=BeautifulSoup(html)\n",
    "try:\n",
    "    profile_info=twi_soup.select('.ProfileNav')[0]\n",
    "    for x in profile_info.find_all('a'):\n",
    "        try:\n",
    "            a=x.get('title')\n",
    "            if re.findall('Tweets',a):\n",
    "                print(a)\n",
    "                status=1\n",
    "                break\n",
    "        except:\n",
    "            status=0\n",
    "    if not status:\n",
    "        print('0 Tweets')\n",
    "except:\n",
    "    print('Account not found')"
   ]
  },
  {
   "cell_type": "markdown",
   "metadata": {},
   "source": [
    "#### Number of followers of a given twitter account"
   ]
  },
  {
   "cell_type": "markdown",
   "metadata": {},
   "source": [
    "You will need to include a ***try/except block*** in case account/s name not found. \n",
    "<br>***Hint:*** the program should count the followers for any provided account"
   ]
  },
  {
   "cell_type": "code",
   "execution_count": 25,
   "metadata": {},
   "outputs": [
    {
     "name": "stdout",
     "output_type": "stream",
     "text": [
      "Total followers:656 mil\n"
     ]
    }
   ],
   "source": [
    "# This is the url you will scrape in this exercise \n",
    "# You will need to add the account credentials to this url\n",
    "username='goodbeanalt'\n",
    "url = 'https://twitter.com/'+username\n",
    "html=requests.get(url).content\n",
    "twi_soup=BeautifulSoup(html)\n",
    "follows=twi_soup.find_all('a',{'href':'/'+username+'/followers'})\n",
    "try:\n",
    "    num_followers=re.findall('\\d+.*',follows[0].text)\n",
    "    print('Total followers:{}'.format(num_followers[0]))\n",
    "except:\n",
    "    print('Account not found')"
   ]
  },
  {
   "cell_type": "code",
   "execution_count": 26,
   "metadata": {},
   "outputs": [
    {
     "name": "stdout",
     "output_type": "stream",
     "text": [
      "655.991 Seguidores\n"
     ]
    }
   ],
   "source": [
    "#Better?\n",
    "#username= DfssafSdfsda try 0 followers\n",
    "username='goodbeanalt'\n",
    "url = 'https://twitter.com/'+username\n",
    "html=requests.get(url).content\n",
    "twi_soup=BeautifulSoup(html)\n",
    "try:\n",
    "    profile_info=twi_soup.select('.ProfileNav')[0]\n",
    "    for x in profile_info.find_all('a'):\n",
    "        try:\n",
    "            a=x.get('title')\n",
    "            if re.findall('Seguidores|Followers',a):\n",
    "                print(a)\n",
    "                status=1\n",
    "                break\n",
    "        except:\n",
    "            status=0\n",
    "    if not status:\n",
    "        print('0 Seguidores')\n",
    "except:\n",
    "    print('Account not found')"
   ]
  },
  {
   "cell_type": "markdown",
   "metadata": {},
   "source": [
    "#### List all language names and number of related articles in the order they appear in wikipedia.org"
   ]
  },
  {
   "cell_type": "code",
   "execution_count": 38,
   "metadata": {},
   "outputs": [],
   "source": [
    "# This is the url you will scrape in this exercise\n",
    "url = 'https://www.wikipedia.org/'\n",
    "html=requests.get(url).content\n",
    "wiki_soup=BeautifulSoup(html)\n",
    "langs=wiki_soup.find_all('div',{'class':'central-featured-lang'})\n",
    "languages=[re.sub('\\xa0',' ',lang.text.strip('\\n')).split('\\n') for lang in langs]\n",
    "lang_clean=[[re.sub('\\+.*','+',y) for y in sub_list] for sub_list in languages]\n",
    "df_langs=pd.DataFrame(lang_clean,columns=['Language','Articles'])"
   ]
  },
  {
   "cell_type": "code",
   "execution_count": 377,
   "metadata": {},
   "outputs": [
    {
     "data": {
      "text/plain": [
       "False"
      ]
     },
     "execution_count": 377,
     "metadata": {},
     "output_type": "execute_result"
    }
   ],
   "source": [
    "df_langs['Language'].duplicated()[0]"
   ]
  },
  {
   "cell_type": "markdown",
   "metadata": {},
   "source": [
    "#### A list with the different kind of datasets available in data.gov.uk "
   ]
  },
  {
   "cell_type": "code",
   "execution_count": 40,
   "metadata": {},
   "outputs": [],
   "source": [
    "# This is the url you will scrape in this exercise\n",
    "url = 'https://data.gov.uk/'\n",
    "html=requests.get(url).content\n",
    "data_soup=BeautifulSoup(html)\n",
    "kinds=data_soup.find_all('h2')\n",
    "data_kinds=[x.text for x in kinds]"
   ]
  },
  {
   "cell_type": "code",
   "execution_count": 41,
   "metadata": {},
   "outputs": [
    {
     "data": {
      "text/plain": [
       "['Business and economy',\n",
       " 'Crime and justice',\n",
       " 'Defence',\n",
       " 'Education',\n",
       " 'Environment',\n",
       " 'Government',\n",
       " 'Government spending',\n",
       " 'Health',\n",
       " 'Mapping',\n",
       " 'Society',\n",
       " 'Towns and cities',\n",
       " 'Transport']"
      ]
     },
     "execution_count": 41,
     "metadata": {},
     "output_type": "execute_result"
    }
   ],
   "source": [
    "data_kinds"
   ]
  },
  {
   "cell_type": "markdown",
   "metadata": {},
   "source": [
    "#### Top 10 languages by number of native speakers stored in a Pandas Dataframe"
   ]
  },
  {
   "cell_type": "code",
   "execution_count": 42,
   "metadata": {},
   "outputs": [],
   "source": [
    "# This is the url you will scrape in this exercise\n",
    "url = 'https://en.wikipedia.org/wiki/List_of_languages_by_number_of_native_speakers'\n",
    "html=requests.get(url).content\n",
    "top_lang_soup=BeautifulSoup(html)\n",
    "top_langs=top_lang_soup.find('table',{'class':'sortable'})\n",
    "rows= top_langs.find_all('tr')\n",
    "top_languages=[row.find('a').text for row in rows[1:]][:10]"
   ]
  },
  {
   "cell_type": "code",
   "execution_count": 43,
   "metadata": {},
   "outputs": [
    {
     "data": {
      "text/plain": [
       "['Mandarin Chinese',\n",
       " 'Spanish',\n",
       " 'English',\n",
       " 'Hindi',\n",
       " 'Bengali',\n",
       " 'Portuguese',\n",
       " 'Russian',\n",
       " 'Japanese',\n",
       " 'Western Punjabi',\n",
       " 'Marathi']"
      ]
     },
     "execution_count": 43,
     "metadata": {},
     "output_type": "execute_result"
    }
   ],
   "source": [
    "top_languages"
   ]
  },
  {
   "cell_type": "markdown",
   "metadata": {},
   "source": [
    "### BONUS QUESTIONS"
   ]
  },
  {
   "cell_type": "markdown",
   "metadata": {},
   "source": [
    "#### Scrape a certain number of tweets of a given Twitter account."
   ]
  },
  {
   "cell_type": "code",
   "execution_count": 131,
   "metadata": {},
   "outputs": [],
   "source": [
    "# This is the url you will scrape in this exercise \n",
    "# You will need to add the account credentials to this url\n",
    "username='goodbeanalt'\n",
    "url = 'https://twitter.com/'+username\n",
    "html=requests.get(url).content\n",
    "twi_soup=BeautifulSoup(html)\n",
    "try:\n",
    "    profile_info=twi_soup.select('.ProfileNav')[0]\n",
    "    tweets=[re.sub('\\xa0',' ',x.text).strip('\\n') for x in twi_soup.select('.js-tweet-text')]\n",
    "    tweets=[re.sub('\\n',' ',x) for x in tweets]\n",
    "except:\n",
    "    print('Account not found')"
   ]
  },
  {
   "cell_type": "code",
   "execution_count": 132,
   "metadata": {},
   "outputs": [
    {
     "data": {
      "text/plain": [
       "['Warning: I’m gonna sometimes tweet about not beans',\n",
       " 'asking me to “tweet more” is like asking galileo to “paint more starry nights” or einstein “make more e=mc^2”. these things take time. art is a process. my keyboard is the brush, my thoughts the paint, and the timeline my canvas. ',\n",
       " '',\n",
       " 'what does an astronaut put on their toastpic.twitter.com/h88h55iMUv',\n",
       " 'political mfs be like “im left” and “im right” but don’t understand that she left you because you didn’t treat her right',\n",
       " 'just had a realization. chance went from looking up at the rap game, to staring it in the face, to looking down on it. then he did one with the clear cd and the hot shower thingpic.twitter.com/gcA3umPMqq',\n",
       " 'alright “covid” you had your little pandemic but now it’s time to go. your 15 seconds of fame is up. we’ve moved on',\n",
       " 'guy like me wouldn’t let them in but it’s out of my hands now. sorry everyonehttps://twitter.com/nypost/status/1257063708213358592 …',\n",
       " 'if I was 77+33 I would simply equal 100',\n",
       " 'my worst habit is doing things backwards. in other words my biggest vice is versa',\n",
       " 'while we’re on the topic of stupid multiplications it’s bullshit that 4x7 equals 28. that’s always pissed me off',\n",
       " 'girls be like I’m social distancing I’m just with my sorority sisters and we’re basically real life sisters so it’s ok',\n",
       " 'spoons be like',\n",
       " 'ok https://twitter.com/cinnderellaaa_/status/1256305289315270656 …',\n",
       " 'none of them I sit in bed butt ass naked eating lucky charms while I watch conspiracy YouTube videos until 5 amhttps://twitter.com/mlledior_/status/1256309503315886081 …',\n",
       " 'yeah michael and jello were cool dudes but a guy like me would’ve painted 17 chapels',\n",
       " 'british ppl be like idk if im busy that day let me check mypic.twitter.com/lhoXnC6wkx',\n",
       " 'when you’re stuck in quarantine you go on walks. when you go on walks you listen to music. when you listen to music you use.....juke buds!  use code BEANS for 20% off your juke buds purchase  https://JukeBuds.com pic.twitter.com/jT63VMtuo0',\n",
       " 'me: this melatonin ain’t shit  me 17 seconds later:pic.twitter.com/K4a3Sd6i7w',\n",
       " 'about to take a melatonin I am prepared to see god',\n",
       " 'well let me let you in on a little secret - ITS NOT GONNA HAPPEN']"
      ]
     },
     "execution_count": 132,
     "metadata": {},
     "output_type": "execute_result"
    }
   ],
   "source": [
    "tweets"
   ]
  },
  {
   "cell_type": "markdown",
   "metadata": {},
   "source": [
    "#### IMDB's Top 250 data (movie name, Initial release, director name and stars) as a pandas dataframe"
   ]
  },
  {
   "cell_type": "code",
   "execution_count": 2,
   "metadata": {},
   "outputs": [],
   "source": [
    "# This is the url you will scrape in this exercise \n",
    "url = 'https://www.imdb.com/chart/top'\n",
    "html=requests.get(url).content\n",
    "imdb_soup=BeautifulSoup(html)\n",
    "titles=[x.a.text for x in imdb_soup.select('.titleColumn')]\n",
    "links=['https://www.imdb.com/'+x.a['href'] for x in imdb_soup.select('.titleColumn')]\n",
    "releases=[x.span.text.strip('[()]') for x in imdb_soup.select('.titleColumn')]\n",
    "directors=[re.findall('(.*) \\(dir.\\)',x.a['title'])[0] for x in imdb_soup.select('.titleColumn')]\n",
    "ratings=[x.text.strip('\\n') for x in imdb_soup.find_all('td',{'class':'ratingColumn imdbRating'})]\n",
    "imdb_df=pd.DataFrame(list(zip(titles,releases,directors,ratings)),columns=['Movie','Release','Director','Stars'])"
   ]
  },
  {
   "cell_type": "code",
   "execution_count": 8,
   "metadata": {},
   "outputs": [
    {
     "data": {
      "text/html": [
       "<div>\n",
       "<style scoped>\n",
       "    .dataframe tbody tr th:only-of-type {\n",
       "        vertical-align: middle;\n",
       "    }\n",
       "\n",
       "    .dataframe tbody tr th {\n",
       "        vertical-align: top;\n",
       "    }\n",
       "\n",
       "    .dataframe thead th {\n",
       "        text-align: right;\n",
       "    }\n",
       "</style>\n",
       "<table border=\"1\" class=\"dataframe\">\n",
       "  <thead>\n",
       "    <tr style=\"text-align: right;\">\n",
       "      <th></th>\n",
       "      <th>Movie</th>\n",
       "      <th>Release</th>\n",
       "      <th>Director</th>\n",
       "      <th>Stars</th>\n",
       "    </tr>\n",
       "  </thead>\n",
       "  <tbody>\n",
       "    <tr>\n",
       "      <th>0</th>\n",
       "      <td>Sueños de libertad</td>\n",
       "      <td>1994</td>\n",
       "      <td>Frank Darabont</td>\n",
       "      <td>9.2</td>\n",
       "    </tr>\n",
       "    <tr>\n",
       "      <th>1</th>\n",
       "      <td>El Padrino</td>\n",
       "      <td>1972</td>\n",
       "      <td>Francis Ford Coppola</td>\n",
       "      <td>9.1</td>\n",
       "    </tr>\n",
       "    <tr>\n",
       "      <th>2</th>\n",
       "      <td>El padrino 2a parte</td>\n",
       "      <td>1974</td>\n",
       "      <td>Francis Ford Coppola</td>\n",
       "      <td>9.0</td>\n",
       "    </tr>\n",
       "    <tr>\n",
       "      <th>3</th>\n",
       "      <td>Batman: El Caballero de la Noche</td>\n",
       "      <td>2008</td>\n",
       "      <td>Christopher Nolan</td>\n",
       "      <td>9.0</td>\n",
       "    </tr>\n",
       "    <tr>\n",
       "      <th>4</th>\n",
       "      <td>12 hombres en pugna</td>\n",
       "      <td>1957</td>\n",
       "      <td>Sidney Lumet</td>\n",
       "      <td>8.9</td>\n",
       "    </tr>\n",
       "  </tbody>\n",
       "</table>\n",
       "</div>"
      ],
      "text/plain": [
       "                              Movie Release              Director Stars\n",
       "0                Sueños de libertad    1994        Frank Darabont   9.2\n",
       "1                        El Padrino    1972  Francis Ford Coppola   9.1\n",
       "2               El padrino 2a parte    1974  Francis Ford Coppola   9.0\n",
       "3  Batman: El Caballero de la Noche    2008     Christopher Nolan   9.0\n",
       "4               12 hombres en pugna    1957          Sidney Lumet   8.9"
      ]
     },
     "execution_count": 8,
     "metadata": {},
     "output_type": "execute_result"
    }
   ],
   "source": [
    "imdb_df.head()"
   ]
  },
  {
   "cell_type": "markdown",
   "metadata": {},
   "source": [
    "#### Movie name, year and a brief summary of the top 10 random movies (IMDB) as a pandas dataframe."
   ]
  },
  {
   "cell_type": "code",
   "execution_count": 4,
   "metadata": {},
   "outputs": [],
   "source": [
    "#This is the url you will scrape in this exercise\n",
    "mov_titles=[]\n",
    "mov_releases=[]\n",
    "mov_summaries=[]\n",
    "for url in links[:10]:\n",
    "    html=requests.get(url).content\n",
    "    movie_soup=BeautifulSoup(html)\n",
    "    mov_titles.append(re.sub('\\xa0','',movie_soup.select('div.title_wrapper')[0].h1.text))\n",
    "    mov_releases.append(movie_soup.select('#titleYear')[0].a.text.strip('[()]'))\n",
    "    mov_summaries.append(re.sub('\\n','',movie_soup.select('.summary_text')[0].text).strip())\n",
    "top_df=pd.DataFrame(list(zip(mov_titles,mov_releases,mov_summaries)),columns=['Name','Year','Summary'])"
   ]
  },
  {
   "cell_type": "code",
   "execution_count": 5,
   "metadata": {},
   "outputs": [
    {
     "data": {
      "text/html": [
       "<div>\n",
       "<style scoped>\n",
       "    .dataframe tbody tr th:only-of-type {\n",
       "        vertical-align: middle;\n",
       "    }\n",
       "\n",
       "    .dataframe tbody tr th {\n",
       "        vertical-align: top;\n",
       "    }\n",
       "\n",
       "    .dataframe thead th {\n",
       "        text-align: right;\n",
       "    }\n",
       "</style>\n",
       "<table border=\"1\" class=\"dataframe\">\n",
       "  <thead>\n",
       "    <tr style=\"text-align: right;\">\n",
       "      <th></th>\n",
       "      <th>Name</th>\n",
       "      <th>Year</th>\n",
       "      <th>Summary</th>\n",
       "    </tr>\n",
       "  </thead>\n",
       "  <tbody>\n",
       "    <tr>\n",
       "      <th>0</th>\n",
       "      <td>Sueños de libertad(1994)</td>\n",
       "      <td>1994</td>\n",
       "      <td>Two imprisoned men bond over a number of years...</td>\n",
       "    </tr>\n",
       "    <tr>\n",
       "      <th>1</th>\n",
       "      <td>El Padrino(1972)</td>\n",
       "      <td>1972</td>\n",
       "      <td>The aging patriarch of an organized crime dyna...</td>\n",
       "    </tr>\n",
       "    <tr>\n",
       "      <th>2</th>\n",
       "      <td>El padrino 2a parte(1974)</td>\n",
       "      <td>1974</td>\n",
       "      <td>The early life and career of Vito Corleone in ...</td>\n",
       "    </tr>\n",
       "    <tr>\n",
       "      <th>3</th>\n",
       "      <td>Batman: El Caballero de la Noche(2008)</td>\n",
       "      <td>2008</td>\n",
       "      <td>When the menace known as the Joker wreaks havo...</td>\n",
       "    </tr>\n",
       "    <tr>\n",
       "      <th>4</th>\n",
       "      <td>12 hombres en pugna(1957)</td>\n",
       "      <td>1957</td>\n",
       "      <td>A jury holdout attempts to prevent a miscarria...</td>\n",
       "    </tr>\n",
       "    <tr>\n",
       "      <th>5</th>\n",
       "      <td>La lista de Schindler(1993)</td>\n",
       "      <td>1993</td>\n",
       "      <td>In German-occupied Poland during World War II,...</td>\n",
       "    </tr>\n",
       "    <tr>\n",
       "      <th>6</th>\n",
       "      <td>El señor de los anillos: El retorno del rey(20...</td>\n",
       "      <td>2003</td>\n",
       "      <td>Gandalf and Aragorn lead the World of Men agai...</td>\n",
       "    </tr>\n",
       "    <tr>\n",
       "      <th>7</th>\n",
       "      <td>Tiempos violentos(1994)</td>\n",
       "      <td>1994</td>\n",
       "      <td>The lives of two mob hitmen, a boxer, a gangst...</td>\n",
       "    </tr>\n",
       "    <tr>\n",
       "      <th>8</th>\n",
       "      <td>El bueno, el malo y el feo(1966)</td>\n",
       "      <td>1966</td>\n",
       "      <td>A bounty hunting scam joins two men in an unea...</td>\n",
       "    </tr>\n",
       "    <tr>\n",
       "      <th>9</th>\n",
       "      <td>El señor de los anillos: La comunidad del anil...</td>\n",
       "      <td>2001</td>\n",
       "      <td>A meek Hobbit from the Shire and eight compani...</td>\n",
       "    </tr>\n",
       "  </tbody>\n",
       "</table>\n",
       "</div>"
      ],
      "text/plain": [
       "                                                Name  Year  \\\n",
       "0                          Sueños de libertad(1994)   1994   \n",
       "1                                  El Padrino(1972)   1972   \n",
       "2                         El padrino 2a parte(1974)   1974   \n",
       "3            Batman: El Caballero de la Noche(2008)   2008   \n",
       "4                         12 hombres en pugna(1957)   1957   \n",
       "5                       La lista de Schindler(1993)   1993   \n",
       "6  El señor de los anillos: El retorno del rey(20...  2003   \n",
       "7                           Tiempos violentos(1994)   1994   \n",
       "8                  El bueno, el malo y el feo(1966)   1966   \n",
       "9  El señor de los anillos: La comunidad del anil...  2001   \n",
       "\n",
       "                                             Summary  \n",
       "0  Two imprisoned men bond over a number of years...  \n",
       "1  The aging patriarch of an organized crime dyna...  \n",
       "2  The early life and career of Vito Corleone in ...  \n",
       "3  When the menace known as the Joker wreaks havo...  \n",
       "4  A jury holdout attempts to prevent a miscarria...  \n",
       "5  In German-occupied Poland during World War II,...  \n",
       "6  Gandalf and Aragorn lead the World of Men agai...  \n",
       "7  The lives of two mob hitmen, a boxer, a gangst...  \n",
       "8  A bounty hunting scam joins two men in an unea...  \n",
       "9  A meek Hobbit from the Shire and eight compani...  "
      ]
     },
     "execution_count": 5,
     "metadata": {},
     "output_type": "execute_result"
    }
   ],
   "source": [
    "top_df"
   ]
  },
  {
   "cell_type": "markdown",
   "metadata": {},
   "source": [
    "#### Find the live weather report (temperature, wind speed, description and weather) of a given city."
   ]
  },
  {
   "cell_type": "code",
   "execution_count": 275,
   "metadata": {},
   "outputs": [
    {
     "name": "stdin",
     "output_type": "stream",
     "text": [
      "Enter the city: accra\n"
     ]
    },
    {
     "name": "stdout",
     "output_type": "stream",
     "text": [
      "Temperature: 27\n",
      "Wind speed: 2.6\n",
      "Description: \"clear sky\"\n",
      "Weather: \"Clear\"\n"
     ]
    }
   ],
   "source": [
    "#https://openweathermap.org/current\n",
    "city = city=input('Enter the city:')\n",
    "url = 'http://api.openweathermap.org/data/2.5/weather?'+'q='+city+'&APPID=b35975e18dc93725acb092f7272cc6b8&units=metric'\n",
    "html=requests.get(url).content\n",
    "weather_soup=BeautifulSoup(html)\n",
    "temp=re.findall('\"temp\":([^,]*),',weather_soup.text)\n",
    "wind_speed=re.findall('\"wind\":{\"speed\":([^,]*),',weather_soup.text)\n",
    "desc=re.findall('\"description\":(\"[^\"]*\"),',weather_soup.text)\n",
    "weather=re.findall('\"main\":(\"[^,]*),',weather_soup.text)\n",
    "try:\n",
    "    print('Temperature: {}\\nWind speed: {}\\nDescription: {}\\nWeather: {}'.format(temp[0],wind_speed[0],desc[0],weather[0]))\n",
    "except:\n",
    "    print('City not found')"
   ]
  },
  {
   "cell_type": "markdown",
   "metadata": {},
   "source": [
    "#### Book name,price and stock availability as a pandas dataframe."
   ]
  },
  {
   "cell_type": "code",
   "execution_count": 345,
   "metadata": {},
   "outputs": [],
   "source": [
    "# This is the url you will scrape in this exercise. \n",
    "# It is a fictional bookstore created to be scraped. \n",
    "book_df=pd.DataFrame(columns=['Title','Price','Availability','Stars'])\n",
    "url_pattern = 'http://books.toscrape.com/catalogue/page-%s.html'\n",
    "for i in range(1,51):\n",
    "    url=url_pattern%i\n",
    "    html=requests.get(url).content\n",
    "    book_soup=BeautifulSoup(html)\n",
    "    titles=[x.a['title'] for x in book_soup.find_all('h3')]\n",
    "    prices=[x.text for x in book_soup.select('.price_color')]\n",
    "    in_stock=[re.sub('\\n','',x.text).strip() for x in book_soup.select('.instock')]\n",
    "    ratings=[x['class'][1] for x in book_soup.select('.star-rating')]\n",
    "    temp_books_df=pd.DataFrame(list(zip(titles,prices,in_stock,ratings)),columns=['Title','Price','Availability','Stars'])\n",
    "    book_df=book_df.append(temp_books_df,ignore_index=True)"
   ]
  },
  {
   "cell_type": "code",
   "execution_count": 388,
   "metadata": {},
   "outputs": [
    {
     "data": {
      "text/html": [
       "<div>\n",
       "<style scoped>\n",
       "    .dataframe tbody tr th:only-of-type {\n",
       "        vertical-align: middle;\n",
       "    }\n",
       "\n",
       "    .dataframe tbody tr th {\n",
       "        vertical-align: top;\n",
       "    }\n",
       "\n",
       "    .dataframe thead th {\n",
       "        text-align: right;\n",
       "    }\n",
       "</style>\n",
       "<table border=\"1\" class=\"dataframe\">\n",
       "  <thead>\n",
       "    <tr style=\"text-align: right;\">\n",
       "      <th></th>\n",
       "      <th>Title</th>\n",
       "      <th>Price</th>\n",
       "      <th>Availability</th>\n",
       "      <th>Stars</th>\n",
       "    </tr>\n",
       "  </thead>\n",
       "  <tbody>\n",
       "    <tr>\n",
       "      <th>0</th>\n",
       "      <td>A Light in the Attic</td>\n",
       "      <td>£51.77</td>\n",
       "      <td>In stock</td>\n",
       "      <td>Three</td>\n",
       "    </tr>\n",
       "    <tr>\n",
       "      <th>1</th>\n",
       "      <td>Tipping the Velvet</td>\n",
       "      <td>£53.74</td>\n",
       "      <td>In stock</td>\n",
       "      <td>One</td>\n",
       "    </tr>\n",
       "    <tr>\n",
       "      <th>2</th>\n",
       "      <td>Soumission</td>\n",
       "      <td>£50.10</td>\n",
       "      <td>In stock</td>\n",
       "      <td>One</td>\n",
       "    </tr>\n",
       "    <tr>\n",
       "      <th>3</th>\n",
       "      <td>Sharp Objects</td>\n",
       "      <td>£47.82</td>\n",
       "      <td>In stock</td>\n",
       "      <td>Four</td>\n",
       "    </tr>\n",
       "    <tr>\n",
       "      <th>4</th>\n",
       "      <td>Sapiens: A Brief History of Humankind</td>\n",
       "      <td>£54.23</td>\n",
       "      <td>In stock</td>\n",
       "      <td>Five</td>\n",
       "    </tr>\n",
       "  </tbody>\n",
       "</table>\n",
       "</div>"
      ],
      "text/plain": [
       "                                   Title   Price Availability  Stars\n",
       "0                   A Light in the Attic  £51.77     In stock  Three\n",
       "1                     Tipping the Velvet  £53.74     In stock    One\n",
       "2                             Soumission  £50.10     In stock    One\n",
       "3                          Sharp Objects  £47.82     In stock   Four\n",
       "4  Sapiens: A Brief History of Humankind  £54.23     In stock   Five"
      ]
     },
     "execution_count": 388,
     "metadata": {},
     "output_type": "execute_result"
    }
   ],
   "source": [
    "book_df.head()"
   ]
  },
  {
   "cell_type": "code",
   "execution_count": 394,
   "metadata": {},
   "outputs": [
    {
     "data": {
      "text/html": [
       "<div>\n",
       "<style scoped>\n",
       "    .dataframe tbody tr th:only-of-type {\n",
       "        vertical-align: middle;\n",
       "    }\n",
       "\n",
       "    .dataframe tbody tr th {\n",
       "        vertical-align: top;\n",
       "    }\n",
       "\n",
       "    .dataframe thead th {\n",
       "        text-align: right;\n",
       "    }\n",
       "</style>\n",
       "<table border=\"1\" class=\"dataframe\">\n",
       "  <thead>\n",
       "    <tr style=\"text-align: right;\">\n",
       "      <th></th>\n",
       "      <th>Title</th>\n",
       "      <th>Price</th>\n",
       "      <th>Availability</th>\n",
       "      <th>Stars</th>\n",
       "    </tr>\n",
       "  </thead>\n",
       "  <tbody>\n",
       "    <tr>\n",
       "      <th>count</th>\n",
       "      <td>1000</td>\n",
       "      <td>1000</td>\n",
       "      <td>1000</td>\n",
       "      <td>1000</td>\n",
       "    </tr>\n",
       "    <tr>\n",
       "      <th>unique</th>\n",
       "      <td>999</td>\n",
       "      <td>903</td>\n",
       "      <td>1</td>\n",
       "      <td>5</td>\n",
       "    </tr>\n",
       "    <tr>\n",
       "      <th>top</th>\n",
       "      <td>The Star-Touched Queen</td>\n",
       "      <td>£37.34</td>\n",
       "      <td>In stock</td>\n",
       "      <td>One</td>\n",
       "    </tr>\n",
       "    <tr>\n",
       "      <th>freq</th>\n",
       "      <td>2</td>\n",
       "      <td>3</td>\n",
       "      <td>1000</td>\n",
       "      <td>226</td>\n",
       "    </tr>\n",
       "  </tbody>\n",
       "</table>\n",
       "</div>"
      ],
      "text/plain": [
       "                         Title   Price Availability Stars\n",
       "count                     1000    1000         1000  1000\n",
       "unique                     999     903            1     5\n",
       "top     The Star-Touched Queen  £37.34     In stock   One\n",
       "freq                         2       3         1000   226"
      ]
     },
     "execution_count": 394,
     "metadata": {},
     "output_type": "execute_result"
    }
   ],
   "source": [
    "#Nothing else to do, title unique equals count-1?\n",
    "book_df.describe()"
   ]
  },
  {
   "cell_type": "code",
   "execution_count": 390,
   "metadata": {},
   "outputs": [
    {
     "name": "stdout",
     "output_type": "stream",
     "text": [
      "[358]\n"
     ]
    }
   ],
   "source": [
    "#Find duplicated index\n",
    "a=[]\n",
    "for i in range(1000):\n",
    "    if book_df['Title'].duplicated()[i]==True:\n",
    "        a.append(i)\n",
    "print(a)"
   ]
  },
  {
   "cell_type": "code",
   "execution_count": 393,
   "metadata": {},
   "outputs": [
    {
     "data": {
      "text/html": [
       "<div>\n",
       "<style scoped>\n",
       "    .dataframe tbody tr th:only-of-type {\n",
       "        vertical-align: middle;\n",
       "    }\n",
       "\n",
       "    .dataframe tbody tr th {\n",
       "        vertical-align: top;\n",
       "    }\n",
       "\n",
       "    .dataframe thead th {\n",
       "        text-align: right;\n",
       "    }\n",
       "</style>\n",
       "<table border=\"1\" class=\"dataframe\">\n",
       "  <thead>\n",
       "    <tr style=\"text-align: right;\">\n",
       "      <th></th>\n",
       "      <th>Title</th>\n",
       "      <th>Price</th>\n",
       "      <th>Availability</th>\n",
       "      <th>Stars</th>\n",
       "    </tr>\n",
       "  </thead>\n",
       "  <tbody>\n",
       "    <tr>\n",
       "      <th>236</th>\n",
       "      <td>The Star-Touched Queen</td>\n",
       "      <td>£46.02</td>\n",
       "      <td>In stock</td>\n",
       "      <td>Five</td>\n",
       "    </tr>\n",
       "    <tr>\n",
       "      <th>358</th>\n",
       "      <td>The Star-Touched Queen</td>\n",
       "      <td>£32.30</td>\n",
       "      <td>In stock</td>\n",
       "      <td>Five</td>\n",
       "    </tr>\n",
       "  </tbody>\n",
       "</table>\n",
       "</div>"
      ],
      "text/plain": [
       "                      Title   Price Availability Stars\n",
       "236  The Star-Touched Queen  £46.02     In stock  Five\n",
       "358  The Star-Touched Queen  £32.30     In stock  Five"
      ]
     },
     "execution_count": 393,
     "metadata": {},
     "output_type": "execute_result"
    }
   ],
   "source": [
    "#Lets compare duplicated elements\n",
    "book_df[book_df.Title==book_df.iloc[358].Title]\n",
    "#Maybe different cover types?"
   ]
  }
 ],
 "metadata": {
  "kernelspec": {
   "display_name": "Python 3",
   "language": "python",
   "name": "python3"
  },
  "language_info": {
   "codemirror_mode": {
    "name": "ipython",
    "version": 3
   },
   "file_extension": ".py",
   "mimetype": "text/x-python",
   "name": "python",
   "nbconvert_exporter": "python",
   "pygments_lexer": "ipython3",
   "version": "3.7.3"
  }
 },
 "nbformat": 4,
 "nbformat_minor": 4
}
