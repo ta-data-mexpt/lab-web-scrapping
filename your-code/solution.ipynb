{
 "cells": [
  {
   "cell_type": "code",
   "execution_count": 1,
   "id": "b213cca6-2db8-4181-8d66-c8a1f706bce9",
   "metadata": {},
   "outputs": [],
   "source": [
    "import requests\n",
    "from bs4 import BeautifulSoup\n",
    "import pandas as pd\n",
    "# from pprint import pprint\n",
    "from lxml import html\n",
    "from lxml.html import fromstring\n",
    "# import urllib.request\n",
    "# from urllib.request import urlopen\n",
    "# import random\n",
    "# import re\n",
    "# import scrapy"
   ]
  },
  {
   "cell_type": "code",
   "execution_count": 2,
   "id": "9f1667b6-dc89-4cb8-b1d4-db25aff9af11",
   "metadata": {},
   "outputs": [],
   "source": [
    "url = 'https://github.com/trending/developers'"
   ]
  },
  {
   "cell_type": "raw",
   "id": "46da9e28-c1e8-44cc-989a-070e98770a95",
   "metadata": {},
   "source": [
    "Display the names of the trending developers retrieved in the previous step.\n",
    "Your output should be a Python list of developer names. Each name should not contain any html tag.\n",
    "\n",
    "Instructions:\n",
    "\n",
    "Find out the html tag and class names used for the developer names. You can achieve this using Chrome DevTools.\n",
    "\n",
    "Use BeautifulSoup to extract all the html elements that contain the developer names.\n",
    "\n",
    "Use string manipulation techniques to replace whitespaces and linebreaks (i.e. \\n) in the text of each html element. Use a list to store the clean names.\n",
    "\n",
    "Print the list of names.\n",
    "\n",
    "Your output should look like below:\n",
    "\n",
    "['trimstray (@trimstray)',\n",
    " 'joewalnes (JoeWalnes)',\n",
    " 'charlax (Charles-AxelDein)',\n",
    " 'ForrestKnight (ForrestKnight)',\n",
    " 'revery-ui (revery-ui)',\n",
    " 'alibaba (Alibaba)',\n",
    " 'Microsoft (Microsoft)',\n",
    " 'github (GitHub)',\n",
    " 'facebook (Facebook)',\n",
    " 'boazsegev (Bo)',\n",
    " 'google (Google)',\n",
    " 'cloudfetch',\n",
    " 'sindresorhus (SindreSorhus)',\n",
    " 'tensorflow',\n",
    " 'apache (TheApacheSoftwareFoundation)',\n",
    " 'DevonCrawford (DevonCrawford)',\n",
    " 'ARMmbed (ArmMbed)',\n",
    " 'vuejs (vuejs)',\n",
    " 'fastai (fast.ai)',\n",
    " 'QiShaoXuan (Qi)',\n",
    " 'joelparkerhenderson (JoelParkerHenderson)',\n",
    " 'torvalds (LinusTorvalds)',\n",
    " 'CyC2018',\n",
    " 'komeiji-satori (神楽坂覚々)',\n",
    " 'script-8']"
   ]
  },
  {
   "cell_type": "code",
   "execution_count": 3,
   "id": "6cced26f-90b8-4642-926f-533c209099e8",
   "metadata": {},
   "outputs": [],
   "source": [
    "response = requests.get(url)"
   ]
  },
  {
   "cell_type": "code",
   "execution_count": 4,
   "id": "e5c32abb-4e64-45ee-9389-6b932bb28661",
   "metadata": {},
   "outputs": [
    {
     "data": {
      "text/plain": [
       "<Response [200]>"
      ]
     },
     "execution_count": 4,
     "metadata": {},
     "output_type": "execute_result"
    }
   ],
   "source": [
    "response"
   ]
  },
  {
   "cell_type": "code",
   "execution_count": 5,
   "id": "3d2929e4-61a6-4a68-b206-bca431cd10a5",
   "metadata": {},
   "outputs": [],
   "source": [
    "sopa_git = BeautifulSoup(response.content)"
   ]
  },
  {
   "cell_type": "code",
   "execution_count": 9,
   "id": "f7fb34ab-f33f-4201-aafc-3d98da20a671",
   "metadata": {},
   "outputs": [
    {
     "name": "stdout",
     "output_type": "stream",
     "text": [
      "<class 'bs4.BeautifulSoup'>\n"
     ]
    }
   ],
   "source": [
    "print(type(sopa_git))"
   ]
  },
  {
   "cell_type": "code",
   "execution_count": 10,
   "id": "097b5948-de91-4982-89ed-36919d106c0e",
   "metadata": {},
   "outputs": [],
   "source": [
    "bloques = sopa_git.select('article.Box-row.d-flex')"
   ]
  },
  {
   "cell_type": "code",
   "execution_count": 11,
   "id": "f39a7b47-2caf-4ce0-8ff9-e1829c9ad780",
   "metadata": {},
   "outputs": [
    {
     "data": {
      "text/plain": [
       "25"
      ]
     },
     "execution_count": 11,
     "metadata": {},
     "output_type": "execute_result"
    }
   ],
   "source": [
    "len(bloques)"
   ]
  },
  {
   "cell_type": "code",
   "execution_count": 12,
   "id": "c2cb88d5-0700-4ae6-b737-a84ab257e8a8",
   "metadata": {},
   "outputs": [
    {
     "name": "stdout",
     "output_type": "stream",
     "text": [
      "<class 'bs4.element.ResultSet'>\n"
     ]
    }
   ],
   "source": [
    "print(type(bloques))"
   ]
  },
  {
   "cell_type": "code",
   "execution_count": 17,
   "id": "7624fc3d-b17a-46e9-955e-08199fb46232",
   "metadata": {},
   "outputs": [],
   "source": [
    "#bloques[0] #SE TRABAJA CON [0] DEBIDO A QUE ES UNA LISTA DE UN ELEMENTO Y SOLO QUEREMOS EL TEXTO"
   ]
  },
  {
   "cell_type": "code",
   "execution_count": 24,
   "id": "43e32455-16bf-4ae6-8661-f1419de758c0",
   "metadata": {},
   "outputs": [
    {
     "data": {
      "text/plain": [
       "[<div class=\"col-md-6\">\n",
       " <h1 class=\"h3 lh-condensed\">\n",
       " <a data-hydro-click='{\"event_type\":\"explore.click\",\"payload\":{\"click_context\":\"TRENDING_DEVELOPERS_PAGE\",\"click_target\":\"OWNER\",\"click_visual_representation\":\"TRENDING_DEVELOPER\",\"actor_id\":null,\"record_id\":1430078,\"originating_url\":\"https://github.com/trending/developers\",\"user_id\":null}}' data-hydro-click-hmac=\"63a73bc9df7b3df1504ffef4fc79f4ad126ef0bfeca097f4996c27285e0ba97d\" data-view-component=\"true\" href=\"/ajcvickers\">\n",
       "             Arthur Vickers\n",
       " </a> </h1>\n",
       " <p class=\"f4 text-normal mb-1\">\n",
       " <a class=\"Link--secondary\" data-hydro-click='{\"event_type\":\"explore.click\",\"payload\":{\"click_context\":\"TRENDING_DEVELOPERS_PAGE\",\"click_target\":\"OWNER\",\"click_visual_representation\":\"TRENDING_DEVELOPER\",\"actor_id\":null,\"record_id\":1430078,\"originating_url\":\"https://github.com/trending/developers\",\"user_id\":null}}' data-hydro-click-hmac=\"63a73bc9df7b3df1504ffef4fc79f4ad126ef0bfeca097f4996c27285e0ba97d\" data-view-component=\"true\" href=\"/ajcvickers\">\n",
       "               ajcvickers\n",
       " </a> </p>\n",
       " </div>]"
      ]
     },
     "execution_count": 24,
     "metadata": {},
     "output_type": "execute_result"
    }
   ],
   "source": [
    "bloques[0].select('div.col-md-6:first-of-type')[0] # EL PRIMER [0] ES PARA LA LISTA DEBLOQUES QUE TIENE 25 tablas , el segund [0] es por que es una lista de un elemento y si queremos leer debemos quitar "
   ]
  },
  {
   "cell_type": "code",
   "execution_count": 25,
   "id": "600fbba1-a811-4f73-b652-f4e188aa7957",
   "metadata": {},
   "outputs": [
    {
     "data": {
      "text/plain": [
       "25"
      ]
     },
     "execution_count": 25,
     "metadata": {},
     "output_type": "execute_result"
    }
   ],
   "source": [
    "len(bloques)"
   ]
  },
  {
   "cell_type": "code",
   "execution_count": 42,
   "id": "4889fdbe-cf1e-4b4d-aa0b-c3b34ea50b4f",
   "metadata": {},
   "outputs": [],
   "source": [
    "usuarios = [bloque.select('div.col-md-6:first-of-type')[0] for bloque in bloques ]"
   ]
  },
  {
   "cell_type": "code",
   "execution_count": 43,
   "id": "9a89f0e6-3f0e-4df7-8e72-12964b2c05aa",
   "metadata": {},
   "outputs": [
    {
     "data": {
      "text/plain": [
       "[<div class=\"col-md-6\">\n",
       " <h1 class=\"h3 lh-condensed\">\n",
       " <a data-hydro-click='{\"event_type\":\"explore.click\",\"payload\":{\"click_context\":\"TRENDING_DEVELOPERS_PAGE\",\"click_target\":\"OWNER\",\"click_visual_representation\":\"TRENDING_DEVELOPER\",\"actor_id\":null,\"record_id\":1430078,\"originating_url\":\"https://github.com/trending/developers\",\"user_id\":null}}' data-hydro-click-hmac=\"63a73bc9df7b3df1504ffef4fc79f4ad126ef0bfeca097f4996c27285e0ba97d\" data-view-component=\"true\" href=\"/ajcvickers\">\n",
       "             Arthur Vickers\n",
       " </a> </h1>\n",
       " <p class=\"f4 text-normal mb-1\">\n",
       " <a class=\"Link--secondary\" data-hydro-click='{\"event_type\":\"explore.click\",\"payload\":{\"click_context\":\"TRENDING_DEVELOPERS_PAGE\",\"click_target\":\"OWNER\",\"click_visual_representation\":\"TRENDING_DEVELOPER\",\"actor_id\":null,\"record_id\":1430078,\"originating_url\":\"https://github.com/trending/developers\",\"user_id\":null}}' data-hydro-click-hmac=\"63a73bc9df7b3df1504ffef4fc79f4ad126ef0bfeca097f4996c27285e0ba97d\" data-view-component=\"true\" href=\"/ajcvickers\">\n",
       "               ajcvickers\n",
       " </a> </p>\n",
       " </div>,\n",
       " <div class=\"col-md-6\">\n",
       " <h1 class=\"h3 lh-condensed\">\n",
       " <a data-hydro-click='{\"event_type\":\"explore.click\",\"payload\":{\"click_context\":\"TRENDING_DEVELOPERS_PAGE\",\"click_target\":\"OWNER\",\"click_visual_representation\":\"TRENDING_DEVELOPER\",\"actor_id\":null,\"record_id\":35128,\"originating_url\":\"https://github.com/trending/developers\",\"user_id\":null}}' data-hydro-click-hmac=\"4b77ec0b78bb6d14e9529afb5114d4a6e39f4f31c7f0f08b753b9dcfcdd5a593\" data-view-component=\"true\" href=\"/sorrycc\">\n",
       "             chencheng (云谦)\n",
       " </a> </h1>\n",
       " <p class=\"f4 text-normal mb-1\">\n",
       " <a class=\"Link--secondary\" data-hydro-click='{\"event_type\":\"explore.click\",\"payload\":{\"click_context\":\"TRENDING_DEVELOPERS_PAGE\",\"click_target\":\"OWNER\",\"click_visual_representation\":\"TRENDING_DEVELOPER\",\"actor_id\":null,\"record_id\":35128,\"originating_url\":\"https://github.com/trending/developers\",\"user_id\":null}}' data-hydro-click-hmac=\"4b77ec0b78bb6d14e9529afb5114d4a6e39f4f31c7f0f08b753b9dcfcdd5a593\" data-view-component=\"true\" href=\"/sorrycc\">\n",
       "               sorrycc\n",
       " </a> </p>\n",
       " </div>]"
      ]
     },
     "execution_count": 43,
     "metadata": {},
     "output_type": "execute_result"
    }
   ],
   "source": [
    "usuarios[:2]"
   ]
  },
  {
   "cell_type": "code",
   "execution_count": 44,
   "id": "a0a03195-5da9-4054-91ed-1167b2550775",
   "metadata": {},
   "outputs": [
    {
     "data": {
      "text/plain": [
       "'Arthur Vickers'"
      ]
     },
     "execution_count": 44,
     "metadata": {},
     "output_type": "execute_result"
    }
   ],
   "source": [
    "usuarios[0].select('h1 a')[0].text.strip(' \\n')"
   ]
  },
  {
   "cell_type": "code",
   "execution_count": 45,
   "id": "b09c486b-b476-41dd-8c59-73b94c1c2ec5",
   "metadata": {},
   "outputs": [],
   "source": [
    "nombres = [usuario.select('h1 a')[0].text.strip(' \\n') for usuario in usuarios]"
   ]
  },
  {
   "cell_type": "code",
   "execution_count": 46,
   "id": "da29cf74-ecf4-424b-b0ac-ee9b49c4f47b",
   "metadata": {},
   "outputs": [
    {
     "data": {
      "text/plain": [
       "25"
      ]
     },
     "execution_count": 46,
     "metadata": {},
     "output_type": "execute_result"
    }
   ],
   "source": [
    "len(nombres)"
   ]
  },
  {
   "cell_type": "code",
   "execution_count": 47,
   "id": "c0fb1ac3-186b-43cc-9281-eb91750b16a9",
   "metadata": {},
   "outputs": [
    {
     "data": {
      "text/plain": [
       "'ajcvickers'"
      ]
     },
     "execution_count": 47,
     "metadata": {},
     "output_type": "execute_result"
    }
   ],
   "source": [
    "usuarios[0].select('p a')[0].text.strip(' \\n')"
   ]
  },
  {
   "cell_type": "code",
   "execution_count": 56,
   "id": "dff7d363-49fd-4ee1-82f7-65b56e138b99",
   "metadata": {},
   "outputs": [],
   "source": [
    "usuarios_nick = [usuario.select('p a')[0].text.strip(' \\n') for usuario in usuarios] # se truena debido a que ahi tablas donde no tiene nick name de usuario "
   ]
  },
  {
   "cell_type": "code",
   "execution_count": 57,
   "id": "b9565e09-e779-48d6-bb5d-cd3a109bf9cc",
   "metadata": {},
   "outputs": [
    {
     "data": {
      "text/plain": [
       "['ajcvickers',\n",
       " 'sorrycc',\n",
       " 'sobolevn',\n",
       " 'monkeyWie',\n",
       " 'Mause',\n",
       " 'basnijholt',\n",
       " 'emilk',\n",
       " 'pcuenca',\n",
       " 'stephencelis',\n",
       " 'fffonion',\n",
       " 'bpasero',\n",
       " 'wu-sheng',\n",
       " 'jonataslaw',\n",
       " 'hughsie',\n",
       " 'ammarahm-ed',\n",
       " 'arogozhnikov',\n",
       " 'tklauser',\n",
       " 'stefanprodan',\n",
       " 'aeschli',\n",
       " 'SteveMacenski',\n",
       " 'nex3',\n",
       " 'ziishaned',\n",
       " 'adamchainz',\n",
       " 'cdietrich',\n",
       " 'janosh']"
      ]
     },
     "execution_count": 57,
     "metadata": {},
     "output_type": "execute_result"
    }
   ],
   "source": [
    "usuarios_nick\n",
    "    "
   ]
  },
  {
   "cell_type": "code",
   "execution_count": 58,
   "id": "4af03ad4-528a-4e2a-a729-be4953a69285",
   "metadata": {},
   "outputs": [
    {
     "data": {
      "text/plain": [
       "25"
      ]
     },
     "execution_count": 58,
     "metadata": {},
     "output_type": "execute_result"
    }
   ],
   "source": [
    "len(usuarios_nick)"
   ]
  },
  {
   "cell_type": "code",
   "execution_count": 59,
   "id": "aeda03d3-48ae-4bf4-a35f-4de9b6e2e693",
   "metadata": {},
   "outputs": [],
   "source": [
    "respuesta = [f'{user} ({name})' if user != name else user for name, user in zip(nombres, usuarios_nick)]"
   ]
  },
  {
   "cell_type": "code",
   "execution_count": 61,
   "id": "73b0d015-7dce-4f14-8cde-69d7c581b43c",
   "metadata": {},
   "outputs": [
    {
     "data": {
      "text/plain": [
       "['ajcvickers (Arthur Vickers)',\n",
       " 'sorrycc (chencheng (云谦))',\n",
       " 'sobolevn (Nikita Sobolev)',\n",
       " 'monkeyWie (Li Wei)',\n",
       " 'Mause (Elliana May)',\n",
       " 'basnijholt (Bas Nijholt)',\n",
       " 'emilk (Emil Ernerfeldt)',\n",
       " 'pcuenca (Pedro Cuenca)',\n",
       " 'stephencelis (Stephen Celis)',\n",
       " 'fffonion (Wangchong Zhou)']"
      ]
     },
     "execution_count": 61,
     "metadata": {},
     "output_type": "execute_result"
    }
   ],
   "source": [
    "respuesta[:10]"
   ]
  },
  {
   "cell_type": "code",
   "execution_count": 64,
   "id": "fb1aa542-b8a4-40d3-95f2-305a241da34a",
   "metadata": {},
   "outputs": [
    {
     "data": {
      "text/plain": [
       "'ajcvickers'"
      ]
     },
     "execution_count": 64,
     "metadata": {},
     "output_type": "execute_result"
    }
   ],
   "source": [
    "usuarios[0].select('p a')[0].text.strip(' \\n')"
   ]
  },
  {
   "cell_type": "code",
   "execution_count": null,
   "id": "5483051c-e3e8-442a-bc37-690a8f86d5f0",
   "metadata": {},
   "outputs": [],
   "source": []
  },
  {
   "cell_type": "markdown",
   "id": "1724d801-8ba6-4aad-92ca-588a23b8cb19",
   "metadata": {},
   "source": [
    "2 EJERCICIO"
   ]
  },
  {
   "cell_type": "code",
   "execution_count": 387,
   "id": "bfe8cdbd-4dac-43b3-9ebe-70cdaa97d238",
   "metadata": {},
   "outputs": [],
   "source": [
    "url2 = 'https://github.com/trending/python?since=daily'"
   ]
  },
  {
   "cell_type": "code",
   "execution_count": 388,
   "id": "f64f43d2-46d3-4131-ac16-bf0ddfafc769",
   "metadata": {
    "tags": []
   },
   "outputs": [],
   "source": [
    "response_2 = requests.get(url2)"
   ]
  },
  {
   "cell_type": "code",
   "execution_count": 389,
   "id": "f85ab657-e424-4ec9-b4de-90280f4119db",
   "metadata": {},
   "outputs": [],
   "source": [
    "sopa_git_2 = BeautifulSoup(response_2.content)"
   ]
  },
  {
   "cell_type": "code",
   "execution_count": 390,
   "id": "6dfc0b90-a3c5-4886-8a81-e6fcb1468589",
   "metadata": {},
   "outputs": [],
   "source": [
    "bloques_2 = sopa_git_2.select('article.Box-row')"
   ]
  },
  {
   "cell_type": "code",
   "execution_count": 391,
   "id": "1ed6549c-447c-4c15-8bc5-0769fb922957",
   "metadata": {},
   "outputs": [
    {
     "data": {
      "text/plain": [
       "25"
      ]
     },
     "execution_count": 391,
     "metadata": {},
     "output_type": "execute_result"
    }
   ],
   "source": [
    "len(bloques_2)"
   ]
  },
  {
   "cell_type": "code",
   "execution_count": 395,
   "id": "757fb25d-9a5e-4224-b978-adbb064d23af",
   "metadata": {},
   "outputs": [
    {
     "data": {
      "text/plain": [
       "'\\n\\n\\n\\n\\n        hpcaitech /\\n\\n      ColossalAI\\n'"
      ]
     },
     "execution_count": 395,
     "metadata": {},
     "output_type": "execute_result"
    }
   ],
   "source": [
    "bloques_2[0].select('h1 a')[0].text"
   ]
  },
  {
   "cell_type": "code",
   "execution_count": 396,
   "id": "acbe62ab-09c3-431c-883e-db3a12a2e110",
   "metadata": {},
   "outputs": [
    {
     "data": {
      "text/plain": [
       "'hpcaitech /\\n\\n      ColossalAI'"
      ]
     },
     "execution_count": 396,
     "metadata": {},
     "output_type": "execute_result"
    }
   ],
   "source": [
    "bloques_2[0].select('h1 a')[0].text.strip('\\n ')"
   ]
  },
  {
   "cell_type": "code",
   "execution_count": 184,
   "id": "735620e4-b3bf-43c6-9b90-16656619d0c3",
   "metadata": {},
   "outputs": [],
   "source": []
  },
  {
   "cell_type": "code",
   "execution_count": 185,
   "id": "817daba1-48b6-4fdc-9b7c-65d1f820e1e8",
   "metadata": {},
   "outputs": [
    {
     "data": {
      "text/plain": [
       "'hpcaitech/ColossalAI'"
      ]
     },
     "execution_count": 185,
     "metadata": {},
     "output_type": "execute_result"
    }
   ],
   "source": [
    "bloques_2[0].select('h1 a')[0].text.strip('\\n ').replace(\"\\n\\n    \", \"\").replace(\" \", \"\")"
   ]
  },
  {
   "cell_type": "code",
   "execution_count": 398,
   "id": "f82b6edd-9037-4c07-87c3-ecc27aeb4b6c",
   "metadata": {},
   "outputs": [
    {
     "name": "stdout",
     "output_type": "stream",
     "text": [
      "hpcaitech/ColossalAI\n",
      "vinta/awesome-python\n",
      "PaddlePaddle/PaddleDetection\n",
      "bregman-arie/devops-exercises\n",
      "521xueweihan/HelloGitHub\n",
      "pre-commit/pre-commit-hooks\n",
      "public-apis/public-apis\n",
      "microsoft/recommenders\n",
      "d8ahazard/sd_dreambooth_extension\n",
      "open-mmlab/mmdeploy\n",
      "mli/autocut\n",
      "huggingface/setfit\n",
      "SpyGuard/SpyGuard\n",
      "GerryDazoo/Slinger\n",
      "sczhou/CodeFormer\n",
      "mouredev/Hello-Python\n",
      "ihabunek/toot\n",
      "ansible/awx\n",
      "jackfrued/Python-100-Days\n",
      "python/cpython\n",
      "PaddlePaddle/PaddleSpeech\n",
      "PaddlePaddle/PaddleOCR\n",
      "microsoft/nni\n",
      "Azure/azure-sdk-for-python\n",
      "streamlit/streamlit\n"
     ]
    }
   ],
   "source": [
    "for repo in bloques_2:\n",
    "    print(repo.select('h1 a')[0].text.strip('\\n ').replace(\"\\n\\n    \", \"\").replace(\" \", \"\"))"
   ]
  },
  {
   "cell_type": "code",
   "execution_count": null,
   "id": "1dd122f2-dcf5-48b3-bffe-4614c96a6c42",
   "metadata": {},
   "outputs": [],
   "source": []
  },
  {
   "cell_type": "code",
   "execution_count": null,
   "id": "20444829-86ff-4ca8-9d19-19a1374f309b",
   "metadata": {},
   "outputs": [],
   "source": []
  },
  {
   "cell_type": "code",
   "execution_count": null,
   "id": "ae47f4c2-87de-40a5-a2b9-ad1a112eb892",
   "metadata": {},
   "outputs": [],
   "source": []
  },
  {
   "cell_type": "code",
   "execution_count": 186,
   "id": "74e7fdc3-84e9-470d-bde7-d5ebcdde9fa8",
   "metadata": {},
   "outputs": [],
   "source": [
    "repo_usuario = [repo.select('h1 a')[0].text.strip('\\n ').replace(\"\\n\\n    \", \"\").replace(\" \", \"\") for repo in bloques_2] # se truena debido a que ahi tablas donde no tiene nick name de usuario "
   ]
  },
  {
   "cell_type": "code",
   "execution_count": 187,
   "id": "db674ba0-ed97-4f7c-a8d2-98978c731786",
   "metadata": {},
   "outputs": [
    {
     "data": {
      "text/plain": [
       "['hpcaitech/ColossalAI',\n",
       " 'vinta/awesome-python',\n",
       " 'PaddlePaddle/PaddleDetection',\n",
       " 'bregman-arie/devops-exercises',\n",
       " '521xueweihan/HelloGitHub',\n",
       " 'pre-commit/pre-commit-hooks',\n",
       " 'public-apis/public-apis',\n",
       " 'microsoft/recommenders',\n",
       " 'd8ahazard/sd_dreambooth_extension',\n",
       " 'open-mmlab/mmdeploy',\n",
       " 'mli/autocut',\n",
       " 'huggingface/setfit',\n",
       " 'SpyGuard/SpyGuard',\n",
       " 'GerryDazoo/Slinger',\n",
       " 'sczhou/CodeFormer',\n",
       " 'mouredev/Hello-Python',\n",
       " 'ihabunek/toot',\n",
       " 'ansible/awx',\n",
       " 'jackfrued/Python-100-Days',\n",
       " 'python/cpython',\n",
       " 'PaddlePaddle/PaddleSpeech',\n",
       " 'PaddlePaddle/PaddleOCR',\n",
       " 'microsoft/nni',\n",
       " 'Azure/azure-sdk-for-python',\n",
       " 'streamlit/streamlit']"
      ]
     },
     "execution_count": 187,
     "metadata": {},
     "output_type": "execute_result"
    }
   ],
   "source": [
    "repo_usuario"
   ]
  },
  {
   "cell_type": "code",
   "execution_count": null,
   "id": "d81d87bb-4a41-4c14-ad3d-3e6e1267f842",
   "metadata": {},
   "outputs": [],
   "source": []
  },
  {
   "cell_type": "code",
   "execution_count": null,
   "id": "855cb2c5-96ee-4a5b-9c2a-667c2bd4e1a0",
   "metadata": {},
   "outputs": [],
   "source": []
  },
  {
   "cell_type": "code",
   "execution_count": 275,
   "id": "b38eea7d-098d-445b-8b3f-04dd0247f6e6",
   "metadata": {},
   "outputs": [],
   "source": [
    "url3 = 'https://en.wikipedia.org/wiki/Walt_Disney'"
   ]
  },
  {
   "cell_type": "code",
   "execution_count": 276,
   "id": "977309bc-59c1-4f71-9234-dd0169c0723c",
   "metadata": {},
   "outputs": [],
   "source": [
    "response_3 = requests.get(url3)"
   ]
  },
  {
   "cell_type": "code",
   "execution_count": 277,
   "id": "db08cbf5-b850-4f4e-a8e4-2ace0ce5c2bf",
   "metadata": {},
   "outputs": [],
   "source": [
    "sopa_git_3 = BeautifulSoup(response_3.content)"
   ]
  },
  {
   "cell_type": "code",
   "execution_count": 399,
   "id": "bac14638-bc98-403c-a2bc-85414f89acf8",
   "metadata": {
    "tags": []
   },
   "outputs": [],
   "source": [
    "bloques_3 = sopa_git_2.select('a img')"
   ]
  },
  {
   "cell_type": "code",
   "execution_count": 400,
   "id": "5883bf41-af30-4e96-8812-4a0c283405e5",
   "metadata": {},
   "outputs": [
    {
     "data": {
      "text/plain": [
       "115"
      ]
     },
     "execution_count": 400,
     "metadata": {},
     "output_type": "execute_result"
    }
   ],
   "source": [
    "len(bloques_3)"
   ]
  },
  {
   "cell_type": "code",
   "execution_count": 402,
   "id": "70fa840e-53a7-410a-b67f-ec17aa9f645b",
   "metadata": {},
   "outputs": [
    {
     "data": {
      "text/plain": [
       "[<img alt=\"\" aria-label=\"Team\" class=\"avatar mr-2 flex-shrink-0 js-jump-to-suggestion-avatar d-none\" height=\"28\" src=\"\" width=\"28\"/>,\n",
       " <img alt=\"\" aria-label=\"Team\" class=\"avatar mr-2 flex-shrink-0 js-jump-to-suggestion-avatar d-none\" height=\"28\" src=\"\" width=\"28\"/>,\n",
       " <img alt=\"\" aria-label=\"Team\" class=\"avatar mr-2 flex-shrink-0 js-jump-to-suggestion-avatar d-none\" height=\"28\" src=\"\" width=\"28\"/>,\n",
       " <img alt=\"\" aria-label=\"Team\" class=\"avatar mr-2 flex-shrink-0 js-jump-to-suggestion-avatar d-none\" height=\"28\" src=\"\" width=\"28\"/>,\n",
       " <img alt=\"@FrankLeeeee\" class=\"avatar mb-1 avatar-user\" height=\"20\" src=\"https://avatars.githubusercontent.com/u/31818963?s=40&amp;v=4\" width=\"20\"/>,\n",
       " <img alt=\"@feifeibear\" class=\"avatar mb-1 avatar-user\" height=\"20\" src=\"https://avatars.githubusercontent.com/u/5706969?s=40&amp;v=4\" width=\"20\"/>,\n",
       " <img alt=\"@ver217\" class=\"avatar mb-1 avatar-user\" height=\"20\" src=\"https://avatars.githubusercontent.com/u/23111350?s=40&amp;v=4\" width=\"20\"/>,\n",
       " <img alt=\"@YuliangLiu0306\" class=\"avatar mb-1 avatar-user\" height=\"20\" src=\"https://avatars.githubusercontent.com/u/72588413?s=40&amp;v=4\" width=\"20\"/>,\n",
       " <img alt=\"@1SAA\" class=\"avatar mb-1 avatar-user\" height=\"20\" src=\"https://avatars.githubusercontent.com/u/72907851?s=40&amp;v=4\" width=\"20\"/>,\n",
       " <img alt=\"@vinta\" class=\"avatar mb-1 avatar-user\" height=\"20\" src=\"https://avatars.githubusercontent.com/u/652070?s=40&amp;v=4\" width=\"20\"/>]"
      ]
     },
     "execution_count": 402,
     "metadata": {},
     "output_type": "execute_result"
    }
   ],
   "source": [
    "bloques_3[:10]"
   ]
  },
  {
   "cell_type": "code",
   "execution_count": null,
   "id": "f0df3f5a-2c7c-4ad5-966b-3dbc1eb6e755",
   "metadata": {},
   "outputs": [],
   "source": []
  },
  {
   "cell_type": "code",
   "execution_count": null,
   "id": "e2ffe89b-8f3f-4533-88ab-9f0e358de41e",
   "metadata": {},
   "outputs": [],
   "source": []
  },
  {
   "cell_type": "code",
   "execution_count": null,
   "id": "2789bee6-d443-49f7-a720-8925e36ab9c5",
   "metadata": {},
   "outputs": [],
   "source": []
  },
  {
   "cell_type": "code",
   "execution_count": 279,
   "id": "d0ca9871-f7e9-473e-b755-9cd4b611a05a",
   "metadata": {},
   "outputs": [
    {
     "data": {
      "text/plain": [
       "<img alt=\"@FrankLeeeee\" class=\"avatar mb-1 avatar-user\" height=\"20\" src=\"https://avatars.githubusercontent.com/u/31818963?s=40&amp;v=4\" width=\"20\"/>"
      ]
     },
     "execution_count": 279,
     "metadata": {},
     "output_type": "execute_result"
    }
   ],
   "source": [
    "bloques_3[4]"
   ]
  },
  {
   "cell_type": "code",
   "execution_count": 280,
   "id": "4a59c9d7-9e95-4805-be5e-4f334475a638",
   "metadata": {},
   "outputs": [
    {
     "data": {
      "text/plain": [
       "<img alt=\"@feifeibear\" class=\"avatar mb-1 avatar-user\" height=\"20\" src=\"https://avatars.githubusercontent.com/u/5706969?s=40&amp;v=4\" width=\"20\"/>"
      ]
     },
     "execution_count": 280,
     "metadata": {},
     "output_type": "execute_result"
    }
   ],
   "source": [
    "bloques_3[5]"
   ]
  },
  {
   "cell_type": "code",
   "execution_count": 289,
   "id": "9b01c3b3-0c1d-44c6-8ee9-cd17783e2b7d",
   "metadata": {},
   "outputs": [
    {
     "data": {
      "text/plain": [
       "'https://avatars.githubusercontent.com/u/5706969?s=40&v=4'"
      ]
     },
     "execution_count": 289,
     "metadata": {},
     "output_type": "execute_result"
    }
   ],
   "source": [
    "bloques_3[5]['src']"
   ]
  },
  {
   "cell_type": "code",
   "execution_count": null,
   "id": "90a88e97-4e3f-49ba-a918-e741ed3de9f5",
   "metadata": {},
   "outputs": [],
   "source": []
  },
  {
   "cell_type": "code",
   "execution_count": 283,
   "id": "f8465492-50bb-483a-874f-cbf4add6f481",
   "metadata": {},
   "outputs": [
    {
     "name": "stdout",
     "output_type": "stream",
     "text": [
      "\n",
      "\n",
      "\n",
      "\n",
      "https://avatars.githubusercontent.com/u/31818963?s=40&v=4\n",
      "https://avatars.githubusercontent.com/u/5706969?s=40&v=4\n",
      "https://avatars.githubusercontent.com/u/23111350?s=40&v=4\n",
      "https://avatars.githubusercontent.com/u/72588413?s=40&v=4\n",
      "https://avatars.githubusercontent.com/u/72907851?s=40&v=4\n",
      "https://avatars.githubusercontent.com/u/652070?s=40&v=4\n",
      "https://avatars.githubusercontent.com/u/33116358?s=40&v=4\n",
      "https://avatars.githubusercontent.com/u/4560482?s=40&v=4\n",
      "https://avatars.githubusercontent.com/u/596651?s=40&v=4\n",
      "https://avatars.githubusercontent.com/u/178641?s=40&v=4\n",
      "https://avatars.githubusercontent.com/u/22989727?s=40&v=4\n",
      "https://avatars.githubusercontent.com/u/15628872?s=40&v=4\n",
      "https://avatars.githubusercontent.com/u/13104100?s=40&v=4\n",
      "https://avatars.githubusercontent.com/u/12605721?s=40&v=4\n",
      "https://avatars.githubusercontent.com/u/23647349?s=40&v=4\n",
      "https://avatars.githubusercontent.com/u/10349437?s=40&v=4\n",
      "https://avatars.githubusercontent.com/u/37985796?s=40&v=4\n",
      "https://avatars.githubusercontent.com/u/26654315?s=40&v=4\n",
      "https://avatars.githubusercontent.com/u/23431146?s=40&v=4\n",
      "https://avatars.githubusercontent.com/u/59370927?s=40&v=4\n",
      "https://avatars.githubusercontent.com/u/8255800?s=40&v=4\n",
      "https://avatars.githubusercontent.com/u/994371?s=40&v=4\n",
      "https://avatars.githubusercontent.com/u/26538619?s=40&v=4\n",
      "https://avatars.githubusercontent.com/u/42088872?s=40&v=4\n",
      "https://avatars.githubusercontent.com/u/1235073?s=40&v=4\n",
      "https://avatars.githubusercontent.com/u/1810591?s=40&v=4\n",
      "https://avatars.githubusercontent.com/in/68672?s=40&v=4\n",
      "https://avatars.githubusercontent.com/u/16340485?s=40&v=4\n",
      "https://avatars.githubusercontent.com/u/665269?s=40&v=4\n",
      "https://avatars.githubusercontent.com/u/232692?s=40&v=4\n",
      "https://avatars.githubusercontent.com/u/50463866?s=40&v=4\n",
      "https://avatars.githubusercontent.com/u/15134885?s=40&v=4\n",
      "https://avatars.githubusercontent.com/u/36134699?s=40&v=4\n",
      "https://avatars.githubusercontent.com/u/246103?s=40&v=4\n",
      "https://avatars.githubusercontent.com/u/1914165?s=40&v=4\n",
      "https://avatars.githubusercontent.com/u/3491412?s=40&v=4\n",
      "https://avatars.githubusercontent.com/u/1726448?s=40&v=4\n",
      "https://avatars.githubusercontent.com/u/20682858?s=40&v=4\n",
      "https://avatars.githubusercontent.com/u/5720537?s=40&v=4\n",
      "https://avatars.githubusercontent.com/u/7650665?s=40&v=4\n",
      "https://avatars.githubusercontent.com/u/1633844?s=40&v=4\n",
      "https://avatars.githubusercontent.com/u/1239736?s=40&v=4\n",
      "https://avatars.githubusercontent.com/u/28671653?s=40&v=4\n",
      "https://avatars.githubusercontent.com/u/41138331?s=40&v=4\n",
      "https://avatars.githubusercontent.com/u/4560679?s=40&v=4\n",
      "https://avatars.githubusercontent.com/u/19465119?s=40&v=4\n",
      "https://avatars.githubusercontent.com/u/421857?s=40&v=4\n",
      "https://avatars.githubusercontent.com/u/54462604?s=40&v=4\n",
      "https://avatars.githubusercontent.com/u/45375764?s=40&v=4\n",
      "https://avatars.githubusercontent.com/u/108717066?s=40&v=4\n",
      "https://avatars.githubusercontent.com/u/26859204?s=40&v=4\n",
      "https://avatars.githubusercontent.com/u/32893314?s=40&v=4\n",
      "https://avatars.githubusercontent.com/u/32633752?s=40&v=4\n",
      "https://avatars.githubusercontent.com/u/229382?s=40&v=4\n",
      "https://avatars.githubusercontent.com/u/1433753?s=40&v=4\n",
      "https://avatars.githubusercontent.com/u/25131750?s=40&v=4\n",
      "https://avatars.githubusercontent.com/u/117583084?s=40&v=4\n",
      "https://avatars.githubusercontent.com/u/102599361?s=40&v=4\n",
      "https://avatars.githubusercontent.com/u/14334509?s=40&v=4\n",
      "https://avatars.githubusercontent.com/u/4918549?s=40&v=4\n",
      "https://avatars.githubusercontent.com/u/70536672?s=40&v=4\n",
      "https://avatars.githubusercontent.com/u/17043402?s=40&v=4\n",
      "https://avatars.githubusercontent.com/u/482138?s=40&v=4\n",
      "https://avatars.githubusercontent.com/u/1046124?s=40&v=4\n",
      "https://avatars.githubusercontent.com/u/5824729?s=40&v=4\n",
      "https://avatars.githubusercontent.com/u/309417?s=40&v=4\n",
      "https://avatars.githubusercontent.com/u/344995?s=40&v=4\n",
      "https://avatars.githubusercontent.com/in/6924?s=40&v=4\n",
      "https://avatars.githubusercontent.com/u/1385596?s=40&v=4\n",
      "https://avatars.githubusercontent.com/u/9889020?s=40&v=4\n",
      "https://avatars.githubusercontent.com/u/214912?s=40&v=4\n",
      "https://avatars.githubusercontent.com/u/89544?s=40&v=4\n",
      "https://avatars.githubusercontent.com/u/7474657?s=40&v=4\n",
      "https://avatars.githubusercontent.com/u/13017944?s=40&v=4\n",
      "https://avatars.githubusercontent.com/u/10865729?s=40&v=4\n",
      "https://avatars.githubusercontent.com/u/599268?s=40&v=4\n",
      "https://avatars.githubusercontent.com/u/2331406?s=40&v=4\n",
      "https://avatars.githubusercontent.com/u/2894642?s=40&v=4\n",
      "https://avatars.githubusercontent.com/u/219470?s=40&v=4\n",
      "https://avatars.githubusercontent.com/u/144359?s=40&v=4\n",
      "https://avatars.githubusercontent.com/u/588792?s=40&v=4\n",
      "https://avatars.githubusercontent.com/u/194129?s=40&v=4\n",
      "https://avatars.githubusercontent.com/u/3038472?s=40&v=4\n",
      "https://avatars.githubusercontent.com/u/24568452?s=40&v=4\n",
      "https://avatars.githubusercontent.com/u/87408988?s=40&v=4\n",
      "https://avatars.githubusercontent.com/u/3064195?s=40&v=4\n",
      "https://avatars.githubusercontent.com/u/11361692?s=40&v=4\n",
      "https://avatars.githubusercontent.com/u/26592129?s=40&v=4\n",
      "https://avatars.githubusercontent.com/u/12406017?s=40&v=4\n",
      "https://avatars.githubusercontent.com/u/25809855?s=40&v=4\n",
      "https://avatars.githubusercontent.com/u/31891223?s=40&v=4\n",
      "https://avatars.githubusercontent.com/u/50011306?s=40&v=4\n",
      "https://avatars.githubusercontent.com/u/22682999?s=40&v=4\n",
      "https://avatars.githubusercontent.com/u/8463288?s=40&v=4\n",
      "https://avatars.githubusercontent.com/u/40699903?s=40&v=4\n",
      "https://avatars.githubusercontent.com/u/38930155?s=40&v=4\n",
      "https://avatars.githubusercontent.com/u/33053116?s=40&v=4\n",
      "https://avatars.githubusercontent.com/u/1050156?s=40&v=4\n",
      "https://avatars.githubusercontent.com/u/53356347?s=40&v=4\n",
      "https://avatars.githubusercontent.com/u/31998003?s=40&v=4\n",
      "https://avatars.githubusercontent.com/u/18218145?s=40&v=4\n",
      "https://avatars.githubusercontent.com/u/70930885?s=40&v=4\n",
      "https://avatars.githubusercontent.com/u/690814?s=40&v=4\n",
      "https://avatars.githubusercontent.com/u/1673013?s=40&v=4\n",
      "https://avatars.githubusercontent.com/u/709022?s=40&v=4\n",
      "https://avatars.githubusercontent.com/u/6151409?s=40&v=4\n",
      "https://avatars.githubusercontent.com/u/69432?s=40&v=4\n"
     ]
    }
   ],
   "source": [
    "for imag in bloques_3:\n",
    "    print(imag['src'])"
   ]
  },
  {
   "cell_type": "code",
   "execution_count": 284,
   "id": "e400bf6c-6523-4fd9-b603-c6cbc385b13f",
   "metadata": {},
   "outputs": [],
   "source": [
    "repo_link = [imag['src'] for imag in bloques_3 if bool(imag['src'])]"
   ]
  },
  {
   "cell_type": "code",
   "execution_count": 285,
   "id": "9d0a9e7b-fee3-42f9-a99c-8d24cef1351e",
   "metadata": {},
   "outputs": [
    {
     "name": "stdout",
     "output_type": "stream",
     "text": [
      "https://avatars.githubusercontent.com/u/31818963?s=40&v=4\n",
      "https://avatars.githubusercontent.com/u/5706969?s=40&v=4\n",
      "https://avatars.githubusercontent.com/u/23111350?s=40&v=4\n",
      "https://avatars.githubusercontent.com/u/72588413?s=40&v=4\n",
      "https://avatars.githubusercontent.com/u/72907851?s=40&v=4\n",
      "https://avatars.githubusercontent.com/u/652070?s=40&v=4\n",
      "https://avatars.githubusercontent.com/u/33116358?s=40&v=4\n",
      "https://avatars.githubusercontent.com/u/4560482?s=40&v=4\n",
      "https://avatars.githubusercontent.com/u/596651?s=40&v=4\n",
      "https://avatars.githubusercontent.com/u/178641?s=40&v=4\n",
      "https://avatars.githubusercontent.com/u/22989727?s=40&v=4\n",
      "https://avatars.githubusercontent.com/u/15628872?s=40&v=4\n",
      "https://avatars.githubusercontent.com/u/13104100?s=40&v=4\n",
      "https://avatars.githubusercontent.com/u/12605721?s=40&v=4\n",
      "https://avatars.githubusercontent.com/u/23647349?s=40&v=4\n",
      "https://avatars.githubusercontent.com/u/10349437?s=40&v=4\n",
      "https://avatars.githubusercontent.com/u/37985796?s=40&v=4\n",
      "https://avatars.githubusercontent.com/u/26654315?s=40&v=4\n",
      "https://avatars.githubusercontent.com/u/23431146?s=40&v=4\n",
      "https://avatars.githubusercontent.com/u/59370927?s=40&v=4\n",
      "https://avatars.githubusercontent.com/u/8255800?s=40&v=4\n",
      "https://avatars.githubusercontent.com/u/994371?s=40&v=4\n",
      "https://avatars.githubusercontent.com/u/26538619?s=40&v=4\n",
      "https://avatars.githubusercontent.com/u/42088872?s=40&v=4\n",
      "https://avatars.githubusercontent.com/u/1235073?s=40&v=4\n",
      "https://avatars.githubusercontent.com/u/1810591?s=40&v=4\n",
      "https://avatars.githubusercontent.com/in/68672?s=40&v=4\n",
      "https://avatars.githubusercontent.com/u/16340485?s=40&v=4\n",
      "https://avatars.githubusercontent.com/u/665269?s=40&v=4\n",
      "https://avatars.githubusercontent.com/u/232692?s=40&v=4\n",
      "https://avatars.githubusercontent.com/u/50463866?s=40&v=4\n",
      "https://avatars.githubusercontent.com/u/15134885?s=40&v=4\n",
      "https://avatars.githubusercontent.com/u/36134699?s=40&v=4\n",
      "https://avatars.githubusercontent.com/u/246103?s=40&v=4\n",
      "https://avatars.githubusercontent.com/u/1914165?s=40&v=4\n",
      "https://avatars.githubusercontent.com/u/3491412?s=40&v=4\n",
      "https://avatars.githubusercontent.com/u/1726448?s=40&v=4\n",
      "https://avatars.githubusercontent.com/u/20682858?s=40&v=4\n",
      "https://avatars.githubusercontent.com/u/5720537?s=40&v=4\n",
      "https://avatars.githubusercontent.com/u/7650665?s=40&v=4\n",
      "https://avatars.githubusercontent.com/u/1633844?s=40&v=4\n",
      "https://avatars.githubusercontent.com/u/1239736?s=40&v=4\n",
      "https://avatars.githubusercontent.com/u/28671653?s=40&v=4\n",
      "https://avatars.githubusercontent.com/u/41138331?s=40&v=4\n",
      "https://avatars.githubusercontent.com/u/4560679?s=40&v=4\n",
      "https://avatars.githubusercontent.com/u/19465119?s=40&v=4\n",
      "https://avatars.githubusercontent.com/u/421857?s=40&v=4\n",
      "https://avatars.githubusercontent.com/u/54462604?s=40&v=4\n",
      "https://avatars.githubusercontent.com/u/45375764?s=40&v=4\n",
      "https://avatars.githubusercontent.com/u/108717066?s=40&v=4\n",
      "https://avatars.githubusercontent.com/u/26859204?s=40&v=4\n",
      "https://avatars.githubusercontent.com/u/32893314?s=40&v=4\n",
      "https://avatars.githubusercontent.com/u/32633752?s=40&v=4\n",
      "https://avatars.githubusercontent.com/u/229382?s=40&v=4\n",
      "https://avatars.githubusercontent.com/u/1433753?s=40&v=4\n",
      "https://avatars.githubusercontent.com/u/25131750?s=40&v=4\n",
      "https://avatars.githubusercontent.com/u/117583084?s=40&v=4\n",
      "https://avatars.githubusercontent.com/u/102599361?s=40&v=4\n",
      "https://avatars.githubusercontent.com/u/14334509?s=40&v=4\n",
      "https://avatars.githubusercontent.com/u/4918549?s=40&v=4\n",
      "https://avatars.githubusercontent.com/u/70536672?s=40&v=4\n",
      "https://avatars.githubusercontent.com/u/17043402?s=40&v=4\n",
      "https://avatars.githubusercontent.com/u/482138?s=40&v=4\n",
      "https://avatars.githubusercontent.com/u/1046124?s=40&v=4\n",
      "https://avatars.githubusercontent.com/u/5824729?s=40&v=4\n",
      "https://avatars.githubusercontent.com/u/309417?s=40&v=4\n",
      "https://avatars.githubusercontent.com/u/344995?s=40&v=4\n",
      "https://avatars.githubusercontent.com/in/6924?s=40&v=4\n",
      "https://avatars.githubusercontent.com/u/1385596?s=40&v=4\n",
      "https://avatars.githubusercontent.com/u/9889020?s=40&v=4\n",
      "https://avatars.githubusercontent.com/u/214912?s=40&v=4\n",
      "https://avatars.githubusercontent.com/u/89544?s=40&v=4\n",
      "https://avatars.githubusercontent.com/u/7474657?s=40&v=4\n",
      "https://avatars.githubusercontent.com/u/13017944?s=40&v=4\n",
      "https://avatars.githubusercontent.com/u/10865729?s=40&v=4\n",
      "https://avatars.githubusercontent.com/u/599268?s=40&v=4\n",
      "https://avatars.githubusercontent.com/u/2331406?s=40&v=4\n",
      "https://avatars.githubusercontent.com/u/2894642?s=40&v=4\n",
      "https://avatars.githubusercontent.com/u/219470?s=40&v=4\n",
      "https://avatars.githubusercontent.com/u/144359?s=40&v=4\n",
      "https://avatars.githubusercontent.com/u/588792?s=40&v=4\n",
      "https://avatars.githubusercontent.com/u/194129?s=40&v=4\n",
      "https://avatars.githubusercontent.com/u/3038472?s=40&v=4\n",
      "https://avatars.githubusercontent.com/u/24568452?s=40&v=4\n",
      "https://avatars.githubusercontent.com/u/87408988?s=40&v=4\n",
      "https://avatars.githubusercontent.com/u/3064195?s=40&v=4\n",
      "https://avatars.githubusercontent.com/u/11361692?s=40&v=4\n",
      "https://avatars.githubusercontent.com/u/26592129?s=40&v=4\n",
      "https://avatars.githubusercontent.com/u/12406017?s=40&v=4\n",
      "https://avatars.githubusercontent.com/u/25809855?s=40&v=4\n",
      "https://avatars.githubusercontent.com/u/31891223?s=40&v=4\n",
      "https://avatars.githubusercontent.com/u/50011306?s=40&v=4\n",
      "https://avatars.githubusercontent.com/u/22682999?s=40&v=4\n",
      "https://avatars.githubusercontent.com/u/8463288?s=40&v=4\n",
      "https://avatars.githubusercontent.com/u/40699903?s=40&v=4\n",
      "https://avatars.githubusercontent.com/u/38930155?s=40&v=4\n",
      "https://avatars.githubusercontent.com/u/33053116?s=40&v=4\n",
      "https://avatars.githubusercontent.com/u/1050156?s=40&v=4\n",
      "https://avatars.githubusercontent.com/u/53356347?s=40&v=4\n",
      "https://avatars.githubusercontent.com/u/31998003?s=40&v=4\n",
      "https://avatars.githubusercontent.com/u/18218145?s=40&v=4\n",
      "https://avatars.githubusercontent.com/u/70930885?s=40&v=4\n",
      "https://avatars.githubusercontent.com/u/690814?s=40&v=4\n",
      "https://avatars.githubusercontent.com/u/1673013?s=40&v=4\n",
      "https://avatars.githubusercontent.com/u/709022?s=40&v=4\n",
      "https://avatars.githubusercontent.com/u/6151409?s=40&v=4\n",
      "https://avatars.githubusercontent.com/u/69432?s=40&v=4\n"
     ]
    }
   ],
   "source": [
    "for imag in bloques_3:\n",
    "    if bool(imag['src']):\n",
    "        print(imag['src'])"
   ]
  },
  {
   "cell_type": "code",
   "execution_count": 290,
   "id": "32906478-8d94-4802-95c4-f3ff3836d50c",
   "metadata": {},
   "outputs": [
    {
     "data": {
      "text/plain": [
       "['https://avatars.githubusercontent.com/u/31818963?s=40&v=4',\n",
       " 'https://avatars.githubusercontent.com/u/5706969?s=40&v=4',\n",
       " 'https://avatars.githubusercontent.com/u/23111350?s=40&v=4',\n",
       " 'https://avatars.githubusercontent.com/u/72588413?s=40&v=4',\n",
       " 'https://avatars.githubusercontent.com/u/72907851?s=40&v=4',\n",
       " 'https://avatars.githubusercontent.com/u/652070?s=40&v=4',\n",
       " 'https://avatars.githubusercontent.com/u/33116358?s=40&v=4',\n",
       " 'https://avatars.githubusercontent.com/u/4560482?s=40&v=4',\n",
       " 'https://avatars.githubusercontent.com/u/596651?s=40&v=4',\n",
       " 'https://avatars.githubusercontent.com/u/178641?s=40&v=4']"
      ]
     },
     "execution_count": 290,
     "metadata": {},
     "output_type": "execute_result"
    }
   ],
   "source": [
    "repo_usuario[:10]"
   ]
  },
  {
   "cell_type": "code",
   "execution_count": null,
   "id": "54c216bc-ce58-4fc7-9b87-2bf60eb5f6b8",
   "metadata": {},
   "outputs": [],
   "source": []
  },
  {
   "cell_type": "code",
   "execution_count": 109,
   "id": "1d653d82-e580-437f-81de-9c3c87bee163",
   "metadata": {},
   "outputs": [
    {
     "data": {
      "text/plain": [
       "'hpcaitech/ColossalAI'"
      ]
     },
     "execution_count": 109,
     "metadata": {},
     "output_type": "execute_result"
    }
   ],
   "source": [
    "# <div class=\"mw-parser-output\"><style data-mw-deduplicate=\"TemplateStyles:r1097025294\">.mw-parser-output .side-box{margin:4px 0;box-sizing:border-box;border:1px solid #aaa;font-size:88%;line-height:1.25em;background-color:#f9f9f9}.mw-parser-output .side-box-abovebelow,.mw-parser-output .side-box-text{padding:0.25em 0.9em}.mw-parser-output .side-box-image{padding:2px 0 2px 0.9em;text-align:center}.mw-parser-output .side-box-imageright{padding:2px 0.9em 2px 0;text-align:center}@media(min-width:500px){.mw-parser-output .side-box-flex{display:flex;align-items:center}.mw-parser-output .side-box-text{flex:1}}@media(min-width:720px){.mw-parser-output .side-box{width:238px}.mw-parser-output .side-box-right{clear:right;float:right;margin-left:1em}.mw-parser-output .side-box-left{margin-right:1em}}</style><div class=\"side-box side-box-right plainlinks sistersitebox\">\n"
   ]
  },
  {
   "cell_type": "code",
   "execution_count": null,
   "id": "83553c0f-51a0-4fe0-bd63-298bd1f7e475",
   "metadata": {},
   "outputs": [],
   "source": []
  },
  {
   "cell_type": "raw",
   "id": "ba00a83e-9eb2-483c-9c85-fc96957adddb",
   "metadata": {},
   "source": [
    "EJERCICIO 4"
   ]
  },
  {
   "cell_type": "code",
   "execution_count": 61,
   "id": "c8cc2602-86d7-423e-b096-c65a251091b0",
   "metadata": {},
   "outputs": [],
   "source": [
    "url4 ='https://en.wikipedia.org/wiki/Python' "
   ]
  },
  {
   "cell_type": "code",
   "execution_count": 62,
   "id": "eb6e9ec6-ad8d-4f10-853f-3a0b53c7942a",
   "metadata": {},
   "outputs": [],
   "source": [
    "url4 ='https://en.wikipedia.org/wiki/Python' \n",
    "response_4 = requests.get(url4)\n",
    "sopa_git_4 = BeautifulSoup(response_4.content)"
   ]
  },
  {
   "cell_type": "code",
   "execution_count": 63,
   "id": "64499344-22d4-461b-8ce8-55c30063753d",
   "metadata": {},
   "outputs": [],
   "source": [
    "bloques_4= sopa_git_4.select('div.mw-parser-output')"
   ]
  },
  {
   "cell_type": "code",
   "execution_count": null,
   "id": "976b25cc-c32e-442b-9060-ad8df8a2c9ae",
   "metadata": {},
   "outputs": [],
   "source": []
  },
  {
   "cell_type": "code",
   "execution_count": 8,
   "id": "0d7690bc-3c8c-4485-baa4-2bd56e8e3ec7",
   "metadata": {},
   "outputs": [],
   "source": [
    "bloques_4= sopa_git_4.select('ul li')"
   ]
  },
  {
   "cell_type": "code",
   "execution_count": null,
   "id": "76ed623d-7fc5-4d27-a48c-d5ca2eaa8978",
   "metadata": {},
   "outputs": [],
   "source": []
  },
  {
   "cell_type": "code",
   "execution_count": 27,
   "id": "b89455cc-0b6b-41d4-b257-89133da6560d",
   "metadata": {},
   "outputs": [
    {
     "name": "stdout",
     "output_type": "stream",
     "text": [
      "#Snakes\n",
      "#Computing\n",
      "#People\n",
      "#Roller_coasters\n",
      "#Vehicles\n",
      "#Weaponry\n",
      "#Other_uses\n",
      "#See_also\n",
      "/wiki/Pythonidae\n",
      "/wiki/Python_(genus)\n",
      "/wiki/Python_(mythology)\n",
      "/wiki/Python_(programming_language)\n",
      "/wiki/CMU_Common_Lisp\n",
      "/wiki/PERQ#PERQ_3\n",
      "/wiki/Python_of_Aenus\n",
      "/wiki/Python_(painter)\n",
      "/wiki/Python_of_Byzantium\n",
      "/wiki/Python_of_Catana\n",
      "/wiki/Python_Anghelo\n",
      "/wiki/Python_(Efteling)\n",
      "/wiki/Python_(Busch_Gardens_Tampa_Bay)\n",
      "/wiki/Python_(Coney_Island,_Cincinnati,_Ohio)\n",
      "/wiki/Python_(automobile_maker)\n",
      "/wiki/Python_(Ford_prototype)\n",
      "/wiki/Python_(missile)\n",
      "/wiki/Python_(nuclear_primary)\n",
      "/wiki/Colt_Python\n",
      "/wiki/Python_(codename)\n",
      "/wiki/Python_(film)\n",
      "/wiki/Monty_Python\n",
      "/wiki/Python_(Monty)_Pictures\n",
      "/wiki/Timon_of_Phlius\n",
      "/wiki/Cython\n",
      "/wiki/Pyton\n",
      "/wiki/Pithon\n",
      "/wiki/Category:Disambiguation_pages\n",
      "/wiki/Category:Human_name_disambiguation_pages\n",
      "/wiki/Category:Disambiguation_pages_with_given-name-holder_lists\n",
      "/wiki/Category:Disambiguation_pages_with_short_descriptions\n",
      "/wiki/Category:Short_description_is_different_from_Wikidata\n",
      "/wiki/Category:All_article_disambiguation_pages\n",
      "/wiki/Category:All_disambiguation_pages\n",
      "/wiki/Category:Animal_common_name_disambiguation_pages\n",
      "/wiki/Special:MyTalk\n",
      "/wiki/Special:MyContributions\n",
      "/w/index.php?title=Special:CreateAccount&returnto=Python\n",
      "/w/index.php?title=Special:UserLogin&returnto=Python\n",
      "/wiki/Python\n",
      "/wiki/Talk:Python\n",
      "/wiki/Python\n",
      "/w/index.php?title=Python&action=edit\n",
      "/w/index.php?title=Python&action=history\n",
      "/wiki/Main_Page\n",
      "/wiki/Wikipedia:Contents\n",
      "/wiki/Portal:Current_events\n",
      "/wiki/Special:Random\n",
      "/wiki/Wikipedia:About\n",
      "//en.wikipedia.org/wiki/Wikipedia:Contact_us\n",
      "https://donate.wikimedia.org/wiki/Special:FundraiserRedirector?utm_source=donate&utm_medium=sidebar&utm_campaign=C13_en.wikipedia.org&uselang=en\n",
      "/wiki/Help:Contents\n",
      "/wiki/Help:Introduction\n",
      "/wiki/Wikipedia:Community_portal\n",
      "/wiki/Special:RecentChanges\n",
      "/wiki/Wikipedia:File_Upload_Wizard\n",
      "/wiki/Special:WhatLinksHere/Python\n",
      "/wiki/Special:RecentChangesLinked/Python\n",
      "/wiki/Wikipedia:File_Upload_Wizard\n",
      "/wiki/Special:SpecialPages\n",
      "/w/index.php?title=Python&oldid=1120123765\n",
      "/w/index.php?title=Python&action=info\n",
      "/w/index.php?title=Special:CiteThisPage&page=Python&id=1120123765&wpFormIdentifier=titleform\n",
      "https://www.wikidata.org/wiki/Special:EntityPage/Q747452\n",
      "/w/index.php?title=Special:DownloadAsPdf&page=Python&action=show-download-screen\n",
      "/w/index.php?title=Python&printable=yes\n",
      "https://commons.wikimedia.org/wiki/Category:Python\n",
      "https://af.wikipedia.org/wiki/Python\n",
      "https://als.wikipedia.org/wiki/Python\n",
      "https://ar.wikipedia.org/wiki/%D8%A8%D8%A7%D9%8A%D8%AB%D9%88%D9%86_(%D8%AA%D9%88%D8%B6%D9%8A%D8%AD)\n",
      "https://az.wikipedia.org/wiki/Python\n",
      "https://bn.wikipedia.org/wiki/%E0%A6%AA%E0%A6%BE%E0%A6%87%E0%A6%A5%E0%A6%A8_(%E0%A6%A6%E0%A7%8D%E0%A6%AC%E0%A7%8D%E0%A6%AF%E0%A6%B0%E0%A7%8D%E0%A6%A5%E0%A6%A4%E0%A6%BE_%E0%A6%A8%E0%A6%BF%E0%A6%B0%E0%A6%B8%E0%A6%A8)\n",
      "https://be.wikipedia.org/wiki/Python\n",
      "https://bg.wikipedia.org/wiki/%D0%9F%D0%B8%D1%82%D0%BE%D0%BD_(%D0%BF%D0%BE%D1%8F%D1%81%D0%BD%D0%B5%D0%BD%D0%B8%D0%B5)\n",
      "https://cs.wikipedia.org/wiki/Python_(rozcestn%C3%ADk)\n",
      "https://da.wikipedia.org/wiki/Python\n",
      "https://de.wikipedia.org/wiki/Python\n",
      "https://eo.wikipedia.org/wiki/Pitono_(apartigilo)\n",
      "https://eu.wikipedia.org/wiki/Python_(argipena)\n",
      "https://fa.wikipedia.org/wiki/%D9%BE%D8%A7%DB%8C%D8%AA%D9%88%D9%86\n",
      "https://fr.wikipedia.org/wiki/Python\n",
      "https://ko.wikipedia.org/wiki/%ED%8C%8C%EC%9D%B4%EC%84%A0\n",
      "https://hr.wikipedia.org/wiki/Python_(razdvojba)\n",
      "https://io.wikipedia.org/wiki/Pitono\n",
      "https://id.wikipedia.org/wiki/Python\n",
      "https://ia.wikipedia.org/wiki/Python_(disambiguation)\n",
      "https://is.wikipedia.org/wiki/Python_(a%C3%B0greining)\n",
      "https://it.wikipedia.org/wiki/Python_(disambigua)\n",
      "https://he.wikipedia.org/wiki/%D7%A4%D7%99%D7%AA%D7%95%D7%9F\n",
      "https://ka.wikipedia.org/wiki/%E1%83%9E%E1%83%98%E1%83%97%E1%83%9D%E1%83%9C%E1%83%98_(%E1%83%9B%E1%83%A0%E1%83%90%E1%83%95%E1%83%90%E1%83%9A%E1%83%9B%E1%83%9C%E1%83%98%E1%83%A8%E1%83%95%E1%83%9C%E1%83%94%E1%83%9A%E1%83%9D%E1%83%95%E1%83%90%E1%83%9C%E1%83%98)\n",
      "https://kg.wikipedia.org/wiki/Mboma_(nyoka)\n",
      "https://la.wikipedia.org/wiki/Python_(discretiva)\n",
      "https://lb.wikipedia.org/wiki/Python\n",
      "https://hu.wikipedia.org/wiki/Python_(egy%C3%A9rtelm%C5%B1s%C3%ADt%C5%91_lap)\n",
      "https://mr.wikipedia.org/wiki/%E0%A4%AA%E0%A4%BE%E0%A4%AF%E0%A4%A5%E0%A5%89%E0%A4%A8_(%E0%A4%86%E0%A4%9C%E0%A5%8D%E0%A4%9E%E0%A4%BE%E0%A4%B5%E0%A4%B2%E0%A5%80_%E0%A4%AD%E0%A4%BE%E0%A4%B7%E0%A4%BE)\n",
      "https://nl.wikipedia.org/wiki/Python\n",
      "https://ja.wikipedia.org/wiki/%E3%83%91%E3%82%A4%E3%82%BD%E3%83%B3\n",
      "https://no.wikipedia.org/wiki/Pyton\n",
      "https://pl.wikipedia.org/wiki/Pyton\n",
      "https://pt.wikipedia.org/wiki/Python_(desambigua%C3%A7%C3%A3o)\n",
      "https://ru.wikipedia.org/wiki/Python_(%D0%B7%D0%BD%D0%B0%D1%87%D0%B5%D0%BD%D0%B8%D1%8F)\n",
      "https://sk.wikipedia.org/wiki/Python\n",
      "https://sr.wikipedia.org/wiki/%D0%9F%D0%B8%D1%82%D0%BE%D0%BD_(%D0%B2%D0%B8%D1%88%D0%B5%D0%B7%D0%BD%D0%B0%D1%87%D0%BD%D0%B0_%D0%BE%D0%B4%D1%80%D0%B5%D0%B4%D0%BD%D0%B8%D1%86%D0%B0)\n",
      "https://sh.wikipedia.org/wiki/Python\n",
      "https://fi.wikipedia.org/wiki/Python\n",
      "https://sv.wikipedia.org/wiki/Pyton\n",
      "https://th.wikipedia.org/wiki/%E0%B9%84%E0%B8%9E%E0%B8%97%E0%B8%AD%E0%B8%99\n",
      "https://tr.wikipedia.org/wiki/Python_(anlam_ayr%C4%B1m%C4%B1)\n",
      "https://uk.wikipedia.org/wiki/%D0%9F%D1%96%D1%84%D0%BE%D0%BD\n",
      "https://ur.wikipedia.org/wiki/%D9%BE%D8%A7%D8%A6%DB%8C%D8%AA%DA%BE%D9%88%D9%86\n",
      "https://vi.wikipedia.org/wiki/Python\n",
      "https://zh.wikipedia.org/wiki/Python_(%E6%B6%88%E6%AD%A7%E4%B9%89)\n",
      "//en.wikipedia.org/wiki/Wikipedia:Text_of_Creative_Commons_Attribution-ShareAlike_3.0_Unported_License\n",
      "//creativecommons.org/licenses/by-sa/3.0/\n",
      "//foundation.wikimedia.org/wiki/Terms_of_Use\n",
      "//foundation.wikimedia.org/wiki/Privacy_policy\n",
      "//www.wikimediafoundation.org/\n",
      "https://foundation.wikimedia.org/wiki/Privacy_policy\n",
      "/wiki/Wikipedia:About\n",
      "/wiki/Wikipedia:General_disclaimer\n",
      "//en.wikipedia.org/wiki/Wikipedia:Contact_us\n",
      "//en.m.wikipedia.org/w/index.php?title=Python&mobileaction=toggle_view_mobile\n",
      "https://developer.wikimedia.org\n",
      "https://stats.wikimedia.org/#/en.wikipedia.org\n",
      "https://foundation.wikimedia.org/wiki/Cookie_statement\n",
      "https://wikimediafoundation.org/\n",
      "https://www.mediawiki.org/\n"
     ]
    }
   ],
   "source": [
    "for link in bloques_5:\n",
    "    print(link['href'])"
   ]
  },
  {
   "cell_type": "code",
   "execution_count": 77,
   "id": "07fe13e5-251c-4ffc-907e-c8bdda036735",
   "metadata": {
    "tags": []
   },
   "outputs": [],
   "source": [
    "url4 ='https://en.wikipedia.org/wiki/Python' \n",
    "response_4 = requests.get(url4)\n",
    "sopa_git_4 = BeautifulSoup(response_4.content)\n",
    "bloques_5= sopa_git_4.select('li a')"
   ]
  },
  {
   "cell_type": "code",
   "execution_count": 78,
   "id": "f27ac42a-12c0-4c7a-9a87-30fb15a13883",
   "metadata": {},
   "outputs": [
    {
     "data": {
      "text/plain": [
       "[<a href=\"#Snakes\"><span class=\"tocnumber\">1</span> <span class=\"toctext\">Snakes</span></a>,\n",
       " <a href=\"#Computing\"><span class=\"tocnumber\">2</span> <span class=\"toctext\">Computing</span></a>,\n",
       " <a href=\"#People\"><span class=\"tocnumber\">3</span> <span class=\"toctext\">People</span></a>,\n",
       " <a href=\"#Roller_coasters\"><span class=\"tocnumber\">4</span> <span class=\"toctext\">Roller coasters</span></a>,\n",
       " <a href=\"#Vehicles\"><span class=\"tocnumber\">5</span> <span class=\"toctext\">Vehicles</span></a>]"
      ]
     },
     "execution_count": 78,
     "metadata": {},
     "output_type": "execute_result"
    }
   ],
   "source": [
    "bloques_5[:5]"
   ]
  },
  {
   "cell_type": "code",
   "execution_count": 79,
   "id": "79c4ff14-8b29-4b2e-9681-80cd670458dc",
   "metadata": {},
   "outputs": [
    {
     "data": {
      "text/plain": [
       "'#Snakes'"
      ]
     },
     "execution_count": 79,
     "metadata": {},
     "output_type": "execute_result"
    }
   ],
   "source": [
    "bloques_5[0]['href']"
   ]
  },
  {
   "cell_type": "code",
   "execution_count": 80,
   "id": "540b724d-38f5-4129-973e-64149cae16eb",
   "metadata": {},
   "outputs": [],
   "source": [
    "for link in bloques_5:\n",
    "    links.append(link.get('a[href]'))"
   ]
  },
  {
   "cell_type": "code",
   "execution_count": 81,
   "id": "24df8b30-4d9b-4683-9568-15fdee772e49",
   "metadata": {},
   "outputs": [
    {
     "data": {
      "text/plain": [
       "[None,\n",
       " '#mw-head',\n",
       " '#searchInput',\n",
       " 'https://en.wiktionary.org/wiki/Python',\n",
       " 'https://en.wiktionary.org/wiki/python',\n",
       " '#Snakes',\n",
       " '#Computing',\n",
       " '#People',\n",
       " '#Roller_coasters',\n",
       " '#Vehicles',\n",
       " '#Weaponry',\n",
       " '#Other_uses',\n",
       " '#See_also',\n",
       " '/w/index.php?title=Python&action=edit&section=1',\n",
       " '/wiki/Pythonidae',\n",
       " '/wiki/Python_(genus)',\n",
       " '/wiki/Python_(mythology)',\n",
       " '/w/index.php?title=Python&action=edit&section=2',\n",
       " '/wiki/Python_(programming_language)',\n",
       " '/wiki/CMU_Common_Lisp']"
      ]
     },
     "execution_count": 81,
     "metadata": {},
     "output_type": "execute_result"
    }
   ],
   "source": [
    "links[:20]"
   ]
  },
  {
   "cell_type": "code",
   "execution_count": 53,
   "id": "e4add79e-034b-470c-bc1e-f6a4c60684a9",
   "metadata": {},
   "outputs": [],
   "source": [
    "from bs4 import BeautifulSoup\n",
    "from urllib.request import Request, urlopen\n",
    "import re"
   ]
  },
  {
   "cell_type": "code",
   "execution_count": 72,
   "id": "7ff18a4e-da1c-43c1-8f35-531e742066d3",
   "metadata": {},
   "outputs": [
    {
     "name": "stdout",
     "output_type": "stream",
     "text": [
      "[None, '#mw-head', '#searchInput', 'https://en.wiktionary.org/wiki/Python', 'https://en.wiktionary.org/wiki/python', '#Snakes', '#Computing', '#People', '#Roller_coasters', '#Vehicles', '#Weaponry', '#Other_uses', '#See_also', '/w/index.php?title=Python&action=edit&section=1', '/wiki/Pythonidae', '/wiki/Python_(genus)', '/wiki/Python_(mythology)', '/w/index.php?title=Python&action=edit&section=2', '/wiki/Python_(programming_language)', '/wiki/CMU_Common_Lisp', '/wiki/PERQ#PERQ_3', '/w/index.php?title=Python&action=edit&section=3', '/wiki/Python_of_Aenus', '/wiki/Python_(painter)', '/wiki/Python_of_Byzantium', '/wiki/Python_of_Catana', '/wiki/Python_Anghelo', '/w/index.php?title=Python&action=edit&section=4', '/wiki/Python_(Efteling)', '/wiki/Python_(Busch_Gardens_Tampa_Bay)', '/wiki/Python_(Coney_Island,_Cincinnati,_Ohio)', '/w/index.php?title=Python&action=edit&section=5', '/wiki/Python_(automobile_maker)', '/wiki/Python_(Ford_prototype)', '/w/index.php?title=Python&action=edit&section=6', '/wiki/Python_(missile)', '/wiki/Python_(nuclear_primary)', '/wiki/Colt_Python', '/w/index.php?title=Python&action=edit&section=7', '/wiki/Python_(codename)', '/wiki/Python_(film)', '/wiki/Monty_Python', '/wiki/Python_(Monty)_Pictures', '/wiki/Timon_of_Phlius', '/w/index.php?title=Python&action=edit&section=8', '/wiki/Cython', '/wiki/Pyton', '/wiki/Pithon', '/wiki/File:Disambig_gray.svg', '/wiki/Help:Disambiguation', 'https://en.wikipedia.org/w/index.php?title=Special:WhatLinksHere/Python&namespace=0', 'https://en.wikipedia.org/w/index.php?title=Python&oldid=1120123765', '/wiki/Help:Category', '/wiki/Category:Disambiguation_pages', '/wiki/Category:Human_name_disambiguation_pages', '/wiki/Category:Disambiguation_pages_with_given-name-holder_lists', '/wiki/Category:Disambiguation_pages_with_short_descriptions', '/wiki/Category:Short_description_is_different_from_Wikidata', '/wiki/Category:All_article_disambiguation_pages', '/wiki/Category:All_disambiguation_pages', '/wiki/Category:Animal_common_name_disambiguation_pages', '/wiki/Special:MyTalk', '/wiki/Special:MyContributions', '/w/index.php?title=Special:CreateAccount&returnto=Python', '/w/index.php?title=Special:UserLogin&returnto=Python', '/wiki/Python', '/wiki/Talk:Python', '/wiki/Python', '/w/index.php?title=Python&action=edit', '/w/index.php?title=Python&action=history', '/wiki/Main_Page', '/wiki/Main_Page', '/wiki/Wikipedia:Contents', '/wiki/Portal:Current_events', '/wiki/Special:Random', '/wiki/Wikipedia:About', '//en.wikipedia.org/wiki/Wikipedia:Contact_us', 'https://donate.wikimedia.org/wiki/Special:FundraiserRedirector?utm_source=donate&utm_medium=sidebar&utm_campaign=C13_en.wikipedia.org&uselang=en', '/wiki/Help:Contents', '/wiki/Help:Introduction', '/wiki/Wikipedia:Community_portal', '/wiki/Special:RecentChanges', '/wiki/Wikipedia:File_Upload_Wizard', '/wiki/Special:WhatLinksHere/Python', '/wiki/Special:RecentChangesLinked/Python', '/wiki/Wikipedia:File_Upload_Wizard', '/wiki/Special:SpecialPages', '/w/index.php?title=Python&oldid=1120123765', '/w/index.php?title=Python&action=info', '/w/index.php?title=Special:CiteThisPage&page=Python&id=1120123765&wpFormIdentifier=titleform', 'https://www.wikidata.org/wiki/Special:EntityPage/Q747452', '/w/index.php?title=Special:DownloadAsPdf&page=Python&action=show-download-screen', '/w/index.php?title=Python&printable=yes', 'https://commons.wikimedia.org/wiki/Category:Python', 'https://af.wikipedia.org/wiki/Python', 'https://als.wikipedia.org/wiki/Python', 'https://ar.wikipedia.org/wiki/%D8%A8%D8%A7%D9%8A%D8%AB%D9%88%D9%86_(%D8%AA%D9%88%D8%B6%D9%8A%D8%AD)', 'https://az.wikipedia.org/wiki/Python', 'https://bn.wikipedia.org/wiki/%E0%A6%AA%E0%A6%BE%E0%A6%87%E0%A6%A5%E0%A6%A8_(%E0%A6%A6%E0%A7%8D%E0%A6%AC%E0%A7%8D%E0%A6%AF%E0%A6%B0%E0%A7%8D%E0%A6%A5%E0%A6%A4%E0%A6%BE_%E0%A6%A8%E0%A6%BF%E0%A6%B0%E0%A6%B8%E0%A6%A8)', 'https://be.wikipedia.org/wiki/Python', 'https://bg.wikipedia.org/wiki/%D0%9F%D0%B8%D1%82%D0%BE%D0%BD_(%D0%BF%D0%BE%D1%8F%D1%81%D0%BD%D0%B5%D0%BD%D0%B8%D0%B5)', 'https://cs.wikipedia.org/wiki/Python_(rozcestn%C3%ADk)', 'https://da.wikipedia.org/wiki/Python', 'https://de.wikipedia.org/wiki/Python', 'https://eo.wikipedia.org/wiki/Pitono_(apartigilo)', 'https://eu.wikipedia.org/wiki/Python_(argipena)', 'https://fa.wikipedia.org/wiki/%D9%BE%D8%A7%DB%8C%D8%AA%D9%88%D9%86', 'https://fr.wikipedia.org/wiki/Python', 'https://ko.wikipedia.org/wiki/%ED%8C%8C%EC%9D%B4%EC%84%A0', 'https://hr.wikipedia.org/wiki/Python_(razdvojba)', 'https://io.wikipedia.org/wiki/Pitono', 'https://id.wikipedia.org/wiki/Python', 'https://ia.wikipedia.org/wiki/Python_(disambiguation)', 'https://is.wikipedia.org/wiki/Python_(a%C3%B0greining)', 'https://it.wikipedia.org/wiki/Python_(disambigua)', 'https://he.wikipedia.org/wiki/%D7%A4%D7%99%D7%AA%D7%95%D7%9F', 'https://ka.wikipedia.org/wiki/%E1%83%9E%E1%83%98%E1%83%97%E1%83%9D%E1%83%9C%E1%83%98_(%E1%83%9B%E1%83%A0%E1%83%90%E1%83%95%E1%83%90%E1%83%9A%E1%83%9B%E1%83%9C%E1%83%98%E1%83%A8%E1%83%95%E1%83%9C%E1%83%94%E1%83%9A%E1%83%9D%E1%83%95%E1%83%90%E1%83%9C%E1%83%98)', 'https://kg.wikipedia.org/wiki/Mboma_(nyoka)', 'https://la.wikipedia.org/wiki/Python_(discretiva)', 'https://lb.wikipedia.org/wiki/Python', 'https://hu.wikipedia.org/wiki/Python_(egy%C3%A9rtelm%C5%B1s%C3%ADt%C5%91_lap)', 'https://mr.wikipedia.org/wiki/%E0%A4%AA%E0%A4%BE%E0%A4%AF%E0%A4%A5%E0%A5%89%E0%A4%A8_(%E0%A4%86%E0%A4%9C%E0%A5%8D%E0%A4%9E%E0%A4%BE%E0%A4%B5%E0%A4%B2%E0%A5%80_%E0%A4%AD%E0%A4%BE%E0%A4%B7%E0%A4%BE)', 'https://nl.wikipedia.org/wiki/Python', 'https://ja.wikipedia.org/wiki/%E3%83%91%E3%82%A4%E3%82%BD%E3%83%B3', 'https://no.wikipedia.org/wiki/Pyton', 'https://pl.wikipedia.org/wiki/Pyton', 'https://pt.wikipedia.org/wiki/Python_(desambigua%C3%A7%C3%A3o)', 'https://ru.wikipedia.org/wiki/Python_(%D0%B7%D0%BD%D0%B0%D1%87%D0%B5%D0%BD%D0%B8%D1%8F)', 'https://sk.wikipedia.org/wiki/Python', 'https://sr.wikipedia.org/wiki/%D0%9F%D0%B8%D1%82%D0%BE%D0%BD_(%D0%B2%D0%B8%D1%88%D0%B5%D0%B7%D0%BD%D0%B0%D1%87%D0%BD%D0%B0_%D0%BE%D0%B4%D1%80%D0%B5%D0%B4%D0%BD%D0%B8%D1%86%D0%B0)', 'https://sh.wikipedia.org/wiki/Python', 'https://fi.wikipedia.org/wiki/Python', 'https://sv.wikipedia.org/wiki/Pyton', 'https://th.wikipedia.org/wiki/%E0%B9%84%E0%B8%9E%E0%B8%97%E0%B8%AD%E0%B8%99', 'https://tr.wikipedia.org/wiki/Python_(anlam_ayr%C4%B1m%C4%B1)', 'https://uk.wikipedia.org/wiki/%D0%9F%D1%96%D1%84%D0%BE%D0%BD', 'https://ur.wikipedia.org/wiki/%D9%BE%D8%A7%D8%A6%DB%8C%D8%AA%DA%BE%D9%88%D9%86', 'https://vi.wikipedia.org/wiki/Python', 'https://zh.wikipedia.org/wiki/Python_(%E6%B6%88%E6%AD%A7%E4%B9%89)', 'https://www.wikidata.org/wiki/Special:EntityPage/Q747452#sitelinks-wikipedia', '//en.wikipedia.org/wiki/Wikipedia:Text_of_Creative_Commons_Attribution-ShareAlike_3.0_Unported_License', '//creativecommons.org/licenses/by-sa/3.0/', '//foundation.wikimedia.org/wiki/Terms_of_Use', '//foundation.wikimedia.org/wiki/Privacy_policy', '//www.wikimediafoundation.org/', 'https://foundation.wikimedia.org/wiki/Privacy_policy', '/wiki/Wikipedia:About', '/wiki/Wikipedia:General_disclaimer', '//en.wikipedia.org/wiki/Wikipedia:Contact_us', '//en.m.wikipedia.org/w/index.php?title=Python&mobileaction=toggle_view_mobile', 'https://developer.wikimedia.org', 'https://stats.wikimedia.org/#/en.wikipedia.org', 'https://foundation.wikimedia.org/wiki/Cookie_statement', 'https://wikimediafoundation.org/', 'https://www.mediawiki.org/']\n"
     ]
    }
   ],
   "source": [
    "req = Request('https://en.wikipedia.org/wiki/Python')\n",
    "html_page = urlopen(req)\n",
    "soup = BeautifulSoup(html_page, \"lxml\")\n",
    "links = []\n",
    "for link in soup.findAll('a'):\n",
    "    links.append(link.get('href'))\n",
    "print(links)\n"
   ]
  },
  {
   "cell_type": "code",
   "execution_count": null,
   "id": "58d43b6c-067f-4c48-bdde-b916e14df6a6",
   "metadata": {},
   "outputs": [],
   "source": [
    "links = []\n",
    "for link in soup.findAll('a'):\n",
    "    links.append(link.get('href'))"
   ]
  },
  {
   "cell_type": "code",
   "execution_count": 88,
   "id": "bd139a46-5ed8-4058-b7f2-dfbc67ea323d",
   "metadata": {},
   "outputs": [],
   "source": [
    "bloques_5=[]"
   ]
  },
  {
   "cell_type": "code",
   "execution_count": null,
   "id": "2220a192-6f24-4f39-91c9-84b4d2b0a68e",
   "metadata": {},
   "outputs": [],
   "source": [
    "<div class=\"uscitemlist\">"
   ]
  },
  {
   "cell_type": "code",
   "execution_count": 6,
   "id": "bf99e43f-73c9-43f8-b437-34e6533bc30c",
   "metadata": {},
   "outputs": [],
   "source": [
    "url5 ='http://uscode.house.gov/download/download.shtml' \n",
    "response_4 = requests.get(url5)\n",
    "sopa_git_4 = BeautifulSoup(response_4.content, 'html5lib') #sopa = BeautifulSoup(driver.page_source, 'html5lib')\n",
    "bloques_5= sopa_git_4.select('div.uscitemlist')"
   ]
  },
  {
   "cell_type": "code",
   "execution_count": 16,
   "id": "6294aace-b225-4dba-8157-90483830bbac",
   "metadata": {
    "tags": []
   },
   "outputs": [],
   "source": [
    "titulos_2 = bloques_5[0].get('div.usctitle')"
   ]
  },
  {
   "cell_type": "code",
   "execution_count": 19,
   "id": "0e2d55e3-f4b5-4b4c-b010-37cdddcb0494",
   "metadata": {},
   "outputs": [
    {
     "name": "stdout",
     "output_type": "stream",
     "text": [
      "None\n"
     ]
    }
   ],
   "source": [
    "print(titulos_2)"
   ]
  },
  {
   "cell_type": "code",
   "execution_count": null,
   "id": "ca7ddba5-8f8c-41e1-93e2-f6dffefb5dce",
   "metadata": {},
   "outputs": [],
   "source": []
  },
  {
   "cell_type": "code",
   "execution_count": null,
   "id": "7c411170-d365-4fce-a572-8f8c87fefe10",
   "metadata": {},
   "outputs": [],
   "source": []
  },
  {
   "cell_type": "code",
   "execution_count": 2,
   "id": "e7338b8f-52b8-418f-aada-5f9d8f03cdf2",
   "metadata": {},
   "outputs": [],
   "source": [
    "from bs4 import BeautifulSoup\n",
    "from urllib.request import Request, urlopen\n",
    "import re"
   ]
  },
  {
   "cell_type": "code",
   "execution_count": 109,
   "id": "d03dddb3-e6db-4b5c-8661-fcd1a7efb77b",
   "metadata": {
    "tags": []
   },
   "outputs": [],
   "source": [
    "req = Request('http://uscode.house.gov/download/download.shtml')\n",
    "html_page = urlopen(req)\n",
    "soup_2 = BeautifulSoup(html_page, \"lxml\")\n",
    "bloques_5= soup_2.findAll('div.uscitemlist')"
   ]
  },
  {
   "cell_type": "code",
   "execution_count": 110,
   "id": "0a523bcb-5729-4235-939c-ee24cab69d30",
   "metadata": {},
   "outputs": [
    {
     "data": {
      "text/plain": [
       "[]"
      ]
     },
     "execution_count": 110,
     "metadata": {},
     "output_type": "execute_result"
    }
   ],
   "source": [
    "bloques_5"
   ]
  },
  {
   "cell_type": "code",
   "execution_count": 105,
   "id": "ce353934-ce90-4c54-953b-c05e19beeece",
   "metadata": {},
   "outputs": [],
   "source": [
    "bloques_5=[]"
   ]
  },
  {
   "cell_type": "code",
   "execution_count": 123,
   "id": "74d66b12-7a97-4b94-9355-14a2a26b9e17",
   "metadata": {},
   "outputs": [],
   "source": [
    "url5 ='http://uscode.house.gov/download/download.shtml' \n",
    "response_4 = requests.get(url5)\n",
    "sopa_git_4 = BeautifulSoup(response_4.content, 'html5lib') #sopa = BeautifulSoup(driver.page_source, 'html5lib')\n",
    "bloques_5= sopa_git_4.select('div.uscitem') #('div.usctitle')"
   ]
  },
  {
   "cell_type": "code",
   "execution_count": 82,
   "id": "f2a0f4ae-872b-4325-975f-b628d9ca0489",
   "metadata": {},
   "outputs": [
    {
     "data": {
      "text/plain": [
       "[]"
      ]
     },
     "execution_count": 82,
     "metadata": {},
     "output_type": "execute_result"
    }
   ],
   "source": [
    "bloques_5[59].select('.usctitle')"
   ]
  },
  {
   "cell_type": "code",
   "execution_count": 124,
   "id": "161c61a5-d038-4e3b-81c8-bc98b40054a8",
   "metadata": {
    "tags": []
   },
   "outputs": [
    {
     "data": {
      "text/plain": [
       "60"
      ]
     },
     "execution_count": 124,
     "metadata": {},
     "output_type": "execute_result"
    }
   ],
   "source": [
    "len(bloques_5)"
   ]
  },
  {
   "cell_type": "code",
   "execution_count": 125,
   "id": "8cf28a34-7873-4985-b7ae-8cc308f7bd6b",
   "metadata": {},
   "outputs": [
    {
     "data": {
      "text/plain": [
       "<div class=\"uscitem\">\n",
       "\n",
       "        <div class=\"usctitle\" id=\"alltitles\">\n",
       "\n",
       "          All titles in the format selected compressed into a zip archive.\n",
       "\n",
       "        </div>\n",
       "\n",
       "\n",
       "\n",
       "        <div class=\"itemcurrency\">\n",
       "\n",
       "           \n",
       "\n",
       "        </div>\n",
       "\n",
       "\n",
       "\n",
       "        <div class=\"itemdownloadlinks\">\n",
       "\n",
       "          <a href=\"releasepoints/us/pl/117/214/xml_uscAll@117-214.zip\" title=\"All USC Titles in XML\">[XML]</a> <a href=\"releasepoints/us/pl/117/214/htm_uscAll@117-214.zip\" title=\"All USC Titles in XHTML\">[XHTML]</a> <a href=\"releasepoints/us/pl/117/214/pcc_uscAll@117-214.zip\" title=\"All USC Titles in PCC\">[PCC]</a> <a href=\"releasepoints/us/pl/117/214/pdf_uscAll@117-214.zip\" title=\"All USC Titles in PDF\">[PDF]</a>\n",
       "\n",
       "        </div>\n",
       "\n",
       "      </div>"
      ]
     },
     "execution_count": 125,
     "metadata": {},
     "output_type": "execute_result"
    }
   ],
   "source": [
    "bloques_5[0]"
   ]
  },
  {
   "cell_type": "code",
   "execution_count": 138,
   "id": "8a508aae-0dca-4969-9c54-2d42a40cc0c5",
   "metadata": {},
   "outputs": [
    {
     "data": {
      "text/plain": [
       "[<div class=\"itemcurrency\">\n",
       " \n",
       "            \n",
       " \n",
       "         </div>,\n",
       " <div class=\"itemdownloadlinks\">\n",
       " \n",
       "           <a href=\"releasepoints/us/pl/117/214/xml_uscAll@117-214.zip\" title=\"All USC Titles in XML\">[XML]</a> <a href=\"releasepoints/us/pl/117/214/htm_uscAll@117-214.zip\" title=\"All USC Titles in XHTML\">[XHTML]</a> <a href=\"releasepoints/us/pl/117/214/pcc_uscAll@117-214.zip\" title=\"All USC Titles in PCC\">[PCC]</a> <a href=\"releasepoints/us/pl/117/214/pdf_uscAll@117-214.zip\" title=\"All USC Titles in PDF\">[PDF]</a>\n",
       " \n",
       "         </div>,\n",
       " <a href=\"releasepoints/us/pl/117/214/xml_uscAll@117-214.zip\" title=\"All USC Titles in XML\">[XML]</a>,\n",
       " <a href=\"releasepoints/us/pl/117/214/htm_uscAll@117-214.zip\" title=\"All USC Titles in XHTML\">[XHTML]</a>,\n",
       " <a href=\"releasepoints/us/pl/117/214/pcc_uscAll@117-214.zip\" title=\"All USC Titles in PCC\">[PCC]</a>,\n",
       " <a href=\"releasepoints/us/pl/117/214/pdf_uscAll@117-214.zip\" title=\"All USC Titles in PDF\">[PDF]</a>]"
      ]
     },
     "execution_count": 138,
     "metadata": {},
     "output_type": "execute_result"
    }
   ],
   "source": [
    "bloques_5[0].select(':not(#alltitles)')"
   ]
  },
  {
   "cell_type": "code",
   "execution_count": null,
   "id": "7bfe1533-9efa-4412-9902-81b6541d9d3c",
   "metadata": {},
   "outputs": [],
   "source": []
  },
  {
   "cell_type": "code",
   "execution_count": null,
   "id": "404e4852-c43f-451a-a12d-eab26adb3a6e",
   "metadata": {},
   "outputs": [],
   "source": []
  },
  {
   "cell_type": "code",
   "execution_count": 133,
   "id": "a2cbb296-a256-4f10-a7d9-889def058044",
   "metadata": {},
   "outputs": [
    {
     "data": {
      "text/plain": [
       "'All titles in the format selected compressed into a zip archive.'"
      ]
     },
     "execution_count": 133,
     "metadata": {},
     "output_type": "execute_result"
    }
   ],
   "source": [
    "bloques_5[0].select('div.usctitle , div.usctitlechanged , div.usctitle:not(#alltitles)')[0].text.strip('\\n ').replace(\" ٭\", \"\")#.replace(\" \", \"\") "
   ]
  },
  {
   "cell_type": "code",
   "execution_count": 127,
   "id": "9345ab7a-45bb-435c-adb9-d9777ca9b659",
   "metadata": {},
   "outputs": [],
   "source": [
    "lista_num = []\n",
    "for info in bloques_5:\n",
    "    try:\n",
    "        lista_num.append(info.select('div.usctitle , div.usctitlechanged')[0].text.strip('\\n ').replace(\" ٭\", \"\"))\n",
    "    except:\n",
    "        x=0\n",
    "        "
   ]
  },
  {
   "cell_type": "code",
   "execution_count": 128,
   "id": "2c71ad45-234a-4baa-a7f4-efb26df29172",
   "metadata": {},
   "outputs": [
    {
     "data": {
      "text/plain": [
       "['All titles in the format selected compressed into a zip archive.',\n",
       " 'Title 1 - General Provisions',\n",
       " 'Title 2 - The Congress',\n",
       " 'Title 3 - The President',\n",
       " 'Title 4 - Flag and Seal, Seat of Government, and the States',\n",
       " 'Title 5 - Government Organization and Employees',\n",
       " 'Title 6 - Domestic Security',\n",
       " 'Title 7 - Agriculture',\n",
       " 'Title 8 - Aliens and Nationality',\n",
       " 'Title 9 - Arbitration',\n",
       " 'Title 10 - Armed Forces',\n",
       " 'Title 11 - Bankruptcy',\n",
       " 'Title 12 - Banks and Banking',\n",
       " 'Title 13 - Census',\n",
       " 'Title 14 - Coast Guard',\n",
       " 'Title 15 - Commerce and Trade',\n",
       " 'Title 16 - Conservation',\n",
       " 'Title 17 - Copyrights',\n",
       " 'Title 18 - Crimes and Criminal Procedure',\n",
       " 'Title 19 - Customs Duties',\n",
       " 'Title 20 - Education',\n",
       " 'Title 21 - Food and Drugs',\n",
       " 'Title 22 - Foreign Relations and Intercourse',\n",
       " 'Title 23 - Highways',\n",
       " 'Title 24 - Hospitals and Asylums',\n",
       " 'Title 25 - Indians',\n",
       " 'Title 26 - Internal Revenue Code',\n",
       " 'Title 27 - Intoxicating Liquors',\n",
       " 'Title 28 - Judiciary and Judicial Procedure',\n",
       " 'Title 29 - Labor',\n",
       " 'Title 30 - Mineral Lands and Mining',\n",
       " 'Title 31 - Money and Finance',\n",
       " 'Title 32 - National Guard',\n",
       " 'Title 33 - Navigation and Navigable Waters',\n",
       " 'Title 34 - Crime Control and Law Enforcement',\n",
       " 'Title 35 - Patents',\n",
       " 'Title 36 - Patriotic and National Observances, Ceremonies, and Organizations',\n",
       " 'Title 37 - Pay and Allowances of the Uniformed Services',\n",
       " \"Title 38 - Veterans' Benefits\",\n",
       " 'Title 39 - Postal Service',\n",
       " 'Title 40 - Public Buildings, Property, and Works',\n",
       " 'Title 41 - Public Contracts',\n",
       " 'Title 42 - The Public Health and Welfare',\n",
       " 'Title 43 - Public Lands',\n",
       " 'Title 44 - Public Printing and Documents',\n",
       " 'Title 45 - Railroads',\n",
       " 'Title 46 - Shipping',\n",
       " 'Title 47 - Telecommunications',\n",
       " 'Title 48 - Territories and Insular Possessions',\n",
       " 'Title 49 - Transportation',\n",
       " 'Title 50 - War and National Defense',\n",
       " 'Title 51 - National and Commercial Space Programs',\n",
       " 'Title 52 - Voting and Elections',\n",
       " 'Title 53 [Reserved]',\n",
       " 'Title 54 - National Park Service and Related Programs']"
      ]
     },
     "execution_count": 128,
     "metadata": {},
     "output_type": "execute_result"
    }
   ],
   "source": [
    "lista_num"
   ]
  },
  {
   "cell_type": "code",
   "execution_count": 129,
   "id": "d3505d3f-08c1-488f-8b67-fb54810c5bba",
   "metadata": {},
   "outputs": [
    {
     "data": {
      "text/plain": [
       "'All titles in the format selected compressed into a zip archive.'"
      ]
     },
     "execution_count": 129,
     "metadata": {},
     "output_type": "execute_result"
    }
   ],
   "source": [
    "lista_num.pop(0)"
   ]
  },
  {
   "cell_type": "code",
   "execution_count": 130,
   "id": "42a847f3-da41-499e-9390-c32be09387b5",
   "metadata": {},
   "outputs": [
    {
     "data": {
      "text/plain": [
       "['Title 1 - General Provisions',\n",
       " 'Title 2 - The Congress',\n",
       " 'Title 3 - The President',\n",
       " 'Title 4 - Flag and Seal, Seat of Government, and the States',\n",
       " 'Title 5 - Government Organization and Employees',\n",
       " 'Title 6 - Domestic Security',\n",
       " 'Title 7 - Agriculture',\n",
       " 'Title 8 - Aliens and Nationality',\n",
       " 'Title 9 - Arbitration',\n",
       " 'Title 10 - Armed Forces',\n",
       " 'Title 11 - Bankruptcy',\n",
       " 'Title 12 - Banks and Banking',\n",
       " 'Title 13 - Census',\n",
       " 'Title 14 - Coast Guard',\n",
       " 'Title 15 - Commerce and Trade',\n",
       " 'Title 16 - Conservation',\n",
       " 'Title 17 - Copyrights',\n",
       " 'Title 18 - Crimes and Criminal Procedure',\n",
       " 'Title 19 - Customs Duties',\n",
       " 'Title 20 - Education',\n",
       " 'Title 21 - Food and Drugs',\n",
       " 'Title 22 - Foreign Relations and Intercourse',\n",
       " 'Title 23 - Highways',\n",
       " 'Title 24 - Hospitals and Asylums',\n",
       " 'Title 25 - Indians',\n",
       " 'Title 26 - Internal Revenue Code',\n",
       " 'Title 27 - Intoxicating Liquors',\n",
       " 'Title 28 - Judiciary and Judicial Procedure',\n",
       " 'Title 29 - Labor',\n",
       " 'Title 30 - Mineral Lands and Mining',\n",
       " 'Title 31 - Money and Finance',\n",
       " 'Title 32 - National Guard',\n",
       " 'Title 33 - Navigation and Navigable Waters',\n",
       " 'Title 34 - Crime Control and Law Enforcement',\n",
       " 'Title 35 - Patents',\n",
       " 'Title 36 - Patriotic and National Observances, Ceremonies, and Organizations',\n",
       " 'Title 37 - Pay and Allowances of the Uniformed Services',\n",
       " \"Title 38 - Veterans' Benefits\",\n",
       " 'Title 39 - Postal Service',\n",
       " 'Title 40 - Public Buildings, Property, and Works',\n",
       " 'Title 41 - Public Contracts',\n",
       " 'Title 42 - The Public Health and Welfare',\n",
       " 'Title 43 - Public Lands',\n",
       " 'Title 44 - Public Printing and Documents',\n",
       " 'Title 45 - Railroads',\n",
       " 'Title 46 - Shipping',\n",
       " 'Title 47 - Telecommunications',\n",
       " 'Title 48 - Territories and Insular Possessions',\n",
       " 'Title 49 - Transportation',\n",
       " 'Title 50 - War and National Defense',\n",
       " 'Title 51 - National and Commercial Space Programs',\n",
       " 'Title 52 - Voting and Elections',\n",
       " 'Title 53 [Reserved]',\n",
       " 'Title 54 - National Park Service and Related Programs']"
      ]
     },
     "execution_count": 130,
     "metadata": {},
     "output_type": "execute_result"
    }
   ],
   "source": [
    "lista_num"
   ]
  },
  {
   "cell_type": "code",
   "execution_count": null,
   "id": "7ab34705-702c-443f-aed6-197f09a276d7",
   "metadata": {},
   "outputs": [],
   "source": []
  },
  {
   "cell_type": "code",
   "execution_count": null,
   "id": "66a4c71c-3d8e-4465-ba12-b8bcbaa3f9c6",
   "metadata": {},
   "outputs": [],
   "source": []
  },
  {
   "cell_type": "code",
   "execution_count": null,
   "id": "dc6e09e7-455b-4c92-aa0c-55b80e7ad9eb",
   "metadata": {},
   "outputs": [],
   "source": []
  },
  {
   "cell_type": "code",
   "execution_count": null,
   "id": "ec248919-9e7b-4fae-af87-fd15b123f85e",
   "metadata": {},
   "outputs": [],
   "source": []
  },
  {
   "cell_type": "code",
   "execution_count": null,
   "id": "d6cdf2b7-b979-47d2-9f36-ac6340afa76d",
   "metadata": {},
   "outputs": [],
   "source": []
  },
  {
   "cell_type": "code",
   "execution_count": null,
   "id": "497e96ed-2d6e-4f39-b23e-097791cd568d",
   "metadata": {},
   "outputs": [],
   "source": []
  },
  {
   "cell_type": "code",
   "execution_count": 121,
   "id": "e6764d2a-d4b2-490b-a407-b20bbeec1934",
   "metadata": {},
   "outputs": [
    {
     "name": "stderr",
     "output_type": "stream",
     "text": [
      "/opt/anaconda3/lib/python3.9/site-packages/bs4/builder/__init__.py:545: XMLParsedAsHTMLWarning: It looks like you're parsing an XML document using an HTML parser. If this really is an HTML document (maybe it's XHTML?), you can ignore or filter this warning. If it's XML, you should know that using an XML parser will be more reliable. To parse this document as XML, make sure you have the lxml package installed, and pass the keyword argument `features=\"xml\"` into the BeautifulSoup constructor.\n",
      "  warnings.warn(\n"
     ]
    }
   ],
   "source": [
    "url5 ='http://uscode.house.gov/download/download.shtml' \n",
    "response_4 = requests.get(url5)\n",
    "sopa_git_4 = BeautifulSoup(response_4.content, 'html5lib') #sopa = BeautifulSoup(driver.page_source, 'html5lib')\n",
    "bloques_5= sopa_git_4.select('div.usctitle') #('div.usctitle')"
   ]
  },
  {
   "cell_type": "code",
   "execution_count": 122,
   "id": "9af59fb4-5861-4de1-89cc-f4392c59bdd1",
   "metadata": {},
   "outputs": [
    {
     "data": {
      "text/plain": [
       "47"
      ]
     },
     "execution_count": 122,
     "metadata": {},
     "output_type": "execute_result"
    }
   ],
   "source": [
    "len(bloques_5)"
   ]
  },
  {
   "cell_type": "code",
   "execution_count": 78,
   "id": "8eff5d98-7cd5-4e23-b523-3cfbc372fef6",
   "metadata": {},
   "outputs": [
    {
     "data": {
      "text/plain": [
       "'\\n\\n          All titles in the format selected compressed into a zip archive.\\n\\n        '"
      ]
     },
     "execution_count": 78,
     "metadata": {},
     "output_type": "execute_result"
    }
   ],
   "source": [
    "bloques_5[0].text"
   ]
  },
  {
   "cell_type": "code",
   "execution_count": 79,
   "id": "8bf071ca-31d1-4dca-8141-d091b84ab2e1",
   "metadata": {},
   "outputs": [],
   "source": [
    "lista_num = []\n",
    "for info in bloques_5:\n",
    "    try:\n",
    "        lista_num.append(info.text)\n",
    "    except:\n",
    "        lista_num.append('0')"
   ]
  },
  {
   "cell_type": "code",
   "execution_count": 80,
   "id": "f214d908-c2c7-4375-9414-a0558364d8c5",
   "metadata": {
    "tags": []
   },
   "outputs": [
    {
     "data": {
      "text/plain": [
       "['\\n\\n          All titles in the format selected compressed into a zip archive.\\n\\n        ',\n",
       " '\\n\\n             \\xa0\\n\\n\\t        ',\n",
       " '\\n\\n          Title 1 - General Provisions ٭\\n\\n        ',\n",
       " '\\n\\n          Title 2 - The Congress\\n\\n        ',\n",
       " '\\n\\n          Title 3 - The President ٭\\n\\n        ',\n",
       " '\\n\\n          Title 4 - Flag and Seal, Seat of Government, and the States ٭\\n\\n        ',\n",
       " '\\n\\n          Title 5 - Government Organization and Employees ٭\\n\\n        ',\n",
       " '\\n\\n          Title 6 - Domestic Security\\n\\n        ',\n",
       " '\\n\\n          Title 7 - Agriculture\\n\\n        ',\n",
       " '\\n\\n          Title 8 - Aliens and Nationality\\n\\n        ',\n",
       " '\\n\\n          Title 9 - Arbitration ٭\\n\\n        ',\n",
       " '\\n\\n          Title 10 - Armed Forces ٭\\n\\n        ',\n",
       " '\\n\\n          Title 11 - Bankruptcy ٭\\n\\n        ',\n",
       " '\\n\\n          Title 12 - Banks and Banking\\n\\n        ',\n",
       " '\\n\\n          Title 13 - Census ٭\\n\\n        ',\n",
       " '\\n\\n          Title 14 - Coast Guard ٭\\n\\n        ',\n",
       " '\\n\\n          Title 15 - Commerce and Trade\\n\\n        ',\n",
       " '\\n\\n          Title 16 - Conservation\\n\\n        ',\n",
       " '\\n\\n          Title 18 - Crimes and Criminal Procedure ٭\\n\\n        ',\n",
       " '\\n\\n          Title 19 - Customs Duties\\n\\n        ',\n",
       " '\\n\\n          Title 20 - Education\\n\\n        ',\n",
       " '\\n\\n          Title 21 - Food and Drugs\\n\\n        ',\n",
       " '\\n\\n          Title 23 - Highways ٭\\n\\n        ',\n",
       " '\\n\\n          Title 24 - Hospitals and Asylums\\n\\n        ',\n",
       " '\\n\\n          Title 25 - Indians\\n\\n        ',\n",
       " '\\n\\n          Title 26 - Internal Revenue Code\\n\\n        ',\n",
       " '\\n\\n          Title 27 - Intoxicating Liquors\\n\\n        ',\n",
       " '\\n\\n          Title 28 - Judiciary and Judicial Procedure ٭\\n\\n        ',\n",
       " '\\n\\n          Title 29 - Labor\\n\\n        ',\n",
       " '\\n\\n          Title 30 - Mineral Lands and Mining\\n\\n        ',\n",
       " '\\n\\n          Title 31 - Money and Finance ٭\\n\\n        ',\n",
       " '\\n\\n          Title 32 - National Guard ٭\\n\\n        ',\n",
       " '\\n\\n          Title 33 - Navigation and Navigable Waters\\n\\n        ',\n",
       " '\\n\\n          Title 34 - Crime Control and Law Enforcement\\n\\n        ',\n",
       " '\\n\\n          Title 35 - Patents ٭\\n\\n        ',\n",
       " '\\n\\n          Title 36 - Patriotic and National Observances, Ceremonies, and Organizations ٭\\n\\n        ',\n",
       " '\\n\\n          Title 37 - Pay and Allowances of the Uniformed Services ٭\\n\\n        ',\n",
       " '\\n\\n          Title 39 - Postal Service ٭\\n\\n        ',\n",
       " '\\n\\n          Title 43 - Public Lands\\n\\n        ',\n",
       " '\\n\\n          Title 45 - Railroads\\n\\n        ',\n",
       " '\\n\\n          Title 46 - Shipping ٭\\n\\n        ',\n",
       " '\\n\\n          Title 47 - Telecommunications\\n\\n        ',\n",
       " '\\n\\n          Title 48 - Territories and Insular Possessions\\n\\n        ',\n",
       " '\\n\\n          Title 50 - War and National Defense\\n\\n        ',\n",
       " '\\n\\n          Title 51 - National and Commercial Space Programs ٭\\n\\n        ',\n",
       " '\\n\\n          Title 52 - Voting and Elections\\n\\n        ',\n",
       " '\\n\\n          Title 53 [Reserved]\\n\\n        ']"
      ]
     },
     "execution_count": 80,
     "metadata": {},
     "output_type": "execute_result"
    }
   ],
   "source": [
    "lista_num"
   ]
  },
  {
   "cell_type": "markdown",
   "id": "c7dff79e-bb6a-444e-8444-dae6a5276dea",
   "metadata": {},
   "source": [
    "#### A Python list with the top ten FBI's Most Wanted names "
   ]
  },
  {
   "cell_type": "code",
   "execution_count": 150,
   "id": "935c2409-07d1-42c0-b4c6-ea407948f2de",
   "metadata": {},
   "outputs": [],
   "source": [
    "url6 ='https://www.fbi.gov/wanted/topten' \n",
    "response_6 = requests.get(url6)\n",
    "sopa_git_6 = BeautifulSoup(response_6.content, 'html5lib') #sopa = BeautifulSoup(driver.page_source, 'html5lib')\n",
    "bloques_6= sopa_git_6.select('li.portal-type-person.castle-grid-block-item') #('div.usctitle')\n"
   ]
  },
  {
   "cell_type": "code",
   "execution_count": null,
   "id": "85d02c7e-5975-46a8-bff0-3dd8c8472aed",
   "metadata": {},
   "outputs": [],
   "source": [
    "lista_title = []\n",
    "for info in bloques_6:\n",
    "    try:\n",
    "        lista_title.append(info.select('div.usctitle , div.usctitlechanged')[0].text.strip('\\n ').replace(\" ٭\", \"\"))\n",
    "    except:\n",
    "        x=0\n",
    "lista_title.pop(0)"
   ]
  },
  {
   "cell_type": "code",
   "execution_count": 154,
   "id": "2b49fdf4-3a13-4d95-9b70-e81a3dd75a8e",
   "metadata": {},
   "outputs": [
    {
     "data": {
      "text/plain": [
       "'ARNOLDO JIMENEZ'"
      ]
     },
     "execution_count": 154,
     "metadata": {},
     "output_type": "execute_result"
    }
   ],
   "source": [
    "bloques_6[0].text.strip('\\n ')"
   ]
  },
  {
   "cell_type": "code",
   "execution_count": null,
   "id": "5040375e-2dfe-4fa1-bb85-4a15c9b22128",
   "metadata": {},
   "outputs": [],
   "source": [
    "for link in bloques_4:\n",
    "    links.append(link['href'])"
   ]
  },
  {
   "cell_type": "code",
   "execution_count": 155,
   "id": "8088e360-d9a0-4399-8b8e-d6e5b05e95fa",
   "metadata": {},
   "outputs": [],
   "source": [
    "nombres_bus = [nombre.text.strip('\\n ') for nombre in bloques_6]"
   ]
  },
  {
   "cell_type": "code",
   "execution_count": 156,
   "id": "e486d703-a2f4-49fb-8f23-0554920add4c",
   "metadata": {},
   "outputs": [
    {
     "data": {
      "text/plain": [
       "['ARNOLDO JIMENEZ',\n",
       " 'OMAR ALEXANDER CARDENAS',\n",
       " 'ALEXIS FLORES',\n",
       " 'JOSE RODOLFO VILLARREAL-HERNANDEZ',\n",
       " 'YULAN ADONAY ARCHAGA CARIAS',\n",
       " 'BHADRESHKUMAR CHETANBHAI PATEL',\n",
       " 'ALEJANDRO ROSALES CASTILLO',\n",
       " 'MICHAEL JAMES PRATT',\n",
       " 'RUJA IGNATOVA',\n",
       " 'RAFAEL CARO-QUINTERO']"
      ]
     },
     "execution_count": 156,
     "metadata": {},
     "output_type": "execute_result"
    }
   ],
   "source": [
    "nombres_bus"
   ]
  },
  {
   "cell_type": "code",
   "execution_count": null,
   "id": "863b2606-30eb-4c5c-847d-bb604ba69a33",
   "metadata": {},
   "outputs": [],
   "source": []
  },
  {
   "cell_type": "markdown",
   "id": "e3ee5c48-ca7c-4391-b9c4-3dfd698ea67a",
   "metadata": {},
   "source": [
    "#### 20 latest earthquakes info (date, time, latitude, longitude and region name) by the EMSC as a pandas dataframe"
   ]
  },
  {
   "cell_type": "code",
   "execution_count": 240,
   "id": "7a250f3f-0917-4ff9-ac83-4ba2292116b8",
   "metadata": {},
   "outputs": [],
   "source": [
    "url7 ='https://www.emsc-csem.org/Earthquake/'\n",
    "response_7 = requests.get(url7)\n",
    "sopa_git_7 = BeautifulSoup(response_7.content, 'html5lib') #sopa = BeautifulSoup(driver.page_source, 'html5lib')\n",
    "bloques_7= sopa_git_7.select('tr.ligne1') #('div.usctitle')"
   ]
  },
  {
   "cell_type": "code",
   "execution_count": 177,
   "id": "5b9ce80f-3545-4c69-93fc-be0818da65ea",
   "metadata": {},
   "outputs": [],
   "source": [
    "info_tabla = str(bloques_7[3])"
   ]
  },
  {
   "cell_type": "code",
   "execution_count": 210,
   "id": "039e6782-cbae-4cdb-9644-ee552d27a0a7",
   "metadata": {},
   "outputs": [],
   "source": [
    "info_tabla = str(sopa_git_7.select('tr.ligne1'))"
   ]
  },
  {
   "cell_type": "code",
   "execution_count": 192,
   "id": "57512bc9-eb16-4afe-b9c5-85ea7f0f4fcb",
   "metadata": {},
   "outputs": [],
   "source": [
    "df = pd.read_html(info_tabla)"
   ]
  },
  {
   "cell_type": "code",
   "execution_count": 193,
   "id": "a8fe1730-c7e3-42e1-8e68-72b417773c40",
   "metadata": {},
   "outputs": [
    {
     "ename": "AttributeError",
     "evalue": "'list' object has no attribute 'head'",
     "output_type": "error",
     "traceback": [
      "\u001b[0;31m---------------------------------------------------------------------------\u001b[0m",
      "\u001b[0;31mAttributeError\u001b[0m                            Traceback (most recent call last)",
      "Input \u001b[0;32mIn [193]\u001b[0m, in \u001b[0;36m<cell line: 1>\u001b[0;34m()\u001b[0m\n\u001b[0;32m----> 1\u001b[0m \u001b[43mdf\u001b[49m\u001b[38;5;241;43m.\u001b[39;49m\u001b[43mhead\u001b[49m()\n",
      "\u001b[0;31mAttributeError\u001b[0m: 'list' object has no attribute 'head'"
     ]
    }
   ],
   "source": [
    "df.head()"
   ]
  },
  {
   "cell_type": "code",
   "execution_count": 213,
   "id": "99ee66e3-0969-49f3-b84c-7f2b08baa7b2",
   "metadata": {},
   "outputs": [
    {
     "data": {
      "text/plain": [
       "25"
      ]
     },
     "execution_count": 213,
     "metadata": {},
     "output_type": "execute_result"
    }
   ],
   "source": [
    "len(bloques_7)"
   ]
  },
  {
   "cell_type": "code",
   "execution_count": 241,
   "id": "aca30fae-4e9e-4f1c-ada6-52111260de22",
   "metadata": {},
   "outputs": [
    {
     "data": {
      "text/plain": [
       "'NORTHERN CALIFORNIA'"
      ]
     },
     "execution_count": 241,
     "metadata": {},
     "output_type": "execute_result"
    }
   ],
   "source": [
    "bloques_7[0].select('td.tb_region')[0].text.replace(\"\\xa0\", \"\")"
   ]
  },
  {
   "cell_type": "code",
   "execution_count": 221,
   "id": "05325b62-b4cb-4203-81d5-4eef6279ef06",
   "metadata": {},
   "outputs": [],
   "source": [
    "lista_lugar = [lugar.select('td.tb_region')[0].text.replace(\"\\xa0\", \"\") for lugar in bloques_7]"
   ]
  },
  {
   "cell_type": "code",
   "execution_count": 222,
   "id": "bd21a4f7-9d92-4c2c-b013-0876ff96b5d5",
   "metadata": {},
   "outputs": [
    {
     "data": {
      "text/plain": [
       "['ANTOFAGASTA, CHILE',\n",
       " 'PUERTO RICO',\n",
       " 'ANTOFAGASTA, CHILE',\n",
       " 'OFFSHORE COQUIMBO, CHILE',\n",
       " 'CENTRAL ITALY',\n",
       " 'BANDA SEA',\n",
       " 'ISLAND OF HAWAII, HAWAII',\n",
       " 'ISLAND OF HAWAII, HAWAII',\n",
       " 'NEAR COAST OF NICARAGUA',\n",
       " 'PHILIPPINE ISLANDS REGION',\n",
       " 'OFFSHORE VALPARAISO, CHILE',\n",
       " 'PAKISTAN',\n",
       " 'OFFSHORE COQUIMBO, CHILE',\n",
       " 'CENTRAL CALIFORNIA',\n",
       " 'WESTERN TURKEY',\n",
       " 'FIJI REGION',\n",
       " 'STRAIT OF GIBRALTAR',\n",
       " 'PYRENEES',\n",
       " 'ISLAND OF HAWAII, HAWAII',\n",
       " 'OFFSHORE VALPARAISO, CHILE',\n",
       " 'ANTOFAGASTA, CHILE',\n",
       " 'OFF COAST OF OREGON',\n",
       " 'PUERTO RICO REGION',\n",
       " 'PHILIPPINE ISLANDS REGION',\n",
       " 'STRAIT OF GIBRALTAR']"
      ]
     },
     "execution_count": 222,
     "metadata": {},
     "output_type": "execute_result"
    }
   ],
   "source": [
    "lista_lugar"
   ]
  },
  {
   "cell_type": "code",
   "execution_count": 223,
   "id": "dac254ba-b21d-4d47-8a85-d81b11c79803",
   "metadata": {},
   "outputs": [],
   "source": [
    "df = pd.DataFrame(lista_lugar, columns=['LUGAR'])"
   ]
  },
  {
   "cell_type": "code",
   "execution_count": 225,
   "id": "f0f43c38-1ee6-4ff2-bf45-b1db9034ae9f",
   "metadata": {},
   "outputs": [
    {
     "data": {
      "text/html": [
       "<div>\n",
       "<style scoped>\n",
       "    .dataframe tbody tr th:only-of-type {\n",
       "        vertical-align: middle;\n",
       "    }\n",
       "\n",
       "    .dataframe tbody tr th {\n",
       "        vertical-align: top;\n",
       "    }\n",
       "\n",
       "    .dataframe thead th {\n",
       "        text-align: right;\n",
       "    }\n",
       "</style>\n",
       "<table border=\"1\" class=\"dataframe\">\n",
       "  <thead>\n",
       "    <tr style=\"text-align: right;\">\n",
       "      <th></th>\n",
       "      <th>LUGAR</th>\n",
       "    </tr>\n",
       "  </thead>\n",
       "  <tbody>\n",
       "    <tr>\n",
       "      <th>0</th>\n",
       "      <td>ANTOFAGASTA, CHILE</td>\n",
       "    </tr>\n",
       "    <tr>\n",
       "      <th>1</th>\n",
       "      <td>PUERTO RICO</td>\n",
       "    </tr>\n",
       "    <tr>\n",
       "      <th>2</th>\n",
       "      <td>ANTOFAGASTA, CHILE</td>\n",
       "    </tr>\n",
       "    <tr>\n",
       "      <th>3</th>\n",
       "      <td>OFFSHORE COQUIMBO, CHILE</td>\n",
       "    </tr>\n",
       "    <tr>\n",
       "      <th>4</th>\n",
       "      <td>CENTRAL ITALY</td>\n",
       "    </tr>\n",
       "  </tbody>\n",
       "</table>\n",
       "</div>"
      ],
      "text/plain": [
       "                      LUGAR\n",
       "0        ANTOFAGASTA, CHILE\n",
       "1               PUERTO RICO\n",
       "2        ANTOFAGASTA, CHILE\n",
       "3  OFFSHORE COQUIMBO, CHILE\n",
       "4             CENTRAL ITALY"
      ]
     },
     "execution_count": 225,
     "metadata": {},
     "output_type": "execute_result"
    }
   ],
   "source": [
    "df.head()"
   ]
  },
  {
   "cell_type": "code",
   "execution_count": null,
   "id": "daad9603-a6ae-4910-bd6d-5c234f654fa6",
   "metadata": {
    "tags": []
   },
   "outputs": [],
   "source": [
    "lugar.select('td.tb_region')[0].text.replace(\"\\xa0\", \"\") for lugar in bloques_7"
   ]
  },
  {
   "cell_type": "code",
   "execution_count": 249,
   "id": "934aac8d-3ad1-4111-b244-6546a98b0bac",
   "metadata": {},
   "outputs": [
    {
     "data": {
      "text/plain": [
       "'39.55'"
      ]
     },
     "execution_count": 249,
     "metadata": {},
     "output_type": "execute_result"
    }
   ],
   "source": [
    "bloques_7[0].select('td.tabev1')[0].text.replace(\"\\xa0\", \"\") ## longitud1"
   ]
  },
  {
   "cell_type": "code",
   "execution_count": 250,
   "id": "848e9846-f5da-4c23-8d84-1f663268963d",
   "metadata": {},
   "outputs": [
    {
     "data": {
      "text/plain": [
       "'122.97'"
      ]
     },
     "execution_count": 250,
     "metadata": {},
     "output_type": "execute_result"
    }
   ],
   "source": [
    "bloques_7[0].select('td.tabev1')[1].text.replace(\"\\xa0\", \"\") ## longitud 2"
   ]
  },
  {
   "cell_type": "code",
   "execution_count": 251,
   "id": "3d8f8d77-40a8-404d-b710-56d09af0b8da",
   "metadata": {},
   "outputs": [
    {
     "data": {
      "text/plain": [
       "'2022-11-1401:31:16.6'"
      ]
     },
     "execution_count": 251,
     "metadata": {},
     "output_type": "execute_result"
    }
   ],
   "source": [
    "bloques_7[0].select('b a')[0].text.replace(\"\\xa0\", \"\") ## longitud 2"
   ]
  },
  {
   "cell_type": "code",
   "execution_count": null,
   "id": "da8231fa-8c11-4fd5-9512-6f14875612b0",
   "metadata": {},
   "outputs": [],
   "source": []
  },
  {
   "cell_type": "code",
   "execution_count": null,
   "id": "81769545-e395-491d-93c9-bcedbc48bfb4",
   "metadata": {},
   "outputs": [],
   "source": []
  },
  {
   "cell_type": "code",
   "execution_count": 252,
   "id": "329e2d9f-a5c4-43c3-bd4d-a899ef1713a3",
   "metadata": {},
   "outputs": [],
   "source": [
    "lista_final=[]\n",
    "lista_t=[]\n",
    "for item in bloques_7:\n",
    "    lugar = item.select('td.tb_region')[0].text.replace(\"\\xa0\", \"\") \n",
    "    latitud = item.select('td.tabev1')[0].text.replace(\"\\xa0\", \"\") \n",
    "    longitud = item.select('td.tabev1')[1].text.replace(\"\\xa0\", \"\")\n",
    "    date_time = item.select('b a')[0].text.replace(\"\\xa0\", \"\") \n",
    "    lista_t.append(lugar)\n",
    "    lista_t.append(latitud)\n",
    "    lista_t.append(longitud)\n",
    "    lista_t.append(date_time)\n",
    "    lista_final.append(lista_t)\n",
    "    lista_t=[]"
   ]
  },
  {
   "cell_type": "code",
   "execution_count": 253,
   "id": "3b0e89dd-bc3f-4f3a-b670-56157609655e",
   "metadata": {},
   "outputs": [
    {
     "data": {
      "text/plain": [
       "[['NORTHERN CALIFORNIA', '39.55', '122.97', '2022-11-1401:31:16.6'],\n",
       " ['SUNDA STRAIT, INDONESIA', '6.53', '105.92', '2022-11-1401:13:16.0'],\n",
       " ['HALMAHERA, INDONESIA', '2.27', '129.40', '2022-11-1401:06:05.0'],\n",
       " ['PERU-ECUADOR BORDER REGION', '4.86', '80.76', '2022-11-1400:54:02.0'],\n",
       " ['STRAIT OF GIBRALTAR', '35.49', '3.66', '2022-11-1400:25:38.1'],\n",
       " ['ISLAND OF HAWAII, HAWAII', '19.43', '155.57', '2022-11-1400:23:53.2'],\n",
       " ['SPAIN', '42.06', '7.22', '2022-11-1400:12:21.2'],\n",
       " ['OFFSHORE VALPARAISO, CHILE', '32.17', '71.93', '2022-11-1323:44:11.0'],\n",
       " ['NORTHERN ALASKA', '67.51', '158.44', '2022-11-1323:31:43.4'],\n",
       " ['CENTRAL CALIFORNIA', '35.48', '118.30', '2022-11-1323:20:38.5'],\n",
       " ['OFFSHORE VALPARAISO, CHILE', '32.16', '71.95', '2022-11-1323:04:35.0'],\n",
       " ['GULF OF ADEN', '12.00', '46.71', '2022-11-1322:56:03.8'],\n",
       " ['MARIANA ISLANDS REGION', '21.47', '143.17', '2022-11-1322:28:40.5'],\n",
       " ['OFFSHORE VALPARAISO, CHILE', '32.17', '71.87', '2022-11-1322:14:21.0'],\n",
       " ['OFFSHORE VALPARAISO, CHILE', '32.16', '71.87', '2022-11-1322:08:46.0'],\n",
       " ['SOUTHERN ALASKA', '61.16', '150.84', '2022-11-1322:03:22.9'],\n",
       " ['SICILY, ITALY', '38.37', '15.40', '2022-11-1321:45:56.2'],\n",
       " ['CENTRAL ITALY', '43.95', '13.23', '2022-11-1321:38:15.4'],\n",
       " ['CENTRAL ITALY', '43.96', '13.32', '2022-11-1321:29:03.7'],\n",
       " ['FRANCE', '46.27', '6.55', '2022-11-1321:20:27.6'],\n",
       " ['SOUTH OF SUMBA, INDONESIA', '11.35', '120.29', '2022-11-1321:09:54.0'],\n",
       " ['ISLAND OF HAWAII, HAWAII', '19.23', '155.44', '2022-11-1321:08:15.1'],\n",
       " ['BALI REGION, INDONESIA', '8.56', '115.01', '2022-11-1321:03:45.0'],\n",
       " ['OFFSHORE COQUIMBO, CHILE', '32.12', '72.13', '2022-11-1320:54:59.4'],\n",
       " ['OFFSHORE TARAPACA, CHILE', '20.03', '70.42', '2022-11-1320:44:42.0']]"
      ]
     },
     "execution_count": 253,
     "metadata": {},
     "output_type": "execute_result"
    }
   ],
   "source": [
    "lista_final"
   ]
  },
  {
   "cell_type": "code",
   "execution_count": 254,
   "id": "bff1debb-8feb-4393-b60a-a00efecdb8fc",
   "metadata": {},
   "outputs": [],
   "source": [
    "df = pd.DataFrame(lista_final, columns=['LUGAR','latituf','longitud','dia y tiempo'])"
   ]
  },
  {
   "cell_type": "code",
   "execution_count": 255,
   "id": "81465da8-da5d-4581-ac15-947763169740",
   "metadata": {},
   "outputs": [
    {
     "data": {
      "text/html": [
       "<div>\n",
       "<style scoped>\n",
       "    .dataframe tbody tr th:only-of-type {\n",
       "        vertical-align: middle;\n",
       "    }\n",
       "\n",
       "    .dataframe tbody tr th {\n",
       "        vertical-align: top;\n",
       "    }\n",
       "\n",
       "    .dataframe thead th {\n",
       "        text-align: right;\n",
       "    }\n",
       "</style>\n",
       "<table border=\"1\" class=\"dataframe\">\n",
       "  <thead>\n",
       "    <tr style=\"text-align: right;\">\n",
       "      <th></th>\n",
       "      <th>LUGAR</th>\n",
       "      <th>latituf</th>\n",
       "      <th>longitud</th>\n",
       "      <th>dia y tiempo</th>\n",
       "    </tr>\n",
       "  </thead>\n",
       "  <tbody>\n",
       "    <tr>\n",
       "      <th>0</th>\n",
       "      <td>NORTHERN CALIFORNIA</td>\n",
       "      <td>39.55</td>\n",
       "      <td>122.97</td>\n",
       "      <td>2022-11-1401:31:16.6</td>\n",
       "    </tr>\n",
       "    <tr>\n",
       "      <th>1</th>\n",
       "      <td>SUNDA STRAIT, INDONESIA</td>\n",
       "      <td>6.53</td>\n",
       "      <td>105.92</td>\n",
       "      <td>2022-11-1401:13:16.0</td>\n",
       "    </tr>\n",
       "    <tr>\n",
       "      <th>2</th>\n",
       "      <td>HALMAHERA, INDONESIA</td>\n",
       "      <td>2.27</td>\n",
       "      <td>129.40</td>\n",
       "      <td>2022-11-1401:06:05.0</td>\n",
       "    </tr>\n",
       "    <tr>\n",
       "      <th>3</th>\n",
       "      <td>PERU-ECUADOR BORDER REGION</td>\n",
       "      <td>4.86</td>\n",
       "      <td>80.76</td>\n",
       "      <td>2022-11-1400:54:02.0</td>\n",
       "    </tr>\n",
       "    <tr>\n",
       "      <th>4</th>\n",
       "      <td>STRAIT OF GIBRALTAR</td>\n",
       "      <td>35.49</td>\n",
       "      <td>3.66</td>\n",
       "      <td>2022-11-1400:25:38.1</td>\n",
       "    </tr>\n",
       "  </tbody>\n",
       "</table>\n",
       "</div>"
      ],
      "text/plain": [
       "                        LUGAR latituf longitud          dia y tiempo\n",
       "0         NORTHERN CALIFORNIA   39.55   122.97  2022-11-1401:31:16.6\n",
       "1     SUNDA STRAIT, INDONESIA    6.53   105.92  2022-11-1401:13:16.0\n",
       "2        HALMAHERA, INDONESIA    2.27   129.40  2022-11-1401:06:05.0\n",
       "3  PERU-ECUADOR BORDER REGION    4.86    80.76  2022-11-1400:54:02.0\n",
       "4         STRAIT OF GIBRALTAR   35.49     3.66  2022-11-1400:25:38.1"
      ]
     },
     "execution_count": 255,
     "metadata": {},
     "output_type": "execute_result"
    }
   ],
   "source": [
    "df.head()"
   ]
  },
  {
   "cell_type": "code",
   "execution_count": 256,
   "id": "ff9be6b5-d8da-4b79-85f6-a2b764782c67",
   "metadata": {},
   "outputs": [
    {
     "ename": "SyntaxError",
     "evalue": "invalid syntax (1610615772.py, line 1)",
     "output_type": "error",
     "traceback": [
      "\u001b[0;36m  Input \u001b[0;32mIn [256]\u001b[0;36m\u001b[0m\n\u001b[0;31m    ----- SIGUIENTE PROBLEMA\u001b[0m\n\u001b[0m                    ^\u001b[0m\n\u001b[0;31mSyntaxError\u001b[0m\u001b[0;31m:\u001b[0m invalid syntax\n"
     ]
    }
   ],
   "source": [
    "----- SIGUIENTE PROBLEMA"
   ]
  },
  {
   "cell_type": "code",
   "execution_count": null,
   "id": "f164a5cb-255d-465c-b456-5bd2524ed089",
   "metadata": {},
   "outputs": [],
   "source": []
  },
  {
   "cell_type": "code",
   "execution_count": 258,
   "id": "2858e0dc-1cb4-4ce8-95c4-18fe4526faa3",
   "metadata": {},
   "outputs": [],
   "source": [
    "#your code\n",
    "url8 ='https://mlh.io/seasons/na-2020/events'\n",
    "response_8 = requests.get(url8)\n",
    "sopa_git_8 = BeautifulSoup(response_8.content, 'html5lib') #sopa = BeautifulSoup(driver.page_source, 'html5lib')\n",
    "bloques_8= sopa_git_8.select('div.col-lg-3.col-md-4.col-sm-6') #('div.usctitle')\n",
    "\n"
   ]
  },
  {
   "cell_type": "code",
   "execution_count": 259,
   "id": "693448e7-0ed5-4ba8-976d-27189050b19b",
   "metadata": {},
   "outputs": [
    {
     "data": {
      "text/plain": [
       "151"
      ]
     },
     "execution_count": 259,
     "metadata": {},
     "output_type": "execute_result"
    }
   ],
   "source": [
    "len(bloques_8)"
   ]
  },
  {
   "cell_type": "code",
   "execution_count": 260,
   "id": "c0a0b2f3-2ce3-4ff5-9fda-523c2ac7182a",
   "metadata": {},
   "outputs": [
    {
     "data": {
      "text/plain": [
       "<div class=\"event event-1200 col-lg-3 col-md-4 col-sm-6\" itemscope=\"\" itemtype=\"http://schema.org/Event\">\n",
       "  <div class=\"event-wrapper\">\n",
       "    <a class=\"event-link\" href=\"https://hackmty.com/\" itemprop=\"url\" target=\"_blank\" title=\"HackMTY\">\n",
       "      <div class=\"inner\">\n",
       "\n",
       "        <div class=\"image-wrap\"><img alt=\"Nl monty fundidora33\" src=\"https://s3.amazonaws.com/assets.mlh.io/events/splashes/000/001/200/thumb/NL_Monty_Fundidora33.jpg?1557498954\"/></div>\n",
       "        <div class=\"event-logo\"><img alt=\"Logo hackmty square\" src=\"https://s3.amazonaws.com/assets.mlh.io/events/logos/000/001/200/thumb/logo_HackMTY_square.jpg?1557498954\"/></div>\n",
       "\n",
       "        <h3 class=\"event-name\" itemprop=\"name\">HackMTY</h3>\n",
       "        <p class=\"event-date\">Aug 24th - 25th        </p>\n",
       "        <meta content=\"2019-08-24\" itemprop=\"startDate\"/>\n",
       "        <meta content=\"2019-08-25\" itemprop=\"endDate\"/>\n",
       "        <div class=\"event-location\" itemprop=\"location\" itemscope=\"\" itemtype=\"http://schema.org/City\">\n",
       "          <span itemprop=\"city\">Monterrey</span>,\n",
       "          <span itemprop=\"state\">MX</span>\n",
       "        </div>\n",
       "        <div class=\"event-hybrid-notes\">\n",
       "              <span>In-Person Only</span>\n",
       "        </div>\n",
       "      </div>\n",
       "</a>  </div>\n",
       "</div>"
      ]
     },
     "execution_count": 260,
     "metadata": {},
     "output_type": "execute_result"
    }
   ],
   "source": [
    "bloques_8[0]"
   ]
  },
  {
   "cell_type": "code",
   "execution_count": 268,
   "id": "0208b54b-f251-492e-b7ff-af30aa157f53",
   "metadata": {},
   "outputs": [
    {
     "data": {
      "text/plain": [
       "'Monterrey'"
      ]
     },
     "execution_count": 268,
     "metadata": {},
     "output_type": "execute_result"
    }
   ],
   "source": [
    "bloques_8[0].select('div span:first-of-type')[0].text"
   ]
  },
  {
   "cell_type": "code",
   "execution_count": 270,
   "id": "c8994c6f-80b0-48a1-a8dc-4ddb10059d73",
   "metadata": {
    "tags": []
   },
   "outputs": [
    {
     "data": {
      "text/plain": [
       "'MX'"
      ]
     },
     "execution_count": 270,
     "metadata": {},
     "output_type": "execute_result"
    }
   ],
   "source": [
    "bloques_8[0].select('div span:nth-of-type(2)')[0].text"
   ]
  },
  {
   "cell_type": "code",
   "execution_count": 277,
   "id": "cb8c61bd-4d9c-4307-add0-f14a8010021c",
   "metadata": {},
   "outputs": [
    {
     "data": {
      "text/plain": [
       "'2019-08-24'"
      ]
     },
     "execution_count": 277,
     "metadata": {},
     "output_type": "execute_result"
    }
   ],
   "source": [
    "bloques_8[0].select('div meta:first-of-type')[0]['content']"
   ]
  },
  {
   "cell_type": "code",
   "execution_count": 278,
   "id": "ac8c4d2c-0014-4272-8c7b-6068597e0fdf",
   "metadata": {},
   "outputs": [
    {
     "data": {
      "text/plain": [
       "'2019-08-25'"
      ]
     },
     "execution_count": 278,
     "metadata": {},
     "output_type": "execute_result"
    }
   ],
   "source": [
    "bloques_8[0].select('div meta:nth-of-type(2)')[0]['content']"
   ]
  },
  {
   "cell_type": "code",
   "execution_count": 281,
   "id": "5305c32f-5115-4a20-a7db-47b5c0b2e149",
   "metadata": {},
   "outputs": [
    {
     "data": {
      "text/plain": [
       "'HackMTY'"
      ]
     },
     "execution_count": 281,
     "metadata": {},
     "output_type": "execute_result"
    }
   ],
   "source": [
    "bloques_8[0].select('h3.event-name')[0].text.strip('\\n ')"
   ]
  },
  {
   "cell_type": "code",
   "execution_count": 282,
   "id": "95214c24-f9c1-4f89-8326-fa76aece1246",
   "metadata": {},
   "outputs": [
    {
     "data": {
      "text/plain": [
       "'Aug 24th - 25th'"
      ]
     },
     "execution_count": 282,
     "metadata": {},
     "output_type": "execute_result"
    }
   ],
   "source": [
    "bloques_8[0].select('p.event-date')[0].text.strip('\\n ')"
   ]
  },
  {
   "cell_type": "code",
   "execution_count": null,
   "id": "d17027ee-7b25-446c-b364-018e476fe312",
   "metadata": {},
   "outputs": [],
   "source": []
  },
  {
   "cell_type": "code",
   "execution_count": null,
   "id": "70d2ebdf-ba98-4865-8057-32c94dbfc838",
   "metadata": {},
   "outputs": [],
   "source": []
  },
  {
   "cell_type": "code",
   "execution_count": null,
   "id": "099b2644-e506-400d-be33-94060dc699d4",
   "metadata": {},
   "outputs": [],
   "source": [
    "Display the date, days, title, city, country of next 25 hackathon events as a Pandas dataframe table"
   ]
  },
  {
   "cell_type": "code",
   "execution_count": 284,
   "id": "6e2bf89c-b392-45bc-ba0c-9846667b8ce3",
   "metadata": {},
   "outputs": [
    {
     "data": {
      "text/html": [
       "<div>\n",
       "<style scoped>\n",
       "    .dataframe tbody tr th:only-of-type {\n",
       "        vertical-align: middle;\n",
       "    }\n",
       "\n",
       "    .dataframe tbody tr th {\n",
       "        vertical-align: top;\n",
       "    }\n",
       "\n",
       "    .dataframe thead th {\n",
       "        text-align: right;\n",
       "    }\n",
       "</style>\n",
       "<table border=\"1\" class=\"dataframe\">\n",
       "  <thead>\n",
       "    <tr style=\"text-align: right;\">\n",
       "      <th></th>\n",
       "      <th>titulo</th>\n",
       "      <th>ciudad</th>\n",
       "      <th>pais</th>\n",
       "      <th>dia inicio</th>\n",
       "      <th>dia termina</th>\n",
       "    </tr>\n",
       "  </thead>\n",
       "  <tbody>\n",
       "    <tr>\n",
       "      <th>0</th>\n",
       "      <td>HackMTY</td>\n",
       "      <td>Monterrey</td>\n",
       "      <td>MX</td>\n",
       "      <td>2019-08-24</td>\n",
       "      <td>2019-08-25</td>\n",
       "    </tr>\n",
       "    <tr>\n",
       "      <th>1</th>\n",
       "      <td>Citizen Hacks</td>\n",
       "      <td>Toronto</td>\n",
       "      <td>ON</td>\n",
       "      <td>2019-09-06</td>\n",
       "      <td>2019-09-08</td>\n",
       "    </tr>\n",
       "    <tr>\n",
       "      <th>2</th>\n",
       "      <td>PennApps</td>\n",
       "      <td>Philadelphia</td>\n",
       "      <td>PA</td>\n",
       "      <td>2019-09-06</td>\n",
       "      <td>2019-09-08</td>\n",
       "    </tr>\n",
       "    <tr>\n",
       "      <th>3</th>\n",
       "      <td>Hackathon de Futuras Tecnologías</td>\n",
       "      <td>Torreón</td>\n",
       "      <td>MX</td>\n",
       "      <td>2019-09-07</td>\n",
       "      <td>2019-09-08</td>\n",
       "    </tr>\n",
       "    <tr>\n",
       "      <th>4</th>\n",
       "      <td>Hack the North</td>\n",
       "      <td>Waterloo</td>\n",
       "      <td>ON</td>\n",
       "      <td>2019-09-13</td>\n",
       "      <td>2019-09-15</td>\n",
       "    </tr>\n",
       "    <tr>\n",
       "      <th>5</th>\n",
       "      <td>HopHacks</td>\n",
       "      <td>Baltimore</td>\n",
       "      <td>MD</td>\n",
       "      <td>2019-09-13</td>\n",
       "      <td>2019-09-15</td>\n",
       "    </tr>\n",
       "    <tr>\n",
       "      <th>6</th>\n",
       "      <td>BigRed//Hacks</td>\n",
       "      <td>Ithaca</td>\n",
       "      <td>NY</td>\n",
       "      <td>2019-09-20</td>\n",
       "      <td>2019-09-22</td>\n",
       "    </tr>\n",
       "    <tr>\n",
       "      <th>7</th>\n",
       "      <td>HackRice</td>\n",
       "      <td>Houston</td>\n",
       "      <td>TX</td>\n",
       "      <td>2019-09-20</td>\n",
       "      <td>2019-09-21</td>\n",
       "    </tr>\n",
       "    <tr>\n",
       "      <th>8</th>\n",
       "      <td>SBUHacks</td>\n",
       "      <td>Stony Brook</td>\n",
       "      <td>NY</td>\n",
       "      <td>2019-09-20</td>\n",
       "      <td>2019-09-21</td>\n",
       "    </tr>\n",
       "    <tr>\n",
       "      <th>9</th>\n",
       "      <td>ShellHacks</td>\n",
       "      <td>Miami</td>\n",
       "      <td>FL</td>\n",
       "      <td>2019-09-20</td>\n",
       "      <td>2019-09-22</td>\n",
       "    </tr>\n",
       "    <tr>\n",
       "      <th>10</th>\n",
       "      <td>sunhacks</td>\n",
       "      <td>Tempe</td>\n",
       "      <td>AZ</td>\n",
       "      <td>2019-09-20</td>\n",
       "      <td>2019-09-22</td>\n",
       "    </tr>\n",
       "    <tr>\n",
       "      <th>11</th>\n",
       "      <td>Kent Hack Enough</td>\n",
       "      <td>Kent</td>\n",
       "      <td>OH</td>\n",
       "      <td>2019-09-27</td>\n",
       "      <td>2019-09-29</td>\n",
       "    </tr>\n",
       "    <tr>\n",
       "      <th>12</th>\n",
       "      <td>MedHacks</td>\n",
       "      <td>Baltimore</td>\n",
       "      <td>MD</td>\n",
       "      <td>2019-09-27</td>\n",
       "      <td>2019-09-29</td>\n",
       "    </tr>\n",
       "    <tr>\n",
       "      <th>13</th>\n",
       "      <td>VolHacks</td>\n",
       "      <td>Knoxville</td>\n",
       "      <td>TN</td>\n",
       "      <td>2019-09-27</td>\n",
       "      <td>2019-09-29</td>\n",
       "    </tr>\n",
       "    <tr>\n",
       "      <th>14</th>\n",
       "      <td>GirlHacks</td>\n",
       "      <td>Newark</td>\n",
       "      <td>NJ</td>\n",
       "      <td>2019-09-28</td>\n",
       "      <td>2019-09-29</td>\n",
       "    </tr>\n",
       "    <tr>\n",
       "      <th>15</th>\n",
       "      <td>GrizzHacks 4</td>\n",
       "      <td>Rochester</td>\n",
       "      <td>MI</td>\n",
       "      <td>2019-09-28</td>\n",
       "      <td>2019-09-29</td>\n",
       "    </tr>\n",
       "    <tr>\n",
       "      <th>16</th>\n",
       "      <td>hackNY</td>\n",
       "      <td>New York City</td>\n",
       "      <td>NY</td>\n",
       "      <td>2019-09-28</td>\n",
       "      <td>2019-09-29</td>\n",
       "    </tr>\n",
       "    <tr>\n",
       "      <th>17</th>\n",
       "      <td>HackUMBC</td>\n",
       "      <td>Baltimore</td>\n",
       "      <td>MD</td>\n",
       "      <td>2019-09-28</td>\n",
       "      <td>2019-09-29</td>\n",
       "    </tr>\n",
       "    <tr>\n",
       "      <th>18</th>\n",
       "      <td>RamHacks</td>\n",
       "      <td>Richmond</td>\n",
       "      <td>VA</td>\n",
       "      <td>2019-09-28</td>\n",
       "      <td>2019-09-29</td>\n",
       "    </tr>\n",
       "    <tr>\n",
       "      <th>19</th>\n",
       "      <td>HackTheU</td>\n",
       "      <td>Salt Lake City</td>\n",
       "      <td>UT</td>\n",
       "      <td>2019-10-05</td>\n",
       "      <td>2019-10-06</td>\n",
       "    </tr>\n",
       "  </tbody>\n",
       "</table>\n",
       "</div>"
      ],
      "text/plain": [
       "                              titulo          ciudad pais  dia inicio  \\\n",
       "0                            HackMTY       Monterrey   MX  2019-08-24   \n",
       "1                      Citizen Hacks         Toronto   ON  2019-09-06   \n",
       "2                           PennApps    Philadelphia   PA  2019-09-06   \n",
       "3   Hackathon de Futuras Tecnologías         Torreón   MX  2019-09-07   \n",
       "4                     Hack the North        Waterloo   ON  2019-09-13   \n",
       "5                           HopHacks       Baltimore   MD  2019-09-13   \n",
       "6                      BigRed//Hacks          Ithaca   NY  2019-09-20   \n",
       "7                           HackRice         Houston   TX  2019-09-20   \n",
       "8                           SBUHacks     Stony Brook   NY  2019-09-20   \n",
       "9                         ShellHacks           Miami   FL  2019-09-20   \n",
       "10                          sunhacks           Tempe   AZ  2019-09-20   \n",
       "11                  Kent Hack Enough            Kent   OH  2019-09-27   \n",
       "12                          MedHacks       Baltimore   MD  2019-09-27   \n",
       "13                          VolHacks       Knoxville   TN  2019-09-27   \n",
       "14                         GirlHacks          Newark   NJ  2019-09-28   \n",
       "15                      GrizzHacks 4       Rochester   MI  2019-09-28   \n",
       "16                            hackNY   New York City   NY  2019-09-28   \n",
       "17                          HackUMBC       Baltimore   MD  2019-09-28   \n",
       "18                          RamHacks        Richmond   VA  2019-09-28   \n",
       "19                          HackTheU  Salt Lake City   UT  2019-10-05   \n",
       "\n",
       "   dia termina  \n",
       "0   2019-08-25  \n",
       "1   2019-09-08  \n",
       "2   2019-09-08  \n",
       "3   2019-09-08  \n",
       "4   2019-09-15  \n",
       "5   2019-09-15  \n",
       "6   2019-09-22  \n",
       "7   2019-09-21  \n",
       "8   2019-09-21  \n",
       "9   2019-09-22  \n",
       "10  2019-09-22  \n",
       "11  2019-09-29  \n",
       "12  2019-09-29  \n",
       "13  2019-09-29  \n",
       "14  2019-09-29  \n",
       "15  2019-09-29  \n",
       "16  2019-09-29  \n",
       "17  2019-09-29  \n",
       "18  2019-09-29  \n",
       "19  2019-10-06  "
      ]
     },
     "execution_count": 284,
     "metadata": {},
     "output_type": "execute_result"
    }
   ],
   "source": [
    "lista_final=[]\n",
    "lista_t=[]\n",
    "for item in bloques_8:\n",
    "    titulo = item.select('h3.event-name')[0].text.strip('\\n ')\n",
    "    ciudad = item.select('div span:first-of-type')[0].text\n",
    "    pais = item.select('div span:nth-of-type(2)')[0].text\n",
    "    date_inicio = item.select('div meta:first-of-type')[0]['content']\n",
    "    date_termina = item.select('div meta:nth-of-type(2)')[0]['content']\n",
    "    lista_t.append(titulo)\n",
    "    lista_t.append(ciudad)\n",
    "    lista_t.append(pais)\n",
    "    lista_t.append(date_inicio)\n",
    "    lista_t.append(date_termina)\n",
    "    lista_final.append(lista_t)\n",
    "    lista_t=[]\n",
    "\n",
    "df = pd.DataFrame(lista_final, columns=['titulo','ciudad','pais','dia inicio','dia termina'])\n",
    "df.head(20)"
   ]
  },
  {
   "cell_type": "code",
   "execution_count": null,
   "id": "92bdf178-a170-48c3-9b88-c10d9d5e64ee",
   "metadata": {},
   "outputs": [],
   "source": []
  },
  {
   "cell_type": "code",
   "execution_count": null,
   "id": "34f1e82e-af73-4b7e-aedd-f6a1ed91cf29",
   "metadata": {},
   "outputs": [],
   "source": [
    "Count number of tweets by a given Twitter account.\n",
    "You will need to include a try/except block for account names not found.\n",
    "Hint: the program should count the number of tweets for any provided accoun"
   ]
  },
  {
   "cell_type": "code",
   "execution_count": null,
   "id": "221ff2c9-ec6f-458a-b97f-3f17a8696132",
   "metadata": {},
   "outputs": [],
   "source": []
  },
  {
   "cell_type": "code",
   "execution_count": null,
   "id": "c3710a59-8393-4262-a876-7f087c5c6613",
   "metadata": {},
   "outputs": [],
   "source": []
  },
  {
   "cell_type": "code",
   "execution_count": null,
   "id": "e378df9a-5161-4be0-a73d-484be3f590c2",
   "metadata": {},
   "outputs": [],
   "source": []
  },
  {
   "cell_type": "code",
   "execution_count": null,
   "id": "ded43afa-b76a-4516-a1e0-ecf3f68391f7",
   "metadata": {},
   "outputs": [],
   "source": []
  },
  {
   "cell_type": "code",
   "execution_count": null,
   "id": "3d6e8d7e-ade9-4f78-a4c5-0fb87bb819a1",
   "metadata": {},
   "outputs": [],
   "source": []
  },
  {
   "cell_type": "code",
   "execution_count": null,
   "id": "51a1ec7a-a267-4b16-a3cf-7b9cc4e01049",
   "metadata": {},
   "outputs": [],
   "source": []
  },
  {
   "cell_type": "code",
   "execution_count": null,
   "id": "8ce8894d-9b8c-4f60-9782-2b4475a9d821",
   "metadata": {},
   "outputs": [],
   "source": []
  },
  {
   "cell_type": "code",
   "execution_count": null,
   "id": "3b72a57a-3584-485f-9e5d-5d19de35c0eb",
   "metadata": {},
   "outputs": [],
   "source": []
  },
  {
   "cell_type": "code",
   "execution_count": null,
   "id": "784d5a68-82c3-4c5f-87e1-f618b7f1de20",
   "metadata": {},
   "outputs": [],
   "source": []
  },
  {
   "cell_type": "code",
   "execution_count": null,
   "id": "b65586f7-0f83-4058-a906-fc6f1f9944fa",
   "metadata": {},
   "outputs": [],
   "source": []
  },
  {
   "cell_type": "code",
   "execution_count": null,
   "id": "c59963bc-6388-4e3d-bc5a-2aa1faeccdec",
   "metadata": {},
   "outputs": [],
   "source": []
  },
  {
   "cell_type": "code",
   "execution_count": null,
   "id": "0e655389-96d6-48ab-92c2-2da74859c2f8",
   "metadata": {},
   "outputs": [],
   "source": []
  },
  {
   "cell_type": "code",
   "execution_count": null,
   "id": "032b79f7-7de4-4031-b1d0-4bb44a059f07",
   "metadata": {},
   "outputs": [],
   "source": []
  },
  {
   "cell_type": "code",
   "execution_count": null,
   "id": "237d55dc-e2b2-4017-9cfb-f26ae1bbd066",
   "metadata": {},
   "outputs": [],
   "source": []
  },
  {
   "cell_type": "code",
   "execution_count": null,
   "id": "5e2527bc-4056-45fe-bd5f-364c2a59c0db",
   "metadata": {},
   "outputs": [],
   "source": []
  },
  {
   "cell_type": "code",
   "execution_count": null,
   "id": "0dbd5c9d-62ac-4dc2-a243-62333464a0a4",
   "metadata": {},
   "outputs": [],
   "source": []
  },
  {
   "cell_type": "code",
   "execution_count": null,
   "id": "3cd9e82d-f685-441c-92f7-a3b9d8f42407",
   "metadata": {},
   "outputs": [],
   "source": []
  },
  {
   "cell_type": "code",
   "execution_count": null,
   "id": "f570a84d-305a-4a13-bb65-972d2f93fdd9",
   "metadata": {},
   "outputs": [],
   "source": []
  },
  {
   "cell_type": "code",
   "execution_count": null,
   "id": "a0777026-a294-41c6-af44-e257aea1ed7e",
   "metadata": {},
   "outputs": [],
   "source": []
  },
  {
   "cell_type": "markdown",
   "id": "3d08134e-04e7-4333-b6b9-34d734f5318e",
   "metadata": {},
   "source": [
    "#### List all language names and number of related articles in the order they appear in wikipedia.org"
   ]
  },
  {
   "cell_type": "code",
   "execution_count": 286,
   "id": "8ba4282c-2fbf-49f0-81bf-9107741518f2",
   "metadata": {},
   "outputs": [],
   "source": [
    "url11 ='https://www.wikipedia.org/'\n",
    "response_11 = requests.get(url11)\n",
    "sopa_git_11 = BeautifulSoup(response_11.content, 'html5lib') #sopa = BeautifulSoup(driver.page_source, 'html5lib')\n",
    "bloques_11= sopa_git_11.select('div.central-featured-lang') #('div.usctitle')\n"
   ]
  },
  {
   "cell_type": "code",
   "execution_count": 287,
   "id": "e525452c-bc68-44f9-bc2f-b0250b1602e6",
   "metadata": {},
   "outputs": [
    {
     "data": {
      "text/plain": [
       "10"
      ]
     },
     "execution_count": 287,
     "metadata": {},
     "output_type": "execute_result"
    }
   ],
   "source": [
    "len(bloques_11)"
   ]
  },
  {
   "cell_type": "code",
   "execution_count": 290,
   "id": "14c9f5b4-4966-493a-acf0-8838da48c526",
   "metadata": {},
   "outputs": [
    {
     "data": {
      "text/plain": [
       "'English'"
      ]
     },
     "execution_count": 290,
     "metadata": {},
     "output_type": "execute_result"
    }
   ],
   "source": [
    "bloques_11[0].select('div strong')[0].text"
   ]
  },
  {
   "cell_type": "code",
   "execution_count": 305,
   "id": "16e1bc8c-54f3-4d04-858e-fe75f5925a48",
   "metadata": {},
   "outputs": [
    {
     "data": {
      "text/plain": [
       "'6,458,000+'"
      ]
     },
     "execution_count": 305,
     "metadata": {},
     "output_type": "execute_result"
    }
   ],
   "source": [
    "bloques_11[0].select('small bdi')[0].text.replace(\"\\xa0\", \",\") "
   ]
  },
  {
   "cell_type": "code",
   "execution_count": 306,
   "id": "f0c9fd94-20b7-47cc-9d39-6550d60fd042",
   "metadata": {},
   "outputs": [
    {
     "data": {
      "text/html": [
       "<div>\n",
       "<style scoped>\n",
       "    .dataframe tbody tr th:only-of-type {\n",
       "        vertical-align: middle;\n",
       "    }\n",
       "\n",
       "    .dataframe tbody tr th {\n",
       "        vertical-align: top;\n",
       "    }\n",
       "\n",
       "    .dataframe thead th {\n",
       "        text-align: right;\n",
       "    }\n",
       "</style>\n",
       "<table border=\"1\" class=\"dataframe\">\n",
       "  <thead>\n",
       "    <tr style=\"text-align: right;\">\n",
       "      <th></th>\n",
       "      <th>idioma</th>\n",
       "      <th>cantidad</th>\n",
       "    </tr>\n",
       "  </thead>\n",
       "  <tbody>\n",
       "    <tr>\n",
       "      <th>0</th>\n",
       "      <td>English</td>\n",
       "      <td>6,458,000+</td>\n",
       "    </tr>\n",
       "    <tr>\n",
       "      <th>1</th>\n",
       "      <td>日本語</td>\n",
       "      <td>1,314,000+</td>\n",
       "    </tr>\n",
       "    <tr>\n",
       "      <th>2</th>\n",
       "      <td>Español</td>\n",
       "      <td>1,755,000+</td>\n",
       "    </tr>\n",
       "    <tr>\n",
       "      <th>3</th>\n",
       "      <td>Русский</td>\n",
       "      <td>1,798,000+</td>\n",
       "    </tr>\n",
       "    <tr>\n",
       "      <th>4</th>\n",
       "      <td>Français</td>\n",
       "      <td>2,400,000+</td>\n",
       "    </tr>\n",
       "    <tr>\n",
       "      <th>5</th>\n",
       "      <td>Deutsch</td>\n",
       "      <td>2,667,000+</td>\n",
       "    </tr>\n",
       "    <tr>\n",
       "      <th>6</th>\n",
       "      <td>Italiano</td>\n",
       "      <td>1,742,000+</td>\n",
       "    </tr>\n",
       "    <tr>\n",
       "      <th>7</th>\n",
       "      <td>中文</td>\n",
       "      <td>1,256,000+</td>\n",
       "    </tr>\n",
       "    <tr>\n",
       "      <th>8</th>\n",
       "      <td>فارسی</td>\n",
       "      <td>866,000+</td>\n",
       "    </tr>\n",
       "    <tr>\n",
       "      <th>9</th>\n",
       "      <td>Português</td>\n",
       "      <td>1,085,000+</td>\n",
       "    </tr>\n",
       "  </tbody>\n",
       "</table>\n",
       "</div>"
      ],
      "text/plain": [
       "      idioma    cantidad\n",
       "0    English  6,458,000+\n",
       "1        日本語  1,314,000+\n",
       "2    Español  1,755,000+\n",
       "3    Русский  1,798,000+\n",
       "4   Français  2,400,000+\n",
       "5    Deutsch  2,667,000+\n",
       "6   Italiano  1,742,000+\n",
       "7         中文  1,256,000+\n",
       "8      فارسی    866,000+\n",
       "9  Português  1,085,000+"
      ]
     },
     "execution_count": 306,
     "metadata": {},
     "output_type": "execute_result"
    }
   ],
   "source": [
    "lista_final=[]\n",
    "lista_t=[]\n",
    "for item in bloques_11:\n",
    "    idioma = item.select('div strong')[0].text\n",
    "    cantidad = item.select('small bdi')[0].text.replace(\"\\xa0\", \",\") \n",
    "\n",
    "    lista_t.append(idioma)\n",
    "    lista_t.append(cantidad)\n",
    "\n",
    "    lista_final.append(lista_t)\n",
    "    lista_t=[]\n",
    "\n",
    "df = pd.DataFrame(lista_final, columns=['idioma','cantidad'])\n",
    "df.head(20)"
   ]
  },
  {
   "cell_type": "code",
   "execution_count": null,
   "id": "58aad5da-79e4-49ed-9e84-58b7c52c53f0",
   "metadata": {},
   "outputs": [],
   "source": []
  },
  {
   "cell_type": "code",
   "execution_count": null,
   "id": "c1423165-d83a-4f0f-b1f7-26758a5bbc55",
   "metadata": {},
   "outputs": [],
   "source": []
  },
  {
   "cell_type": "markdown",
   "id": "02e259fa-b780-4f65-a6ff-48208f126007",
   "metadata": {},
   "source": [
    "#### A list with the different kind of datasets available in data.gov.uk "
   ]
  },
  {
   "cell_type": "code",
   "execution_count": 311,
   "id": "ae471c1d-340a-4286-8501-75306ece2dc7",
   "metadata": {
    "tags": []
   },
   "outputs": [],
   "source": [
    "#your code\n",
    "url12 ='https://www.data.gov.uk/'\n",
    "response_12 = requests.get(url12)\n",
    "sopa_git_12 = BeautifulSoup(response_12.content, 'html5lib') \n",
    "bloques_12= sopa_git_12.select('ul.govuk-list.dgu-topics__list') \n",
    "bloques_12_2 = bloques_12[0].select('li') \n"
   ]
  },
  {
   "cell_type": "code",
   "execution_count": 310,
   "id": "1b21625b-38ed-421e-9b28-71d39918d734",
   "metadata": {},
   "outputs": [
    {
     "data": {
      "text/plain": [
       "1"
      ]
     },
     "execution_count": 310,
     "metadata": {},
     "output_type": "execute_result"
    }
   ],
   "source": [
    "len(bloques_12)"
   ]
  },
  {
   "cell_type": "code",
   "execution_count": 312,
   "id": "f998c6ab-7e9c-4b54-83fb-f4e9fd33f9ba",
   "metadata": {},
   "outputs": [
    {
     "data": {
      "text/plain": [
       "14"
      ]
     },
     "execution_count": 312,
     "metadata": {},
     "output_type": "execute_result"
    }
   ],
   "source": [
    "len(bloques_12_2)"
   ]
  },
  {
   "cell_type": "code",
   "execution_count": 313,
   "id": "544b1c2a-70a2-440d-be20-04799ef635ba",
   "metadata": {},
   "outputs": [
    {
     "data": {
      "text/plain": [
       "'Business and economy'"
      ]
     },
     "execution_count": 313,
     "metadata": {},
     "output_type": "execute_result"
    }
   ],
   "source": [
    "bloques_12_2[0].select('h3')[0].text"
   ]
  },
  {
   "cell_type": "code",
   "execution_count": null,
   "id": "237f9843-b091-4447-aa6d-498965e11199",
   "metadata": {},
   "outputs": [],
   "source": []
  },
  {
   "cell_type": "code",
   "execution_count": null,
   "id": "2ff2a130-81b3-4096-b0aa-fec05e49a199",
   "metadata": {},
   "outputs": [],
   "source": []
  },
  {
   "cell_type": "code",
   "execution_count": 315,
   "id": "eb430845-daa0-45fd-9e25-ee03341b6b10",
   "metadata": {},
   "outputs": [
    {
     "data": {
      "text/html": [
       "<div>\n",
       "<style scoped>\n",
       "    .dataframe tbody tr th:only-of-type {\n",
       "        vertical-align: middle;\n",
       "    }\n",
       "\n",
       "    .dataframe tbody tr th {\n",
       "        vertical-align: top;\n",
       "    }\n",
       "\n",
       "    .dataframe thead th {\n",
       "        text-align: right;\n",
       "    }\n",
       "</style>\n",
       "<table border=\"1\" class=\"dataframe\">\n",
       "  <thead>\n",
       "    <tr style=\"text-align: right;\">\n",
       "      <th></th>\n",
       "      <th>TIPOS</th>\n",
       "    </tr>\n",
       "  </thead>\n",
       "  <tbody>\n",
       "    <tr>\n",
       "      <th>0</th>\n",
       "      <td>Business and economy</td>\n",
       "    </tr>\n",
       "    <tr>\n",
       "      <th>1</th>\n",
       "      <td>Crime and justice</td>\n",
       "    </tr>\n",
       "    <tr>\n",
       "      <th>2</th>\n",
       "      <td>Defence</td>\n",
       "    </tr>\n",
       "    <tr>\n",
       "      <th>3</th>\n",
       "      <td>Education</td>\n",
       "    </tr>\n",
       "    <tr>\n",
       "      <th>4</th>\n",
       "      <td>Environment</td>\n",
       "    </tr>\n",
       "    <tr>\n",
       "      <th>5</th>\n",
       "      <td>Government</td>\n",
       "    </tr>\n",
       "    <tr>\n",
       "      <th>6</th>\n",
       "      <td>Government spending</td>\n",
       "    </tr>\n",
       "    <tr>\n",
       "      <th>7</th>\n",
       "      <td>Health</td>\n",
       "    </tr>\n",
       "    <tr>\n",
       "      <th>8</th>\n",
       "      <td>Mapping</td>\n",
       "    </tr>\n",
       "    <tr>\n",
       "      <th>9</th>\n",
       "      <td>Society</td>\n",
       "    </tr>\n",
       "    <tr>\n",
       "      <th>10</th>\n",
       "      <td>Towns and cities</td>\n",
       "    </tr>\n",
       "    <tr>\n",
       "      <th>11</th>\n",
       "      <td>Transport</td>\n",
       "    </tr>\n",
       "    <tr>\n",
       "      <th>12</th>\n",
       "      <td>Digital service performance</td>\n",
       "    </tr>\n",
       "    <tr>\n",
       "      <th>13</th>\n",
       "      <td>Government reference data</td>\n",
       "    </tr>\n",
       "  </tbody>\n",
       "</table>\n",
       "</div>"
      ],
      "text/plain": [
       "                          TIPOS\n",
       "0          Business and economy\n",
       "1             Crime and justice\n",
       "2                       Defence\n",
       "3                     Education\n",
       "4                   Environment\n",
       "5                    Government\n",
       "6           Government spending\n",
       "7                        Health\n",
       "8                       Mapping\n",
       "9                       Society\n",
       "10             Towns and cities\n",
       "11                    Transport\n",
       "12  Digital service performance\n",
       "13    Government reference data"
      ]
     },
     "execution_count": 315,
     "metadata": {},
     "output_type": "execute_result"
    }
   ],
   "source": [
    "\n",
    "lista_final=[]\n",
    "lista_t=[]\n",
    "for item in bloques_12_2:\n",
    "    idioma = item.select('h3')[0].text\n",
    "\n",
    "    lista_t.append(idioma)\n",
    "    \n",
    "\n",
    "df = pd.DataFrame(lista_t, columns=['TIPOS'])\n",
    "df.head(20)\n"
   ]
  },
  {
   "cell_type": "code",
   "execution_count": null,
   "id": "c26e230d-af13-403c-b644-8ae6fa7550ab",
   "metadata": {},
   "outputs": [],
   "source": []
  },
  {
   "cell_type": "markdown",
   "id": "2ca2a0e2-d785-48b1-9c99-c863e8ecef2e",
   "metadata": {},
   "source": [
    "Top 10 languages by number of native speakers stored in a Pandas Dataframe"
   ]
  },
  {
   "cell_type": "code",
   "execution_count": 317,
   "id": "4080ffee-1f47-4060-bf40-7a2e7d8b7089",
   "metadata": {
    "tags": []
   },
   "outputs": [],
   "source": [
    "url13 = 'https://en.wikipedia.org/wiki/List_of_languages_by_number_of_native_speakers'"
   ]
  },
  {
   "cell_type": "code",
   "execution_count": 321,
   "id": "fe68c16c-0679-4638-bdfa-59e6c78465de",
   "metadata": {},
   "outputs": [],
   "source": [
    "response_13 = requests.get(url13)\n",
    "sopa_git_13 = BeautifulSoup(response_13.content, 'html5lib') \n"
   ]
  },
  {
   "cell_type": "code",
   "execution_count": 328,
   "id": "bcf3acd1-eacc-473f-aee6-cc91f32298e0",
   "metadata": {},
   "outputs": [],
   "source": [
    "info_tabla = str(sopa_git_13.select('table'))"
   ]
  },
  {
   "cell_type": "code",
   "execution_count": 333,
   "id": "c01a0bc5-a5b8-48cf-8ddb-14748ce6e3a7",
   "metadata": {},
   "outputs": [],
   "source": [
    "df = pd.read_html(info_tabla)[1]"
   ]
  },
  {
   "cell_type": "code",
   "execution_count": null,
   "id": "b400f297-71c6-4210-9e6d-5a9ac61b9d9a",
   "metadata": {},
   "outputs": [],
   "source": []
  },
  {
   "cell_type": "code",
   "execution_count": 334,
   "id": "63e89fa5-486d-4af6-8b89-9946e8cd45a8",
   "metadata": {},
   "outputs": [
    {
     "data": {
      "text/html": [
       "<div>\n",
       "<style scoped>\n",
       "    .dataframe tbody tr th:only-of-type {\n",
       "        vertical-align: middle;\n",
       "    }\n",
       "\n",
       "    .dataframe tbody tr th {\n",
       "        vertical-align: top;\n",
       "    }\n",
       "\n",
       "    .dataframe thead th {\n",
       "        text-align: right;\n",
       "    }\n",
       "</style>\n",
       "<table border=\"1\" class=\"dataframe\">\n",
       "  <thead>\n",
       "    <tr style=\"text-align: right;\">\n",
       "      <th></th>\n",
       "      <th>Rank</th>\n",
       "      <th>Language</th>\n",
       "      <th>Percentageof worldpopulation(2018)</th>\n",
       "    </tr>\n",
       "  </thead>\n",
       "  <tbody>\n",
       "    <tr>\n",
       "      <th>0</th>\n",
       "      <td>1</td>\n",
       "      <td>Mandarin Chinese</td>\n",
       "      <td>12.3%</td>\n",
       "    </tr>\n",
       "    <tr>\n",
       "      <th>1</th>\n",
       "      <td>2</td>\n",
       "      <td>Spanish</td>\n",
       "      <td>6.0%</td>\n",
       "    </tr>\n",
       "    <tr>\n",
       "      <th>2</th>\n",
       "      <td>3</td>\n",
       "      <td>English</td>\n",
       "      <td>5.1%</td>\n",
       "    </tr>\n",
       "    <tr>\n",
       "      <th>3</th>\n",
       "      <td>3</td>\n",
       "      <td>Arabic</td>\n",
       "      <td>5.1%</td>\n",
       "    </tr>\n",
       "    <tr>\n",
       "      <th>4</th>\n",
       "      <td>5</td>\n",
       "      <td>Hindi</td>\n",
       "      <td>3.5%</td>\n",
       "    </tr>\n",
       "  </tbody>\n",
       "</table>\n",
       "</div>"
      ],
      "text/plain": [
       "   Rank          Language Percentageof worldpopulation(2018)\n",
       "0     1  Mandarin Chinese                              12.3%\n",
       "1     2           Spanish                               6.0%\n",
       "2     3           English                               5.1%\n",
       "3     3            Arabic                               5.1%\n",
       "4     5             Hindi                               3.5%"
      ]
     },
     "execution_count": 334,
     "metadata": {},
     "output_type": "execute_result"
    }
   ],
   "source": [
    "df.head()"
   ]
  },
  {
   "cell_type": "code",
   "execution_count": null,
   "id": "eab1515a-1ddb-4f2a-b206-85929b535a2a",
   "metadata": {},
   "outputs": [],
   "source": []
  },
  {
   "cell_type": "code",
   "execution_count": null,
   "id": "c5430393-981f-47c8-8229-acf28cabf5f1",
   "metadata": {},
   "outputs": [],
   "source": []
  },
  {
   "cell_type": "code",
   "execution_count": 26,
   "id": "3c00401b-eafd-4c74-9e9f-9340bb648a43",
   "metadata": {},
   "outputs": [],
   "source": [
    "import requests\n",
    "from bs4 import BeautifulSoup\n",
    "import pandas as pd\n",
    "# from pprint import pprint\n",
    "from lxml import html\n",
    "from lxml.html import fromstring\n",
    "import html5lib\n",
    "from urllib.request import Request, urlopen\n",
    "import re\n"
   ]
  },
  {
   "cell_type": "code",
   "execution_count": 27,
   "id": "aa90f696-bf27-44e8-ad4b-520a4c5a408f",
   "metadata": {},
   "outputs": [],
   "source": [
    "url18 =  'https://www.imdb.com/chart/top'\n",
    "response_18 = requests.get(url18)\n",
    "sopa_git_18 = BeautifulSoup(response_18.content, 'html5lib') "
   ]
  },
  {
   "cell_type": "code",
   "execution_count": null,
   "id": "60e855ed-5de4-41ff-8697-bc4075c9a065",
   "metadata": {},
   "outputs": [],
   "source": [
    "!pip install html5l ### instalar html"
   ]
  },
  {
   "cell_type": "raw",
   "id": "d27407ec-75e3-4926-ac89-dad118437ae6",
   "metadata": {},
   "source": [
    "url13 = 'https://en.wikipedia.org/wiki/List_of_languages_by_number_of_native_speakers'\n",
    "response_13 = requests.get(url13)\n",
    "sopa_git_13 = BeautifulSoup(response_13.content, 'html5lib') \n",
    "info_tabla = str(sopa_git_13.select('table'))\n",
    "df = pd.read_html(info_tabla)[1]\n",
    "df.head()"
   ]
  },
  {
   "cell_type": "code",
   "execution_count": 28,
   "id": "1762480c-f88d-462b-9710-ed41cceaccee",
   "metadata": {},
   "outputs": [],
   "source": [
    "info_tabla = str(sopa_git_18.select('table.chart.full-width'))"
   ]
  },
  {
   "cell_type": "code",
   "execution_count": 29,
   "id": "879b9be9-a6d6-4fdf-b7a5-03a36896446a",
   "metadata": {},
   "outputs": [],
   "source": [
    "df = pd.read_html(info_tabla)[0]"
   ]
  },
  {
   "cell_type": "code",
   "execution_count": 30,
   "id": "f244a134-841b-414a-80ac-306b2c5f2844",
   "metadata": {},
   "outputs": [
    {
     "data": {
      "text/html": [
       "<div>\n",
       "<style scoped>\n",
       "    .dataframe tbody tr th:only-of-type {\n",
       "        vertical-align: middle;\n",
       "    }\n",
       "\n",
       "    .dataframe tbody tr th {\n",
       "        vertical-align: top;\n",
       "    }\n",
       "\n",
       "    .dataframe thead th {\n",
       "        text-align: right;\n",
       "    }\n",
       "</style>\n",
       "<table border=\"1\" class=\"dataframe\">\n",
       "  <thead>\n",
       "    <tr style=\"text-align: right;\">\n",
       "      <th></th>\n",
       "      <th>Unnamed: 0</th>\n",
       "      <th>Rank &amp; Title</th>\n",
       "      <th>IMDb Rating</th>\n",
       "      <th>Your Rating</th>\n",
       "      <th>Unnamed: 4</th>\n",
       "    </tr>\n",
       "  </thead>\n",
       "  <tbody>\n",
       "    <tr>\n",
       "      <th>0</th>\n",
       "      <td>NaN</td>\n",
       "      <td>1.  Sueño de fuga  (1994)</td>\n",
       "      <td>9.2</td>\n",
       "      <td>12345678910 NOT YET RELEASED  Seen</td>\n",
       "      <td>NaN</td>\n",
       "    </tr>\n",
       "    <tr>\n",
       "      <th>1</th>\n",
       "      <td>NaN</td>\n",
       "      <td>2.  El padrino  (1972)</td>\n",
       "      <td>9.2</td>\n",
       "      <td>12345678910 NOT YET RELEASED  Seen</td>\n",
       "      <td>NaN</td>\n",
       "    </tr>\n",
       "    <tr>\n",
       "      <th>2</th>\n",
       "      <td>NaN</td>\n",
       "      <td>3.  Batman: El caballero de la noche  (2008)</td>\n",
       "      <td>9.0</td>\n",
       "      <td>12345678910 NOT YET RELEASED  Seen</td>\n",
       "      <td>NaN</td>\n",
       "    </tr>\n",
       "    <tr>\n",
       "      <th>3</th>\n",
       "      <td>NaN</td>\n",
       "      <td>4.  El padrino II  (1974)</td>\n",
       "      <td>9.0</td>\n",
       "      <td>12345678910 NOT YET RELEASED  Seen</td>\n",
       "      <td>NaN</td>\n",
       "    </tr>\n",
       "    <tr>\n",
       "      <th>4</th>\n",
       "      <td>NaN</td>\n",
       "      <td>5.  12 hombres en pugna  (1957)</td>\n",
       "      <td>9.0</td>\n",
       "      <td>12345678910 NOT YET RELEASED  Seen</td>\n",
       "      <td>NaN</td>\n",
       "    </tr>\n",
       "    <tr>\n",
       "      <th>...</th>\n",
       "      <td>...</td>\n",
       "      <td>...</td>\n",
       "      <td>...</td>\n",
       "      <td>...</td>\n",
       "      <td>...</td>\n",
       "    </tr>\n",
       "    <tr>\n",
       "      <th>245</th>\n",
       "      <td>NaN</td>\n",
       "      <td>246.  Dersu Uzala  (1975)</td>\n",
       "      <td>8.0</td>\n",
       "      <td>12345678910 NOT YET RELEASED  Seen</td>\n",
       "      <td>NaN</td>\n",
       "    </tr>\n",
       "    <tr>\n",
       "      <th>246</th>\n",
       "      <td>NaN</td>\n",
       "      <td>247.  Aladdín  (1992)</td>\n",
       "      <td>8.0</td>\n",
       "      <td>12345678910 NOT YET RELEASED  Seen</td>\n",
       "      <td>NaN</td>\n",
       "    </tr>\n",
       "    <tr>\n",
       "      <th>247</th>\n",
       "      <td>NaN</td>\n",
       "      <td>248.  Historias cruzadas  (2011)</td>\n",
       "      <td>8.0</td>\n",
       "      <td>12345678910 NOT YET RELEASED  Seen</td>\n",
       "      <td>NaN</td>\n",
       "    </tr>\n",
       "    <tr>\n",
       "      <th>248</th>\n",
       "      <td>NaN</td>\n",
       "      <td>249.  Gandhi  (1982)</td>\n",
       "      <td>8.0</td>\n",
       "      <td>12345678910 NOT YET RELEASED  Seen</td>\n",
       "      <td>NaN</td>\n",
       "    </tr>\n",
       "    <tr>\n",
       "      <th>249</th>\n",
       "      <td>NaN</td>\n",
       "      <td>250.  El gigante de hierro  (1999)</td>\n",
       "      <td>8.0</td>\n",
       "      <td>12345678910 NOT YET RELEASED  Seen</td>\n",
       "      <td>NaN</td>\n",
       "    </tr>\n",
       "  </tbody>\n",
       "</table>\n",
       "<p>250 rows × 5 columns</p>\n",
       "</div>"
      ],
      "text/plain": [
       "     Unnamed: 0                                  Rank & Title  IMDb Rating  \\\n",
       "0           NaN                     1.  Sueño de fuga  (1994)          9.2   \n",
       "1           NaN                        2.  El padrino  (1972)          9.2   \n",
       "2           NaN  3.  Batman: El caballero de la noche  (2008)          9.0   \n",
       "3           NaN                     4.  El padrino II  (1974)          9.0   \n",
       "4           NaN               5.  12 hombres en pugna  (1957)          9.0   \n",
       "..          ...                                           ...          ...   \n",
       "245         NaN                     246.  Dersu Uzala  (1975)          8.0   \n",
       "246         NaN                         247.  Aladdín  (1992)          8.0   \n",
       "247         NaN              248.  Historias cruzadas  (2011)          8.0   \n",
       "248         NaN                          249.  Gandhi  (1982)          8.0   \n",
       "249         NaN            250.  El gigante de hierro  (1999)          8.0   \n",
       "\n",
       "                            Your Rating  Unnamed: 4  \n",
       "0    12345678910 NOT YET RELEASED  Seen         NaN  \n",
       "1    12345678910 NOT YET RELEASED  Seen         NaN  \n",
       "2    12345678910 NOT YET RELEASED  Seen         NaN  \n",
       "3    12345678910 NOT YET RELEASED  Seen         NaN  \n",
       "4    12345678910 NOT YET RELEASED  Seen         NaN  \n",
       "..                                  ...         ...  \n",
       "245  12345678910 NOT YET RELEASED  Seen         NaN  \n",
       "246  12345678910 NOT YET RELEASED  Seen         NaN  \n",
       "247  12345678910 NOT YET RELEASED  Seen         NaN  \n",
       "248  12345678910 NOT YET RELEASED  Seen         NaN  \n",
       "249  12345678910 NOT YET RELEASED  Seen         NaN  \n",
       "\n",
       "[250 rows x 5 columns]"
      ]
     },
     "execution_count": 30,
     "metadata": {},
     "output_type": "execute_result"
    }
   ],
   "source": [
    "df.head(250)"
   ]
  },
  {
   "cell_type": "code",
   "execution_count": 6,
   "id": "d54565c9-4f0f-4803-b320-53c3e842c7d7",
   "metadata": {},
   "outputs": [
    {
     "data": {
      "text/plain": [
       "<bound method DataFrame.count of      Unnamed: 0                                  Rank & Title  IMDb Rating  \\\n",
       "0           NaN                     1.  Sueño de fuga  (1994)          9.2   \n",
       "1           NaN                        2.  El padrino  (1972)          9.2   \n",
       "2           NaN  3.  Batman: El caballero de la noche  (2008)          9.0   \n",
       "3           NaN                     4.  El padrino II  (1974)          9.0   \n",
       "4           NaN               5.  12 hombres en pugna  (1957)          9.0   \n",
       "..          ...                                           ...          ...   \n",
       "245         NaN                     246.  Dersu Uzala  (1975)          8.0   \n",
       "246         NaN                         247.  Aladdín  (1992)          8.0   \n",
       "247         NaN              248.  Historias cruzadas  (2011)          8.0   \n",
       "248         NaN                          249.  Gandhi  (1982)          8.0   \n",
       "249         NaN            250.  El gigante de hierro  (1999)          8.0   \n",
       "\n",
       "                            Your Rating  Unnamed: 4  \n",
       "0    12345678910 NOT YET RELEASED  Seen         NaN  \n",
       "1    12345678910 NOT YET RELEASED  Seen         NaN  \n",
       "2    12345678910 NOT YET RELEASED  Seen         NaN  \n",
       "3    12345678910 NOT YET RELEASED  Seen         NaN  \n",
       "4    12345678910 NOT YET RELEASED  Seen         NaN  \n",
       "..                                  ...         ...  \n",
       "245  12345678910 NOT YET RELEASED  Seen         NaN  \n",
       "246  12345678910 NOT YET RELEASED  Seen         NaN  \n",
       "247  12345678910 NOT YET RELEASED  Seen         NaN  \n",
       "248  12345678910 NOT YET RELEASED  Seen         NaN  \n",
       "249  12345678910 NOT YET RELEASED  Seen         NaN  \n",
       "\n",
       "[250 rows x 5 columns]>"
      ]
     },
     "execution_count": 6,
     "metadata": {},
     "output_type": "execute_result"
    }
   ],
   "source": [
    "df.count"
   ]
  },
  {
   "cell_type": "code",
   "execution_count": 7,
   "id": "a97fee3f-c9ca-4aab-9fc1-4e27def12848",
   "metadata": {},
   "outputs": [
    {
     "data": {
      "text/plain": [
       "RangeIndex(start=0, stop=250, step=1)"
      ]
     },
     "execution_count": 7,
     "metadata": {},
     "output_type": "execute_result"
    }
   ],
   "source": [
    "df.index"
   ]
  },
  {
   "cell_type": "code",
   "execution_count": 31,
   "id": "87ccd021-04de-4946-a30f-d74f40c8ef84",
   "metadata": {},
   "outputs": [
    {
     "data": {
      "text/plain": [
       "Index(['Unnamed: 0', 'Rank & Title', 'IMDb Rating', 'Your Rating',\n",
       "       'Unnamed: 4'],\n",
       "      dtype='object')"
      ]
     },
     "execution_count": 31,
     "metadata": {},
     "output_type": "execute_result"
    }
   ],
   "source": [
    "df.columns"
   ]
  },
  {
   "cell_type": "code",
   "execution_count": 32,
   "id": "07fd0ca3-8295-4197-b83f-ac9e27a19775",
   "metadata": {},
   "outputs": [],
   "source": [
    "df = df.drop(columns=['Unnamed: 0','Unnamed: 4','Your Rating'])"
   ]
  },
  {
   "cell_type": "code",
   "execution_count": 33,
   "id": "718bb433-5ed7-41d2-9eac-5c3de3da4f83",
   "metadata": {},
   "outputs": [],
   "source": [
    "info_tabla_2 = sopa_git_18.select('span.secondaryInfo')"
   ]
  },
  {
   "cell_type": "code",
   "execution_count": 11,
   "id": "55f36081-f447-45d2-a759-08ee5b33887e",
   "metadata": {},
   "outputs": [
    {
     "data": {
      "text/plain": [
       "250"
      ]
     },
     "execution_count": 11,
     "metadata": {},
     "output_type": "execute_result"
    }
   ],
   "source": [
    "len(info_tabla_2)"
   ]
  },
  {
   "cell_type": "code",
   "execution_count": 34,
   "id": "ba4630f1-d8f8-444f-a7fd-b5a317b1434e",
   "metadata": {},
   "outputs": [
    {
     "data": {
      "text/plain": [
       "'1994'"
      ]
     },
     "execution_count": 34,
     "metadata": {},
     "output_type": "execute_result"
    }
   ],
   "source": [
    "info_tabla_2[0].text.strip('()')"
   ]
  },
  {
   "cell_type": "code",
   "execution_count": 35,
   "id": "5252a6d0-7926-4b21-9d5d-7f44ee6630e8",
   "metadata": {},
   "outputs": [],
   "source": [
    "info_tabla_3 = sopa_git_18.select('td.titleColumn a[href]')"
   ]
  },
  {
   "cell_type": "code",
   "execution_count": 14,
   "id": "f91ce5b1-fdb9-42a7-bc2c-417c3365b00e",
   "metadata": {},
   "outputs": [
    {
     "data": {
      "text/plain": [
       "250"
      ]
     },
     "execution_count": 14,
     "metadata": {},
     "output_type": "execute_result"
    }
   ],
   "source": [
    "len(info_tabla_3)"
   ]
  },
  {
   "cell_type": "code",
   "execution_count": 36,
   "id": "f3558306-d88c-437e-9ae3-66f3a64bd1ec",
   "metadata": {},
   "outputs": [
    {
     "data": {
      "text/plain": [
       "'Frank Darabont (dir.), Tim Robbins, Morgan Freeman'"
      ]
     },
     "execution_count": 36,
     "metadata": {},
     "output_type": "execute_result"
    }
   ],
   "source": [
    "info_tabla_3[0]['title'].replace(r\",+\", \"\")"
   ]
  },
  {
   "cell_type": "code",
   "execution_count": null,
   "id": "26e1ba34-fab5-40d9-84de-164a8040fc0d",
   "metadata": {},
   "outputs": [],
   "source": []
  },
  {
   "cell_type": "code",
   "execution_count": 16,
   "id": "efe34d79-b4df-489c-8538-733e5decc52b",
   "metadata": {},
   "outputs": [
    {
     "name": "stdout",
     "output_type": "stream",
     "text": [
      "TheraininSpain\n"
     ]
    }
   ],
   "source": [
    "import re\n",
    "\n",
    "txt = \"The rain in Spain\"\n",
    "x = re.sub(\"\\s\", \"\", txt)\n",
    "print(x)"
   ]
  },
  {
   "cell_type": "code",
   "execution_count": 17,
   "id": "b088cb9a-3883-4697-abf0-3d686fc2728f",
   "metadata": {},
   "outputs": [],
   "source": [
    "import re\n",
    "\n",
    "y = re.sub('\\s\\(.*','', info_tabla_3[0]['title'])"
   ]
  },
  {
   "cell_type": "code",
   "execution_count": 18,
   "id": "20996121-3995-493f-a939-3d8a78548138",
   "metadata": {},
   "outputs": [
    {
     "data": {
      "text/plain": [
       "'Frank Darabont'"
      ]
     },
     "execution_count": 18,
     "metadata": {},
     "output_type": "execute_result"
    }
   ],
   "source": [
    "y"
   ]
  },
  {
   "cell_type": "code",
   "execution_count": 19,
   "id": "9598d5d7-390f-4e98-8a06-8a46b62caed0",
   "metadata": {},
   "outputs": [],
   "source": [
    "y = []\n",
    "for item in info_tabla_3:\n",
    "    y.append(re.sub('\\s\\(.*','', item['title']))"
   ]
  },
  {
   "cell_type": "code",
   "execution_count": 37,
   "id": "c119a01b-108a-4cca-9872-0ef864579b5c",
   "metadata": {},
   "outputs": [],
   "source": [
    "info_tabla_2 = sopa_git_18.select('span.secondaryInfo')\n",
    "info_tabla_3 = sopa_git_18.select('td.titleColumn a[href]')\n",
    "y1=[]\n",
    "x1=[]\n",
    "\n",
    "for x,y  in zip(info_tabla_2, info_tabla_3):\n",
    "    y1.append(re.sub('\\s\\(.*','',y['title']))\n",
    "    x1.append(x.text.strip('()'))"
   ]
  },
  {
   "cell_type": "code",
   "execution_count": 38,
   "id": "c702f096-3fc9-4e42-b5dd-204cfaabadae",
   "metadata": {
    "tags": []
   },
   "outputs": [],
   "source": [
    "df.insert(2,\"AÑO\",x1,True)\n",
    "df.insert(3,\"director\",y1,True)"
   ]
  },
  {
   "cell_type": "code",
   "execution_count": 22,
   "id": "4bd3a355-3a30-4540-8290-c286fc200f93",
   "metadata": {},
   "outputs": [
    {
     "data": {
      "text/plain": [
       "250"
      ]
     },
     "execution_count": 22,
     "metadata": {},
     "output_type": "execute_result"
    }
   ],
   "source": [
    "len(x1)"
   ]
  },
  {
   "cell_type": "code",
   "execution_count": null,
   "id": "ebb133cb-f4e5-4478-93cf-132721b02e12",
   "metadata": {},
   "outputs": [],
   "source": []
  },
  {
   "cell_type": "code",
   "execution_count": 39,
   "id": "cbe04f8d-8622-426a-adb0-2766698186c7",
   "metadata": {},
   "outputs": [
    {
     "data": {
      "text/html": [
       "<div>\n",
       "<style scoped>\n",
       "    .dataframe tbody tr th:only-of-type {\n",
       "        vertical-align: middle;\n",
       "    }\n",
       "\n",
       "    .dataframe tbody tr th {\n",
       "        vertical-align: top;\n",
       "    }\n",
       "\n",
       "    .dataframe thead th {\n",
       "        text-align: right;\n",
       "    }\n",
       "</style>\n",
       "<table border=\"1\" class=\"dataframe\">\n",
       "  <thead>\n",
       "    <tr style=\"text-align: right;\">\n",
       "      <th></th>\n",
       "      <th>Rank &amp; Title</th>\n",
       "      <th>IMDb Rating</th>\n",
       "      <th>AÑO</th>\n",
       "      <th>director</th>\n",
       "    </tr>\n",
       "  </thead>\n",
       "  <tbody>\n",
       "    <tr>\n",
       "      <th>0</th>\n",
       "      <td>1.  Sueño de fuga  (1994)</td>\n",
       "      <td>9.2</td>\n",
       "      <td>1994</td>\n",
       "      <td>Frank Darabont</td>\n",
       "    </tr>\n",
       "    <tr>\n",
       "      <th>1</th>\n",
       "      <td>2.  El padrino  (1972)</td>\n",
       "      <td>9.2</td>\n",
       "      <td>1972</td>\n",
       "      <td>Francis Ford Coppola</td>\n",
       "    </tr>\n",
       "    <tr>\n",
       "      <th>2</th>\n",
       "      <td>3.  Batman: El caballero de la noche  (2008)</td>\n",
       "      <td>9.0</td>\n",
       "      <td>2008</td>\n",
       "      <td>Christopher Nolan</td>\n",
       "    </tr>\n",
       "    <tr>\n",
       "      <th>3</th>\n",
       "      <td>4.  El padrino II  (1974)</td>\n",
       "      <td>9.0</td>\n",
       "      <td>1974</td>\n",
       "      <td>Francis Ford Coppola</td>\n",
       "    </tr>\n",
       "    <tr>\n",
       "      <th>4</th>\n",
       "      <td>5.  12 hombres en pugna  (1957)</td>\n",
       "      <td>9.0</td>\n",
       "      <td>1957</td>\n",
       "      <td>Sidney Lumet</td>\n",
       "    </tr>\n",
       "    <tr>\n",
       "      <th>5</th>\n",
       "      <td>6.  La lista de Schindler  (1993)</td>\n",
       "      <td>8.9</td>\n",
       "      <td>1993</td>\n",
       "      <td>Steven Spielberg</td>\n",
       "    </tr>\n",
       "    <tr>\n",
       "      <th>6</th>\n",
       "      <td>7.  El señor de los anillos: El retorno del re...</td>\n",
       "      <td>8.9</td>\n",
       "      <td>2003</td>\n",
       "      <td>Peter Jackson</td>\n",
       "    </tr>\n",
       "    <tr>\n",
       "      <th>7</th>\n",
       "      <td>8.  Tiempos violentos  (1994)</td>\n",
       "      <td>8.8</td>\n",
       "      <td>1994</td>\n",
       "      <td>Quentin Tarantino</td>\n",
       "    </tr>\n",
       "    <tr>\n",
       "      <th>8</th>\n",
       "      <td>9.  El señor de los anillos: La comunidad del ...</td>\n",
       "      <td>8.8</td>\n",
       "      <td>2001</td>\n",
       "      <td>Peter Jackson</td>\n",
       "    </tr>\n",
       "    <tr>\n",
       "      <th>9</th>\n",
       "      <td>10.  El bueno, el malo y el feo  (1966)</td>\n",
       "      <td>8.8</td>\n",
       "      <td>1966</td>\n",
       "      <td>Sergio Leone</td>\n",
       "    </tr>\n",
       "  </tbody>\n",
       "</table>\n",
       "</div>"
      ],
      "text/plain": [
       "                                        Rank & Title  IMDb Rating   AÑO  \\\n",
       "0                          1.  Sueño de fuga  (1994)          9.2  1994   \n",
       "1                             2.  El padrino  (1972)          9.2  1972   \n",
       "2       3.  Batman: El caballero de la noche  (2008)          9.0  2008   \n",
       "3                          4.  El padrino II  (1974)          9.0  1974   \n",
       "4                    5.  12 hombres en pugna  (1957)          9.0  1957   \n",
       "5                  6.  La lista de Schindler  (1993)          8.9  1993   \n",
       "6  7.  El señor de los anillos: El retorno del re...          8.9  2003   \n",
       "7                      8.  Tiempos violentos  (1994)          8.8  1994   \n",
       "8  9.  El señor de los anillos: La comunidad del ...          8.8  2001   \n",
       "9            10.  El bueno, el malo y el feo  (1966)          8.8  1966   \n",
       "\n",
       "               director  \n",
       "0        Frank Darabont  \n",
       "1  Francis Ford Coppola  \n",
       "2     Christopher Nolan  \n",
       "3  Francis Ford Coppola  \n",
       "4          Sidney Lumet  \n",
       "5      Steven Spielberg  \n",
       "6         Peter Jackson  \n",
       "7     Quentin Tarantino  \n",
       "8         Peter Jackson  \n",
       "9          Sergio Leone  "
      ]
     },
     "execution_count": 39,
     "metadata": {},
     "output_type": "execute_result"
    }
   ],
   "source": [
    "df.head(10)"
   ]
  },
  {
   "cell_type": "code",
   "execution_count": 24,
   "id": "6a3d924b-4233-4fa0-9358-50d8a148f9a9",
   "metadata": {},
   "outputs": [
    {
     "ename": "NameError",
     "evalue": "name 'df2' is not defined",
     "output_type": "error",
     "traceback": [
      "\u001b[0;31m---------------------------------------------------------------------------\u001b[0m",
      "\u001b[0;31mNameError\u001b[0m                                 Traceback (most recent call last)",
      "Input \u001b[0;32mIn [24]\u001b[0m, in \u001b[0;36m<cell line: 1>\u001b[0;34m()\u001b[0m\n\u001b[0;32m----> 1\u001b[0m \u001b[43mdf2\u001b[49m\u001b[38;5;241m.\u001b[39mhead(\u001b[38;5;241m5\u001b[39m)\n",
      "\u001b[0;31mNameError\u001b[0m: name 'df2' is not defined"
     ]
    }
   ],
   "source": [
    "df2.head(5)"
   ]
  },
  {
   "cell_type": "code",
   "execution_count": 124,
   "id": "726c152a-13aa-43af-ba23-788e25400021",
   "metadata": {},
   "outputs": [
    {
     "data": {
      "text/plain": [
       "250"
      ]
     },
     "execution_count": 124,
     "metadata": {},
     "output_type": "execute_result"
    }
   ],
   "source": [
    "len(x1)"
   ]
  },
  {
   "cell_type": "code",
   "execution_count": null,
   "id": "04aa8cb7-4a8f-4605-9d2a-169e5d13fcaf",
   "metadata": {},
   "outputs": [],
   "source": [
    "def extraer_info_tw_2():\n",
    "    chrome_options = Options()\n",
    "    chrome_options.add_argument(\"--headless\")\n",
    "    driver = webdriver.Chrome(options=chrome_options)\n",
    "    \n",
    "    import time \n",
    "    usuario = input('ingresar usuario ejemplo \"@BarackObama\":').replace(\"@\", \"\") \n",
    "    #driver = webdriver.Chrome()\n",
    "    url = f'https://twitter.com/{usuario}'\n",
    "    try:\n",
    "        driver.get(url)\n",
    "        time.sleep(1)\n",
    "        sopa = BeautifulSoup(driver.page_source)\n",
    "        bloques2 = sopa.select('div div a span span:first-of-type')\n",
    "        cantidad = bloques2[4].text.replace('\\xa0',' ').replace(',','.')\n",
    "        driver.quit()\n",
    "        return print(f'personas que la siguen: {cantidad}')\n",
    "    except:\n",
    "        driver.quit()\n",
    "        return print('NO encontro cuenta')"
   ]
  },
  {
   "cell_type": "code",
   "execution_count": null,
   "id": "5a9b355b-b8ce-4fda-8210-bdc60cb95ff4",
   "metadata": {},
   "outputs": [],
   "source": [
    "url19 =  'https://www.imdb.com/chart/top'\n",
    "response_19 = requests.get(url19)\n",
    "sopa_git_19 = BeautifulSoup(response_19.content, 'html5lib') "
   ]
  },
  {
   "cell_type": "code",
   "execution_count": null,
   "id": "95e33309-01e6-4196-b937-a3a60496de48",
   "metadata": {},
   "outputs": [],
   "source": [
    "chrome_options = Options()\n",
    "chrome_options.add_argument(\"--headless\")\n",
    "driver = webdriver.Chrome(options=chrome_options)"
   ]
  },
  {
   "cell_type": "code",
   "execution_count": 47,
   "id": "f8d71033-1806-4bfc-abde-cf9c5a58626d",
   "metadata": {},
   "outputs": [],
   "source": [
    "\n"
   ]
  },
  {
   "cell_type": "code",
   "execution_count": 45,
   "id": "91f020da-b607-4e2f-9a4f-4ed2351b8507",
   "metadata": {},
   "outputs": [],
   "source": [
    "import requests\n",
    "from bs4 import BeautifulSoup\n",
    "import pandas as pd\n",
    "from selenium.webdriver.common.by import By\n",
    "from selenium import webdriver\n",
    "from selenium.webdriver.common.keys import Keys\n",
    "from selenium.webdriver.common.action_chains import ActionChains\n",
    "from selenium.webdriver.chrome.options import Options\n",
    "import time"
   ]
  },
  {
   "cell_type": "code",
   "execution_count": 46,
   "id": "3fe9ce99-9484-4dff-bc24-ed18c6c77533",
   "metadata": {},
   "outputs": [],
   "source": [
    "driver.quit()"
   ]
  },
  {
   "cell_type": "code",
   "execution_count": 48,
   "id": "a48c3291-2a79-448e-9437-8521dbf0da86",
   "metadata": {},
   "outputs": [
    {
     "data": {
      "text/plain": [
       "250"
      ]
     },
     "execution_count": 48,
     "metadata": {},
     "output_type": "execute_result"
    }
   ],
   "source": [
    "len(bloques19)"
   ]
  },
  {
   "cell_type": "code",
   "execution_count": 76,
   "id": "87259c2f-84ee-4f97-a4a5-ba72a18da319",
   "metadata": {},
   "outputs": [
    {
     "data": {
      "text/plain": [
       "'Sueño de fuga'"
      ]
     },
     "execution_count": 76,
     "metadata": {},
     "output_type": "execute_result"
    }
   ],
   "source": [
    "bloques19[0].select('td.titleColumn a')[0].text"
   ]
  },
  {
   "cell_type": "code",
   "execution_count": 68,
   "id": "828175bf-6525-4a5b-8e48-3c52c0636440",
   "metadata": {},
   "outputs": [
    {
     "data": {
      "text/plain": [
       "'1994'"
      ]
     },
     "execution_count": 68,
     "metadata": {},
     "output_type": "execute_result"
    }
   ],
   "source": [
    "bloques19[0].select('span.secondaryInfo')[0].text.strip('()')"
   ]
  },
  {
   "cell_type": "code",
   "execution_count": 69,
   "id": "c007195b-d5f3-41a8-91d7-5ec4d4e0f2bf",
   "metadata": {},
   "outputs": [],
   "source": [
    "bloques19 = sopa.select('tbody.lister-list tr')"
   ]
  },
  {
   "cell_type": "raw",
   "id": "d1c92fb6-8add-47e2-9094-6110caf43831",
   "metadata": {},
   "source": [
    "precios_despues, precios_antes = list(zip(*precios_antes_despues))\n",
    "\n",
    "como separar algo que tiene dos valores, a dos listas\n",
    "\n",
    "[['2,249', '2,499'], ['1,189', '1,699'], ['799', '999'], ['1,379', '2,299']]\n"
   ]
  },
  {
   "cell_type": "code",
   "execution_count": 94,
   "id": "e00c4844-a8de-4609-b56b-78c5553dbd89",
   "metadata": {},
   "outputs": [],
   "source": [
    "a = bloques19[0].select('a')[0]['href']"
   ]
  },
  {
   "cell_type": "code",
   "execution_count": 98,
   "id": "a6e40b73-1ae6-4524-95a5-66c42dee00f3",
   "metadata": {},
   "outputs": [],
   "source": [
    "url_n= url_b+a"
   ]
  },
  {
   "cell_type": "code",
   "execution_count": 99,
   "id": "a6bc7b65-7aee-4b24-874f-aee4b96d5dc9",
   "metadata": {},
   "outputs": [
    {
     "data": {
      "text/plain": [
       "'https://www.imdb.com/title/tt0111161/?pf_rd_m=A2FGELUUNOQJNL&pf_rd_p=1a264172-ae11-42e4-8ef7-7fed1973bb8f&pf_rd_r=S8WPE9XWWW1K6AQ5YF5A&pf_rd_s=center-1&pf_rd_t=15506&pf_rd_i=top&ref_=chttp_tt_1'"
      ]
     },
     "execution_count": 99,
     "metadata": {},
     "output_type": "execute_result"
    }
   ],
   "source": [
    "url_n"
   ]
  },
  {
   "cell_type": "code",
   "execution_count": 100,
   "id": "f40bd98d-506d-4a38-8b69-989297c3e9e3",
   "metadata": {},
   "outputs": [],
   "source": [
    "url19 =  'https://www.imdb.com/chart/top'\n",
    "driver = webdriver.Chrome()\n",
    "driver.get(url19)\n",
    "time.sleep(1)\n",
    "sopa = BeautifulSoup(driver.page_source)\n",
    "bloques19 = sopa.select('tbody.lister-list tr')\n",
    "driver.quit()\n",
    "\n",
    "nombre=[]\n",
    "año=[]\n",
    "link=[]\n",
    "\n",
    "for item in bloques19:\n",
    "    nombre.append(item.select('td.titleColumn a')[0].text)\n",
    "    año.append(item.select('span.secondaryInfo')[0].text.strip('()'))\n",
    "    link.append(item.select('a')[0]['href'])\n",
    "    \n"
   ]
  },
  {
   "cell_type": "code",
   "execution_count": 102,
   "id": "3de2a895-e30a-431a-ae75-9288e9e384dd",
   "metadata": {
    "tags": []
   },
   "outputs": [
    {
     "data": {
      "text/plain": [
       "'/title/tt0111161/?pf_rd_m=A2FGELUUNOQJNL&pf_rd_p=1a264172-ae11-42e4-8ef7-7fed1973bb8f&pf_rd_r=1HK5RAWQBKJMNZWGNWB6&pf_rd_s=center-1&pf_rd_t=15506&pf_rd_i=top&ref_=chttp_tt_1'"
      ]
     },
     "execution_count": 102,
     "metadata": {},
     "output_type": "execute_result"
    }
   ],
   "source": [
    "link[0]"
   ]
  },
  {
   "cell_type": "code",
   "execution_count": 160,
   "id": "e3d44ffa-2ced-4fc8-8d1e-e4d471b86c15",
   "metadata": {},
   "outputs": [],
   "source": [
    "lista_p=[]\n",
    "n=10\n",
    "for i in range(n):\n",
    "    lista_p.append(año[i])"
   ]
  },
  {
   "cell_type": "code",
   "execution_count": 161,
   "id": "cba7edda-b3db-44d5-bf55-5a00d908c7ea",
   "metadata": {},
   "outputs": [
    {
     "data": {
      "text/plain": [
       "['1994',\n",
       " '1972',\n",
       " '2008',\n",
       " '1974',\n",
       " '1957',\n",
       " '1993',\n",
       " '2003',\n",
       " '1994',\n",
       " '2001',\n",
       " '1966']"
      ]
     },
     "execution_count": 161,
     "metadata": {},
     "output_type": "execute_result"
    }
   ],
   "source": [
    "lista_p"
   ]
  },
  {
   "cell_type": "code",
   "execution_count": null,
   "id": "0b7ba1f7-4f3d-4e06-9e8e-5e1f31dc6ed4",
   "metadata": {},
   "outputs": [],
   "source": []
  },
  {
   "cell_type": "code",
   "execution_count": null,
   "id": "041799b8-a319-4138-9f4f-79079e59b5c5",
   "metadata": {},
   "outputs": [],
   "source": []
  },
  {
   "cell_type": "code",
   "execution_count": 108,
   "id": "1ba75b75-24cd-4924-bb2f-7758ff219045",
   "metadata": {},
   "outputs": [],
   "source": [
    "url_b =  'https://www.imdb.com'\n",
    "link_2 = link[0]\n",
    "link_n = url_b+link_2\n",
    "driver = webdriver.Chrome()\n",
    "driver.get(link_n)\n",
    "time.sleep(1)\n"
   ]
  },
  {
   "cell_type": "code",
   "execution_count": 109,
   "id": "7e2facf6-1240-4919-a6c9-940591a72103",
   "metadata": {},
   "outputs": [],
   "source": [
    "sopa_2 = BeautifulSoup(driver.page_source)"
   ]
  },
  {
   "cell_type": "code",
   "execution_count": 112,
   "id": "87c57007-4ca4-4da1-aa04-52ab8b666e06",
   "metadata": {},
   "outputs": [],
   "source": [
    "bloques19_2 = sopa_2.select('span[data-testid=\"plot-xs_to_m\"]')"
   ]
  },
  {
   "cell_type": "code",
   "execution_count": 117,
   "id": "2db4d1ff-d0fe-4ded-bd9e-648f0c1a36ac",
   "metadata": {},
   "outputs": [
    {
     "data": {
      "text/plain": [
       "'Andy Dufresne es encarcelado por matar a su esposa y al amante de esta. Tras una dura adaptación, intenta mejorar las condiciones de la prisión y dar esperanza a sus compañeros.'"
      ]
     },
     "execution_count": 117,
     "metadata": {},
     "output_type": "execute_result"
    }
   ],
   "source": [
    "bloques19_2[0].text"
   ]
  },
  {
   "cell_type": "code",
   "execution_count": 119,
   "id": "a6716808-27fd-461c-95b0-3942297deee8",
   "metadata": {},
   "outputs": [],
   "source": [
    "import random\n",
    "n=10\n",
    "numero_random = [random.randint(0,250) for _ in range(n)]"
   ]
  },
  {
   "cell_type": "code",
   "execution_count": 120,
   "id": "03075e4c-31c7-48bb-9f11-bf1144c2622f",
   "metadata": {},
   "outputs": [
    {
     "data": {
      "text/plain": [
       "[37, 70, 47, 217, 60, 169, 170, 49, 53, 92]"
      ]
     },
     "execution_count": 120,
     "metadata": {},
     "output_type": "execute_result"
    }
   ],
   "source": [
    "numero_random"
   ]
  },
  {
   "cell_type": "code",
   "execution_count": 124,
   "id": "b5e3159f-8ed6-4afe-86f2-42902932083a",
   "metadata": {},
   "outputs": [],
   "source": [
    "url_b =  'https://www.imdb.com'\n",
    "texto_peli=[]\n",
    "\n",
    "for i in numero_random:\n",
    "    link_2 = link[i]\n",
    "    link_n = url_b+link_2\n",
    "    driver = webdriver.Chrome()\n",
    "    driver.get(link_n)\n",
    "    time.sleep(1)\n",
    "    sopa_2 = BeautifulSoup(driver.page_source)\n",
    "    bloques19_2 = sopa_2.select('span[data-testid=\"plot-xs_to_m\"]')\n",
    "    texto_peli.append(bloques19_2[0].text)\n",
    "    driver.quit()"
   ]
  },
  {
   "cell_type": "code",
   "execution_count": 126,
   "id": "47bd75f7-9bfe-4eef-bde6-0ed1c0149dea",
   "metadata": {},
   "outputs": [
    {
     "data": {
      "text/plain": [
       "10"
      ]
     },
     "execution_count": 126,
     "metadata": {},
     "output_type": "execute_result"
    }
   ],
   "source": [
    "len(texto_peli)"
   ]
  },
  {
   "cell_type": "code",
   "execution_count": 128,
   "id": "d211724a-99dd-41ad-ab51-f39de95f45f9",
   "metadata": {},
   "outputs": [
    {
     "data": {
      "text/plain": [
       "'Un exmilitante de los skinheads neonazis intenta disuadir a su hermano pequeño de tomar las mismas malas decisiones que él tomó.'"
      ]
     },
     "execution_count": 128,
     "metadata": {},
     "output_type": "execute_result"
    }
   ],
   "source": [
    "texto_peli[0]"
   ]
  },
  {
   "cell_type": "code",
   "execution_count": 132,
   "id": "3c867ac0-fed9-4738-91df-4806e764094b",
   "metadata": {},
   "outputs": [],
   "source": [
    "lista_titulo =[]\n",
    "lista_año = []\n",
    "\n",
    "\n",
    "for i in numero_random:\n",
    "    lista_titulo.append(bloques19[i].select('td.titleColumn a')[0].text)\n",
    "    lista_año.append(bloques19[i].select('span.secondaryInfo')[0].text.strip('()'))"
   ]
  },
  {
   "cell_type": "code",
   "execution_count": 139,
   "id": "1380fa60-727a-45e7-a187-9dad73bfdf82",
   "metadata": {},
   "outputs": [],
   "source": [
    "tabla_final = list(zip(lista_titulo, lista_año, texto_peli))"
   ]
  },
  {
   "cell_type": "code",
   "execution_count": 140,
   "id": "71f97c29-48dc-4ca5-ac3e-df1ae3d303bc",
   "metadata": {},
   "outputs": [
    {
     "data": {
      "text/plain": [
       "[('Historia americana X',\n",
       "  '1998',\n",
       "  'Un exmilitante de los skinheads neonazis intenta disuadir a su hermano pequeño de tomar las mismas malas decisiones que él tomó.'),\n",
       " ('Guasón',\n",
       "  '2019',\n",
       "  'En Gotham, Arthur Fleck, un comediante con problemas de salud mental, es marginado y maltratado por la sociedad. Se adentra en una espiral de crimen que resulta revolucionaria. Pronto conoce... Leer todo'),\n",
       " ('Érase una vez en el oeste',\n",
       "  '1968',\n",
       "  'Un misterioso extraño con una armónica se alía con un famoso forajido para proteger a una bella viuda de un despiadado asesino que trabaja para el ferrocarril.'),\n",
       " ('Ratatouille',\n",
       "  '2007',\n",
       "  'Una rata que sabe cocinar establece una inusual alianza con un joven trabajador de la cocina de un famoso restaurante de París.'),\n",
       " ('El gran dictador',\n",
       "  '1940',\n",
       "  'El dictador Adenoid Hynkel trata de expandir su imperio mientras un humilde barbero judío intenta escapar de la persecución del régimen de Hynkel.'),\n",
       " ('Fargo. Secuestro voluntario',\n",
       "  '1996',\n",
       "  'Los crímenes de Jerry Lundegaard se caen a pedazos gracias a la torpeza de sus hombres y al persistente trabajo de la oficial de policía Marge Gunderson.'),\n",
       " ('Intriga',\n",
       "  '2013',\n",
       "  'Cuando la hija de Keller Dover y su amiga desaparecen, él toma el caso en sus manos mientras la policía sigue múltiples pistas y aumenta la presión.'),\n",
       " ('Alien, el octavo pasajero',\n",
       "  '1979',\n",
       "  'La tripulación de una nave espacial comercial se encuentra con una forma de vida mortal tras investigar una transmisión desconocida.'),\n",
       " ('Amnesia',\n",
       "  '2000',\n",
       "  'Un hombre con pérdida de memoria a corto plazo intenta encontrar al asesino de su esposa.'),\n",
       " ('Perros de reserva',\n",
       "  '1992',\n",
       "  'Cuando un sencillo robo de joyas acaba terriblemente mal, los delincuentes que sobreviven comienzan a sospechar que uno de ellos es informador de la policía.')]"
      ]
     },
     "execution_count": 140,
     "metadata": {},
     "output_type": "execute_result"
    }
   ],
   "source": [
    "tabla_final"
   ]
  },
  {
   "cell_type": "code",
   "execution_count": 141,
   "id": "836078e8-9a4c-47c6-8c62-bdef2057abc6",
   "metadata": {},
   "outputs": [
    {
     "data": {
      "text/html": [
       "<div>\n",
       "<style scoped>\n",
       "    .dataframe tbody tr th:only-of-type {\n",
       "        vertical-align: middle;\n",
       "    }\n",
       "\n",
       "    .dataframe tbody tr th {\n",
       "        vertical-align: top;\n",
       "    }\n",
       "\n",
       "    .dataframe thead th {\n",
       "        text-align: right;\n",
       "    }\n",
       "</style>\n",
       "<table border=\"1\" class=\"dataframe\">\n",
       "  <thead>\n",
       "    <tr style=\"text-align: right;\">\n",
       "      <th></th>\n",
       "      <th>titulo</th>\n",
       "      <th>año</th>\n",
       "      <th>descripcion</th>\n",
       "    </tr>\n",
       "  </thead>\n",
       "  <tbody>\n",
       "    <tr>\n",
       "      <th>0</th>\n",
       "      <td>Historia americana X</td>\n",
       "      <td>1998</td>\n",
       "      <td>Un exmilitante de los skinheads neonazis inten...</td>\n",
       "    </tr>\n",
       "    <tr>\n",
       "      <th>1</th>\n",
       "      <td>Guasón</td>\n",
       "      <td>2019</td>\n",
       "      <td>En Gotham, Arthur Fleck, un comediante con pro...</td>\n",
       "    </tr>\n",
       "    <tr>\n",
       "      <th>2</th>\n",
       "      <td>Érase una vez en el oeste</td>\n",
       "      <td>1968</td>\n",
       "      <td>Un misterioso extraño con una armónica se alía...</td>\n",
       "    </tr>\n",
       "    <tr>\n",
       "      <th>3</th>\n",
       "      <td>Ratatouille</td>\n",
       "      <td>2007</td>\n",
       "      <td>Una rata que sabe cocinar establece una inusua...</td>\n",
       "    </tr>\n",
       "    <tr>\n",
       "      <th>4</th>\n",
       "      <td>El gran dictador</td>\n",
       "      <td>1940</td>\n",
       "      <td>El dictador Adenoid Hynkel trata de expandir s...</td>\n",
       "    </tr>\n",
       "    <tr>\n",
       "      <th>5</th>\n",
       "      <td>Fargo. Secuestro voluntario</td>\n",
       "      <td>1996</td>\n",
       "      <td>Los crímenes de Jerry Lundegaard se caen a ped...</td>\n",
       "    </tr>\n",
       "    <tr>\n",
       "      <th>6</th>\n",
       "      <td>Intriga</td>\n",
       "      <td>2013</td>\n",
       "      <td>Cuando la hija de Keller Dover y su amiga desa...</td>\n",
       "    </tr>\n",
       "    <tr>\n",
       "      <th>7</th>\n",
       "      <td>Alien, el octavo pasajero</td>\n",
       "      <td>1979</td>\n",
       "      <td>La tripulación de una nave espacial comercial ...</td>\n",
       "    </tr>\n",
       "    <tr>\n",
       "      <th>8</th>\n",
       "      <td>Amnesia</td>\n",
       "      <td>2000</td>\n",
       "      <td>Un hombre con pérdida de memoria a corto plazo...</td>\n",
       "    </tr>\n",
       "    <tr>\n",
       "      <th>9</th>\n",
       "      <td>Perros de reserva</td>\n",
       "      <td>1992</td>\n",
       "      <td>Cuando un sencillo robo de joyas acaba terribl...</td>\n",
       "    </tr>\n",
       "  </tbody>\n",
       "</table>\n",
       "</div>"
      ],
      "text/plain": [
       "                        titulo   año  \\\n",
       "0         Historia americana X  1998   \n",
       "1                       Guasón  2019   \n",
       "2    Érase una vez en el oeste  1968   \n",
       "3                  Ratatouille  2007   \n",
       "4             El gran dictador  1940   \n",
       "5  Fargo. Secuestro voluntario  1996   \n",
       "6                      Intriga  2013   \n",
       "7    Alien, el octavo pasajero  1979   \n",
       "8                      Amnesia  2000   \n",
       "9            Perros de reserva  1992   \n",
       "\n",
       "                                         descripcion  \n",
       "0  Un exmilitante de los skinheads neonazis inten...  \n",
       "1  En Gotham, Arthur Fleck, un comediante con pro...  \n",
       "2  Un misterioso extraño con una armónica se alía...  \n",
       "3  Una rata que sabe cocinar establece una inusua...  \n",
       "4  El dictador Adenoid Hynkel trata de expandir s...  \n",
       "5  Los crímenes de Jerry Lundegaard se caen a ped...  \n",
       "6  Cuando la hija de Keller Dover y su amiga desa...  \n",
       "7  La tripulación de una nave espacial comercial ...  \n",
       "8  Un hombre con pérdida de memoria a corto plazo...  \n",
       "9  Cuando un sencillo robo de joyas acaba terribl...  "
      ]
     },
     "execution_count": 141,
     "metadata": {},
     "output_type": "execute_result"
    }
   ],
   "source": [
    "df = pd.DataFrame(tabla_final, columns=['titulo','año','descripcion'])\n",
    "df.head(10)"
   ]
  },
  {
   "cell_type": "code",
   "execution_count": null,
   "id": "3923152d-f7aa-465f-8c5f-00053971d127",
   "metadata": {},
   "outputs": [],
   "source": [
    "def extraer_info_tw_2():\n",
    "    chrome_options = Options()\n",
    "    chrome_options.add_argument(\"--headless\")\n",
    "    driver = webdriver.Chrome(options=chrome_options)\n",
    "    \n",
    "    import time \n",
    "    usuario = input('ingresar usuario ejemplo \"@BarackObama\":').replace(\"@\", \"\") \n",
    "    #driver = webdriver.Chrome()\n",
    "    url = f'https://twitter.com/{usuario}'\n",
    "    try:\n",
    "        driver.get(url)\n",
    "        time.sleep(1)\n",
    "        sopa = BeautifulSoup(driver.page_source)\n",
    "        bloques2 = sopa.select('div div a span span:first-of-type')\n",
    "        cantidad = bloques2[4].text.replace('\\xa0',' ').replace(',','.')\n",
    "        driver.quit()\n",
    "        return print(f'personas que la siguen: {cantidad}')\n",
    "    except:\n",
    "        driver.quit()\n",
    "        return print('NO encontro cuenta')"
   ]
  },
  {
   "cell_type": "code",
   "execution_count": null,
   "id": "ab1120e2-4981-4d30-ad48-256a66e2ab59",
   "metadata": {
    "tags": []
   },
   "outputs": [],
   "source": [
    "url19 =  'https://www.imdb.com/chart/top'\n",
    "driver = webdriver.Chrome()\n",
    "driver.get(url19)\n",
    "time.sleep(1)\n",
    "sopa = BeautifulSoup(driver.page_source)\n",
    "bloques19 = sopa.select('tbody.lister-list tr')\n",
    "driver.quit()\n",
    "\n",
    "nombre=[]\n",
    "año=[]\n",
    "link=[]\n",
    "\n",
    "for item in bloques19:\n",
    "    nombre.append(item.select('td.titleColumn a')[0].text)\n",
    "    año.append(item.select('span.secondaryInfo')[0].text.strip('()'))\n",
    "    link.append(item.select('a')[0]['href'])"
   ]
  },
  {
   "cell_type": "code",
   "execution_count": 217,
   "id": "b1ce2bef-aeda-406c-8cab-746e8820817c",
   "metadata": {},
   "outputs": [],
   "source": [
    "def peliculas_tab(n):\n",
    "    n=n\n",
    "    chrome_options = Options()\n",
    "    chrome_options.add_argument(\"--headless\")\n",
    "    driver = webdriver.Chrome(options=chrome_options)\n",
    "    \n",
    "    import time \n",
    "    url19 =  'https://www.imdb.com/chart/top'\n",
    "    #driver = webdriver.Chrome()\n",
    "    driver.get(url19)\n",
    "    time.sleep(1)\n",
    "    sopa = BeautifulSoup(driver.page_source)\n",
    "    bloques19 = sopa.select('tbody.lister-list tr')\n",
    "    driver.quit()\n",
    "    nombre=[]\n",
    "    año=[]\n",
    "    link=[]\n",
    "    \n",
    "    for item in bloques19:\n",
    "        nombre.append(item.select('td.titleColumn a')[0].text)\n",
    "        año.append(item.select('span.secondaryInfo')[0].text.strip('()'))\n",
    "        link.append(item.select('a')[0]['href'])\n",
    "    \n",
    "    \n",
    "    \n",
    "    import random\n",
    "    #n=10\n",
    "    #n es numero de peliculas random a sacar\n",
    "    numero_random = [random.randint(1,251) for _ in range(n)]\n",
    "    \n",
    "    url_b =  'https://www.imdb.com'\n",
    "    texto_peli=[]\n",
    "    lista_año=[]\n",
    "    lista_titulo=[]\n",
    "    tabla_final=[]\n",
    "\n",
    "    for i in numero_random:\n",
    "        chrome_options = Options()\n",
    "        chrome_options.add_argument(\"--headless\")\n",
    "        driver = webdriver.Chrome(options=chrome_options)\n",
    "        link_2 = link[i-1]\n",
    "        link_n = url_b+link_2\n",
    "        #driver = webdriver.Chrome()\n",
    "        driver.get(link_n)\n",
    "        time.sleep(1)\n",
    "        sopa_2 = BeautifulSoup(driver.page_source)\n",
    "        bloques19_2 = sopa_2.select('span[data-testid=\"plot-xs_to_m\"]')\n",
    "        \n",
    "        texto_peli.append(bloques19_2[0].text)\n",
    "        \n",
    "        lista_titulo.append(nombre[i-1])\n",
    "        lista_año.append(año[i-1])\n",
    "        \n",
    "        driver.quit()\n",
    "    \n",
    "    #num_2 = list(map(lambda x: x -1, numero_random))\n",
    "    \n",
    "    tabla_final = list(zip(numero_random, lista_titulo, lista_año, texto_peli))\n",
    "    df = pd.DataFrame(tabla_final, columns=['No. en Lista','titulo','año','descripcion'])\n",
    "    print('termino')\n",
    "    return df"
   ]
  },
  {
   "cell_type": "code",
   "execution_count": 218,
   "id": "aa2c7342-6d66-4b4d-9a39-eb479c9b6331",
   "metadata": {},
   "outputs": [
    {
     "name": "stdout",
     "output_type": "stream",
     "text": [
      "termino\n"
     ]
    }
   ],
   "source": [
    "tabla= peliculas_tab(5)"
   ]
  },
  {
   "cell_type": "code",
   "execution_count": 219,
   "id": "e1327608-9370-43e8-b33c-da6ec8890b01",
   "metadata": {},
   "outputs": [
    {
     "data": {
      "text/html": [
       "<div>\n",
       "<style scoped>\n",
       "    .dataframe tbody tr th:only-of-type {\n",
       "        vertical-align: middle;\n",
       "    }\n",
       "\n",
       "    .dataframe tbody tr th {\n",
       "        vertical-align: top;\n",
       "    }\n",
       "\n",
       "    .dataframe thead th {\n",
       "        text-align: right;\n",
       "    }\n",
       "</style>\n",
       "<table border=\"1\" class=\"dataframe\">\n",
       "  <thead>\n",
       "    <tr style=\"text-align: right;\">\n",
       "      <th></th>\n",
       "      <th>No. en Lista</th>\n",
       "      <th>titulo</th>\n",
       "      <th>año</th>\n",
       "      <th>descripcion</th>\n",
       "    </tr>\n",
       "  </thead>\n",
       "  <tbody>\n",
       "    <tr>\n",
       "      <th>0</th>\n",
       "      <td>98</td>\n",
       "      <td>Lawrence of Arabia</td>\n",
       "      <td>1962</td>\n",
       "      <td>The story of T.E. Lawrence, the English office...</td>\n",
       "    </tr>\n",
       "    <tr>\n",
       "      <th>1</th>\n",
       "      <td>33</td>\n",
       "      <td>The Pianist</td>\n",
       "      <td>2002</td>\n",
       "      <td>A Polish Jewish musician struggles to survive ...</td>\n",
       "    </tr>\n",
       "    <tr>\n",
       "      <th>2</th>\n",
       "      <td>50</td>\n",
       "      <td>Alien</td>\n",
       "      <td>1979</td>\n",
       "      <td>The crew of a commercial spacecraft encounter ...</td>\n",
       "    </tr>\n",
       "    <tr>\n",
       "      <th>3</th>\n",
       "      <td>125</td>\n",
       "      <td>For a Few Dollars More</td>\n",
       "      <td>1965</td>\n",
       "      <td>Two bounty hunters with the same intentions te...</td>\n",
       "    </tr>\n",
       "    <tr>\n",
       "      <th>4</th>\n",
       "      <td>180</td>\n",
       "      <td>12 Years a Slave</td>\n",
       "      <td>2013</td>\n",
       "      <td>In the antebellum United States, Solomon North...</td>\n",
       "    </tr>\n",
       "  </tbody>\n",
       "</table>\n",
       "</div>"
      ],
      "text/plain": [
       "   No. en Lista                  titulo   año  \\\n",
       "0            98      Lawrence of Arabia  1962   \n",
       "1            33             The Pianist  2002   \n",
       "2            50                   Alien  1979   \n",
       "3           125  For a Few Dollars More  1965   \n",
       "4           180        12 Years a Slave  2013   \n",
       "\n",
       "                                         descripcion  \n",
       "0  The story of T.E. Lawrence, the English office...  \n",
       "1  A Polish Jewish musician struggles to survive ...  \n",
       "2  The crew of a commercial spacecraft encounter ...  \n",
       "3  Two bounty hunters with the same intentions te...  \n",
       "4  In the antebellum United States, Solomon North...  "
      ]
     },
     "execution_count": 219,
     "metadata": {},
     "output_type": "execute_result"
    }
   ],
   "source": [
    "tabla.head()"
   ]
  },
  {
   "cell_type": "code",
   "execution_count": null,
   "id": "2d81deeb-409b-4a36-af46-61c4074c59e8",
   "metadata": {
    "tags": []
   },
   "outputs": [],
   "source": [
    "\n",
    "    tabla_final = list(zip(lista_titulo, lista_año, texto_peli))\n",
    "    df = pd.DataFrame(tabla_final, columns=['titulo','año','descripcion'])\n",
    "    print('termino')"
   ]
  },
  {
   "cell_type": "code",
   "execution_count": 202,
   "id": "7b152997-9ebb-4ba3-9a28-91ca7fe44785",
   "metadata": {},
   "outputs": [
    {
     "data": {
      "text/plain": [
       "195"
      ]
     },
     "execution_count": 202,
     "metadata": {},
     "output_type": "execute_result"
    }
   ],
   "source": [
    "num"
   ]
  },
  {
   "cell_type": "code",
   "execution_count": 206,
   "id": "5a42e910-6c1e-4bbc-b3d8-37399df39c88",
   "metadata": {},
   "outputs": [],
   "source": [
    "import random\n",
    "n=10\n",
    "numero_random = [random.randint(0,250) for _ in range(n)]"
   ]
  },
  {
   "cell_type": "code",
   "execution_count": 207,
   "id": "7d1629f8-d3ed-4d47-b226-865cd159365e",
   "metadata": {},
   "outputs": [
    {
     "data": {
      "text/plain": [
       "[236, 7, 94, 41, 166, 177, 164, 118, 93, 45]"
      ]
     },
     "execution_count": 207,
     "metadata": {},
     "output_type": "execute_result"
    }
   ],
   "source": [
    "numero_random"
   ]
  },
  {
   "cell_type": "code",
   "execution_count": 212,
   "id": "b4cc668c-ad1b-4b6a-bf1b-3f5e6a05a2e4",
   "metadata": {},
   "outputs": [],
   "source": [
    "num_2 = list(map(lambda x: x -1, numero_random))\n"
   ]
  },
  {
   "cell_type": "code",
   "execution_count": 213,
   "id": "ff52c047-843a-4877-8348-cc58682dbb43",
   "metadata": {},
   "outputs": [
    {
     "data": {
      "text/plain": [
       "[235, 6, 93, 40, 165, 176, 163, 117, 92, 44]"
      ]
     },
     "execution_count": 213,
     "metadata": {},
     "output_type": "execute_result"
    }
   ],
   "source": [
    "num_2"
   ]
  },
  {
   "cell_type": "code",
   "execution_count": 220,
   "id": "911d89fe-64b0-4623-81b6-085d0f6d7e3e",
   "metadata": {},
   "outputs": [
    {
     "ename": "SyntaxError",
     "evalue": "invalid syntax (1140803816.py, line 1)",
     "output_type": "error",
     "traceback": [
      "\u001b[0;36m  Input \u001b[0;32mIn [220]\u001b[0;36m\u001b[0m\n\u001b[0;31m    http://api.openweathermap.org/data/2.5/weather?q=+mexico+&APPID=b35975e18dc93725acb092f7272cc6b8&units=metric\u001b[0m\n\u001b[0m         ^\u001b[0m\n\u001b[0;31mSyntaxError\u001b[0m\u001b[0;31m:\u001b[0m invalid syntax\n"
     ]
    }
   ],
   "source": [
    "http://api.openweathermap.org/data/2.5/weather?q=+mexico+&APPID=b35975e18dc93725acb092f7272cc6b8&units=metric"
   ]
  },
  {
   "cell_type": "code",
   "execution_count": 234,
   "id": "10349223-f2a7-406b-b83b-759793c49810",
   "metadata": {},
   "outputs": [
    {
     "name": "stdin",
     "output_type": "stream",
     "text": [
      "Enter the city: London\n"
     ]
    }
   ],
   "source": [
    "city = city=input('Enter the city:')\n",
    "url = 'http://api.openweathermap.org/data/2.5/weather?'+'q='+city+'&appid=b35975e18dc93725acb092f7272cc6b8&units=metric'"
   ]
  },
  {
   "cell_type": "code",
   "execution_count": 310,
   "id": "d28143dd-5bcb-4ca9-84a7-4eafb0a96b4f",
   "metadata": {},
   "outputs": [],
   "source": [
    "import requests"
   ]
  },
  {
   "cell_type": "code",
   "execution_count": 312,
   "id": "f1fc5888-db54-4752-bda3-01943e463e15",
   "metadata": {},
   "outputs": [],
   "source": [
    "response = requests.get(url)"
   ]
  },
  {
   "cell_type": "code",
   "execution_count": 313,
   "id": "a532dd8b-01fd-459f-be46-794f3feae512",
   "metadata": {},
   "outputs": [
    {
     "data": {
      "text/plain": [
       "<Response [200]>"
      ]
     },
     "execution_count": 313,
     "metadata": {},
     "output_type": "execute_result"
    }
   ],
   "source": [
    "response"
   ]
  },
  {
   "cell_type": "code",
   "execution_count": 314,
   "id": "010d35c9-4733-4440-afeb-7b0767d406e2",
   "metadata": {},
   "outputs": [
    {
     "data": {
      "text/plain": [
       "{'Server': 'openresty', 'Date': 'Fri, 18 Nov 2022 17:28:16 GMT', 'Content-Type': 'application/json; charset=utf-8', 'Content-Length': '478', 'Connection': 'keep-alive', 'X-Cache-Key': '/data/2.5/weather?q=london&units=metric', 'Access-Control-Allow-Origin': '*', 'Access-Control-Allow-Credentials': 'true', 'Access-Control-Allow-Methods': 'GET, POST'}"
      ]
     },
     "execution_count": 314,
     "metadata": {},
     "output_type": "execute_result"
    }
   ],
   "source": [
    "response.headers"
   ]
  },
  {
   "cell_type": "code",
   "execution_count": 315,
   "id": "da4129c8-a5b4-4545-9e0f-6f70abff1196",
   "metadata": {},
   "outputs": [],
   "source": [
    "json_books = response.json()"
   ]
  },
  {
   "cell_type": "code",
   "execution_count": 316,
   "id": "6f6b1f39-96e1-4df2-a70d-adb5a773e60a",
   "metadata": {},
   "outputs": [
    {
     "data": {
      "text/plain": [
       "{'coord': {'lon': -0.1257, 'lat': 51.5085},\n",
       " 'weather': [{'id': 803,\n",
       "   'main': 'Clouds',\n",
       "   'description': 'broken clouds',\n",
       "   'icon': '04n'}],\n",
       " 'base': 'stations',\n",
       " 'main': {'temp': 10.64,\n",
       "  'feels_like': 9.8,\n",
       "  'temp_min': 9.69,\n",
       "  'temp_max': 11.25,\n",
       "  'pressure': 1003,\n",
       "  'humidity': 78},\n",
       " 'visibility': 10000,\n",
       " 'wind': {'speed': 3.36, 'deg': 281, 'gust': 7.81},\n",
       " 'clouds': {'all': 82},\n",
       " 'dt': 1668792323,\n",
       " 'sys': {'type': 2,\n",
       "  'id': 2075535,\n",
       "  'country': 'GB',\n",
       "  'sunrise': 1668756209,\n",
       "  'sunset': 1668787685},\n",
       " 'timezone': 0,\n",
       " 'id': 2643743,\n",
       " 'name': 'London',\n",
       " 'cod': 200}"
      ]
     },
     "execution_count": 316,
     "metadata": {},
     "output_type": "execute_result"
    }
   ],
   "source": [
    "json_books"
   ]
  },
  {
   "cell_type": "code",
   "execution_count": 317,
   "id": "5fba4913-04e2-456c-8b40-5f1139291563",
   "metadata": {
    "tags": []
   },
   "outputs": [
    {
     "data": {
      "text/plain": [
       "{'lon': -0.1257, 'lat': 51.5085}"
      ]
     },
     "execution_count": 317,
     "metadata": {},
     "output_type": "execute_result"
    }
   ],
   "source": [
    "json_books['coord']"
   ]
  },
  {
   "cell_type": "code",
   "execution_count": 320,
   "id": "29574000-a2ab-4dd1-a16e-ad617499aa70",
   "metadata": {},
   "outputs": [
    {
     "data": {
      "text/plain": [
       "'broken clouds'"
      ]
     },
     "execution_count": 320,
     "metadata": {},
     "output_type": "execute_result"
    }
   ],
   "source": [
    "json_books['weather'][0]['description']"
   ]
  },
  {
   "cell_type": "code",
   "execution_count": 324,
   "id": "6a9c9530-d928-4961-b984-f5eda4c8a7cf",
   "metadata": {},
   "outputs": [
    {
     "data": {
      "text/plain": [
       "10.64"
      ]
     },
     "execution_count": 324,
     "metadata": {},
     "output_type": "execute_result"
    }
   ],
   "source": [
    "json_books['main']['temp']"
   ]
  },
  {
   "cell_type": "code",
   "execution_count": 325,
   "id": "e237d0fd-71fd-4a27-8c88-abf73bf29d7a",
   "metadata": {},
   "outputs": [
    {
     "data": {
      "text/plain": [
       "3.36"
      ]
     },
     "execution_count": 325,
     "metadata": {},
     "output_type": "execute_result"
    }
   ],
   "source": [
    "json_books['wind']['speed']"
   ]
  },
  {
   "cell_type": "code",
   "execution_count": 326,
   "id": "c992fb9c-c33e-4736-a8f4-ada0f2ead7fb",
   "metadata": {},
   "outputs": [
    {
     "data": {
      "text/plain": [
       "'Clouds'"
      ]
     },
     "execution_count": 326,
     "metadata": {},
     "output_type": "execute_result"
    }
   ],
   "source": [
    "json_books['weather'][0]['main']"
   ]
  },
  {
   "cell_type": "code",
   "execution_count": null,
   "id": "ac68b990-119a-48c8-8d33-2d2dd8bf7dc1",
   "metadata": {},
   "outputs": [],
   "source": []
  },
  {
   "cell_type": "code",
   "execution_count": 311,
   "id": "bf22a4e8-1bdc-4c65-ac73-843970823aa8",
   "metadata": {},
   "outputs": [],
   "source": [
    "url2= 'https://api.openweathermap.org/data/2.5/weather?lat=44.34&lon=10.99&appid=ec5fc137dc493d85cdc8a6aba32cacfc&units=metric'"
   ]
  },
  {
   "cell_type": "code",
   "execution_count": 327,
   "id": "199ceee7-e31f-4c48-963c-d873b1f9c02d",
   "metadata": {},
   "outputs": [
    {
     "name": "stdin",
     "output_type": "stream",
     "text": [
      "Enter the city: London\n"
     ]
    }
   ],
   "source": [
    "city = city=input('Enter the city:')\n",
    "url = 'http://api.openweathermap.org/data/2.5/weather?'+'q='+city+'&appid=ec5fc137dc493d85cdc8a6aba32cacfc&units=metric'"
   ]
  },
  {
   "cell_type": "code",
   "execution_count": 328,
   "id": "e5bf7999-a4fa-4623-8320-7a06aa9c9229",
   "metadata": {},
   "outputs": [],
   "source": [
    "response2 = requests.get(url)"
   ]
  },
  {
   "cell_type": "code",
   "execution_count": 329,
   "id": "2649637c-3345-4395-87e9-1a9187d6b074",
   "metadata": {},
   "outputs": [
    {
     "data": {
      "text/plain": [
       "<Response [200]>"
      ]
     },
     "execution_count": 329,
     "metadata": {},
     "output_type": "execute_result"
    }
   ],
   "source": [
    "response2"
   ]
  },
  {
   "cell_type": "code",
   "execution_count": 330,
   "id": "1f136832-fa0c-4b88-868a-c6ab8dcb7280",
   "metadata": {},
   "outputs": [],
   "source": [
    "json_books2 = response2.json()"
   ]
  },
  {
   "cell_type": "code",
   "execution_count": 331,
   "id": "509e337c-7335-4357-b913-cd60980d7bc2",
   "metadata": {},
   "outputs": [
    {
     "data": {
      "text/plain": [
       "{'coord': {'lon': -0.1257, 'lat': 51.5085},\n",
       " 'weather': [{'id': 804,\n",
       "   'main': 'Clouds',\n",
       "   'description': 'overcast clouds',\n",
       "   'icon': '04n'}],\n",
       " 'base': 'stations',\n",
       " 'main': {'temp': 10.6,\n",
       "  'feels_like': 9.75,\n",
       "  'temp_min': 9.47,\n",
       "  'temp_max': 11.25,\n",
       "  'pressure': 1004,\n",
       "  'humidity': 78},\n",
       " 'visibility': 10000,\n",
       " 'wind': {'speed': 0.89, 'deg': 293, 'gust': 1.79},\n",
       " 'clouds': {'all': 85},\n",
       " 'dt': 1668792710,\n",
       " 'sys': {'type': 2,\n",
       "  'id': 2075535,\n",
       "  'country': 'GB',\n",
       "  'sunrise': 1668756209,\n",
       "  'sunset': 1668787685},\n",
       " 'timezone': 0,\n",
       " 'id': 2643743,\n",
       " 'name': 'London',\n",
       " 'cod': 200}"
      ]
     },
     "execution_count": 331,
     "metadata": {},
     "output_type": "execute_result"
    }
   ],
   "source": [
    "json_books2"
   ]
  },
  {
   "cell_type": "code",
   "execution_count": null,
   "id": "21199449-f3a9-44d0-b9b8-d7c1ff62bc89",
   "metadata": {},
   "outputs": [],
   "source": []
  },
  {
   "cell_type": "code",
   "execution_count": null,
   "id": "b3318e43-82b5-4ff9-8066-67d60b2f8df5",
   "metadata": {},
   "outputs": [],
   "source": []
  },
  {
   "cell_type": "code",
   "execution_count": null,
   "id": "45d3d230-c7e5-4a45-9652-1c56fc006754",
   "metadata": {},
   "outputs": [],
   "source": []
  },
  {
   "cell_type": "code",
   "execution_count": null,
   "id": "58a58d80-8ce8-4daf-83c1-07b5cfc58452",
   "metadata": {},
   "outputs": [],
   "source": []
  },
  {
   "cell_type": "code",
   "execution_count": null,
   "id": "752f5b3e-0553-45ea-8030-44d29eb48c81",
   "metadata": {},
   "outputs": [],
   "source": []
  },
  {
   "cell_type": "code",
   "execution_count": null,
   "id": "23f7aae4-2e3c-462c-84eb-052787cbf616",
   "metadata": {},
   "outputs": [],
   "source": []
  },
  {
   "cell_type": "code",
   "execution_count": null,
   "id": "111f6364-afe9-4338-bb8c-f07640ef0a73",
   "metadata": {},
   "outputs": [],
   "source": []
  },
  {
   "cell_type": "markdown",
   "id": "3705253b-0bd0-444e-b34e-914037e02756",
   "metadata": {},
   "source": [
    "#### Book name,price and stock availability as a pandas dataframe."
   ]
  },
  {
   "cell_type": "code",
   "execution_count": null,
   "id": "74a3c1a3-2710-4beb-be11-2331490866e6",
   "metadata": {},
   "outputs": [],
   "source": [
    "# This is the url you will scrape in this exercise. \n",
    "# It is a fictional bookstore created to be scraped. \n",
    "url = 'http://books.toscrape.com/'"
   ]
  },
  {
   "cell_type": "code",
   "execution_count": 258,
   "id": "4b66dbc3-e90d-4947-a54d-de5de4aa732d",
   "metadata": {},
   "outputs": [],
   "source": [
    "url20 = 'http://books.toscrape.com/'\n",
    "response_20 = requests.get(url20)\n",
    "sopa_git_20 = BeautifulSoup(response_20.content, 'html5lib') \n"
   ]
  },
  {
   "cell_type": "code",
   "execution_count": 260,
   "id": "9e590c38-4c00-49ee-b430-9254ed54d022",
   "metadata": {},
   "outputs": [],
   "source": [
    "bloques_20= sopa_git_20.select('li.col-xs-6.col-sm-4.col-md-3.col-lg-3') #('div.usctitle')"
   ]
  },
  {
   "cell_type": "code",
   "execution_count": 263,
   "id": "fa0c9b03-e1ee-4354-a7af-8949b669d428",
   "metadata": {},
   "outputs": [
    {
     "data": {
      "text/plain": [
       "'A Light in the ...'"
      ]
     },
     "execution_count": 263,
     "metadata": {},
     "output_type": "execute_result"
    }
   ],
   "source": [
    "bloques_20[0].select('h3 a')[0].text"
   ]
  },
  {
   "cell_type": "code",
   "execution_count": 264,
   "id": "cc153dc5-d8e4-4967-b981-c69a9fb8ffba",
   "metadata": {},
   "outputs": [
    {
     "data": {
      "text/plain": [
       "'£51.77'"
      ]
     },
     "execution_count": 264,
     "metadata": {},
     "output_type": "execute_result"
    }
   ],
   "source": [
    "bloques_20[0].select('div p.price_color')[0].text"
   ]
  },
  {
   "cell_type": "code",
   "execution_count": 268,
   "id": "a2c01d59-9f2d-4706-a0ff-0a30d3cbf21d",
   "metadata": {},
   "outputs": [
    {
     "data": {
      "text/plain": [
       "'In stock'"
      ]
     },
     "execution_count": 268,
     "metadata": {},
     "output_type": "execute_result"
    }
   ],
   "source": [
    "bloques_20[0].select('p.instock.availability')[0].text.strip('\\n ')"
   ]
  },
  {
   "cell_type": "code",
   "execution_count": null,
   "id": "193a7173-62e6-45af-89e4-52b76e4468ca",
   "metadata": {},
   "outputs": [],
   "source": []
  },
  {
   "cell_type": "code",
   "execution_count": 271,
   "id": "22d8d92e-fe0b-4f3e-8582-71056e7ec37e",
   "metadata": {},
   "outputs": [],
   "source": [
    "titulo_l = []\n",
    "precio =[]\n",
    "existencia =[]\n",
    "\n",
    "\n",
    "for item in bloques_20:\n",
    "    titulo_l.append(item.select('h3 a')[0].text)\n",
    "    precio.append(item.select('div p.price_color')[0].text)\n",
    "    existencia.append(item.select('p.instock.availability')[0].text.strip('\\n '))\n",
    "    \n"
   ]
  },
  {
   "cell_type": "code",
   "execution_count": 275,
   "id": "54749b9a-66d4-4803-b35e-e48131cf6c63",
   "metadata": {},
   "outputs": [],
   "source": [
    "tabla_f_libros= list(zip(titulo_l,precio,existencia))"
   ]
  },
  {
   "cell_type": "code",
   "execution_count": 276,
   "id": "8f4947a5-d18e-4f89-8a43-b890b5753326",
   "metadata": {},
   "outputs": [
    {
     "data": {
      "text/html": [
       "<div>\n",
       "<style scoped>\n",
       "    .dataframe tbody tr th:only-of-type {\n",
       "        vertical-align: middle;\n",
       "    }\n",
       "\n",
       "    .dataframe tbody tr th {\n",
       "        vertical-align: top;\n",
       "    }\n",
       "\n",
       "    .dataframe thead th {\n",
       "        text-align: right;\n",
       "    }\n",
       "</style>\n",
       "<table border=\"1\" class=\"dataframe\">\n",
       "  <thead>\n",
       "    <tr style=\"text-align: right;\">\n",
       "      <th></th>\n",
       "      <th>titulo</th>\n",
       "      <th>precio</th>\n",
       "      <th>stock</th>\n",
       "    </tr>\n",
       "  </thead>\n",
       "  <tbody>\n",
       "    <tr>\n",
       "      <th>0</th>\n",
       "      <td>A Light in the ...</td>\n",
       "      <td>£51.77</td>\n",
       "      <td>In stock</td>\n",
       "    </tr>\n",
       "    <tr>\n",
       "      <th>1</th>\n",
       "      <td>Tipping the Velvet</td>\n",
       "      <td>£53.74</td>\n",
       "      <td>In stock</td>\n",
       "    </tr>\n",
       "    <tr>\n",
       "      <th>2</th>\n",
       "      <td>Soumission</td>\n",
       "      <td>£50.10</td>\n",
       "      <td>In stock</td>\n",
       "    </tr>\n",
       "    <tr>\n",
       "      <th>3</th>\n",
       "      <td>Sharp Objects</td>\n",
       "      <td>£47.82</td>\n",
       "      <td>In stock</td>\n",
       "    </tr>\n",
       "    <tr>\n",
       "      <th>4</th>\n",
       "      <td>Sapiens: A Brief History ...</td>\n",
       "      <td>£54.23</td>\n",
       "      <td>In stock</td>\n",
       "    </tr>\n",
       "    <tr>\n",
       "      <th>5</th>\n",
       "      <td>The Requiem Red</td>\n",
       "      <td>£22.65</td>\n",
       "      <td>In stock</td>\n",
       "    </tr>\n",
       "    <tr>\n",
       "      <th>6</th>\n",
       "      <td>The Dirty Little Secrets ...</td>\n",
       "      <td>£33.34</td>\n",
       "      <td>In stock</td>\n",
       "    </tr>\n",
       "    <tr>\n",
       "      <th>7</th>\n",
       "      <td>The Coming Woman: A ...</td>\n",
       "      <td>£17.93</td>\n",
       "      <td>In stock</td>\n",
       "    </tr>\n",
       "    <tr>\n",
       "      <th>8</th>\n",
       "      <td>The Boys in the ...</td>\n",
       "      <td>£22.60</td>\n",
       "      <td>In stock</td>\n",
       "    </tr>\n",
       "    <tr>\n",
       "      <th>9</th>\n",
       "      <td>The Black Maria</td>\n",
       "      <td>£52.15</td>\n",
       "      <td>In stock</td>\n",
       "    </tr>\n",
       "    <tr>\n",
       "      <th>10</th>\n",
       "      <td>Starving Hearts (Triangular Trade ...</td>\n",
       "      <td>£13.99</td>\n",
       "      <td>In stock</td>\n",
       "    </tr>\n",
       "    <tr>\n",
       "      <th>11</th>\n",
       "      <td>Shakespeare's Sonnets</td>\n",
       "      <td>£20.66</td>\n",
       "      <td>In stock</td>\n",
       "    </tr>\n",
       "    <tr>\n",
       "      <th>12</th>\n",
       "      <td>Set Me Free</td>\n",
       "      <td>£17.46</td>\n",
       "      <td>In stock</td>\n",
       "    </tr>\n",
       "    <tr>\n",
       "      <th>13</th>\n",
       "      <td>Scott Pilgrim's Precious Little ...</td>\n",
       "      <td>£52.29</td>\n",
       "      <td>In stock</td>\n",
       "    </tr>\n",
       "    <tr>\n",
       "      <th>14</th>\n",
       "      <td>Rip it Up and ...</td>\n",
       "      <td>£35.02</td>\n",
       "      <td>In stock</td>\n",
       "    </tr>\n",
       "    <tr>\n",
       "      <th>15</th>\n",
       "      <td>Our Band Could Be ...</td>\n",
       "      <td>£57.25</td>\n",
       "      <td>In stock</td>\n",
       "    </tr>\n",
       "    <tr>\n",
       "      <th>16</th>\n",
       "      <td>Olio</td>\n",
       "      <td>£23.88</td>\n",
       "      <td>In stock</td>\n",
       "    </tr>\n",
       "    <tr>\n",
       "      <th>17</th>\n",
       "      <td>Mesaerion: The Best Science ...</td>\n",
       "      <td>£37.59</td>\n",
       "      <td>In stock</td>\n",
       "    </tr>\n",
       "    <tr>\n",
       "      <th>18</th>\n",
       "      <td>Libertarianism for Beginners</td>\n",
       "      <td>£51.33</td>\n",
       "      <td>In stock</td>\n",
       "    </tr>\n",
       "    <tr>\n",
       "      <th>19</th>\n",
       "      <td>It's Only the Himalayas</td>\n",
       "      <td>£45.17</td>\n",
       "      <td>In stock</td>\n",
       "    </tr>\n",
       "  </tbody>\n",
       "</table>\n",
       "</div>"
      ],
      "text/plain": [
       "                                   titulo  precio     stock\n",
       "0                      A Light in the ...  £51.77  In stock\n",
       "1                      Tipping the Velvet  £53.74  In stock\n",
       "2                              Soumission  £50.10  In stock\n",
       "3                           Sharp Objects  £47.82  In stock\n",
       "4            Sapiens: A Brief History ...  £54.23  In stock\n",
       "5                         The Requiem Red  £22.65  In stock\n",
       "6            The Dirty Little Secrets ...  £33.34  In stock\n",
       "7                 The Coming Woman: A ...  £17.93  In stock\n",
       "8                     The Boys in the ...  £22.60  In stock\n",
       "9                         The Black Maria  £52.15  In stock\n",
       "10  Starving Hearts (Triangular Trade ...  £13.99  In stock\n",
       "11                  Shakespeare's Sonnets  £20.66  In stock\n",
       "12                            Set Me Free  £17.46  In stock\n",
       "13    Scott Pilgrim's Precious Little ...  £52.29  In stock\n",
       "14                      Rip it Up and ...  £35.02  In stock\n",
       "15                  Our Band Could Be ...  £57.25  In stock\n",
       "16                                   Olio  £23.88  In stock\n",
       "17        Mesaerion: The Best Science ...  £37.59  In stock\n",
       "18           Libertarianism for Beginners  £51.33  In stock\n",
       "19                It's Only the Himalayas  £45.17  In stock"
      ]
     },
     "execution_count": 276,
     "metadata": {},
     "output_type": "execute_result"
    }
   ],
   "source": [
    "df = pd.DataFrame(tabla_f_libros, columns=['titulo','precio','stock'])\n",
    "df.head(20)"
   ]
  },
  {
   "cell_type": "code",
   "execution_count": 277,
   "id": "498e166c-7d71-413c-8c09-2709e4f84f62",
   "metadata": {},
   "outputs": [],
   "source": [
    "import requests\n",
    "from bs4 import BeautifulSoup\n",
    "import pandas as pd\n",
    "from selenium.webdriver.common.by import By\n",
    "from selenium import webdriver\n",
    "from selenium.webdriver.common.keys import Keys\n",
    "from selenium.webdriver.common.action_chains import ActionChains\n",
    "from selenium.webdriver.chrome.options import Options"
   ]
  },
  {
   "cell_type": "code",
   "execution_count": null,
   "id": "38bdf145-4e7e-44ba-a6f6-5ff26dd1690d",
   "metadata": {},
   "outputs": [],
   "source": []
  },
  {
   "cell_type": "code",
   "execution_count": 301,
   "id": "fd42329c-d7b6-433a-b495-c700510a456d",
   "metadata": {},
   "outputs": [],
   "source": [
    "def extraer_info_pagina(driver, pagina):\n",
    "    driver.get(f'http://books.toscrape.com/catalogue/page-{pagina}.html')\n",
    "    chains = ActionChains(driver)\n",
    "    for _ in range(4):\n",
    "        chains.scroll_by_amount(0, 500).perform()\n",
    "        time.sleep(1)\n",
    "    sopa = BeautifulSoup(driver.page_source)\n",
    "    #info_tabla = str(sopa.select('table')[0])\n",
    "    titulo_l = []\n",
    "    precio =[]\n",
    "    existencia =[]\n",
    "\n",
    "\n",
    "    for item in bloques_20:\n",
    "        titulo_l.append(item.select('h3 a')[0].text)\n",
    "        precio.append(item.select('div p.price_color')[0].text)\n",
    "        existencia.append(item.select('p.instock.availability')[0].text.strip('\\n '))\n",
    "        \n",
    "    tabla_f_libros= list(zip(titulo_l,precio,existencia))\n",
    "    \n",
    "    return tabla_f_libros"
   ]
  },
  {
   "cell_type": "code",
   "execution_count": 307,
   "id": "4cd6d620-2d17-4eb5-b53b-b6198c4138e4",
   "metadata": {},
   "outputs": [],
   "source": [
    "def extraer_info_total(paginas):\n",
    "    chrome_options = Options()\n",
    "    chrome_options.add_argument(\"--headless\")\n",
    "    driver = webdriver.Chrome(options=chrome_options)\n",
    "    data_frames = []\n",
    "    for i in range(1,(paginas+1)):\n",
    "        print(f'Extrayendo pagina {i} de {paginas}', end = '\\r')\n",
    "        data_frames = data_frames + extraer_info_pagina(driver, i)\n",
    "    driver.quit()\n",
    "    print('\\n termino')\n",
    "    df = pd.DataFrame(data_frames, columns=['titulo','precio','stock'])\n",
    "    return df"
   ]
  },
  {
   "cell_type": "code",
   "execution_count": 299,
   "id": "269e3868-129e-49ee-8abc-7cf34daf6a74",
   "metadata": {},
   "outputs": [
    {
     "name": "stdout",
     "output_type": "stream",
     "text": [
      "Extrayendo pagina 2 de 20\r"
     ]
    }
   ],
   "source": [
    "chrome_options = Options()\n",
    "chrome_options.add_argument(\"--headless\")\n",
    "driver = webdriver.Chrome(options=chrome_options)\n",
    "data_frames = []\n",
    "for i in range(1,3):\n",
    "    print(f'Extrayendo pagina {i} de 20', end = '\\r')\n",
    "    data_frames = data_frames + extraer_info_pagina(driver, i)\n",
    "\n",
    "df = pd.DataFrame(data_frames, columns=['titulo','precio','stock'])\n"
   ]
  },
  {
   "cell_type": "code",
   "execution_count": 308,
   "id": "3a7ca075-3095-48c9-a6ce-d4cdca7ca5d6",
   "metadata": {},
   "outputs": [
    {
     "name": "stdout",
     "output_type": "stream",
     "text": [
      "Extrayendo pagina 5 de 5\n",
      " termino\n"
     ]
    }
   ],
   "source": [
    "prueba = extraer_info_total(5) "
   ]
  },
  {
   "cell_type": "code",
   "execution_count": 309,
   "id": "b9f56c08-fa14-4e6a-9532-49ac00816f14",
   "metadata": {},
   "outputs": [
    {
     "data": {
      "text/html": [
       "<div>\n",
       "<style scoped>\n",
       "    .dataframe tbody tr th:only-of-type {\n",
       "        vertical-align: middle;\n",
       "    }\n",
       "\n",
       "    .dataframe tbody tr th {\n",
       "        vertical-align: top;\n",
       "    }\n",
       "\n",
       "    .dataframe thead th {\n",
       "        text-align: right;\n",
       "    }\n",
       "</style>\n",
       "<table border=\"1\" class=\"dataframe\">\n",
       "  <thead>\n",
       "    <tr style=\"text-align: right;\">\n",
       "      <th></th>\n",
       "      <th>titulo</th>\n",
       "      <th>precio</th>\n",
       "      <th>stock</th>\n",
       "    </tr>\n",
       "  </thead>\n",
       "  <tbody>\n",
       "    <tr>\n",
       "      <th>0</th>\n",
       "      <td>A Light in the ...</td>\n",
       "      <td>£51.77</td>\n",
       "      <td>In stock</td>\n",
       "    </tr>\n",
       "    <tr>\n",
       "      <th>1</th>\n",
       "      <td>Tipping the Velvet</td>\n",
       "      <td>£53.74</td>\n",
       "      <td>In stock</td>\n",
       "    </tr>\n",
       "    <tr>\n",
       "      <th>2</th>\n",
       "      <td>Soumission</td>\n",
       "      <td>£50.10</td>\n",
       "      <td>In stock</td>\n",
       "    </tr>\n",
       "    <tr>\n",
       "      <th>3</th>\n",
       "      <td>Sharp Objects</td>\n",
       "      <td>£47.82</td>\n",
       "      <td>In stock</td>\n",
       "    </tr>\n",
       "    <tr>\n",
       "      <th>4</th>\n",
       "      <td>Sapiens: A Brief History ...</td>\n",
       "      <td>£54.23</td>\n",
       "      <td>In stock</td>\n",
       "    </tr>\n",
       "    <tr>\n",
       "      <th>...</th>\n",
       "      <td>...</td>\n",
       "      <td>...</td>\n",
       "      <td>...</td>\n",
       "    </tr>\n",
       "    <tr>\n",
       "      <th>95</th>\n",
       "      <td>Our Band Could Be ...</td>\n",
       "      <td>£57.25</td>\n",
       "      <td>In stock</td>\n",
       "    </tr>\n",
       "    <tr>\n",
       "      <th>96</th>\n",
       "      <td>Olio</td>\n",
       "      <td>£23.88</td>\n",
       "      <td>In stock</td>\n",
       "    </tr>\n",
       "    <tr>\n",
       "      <th>97</th>\n",
       "      <td>Mesaerion: The Best Science ...</td>\n",
       "      <td>£37.59</td>\n",
       "      <td>In stock</td>\n",
       "    </tr>\n",
       "    <tr>\n",
       "      <th>98</th>\n",
       "      <td>Libertarianism for Beginners</td>\n",
       "      <td>£51.33</td>\n",
       "      <td>In stock</td>\n",
       "    </tr>\n",
       "    <tr>\n",
       "      <th>99</th>\n",
       "      <td>It's Only the Himalayas</td>\n",
       "      <td>£45.17</td>\n",
       "      <td>In stock</td>\n",
       "    </tr>\n",
       "  </tbody>\n",
       "</table>\n",
       "<p>100 rows × 3 columns</p>\n",
       "</div>"
      ],
      "text/plain": [
       "                             titulo  precio     stock\n",
       "0                A Light in the ...  £51.77  In stock\n",
       "1                Tipping the Velvet  £53.74  In stock\n",
       "2                        Soumission  £50.10  In stock\n",
       "3                     Sharp Objects  £47.82  In stock\n",
       "4      Sapiens: A Brief History ...  £54.23  In stock\n",
       "..                              ...     ...       ...\n",
       "95            Our Band Could Be ...  £57.25  In stock\n",
       "96                             Olio  £23.88  In stock\n",
       "97  Mesaerion: The Best Science ...  £37.59  In stock\n",
       "98     Libertarianism for Beginners  £51.33  In stock\n",
       "99          It's Only the Himalayas  £45.17  In stock\n",
       "\n",
       "[100 rows x 3 columns]"
      ]
     },
     "execution_count": 309,
     "metadata": {},
     "output_type": "execute_result"
    }
   ],
   "source": [
    "prueba"
   ]
  },
  {
   "cell_type": "code",
   "execution_count": null,
   "id": "1d971e52-1a44-45b7-92c3-63ab4d328cf3",
   "metadata": {},
   "outputs": [],
   "source": []
  },
  {
   "cell_type": "code",
   "execution_count": null,
   "id": "9b3fe4e0-0e66-42dd-b43b-d4284605aeb2",
   "metadata": {},
   "outputs": [],
   "source": []
  },
  {
   "cell_type": "code",
   "execution_count": null,
   "id": "c9015616-544b-43d9-a14f-694a89af8d09",
   "metadata": {},
   "outputs": [],
   "source": []
  }
 ],
 "metadata": {
  "kernelspec": {
   "display_name": "Python 3 (ipykernel)",
   "language": "python",
   "name": "python3"
  },
  "language_info": {
   "codemirror_mode": {
    "name": "ipython",
    "version": 3
   },
   "file_extension": ".py",
   "mimetype": "text/x-python",
   "name": "python",
   "nbconvert_exporter": "python",
   "pygments_lexer": "ipython3",
   "version": "3.9.12"
  }
 },
 "nbformat": 4,
 "nbformat_minor": 5
}
